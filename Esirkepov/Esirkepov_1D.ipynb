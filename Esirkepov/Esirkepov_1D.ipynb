{
 "cells": [
  {
   "cell_type": "code",
   "execution_count": 2,
   "metadata": {
    "collapsed": true
   },
   "outputs": [],
   "source": [
    "import numpy as np\n",
    "import arrayfire as af"
   ]
  },
  {
   "cell_type": "code",
   "execution_count": null,
   "metadata": {
    "collapsed": true
   },
   "outputs": [],
   "source": [
    "# This function returns \n",
    "def Indices(positions_x, x_grid):\n",
    "    \n",
    "    Indices = af.data.constant(0,x.elements(), dtype=af.Dtype.u32)\n",
    "    flags   = af.data.constant(0,x.elements(), dtype=af.Dtype.u32)\n",
    "\n",
    "    \n",
    "    nx = ((x_grid.elements()) - 1 - 2 * ghost_cells )  # number of zones\n",
    "\n",
    "    dx = Lx/nx\n",
    "\n",
    "    x_zone = (((af.abs(x - af.sum(x_grid[0])))/dx).as_type(af.Dtype.u32))\n",
    "\n",
    "    indices = af.where(af.abs(x-x_grid[x_zone])<af.abs(x-x_grid[x_zone + 1]))\n",
    "\n",
    "    if(indices.elements()>0):\n",
    "        Indices[indices] = x_zone[indices]\n",
    "\n",
    "    indices = af.where(af.abs(x-x_grid[x_zone])>=af.abs(x-x_grid[x_zone + 1]))\n",
    "\n",
    "    if(indices.elements()>0):\n",
    "        Indices[indices] = (x_zone[indices] + 1).as_type(af.Dtype.u32)\n",
    "        flags[indices]   = 1\n",
    "\n",
    "    af.eval(flags)\n",
    "    \n",
    "    af.eval(Indices)\n",
    "    \n",
    "    return Indices, flags"
   ]
  },
  {
   "cell_type": "code",
   "execution_count": null,
   "metadata": {
    "collapsed": true
   },
   "outputs": [],
   "source": [
    "def TSC(D, flags):\n",
    "    \n",
    "    TSC = 0 * D.copy()\n",
    "    \n",
    "    D_rows, D_cols = D.dims()\n",
    "    \n",
    "    D_flat = af.flat(D)\n",
    "    \n",
    "    indices = af.where(flags)\n",
    "    \n",
    "    TSC\n",
    "    \n",
    "    return "
   ]
  },
  {
   "cell_type": "code",
   "execution_count": null,
   "metadata": {
    "collapsed": true
   },
   "outputs": [],
   "source": [
    "def W_Indices(S1, S0):\n",
    "    \n",
    "    DS1 = S1 - S0\n",
    "    \n",
    "    W_Indices = DS1.copy()\n",
    "    \n",
    "    af,eval(W_Indices)\n",
    "    \n",
    "    return W_Indices    "
   ]
  },
  {
   "cell_type": "code",
   "execution_count": null,
   "metadata": {
    "collapsed": true
   },
   "outputs": [],
   "source": [
    "def Esirkepov_indices_and_currents(Indices, W_Indices):\n",
    "    \n",
    "    \n",
    "#     Indices_plus_two\n",
    "#     Indices_plus_one\n",
    "#     Indices\n",
    "#     Indices_minus_one\n",
    "#     Indices_minus_two\n",
    "    \n",
    "    current_Indices_plus_two = charge_electron * velocity_x * W_Indices[:, 0]\n",
    "    \n",
    "    current_Indices_plus_one = current_Indices_plus_two + charge_electron * velocity_x * W_Indices[:, 1]\n",
    "    \n",
    "    current_Indices = current_Indices_plus_one + charge_electron * velocity_x * W_Indices[:, 2]\n",
    "    \n",
    "    current_Indices_minus_one = current_Indices + charge_electron * velocity_x * W_Indices[:, 3]\n",
    "    \n",
    "    current_Indices_minus_two = current_Indices_minus_one + charge_electron * velocity_x * W_Indices[:, 4]\n",
    "    \n",
    "    Jx = af.join(0, current_Indices_plus_two, current_Indices_plus_one, current_Indices,\\\n",
    "                      current_Indices_minus_one, current_Indices_minus_two)\n",
    "    \n",
    "    af.eval(Jx)\n",
    "    \n",
    "    return Jx  \n",
    "    "
   ]
  },
  {
   "cell_type": "code",
   "execution_count": null,
   "metadata": {
    "collapsed": true
   },
   "outputs": [],
   "source": [
    "def esirkepov_1D_TSC(positions_x, velocity_x, x_grid, y_grid):\n",
    "    \n",
    "    S0 = \n",
    "    \n",
    "    \n",
    "    \n",
    "    # storing the number of elements in x_center_grid for current deposition\n",
    "    elements = x_grid.elements()\n",
    "\n",
    "    \n",
    "    Jx_Indices, currents_Jx = Esirkepov_indices_and_currents(Indices, W_Indices)\n",
    "\n",
    "    # Depositing currents using numpy histogram\n",
    "    input_indices      = (Jx_Indices)\n",
    "    Jx_Yee, temp = np.histogram(input_indices,\\\n",
    "                                      bins=elements,\\\n",
    "                                      range=(0, elements),\\\n",
    "                                      weights=currents_Jx\\\n",
    "                                     )\n",
    "\n",
    "\n",
    "    \n",
    "    af.eval(Jx_Yee)\n",
    "    \n",
    "    return Jx_Yee"
   ]
  }
 ],
 "metadata": {
  "kernelspec": {
   "display_name": "Python 3",
   "language": "python",
   "name": "python3"
  },
  "language_info": {
   "codemirror_mode": {
    "name": "ipython",
    "version": 3
   },
   "file_extension": ".py",
   "mimetype": "text/x-python",
   "name": "python",
   "nbconvert_exporter": "python",
   "pygments_lexer": "ipython3",
   "version": "3.6.0"
  }
 },
 "nbformat": 4,
 "nbformat_minor": 2
}
