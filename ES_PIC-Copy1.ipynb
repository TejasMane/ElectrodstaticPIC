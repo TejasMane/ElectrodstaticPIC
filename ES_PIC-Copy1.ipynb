{
 "cells": [
  {
   "cell_type": "code",
   "execution_count": 1,
   "metadata": {
    "collapsed": true
   },
   "outputs": [],
   "source": [
    "import numpy as np\n",
    "import h5py\n",
    "import pylab as pl\n",
    "import arrayfire as af\n",
    "from scipy.integrate import odeint\n",
    "import scipy.fftpack as ff\n",
    "from scipy import interpolate"
   ]
  },
  {
   "cell_type": "code",
   "execution_count": 2,
   "metadata": {
    "collapsed": true
   },
   "outputs": [],
   "source": [
    "pl.rcParams['figure.figsize']  = 12, 7.5\n",
    "pl.rcParams['lines.linewidth'] = 1.5\n",
    "pl.rcParams['font.family']     = 'serif'\n",
    "pl.rcParams['font.weight']     = 'bold'\n",
    "pl.rcParams['font.size']       = 20\n",
    "pl.rcParams['font.sans-serif'] = 'serif'\n",
    "pl.rcParams['text.usetex']     = True\n",
    "pl.rcParams['axes.linewidth']  = 1.5\n",
    "pl.rcParams['axes.titlesize']  = 'medium'\n",
    "pl.rcParams['axes.labelsize']  = 'medium'\n",
    "\n",
    "pl.rcParams['xtick.major.size'] = 8\n",
    "pl.rcParams['xtick.minor.size'] = 4\n",
    "pl.rcParams['xtick.major.pad']  = 8\n",
    "pl.rcParams['xtick.minor.pad']  = 8\n",
    "pl.rcParams['xtick.color']      = 'k'\n",
    "pl.rcParams['xtick.labelsize']  = 'medium'\n",
    "pl.rcParams['xtick.direction']  = 'in'\n",
    "\n",
    "pl.rcParams['ytick.major.size'] = 8\n",
    "pl.rcParams['ytick.minor.size'] = 4\n",
    "pl.rcParams['ytick.major.pad']  = 8\n",
    "pl.rcParams['ytick.minor.pad']  = 8\n",
    "pl.rcParams['ytick.color']      = 'k'\n",
    "pl.rcParams['ytick.labelsize']  = 'medium'\n",
    "pl.rcParams['ytick.direction']  = 'in'"
   ]
  },
  {
   "cell_type": "code",
   "execution_count": 3,
   "metadata": {
    "collapsed": false
   },
   "outputs": [],
   "source": [
    "def periodic_particles(positions_x, length_domain_x):\n",
    "    '''\n",
    "    function periodic_particles(positions_x, length_domain_x)\n",
    "    -----------------------------------------------------------------------\n",
    "    Input variables: positions_x and length_domain_x\n",
    "\n",
    "        positions_x: An one dimensional array of size equal to number of particles taken in the PIC code. \n",
    "        It contains the positions of particles.\n",
    "\n",
    "        length_domain_x: This is the length of the domain. The domain is assumed to be from x = 0 \n",
    "        to x = length_domain_x \n",
    "\n",
    "    -----------------------------------------------------------------------    \n",
    "    returns: positions_x\n",
    "        This function returns the modified positions_x such that particle previously gone outside the domain \n",
    "        through the left boundary enter via the right boundary and vice versa.\n",
    "        In other words, the function implements periodic boundary conditions for the particles. \n",
    "\n",
    "    '''\n",
    "    \n",
    "    # Determine indices of particles which have gone outside the domain\n",
    "    # through left boundary\n",
    "    outside_domain = np.where([positions_x < 0])[1]\n",
    "\n",
    "    # Apply periodic boundary conditions\n",
    "    \n",
    "    positions_x[outside_domain] = positions_x[outside_domain] + length_domain_x\n",
    "\n",
    "    # Determine indices of particles which have gone outside the domain\n",
    "    # through right boundary\n",
    "    \n",
    "    outside_domain = np.where([positions_x > length_domain_x])[1]\n",
    "\n",
    "    # Apply periodic boundary conditions\n",
    "    \n",
    "    positions_x[outside_domain] = positions_x[outside_domain] - length_domain_x\n",
    "    \n",
    "    return positions_x\n"
   ]
  },
  {
   "cell_type": "code",
   "execution_count": 4,
   "metadata": {
    "collapsed": false
   },
   "outputs": [],
   "source": [
    "def find_zone_and_fraction(positions_x, x_grid, dx):\n",
    "    '''\n",
    "    function find_zone_and_fraction(positions_x, x_grid, dx)\n",
    "    -----------------------------------------------------------------------  \n",
    "    Input variables: positions_x, x_grid, dx\n",
    "\n",
    "        positions_x: An one dimensional array of size equal to number of particles taken in the PIC code. It contains\n",
    "        the positions of particles.\n",
    "\n",
    "        x_grid: This is the grid in position space.\n",
    "\n",
    "        dx: This is distance between any two consecutive grid nodes of the position grid(x_grid).\n",
    "    -----------------------------------------------------------------------      \n",
    "    returns: zone_x, frac_x\n",
    "        This function returns the arrays zone_x and frac_x\n",
    "\n",
    "        zone_x: This is the array of size (number of macro particles) containing the indices of the left corners \n",
    "        of the grid cells containing the particles.\n",
    "\n",
    "        frac_x: This is the array of size (number of macro particles) containing the fraction of the \n",
    "        grid cell where the particle is located. For example if the particles position is 0.3 \n",
    "        between grid nodes(position grid) located at 0.2 and 0.4. frac_x is 0.5.\n",
    "    -----------------------------------------------------------------------  \n",
    "    Example: \n",
    "        Consider a grid: x_grid = [0, 0.2, 0.4, 0.6, 1.0] with dx = 0.2, and two particles with \n",
    "        positions_x = [0.15, 0.3]\n",
    "\n",
    "        find_zone_and_fraction(positions_x, x_grid, dx)\n",
    "        returns \n",
    "        zone_x = [0, 1], frac_x = [0.75, 0.5]\n",
    "    '''    \n",
    "    zone_x = np.floor((((positions_x ) - x_grid[0]) / dx))\n",
    "    \n",
    "    zone_x = zone_x.astype(np.int)\n",
    "    \n",
    "    frac_x = (positions_x - x_grid[zone_x]) / (dx)\n",
    "    \n",
    "    return zone_x, frac_x"
   ]
  },
  {
   "cell_type": "markdown",
   "metadata": {},
   "source": [
    "## cloud in cell charge deposition: \n",
    "\\begin{align}\n",
    "\\implies  \\rho(\\mathbf{x_{i}}, t) &= \\frac{1 }{\\Delta x}w_{p}q \\sum_{p = 1}^{N} b_{1}\\left(\\frac{x_{p} - \\mathbf{x_{i}}}{\\Delta x}\\right) \n",
    "\\end{align}"
   ]
  },
  {
   "cell_type": "code",
   "execution_count": 5,
   "metadata": {
    "collapsed": false
   },
   "outputs": [],
   "source": [
    "# b1 charge depositor\n",
    "def cloud_charge_deposition(charge, zone_x, frac_x, x_grid, dx):\n",
    "    '''\n",
    "    function cloud_charge_deposition(charge, zone_x, frac_x, x_grid, dx)\n",
    "    -----------------------------------------------------------------------  \n",
    "    Input variables: charge, zone_x, frac_x, x_grid, dx\n",
    "\n",
    "        charge: This is a scalar denoting the charge of the macro particle in the PIC code.\n",
    "\n",
    "        zone_x: This is an array of size (number of electrons/macro particles) containing the indices \n",
    "        of the left corners of the grid cells containing the respective particles\n",
    "\n",
    "        frac_x: This is an array of size (number of electrons/macro particles) containing the fractional values of \n",
    "        the positions of particles in their respective grid cells. This is used for linear interpolation\n",
    "\n",
    "        x_grid: This is an array denoting the position grid chosen in the PIC simulation\n",
    "\n",
    "        dx: This is the distance between any two consecutive grid nodes of the position grid.\n",
    "\n",
    "    -----------------------------------------------------------------------  \n",
    "    returns: rho\n",
    "         rho: This is an array containing the charges deposited at the density grid nodes.\n",
    "    '''\n",
    "    \n",
    "    # Assigning particle charge to left grid point according to linear weighting scheme\n",
    "    # or also known as b1 spline deposition\n",
    "    left_corner_charge  = (1 - frac_x) * charge / (dx)\n",
    "    \n",
    "    # Assigning particle charge to right grid point\n",
    "    right_corner_charge = (frac_x) * charge / (dx)\n",
    "\n",
    "    \n",
    "    # Storing the respective indices of left and right grid points\n",
    "    left_corners  = zone_x.copy()\n",
    "    right_corners = left_corners + 1\n",
    "\n",
    "    \n",
    "    # Joining the indices and charges into one vector each\n",
    "    corners = np.concatenate([left_corners, right_corners], axis=0)\n",
    "    charges = np.concatenate([left_corner_charge, right_corner_charge], axis=0)\n",
    "\n",
    "    # Charge deposition using numpy histogram in a vectorized manner\n",
    "    \n",
    "    rho_electrons, temp = np.histogram(corners, bins=len(x_grid),\\\n",
    "                                       range=(0, len(x_grid)), \\\n",
    "                                       weights=charges\\\n",
    "                                      )\n",
    "    \n",
    "    # Applying periodic BC's for charge depostions from last and first zone since \n",
    "    # first and the last x_grid point are the same point according to periodic BC's\n",
    "    # Since first and last point are the same, charge being deposited on the last grid point\n",
    "    # must also be deposited on the first grid point\n",
    "    \n",
    "    rho_electrons[0]  = rho_electrons[0] + rho_electrons[-1]\n",
    "    rho_electrons[-1] = rho_electrons[0].copy()\n",
    "    \n",
    "    return rho_electrons"
   ]
  },
  {
   "cell_type": "markdown",
   "metadata": {},
   "source": [
    "The charge density is computed using the normalization factor $A$ given by :\n",
    "\\begin{align}\n",
    "f_{pic} &= f_{a}  \\\\\n",
    "\\implies A &= \\frac{\\int \\int f_{a}\\;dv\\;dx}{\\int \\int f_{pic}\\;dv\\;dx}  \\\\\n",
    "A &= \\frac{\\int \\int f_{a}\\;dv\\;dx}{\\int \\int\\sum_{p=1}^{N_{m}} w_{p}S(x, x_{p})S(v, v_{x,p})\\;dv\\;dx} \\\\\n",
    "A &= \\frac{\\int \\int f_{a}\\;dv\\;dx}{N_{m} * w_{p}}\n",
    "\\end{align}\n",
    "Background ion density is added to the computed charge density array:\n",
    "\\begin{align}\n",
    "\\int_{x_{i - \\frac{1}{2}}}^{x_{i + \\frac{1}{2}}} S(x, x_{p})dx &= b_{0+1}(\\frac{\\mathbf{x_{i}}- x_{p}}{\\Delta x}) \\\\\n",
    "\\implies  \\rho(\\mathbf{x_{i}}, t) &= \\frac{1 }{\\Delta x}Aw_{p}q \\sum_{p = 1}^{N} b_{1}\\left(\\frac{x_{p} - \\mathbf{x_{i}}}{\\Delta x}\\right) + \\rho_{ions}\n",
    "\\end{align}"
   ]
  },
  {
   "cell_type": "code",
   "execution_count": 6,
   "metadata": {
    "collapsed": false
   },
   "outputs": [],
   "source": [
    "def norm_background_ions(rho_electrons, number_of_electrons, w_p):\n",
    "    '''\n",
    "    function norm_background_ions(rho_electrons, number_of_electrons)\n",
    "    -----------------------------------------------------------------------  \n",
    "    Input variables: rho_electrons, number_of_electrons\n",
    "        rho_electrons: This is an array containing the charges deposited at the density grid nodes.\n",
    "\n",
    "        number_of_electrons: A scalar denoting the number of macro particles/electrons taken in the simulation\n",
    "    -----------------------------------------------------------------------      \n",
    "    returns: rho_normalized\n",
    "        This function returns a array denoting the normalized charge density throughout the domain containing\n",
    "        the contribution due background ions\n",
    "\n",
    "    '''\n",
    "    A                        = 1/(number_of_electrons * w_p)\n",
    "    rho_electrons_normalized = A*rho_electrons\n",
    "    \n",
    "    # Adding background ion density, and ensuring charge neutrality\n",
    "    rho_ions_normalized      = - np.sum(rho_electrons_normalized) / len(rho_electrons_normalized)\n",
    "    \n",
    "    rho_normalized           = rho_electrons_normalized + rho_ions_normalized\n",
    "    \n",
    "    return rho_normalized\n",
    "\n"
   ]
  },
  {
   "cell_type": "markdown",
   "metadata": {},
   "source": [
    "\\begin{align}\n",
    "\\hat{V}(k) &= \\int_{0}^{1} potential(x)e^{-2\\pi\\;i\\;k\\;x}dx \\\\ \\\\\n",
    "potential(x) &= \\frac{1}{Npoints}\\int_{0}^{1} \\hat{potential}(k)e^{+2\\pi\\;i\\;k\\;x}dk \\\\ \\\\\n",
    "\\hat{potential}(k) &= \\frac{1}{4\\pi^{2}\\;k^2}\\hat{\\rho(k)} \\\\ \\\\\n",
    "\\hat{E}(k) &= -i(2\\pi\\;k)\\hat{potential}(k)\n",
    "\\end{align}"
   ]
  },
  {
   "cell_type": "code",
   "execution_count": 7,
   "metadata": {
    "collapsed": false
   },
   "outputs": [],
   "source": [
    "# FFT solver :\n",
    "def fft_poisson(rho, dx):\n",
    "    '''\n",
    "    function fft_poisson(rho, dx)\n",
    "    -----------------------------------------------------------------------  \n",
    "    Input variables: rho, dx\n",
    "\n",
    "        rho: This is an array containing the charges deposited at the density grid nodes.\n",
    "\n",
    "        dx: This is the distance between any two consecutive grid nodes of the position grid.\n",
    "\n",
    "    -----------------------------------------------------------------------  \n",
    "    returns: potential, E\n",
    "\n",
    "        potential: This is an array containing the potential values across the domain\n",
    "\n",
    "        E: This is an array containing the electric field values across the domain.\n",
    "\n",
    "    '''\n",
    "    \n",
    "    rho_temp      = rho[:-1]\n",
    "    k_x           = ff.fftfreq(len(rho_temp), d = dx)\n",
    "    rho_hat       = ff.fft(rho_temp)\n",
    "    potential_hat = np.zeros(len(rho_temp))\n",
    "    \n",
    "    potential_hat[1:] =  (1/(4 * np.pi**2 * k_x[1:]**2)) * rho_hat[1:]\n",
    "    potential_hat[0]  =  0\n",
    "    \n",
    "    E_hat =  -1j * 2 * np.pi * k_x * potential_hat\n",
    "    \n",
    "    potential = ff.ifft(potential_hat)\n",
    "    potential = np.append(potential,potential[0])\n",
    "    potential = (potential.real).astype(np.double)\n",
    "    \n",
    "    E = ff.ifft(E_hat)\n",
    "    E = np.append(E,E[0])\n",
    "    E = (E.real).astype(np.double)\n",
    "    \n",
    "    return potential, E"
   ]
  },
  {
   "cell_type": "code",
   "execution_count": 8,
   "metadata": {
    "collapsed": false
   },
   "outputs": [],
   "source": [
    "def set_up_perturbation(positions_x, number_particles, N_divisions,\\\n",
    "                        amplitude , k_x, length_domain_x, dx\\\n",
    "                       ):\n",
    "    '''\n",
    "    function set_up_perturbation(positions_x, number_particles, N_divisions,\\\n",
    "                                 amplitude , k, length_domain_x\\\n",
    "                                ):\n",
    "    -----------------------------------------------------------------------  \n",
    "    Input variables: positions_x, number_particles, N_divisions, amplitude, k,length_domain_x\n",
    "\n",
    "        positions_x: An one dimensional array of size equal to number of particles taken in the PIC code.\n",
    "        It contains the positions of particles.\n",
    "\n",
    "        number_particles: The number of electrons /macro particles\n",
    "\n",
    "        N_divisions: The number of divisions considered for placing the macro particles\n",
    "\n",
    "        amplitude: This is the amplitude of the density perturbation\n",
    "\n",
    "        k_x: The is the wave number of the cosine density pertubation\n",
    "\n",
    "        length_domain_x: This is the length of the domain in x direction\n",
    "\n",
    "    -----------------------------------------------------------------------      \n",
    "    returns: positions_x\n",
    "        This function returns a array positions_x such that there is a cosine density perturbation \n",
    "        of the given amplitude\n",
    "\n",
    "    '''\n",
    "    # There might be a few particles left out during execution of function and the statement\n",
    "    # below randomizes those positions\n",
    "    positions_x = length_domain_x * np.random.rand(number_particles)\n",
    "\n",
    "    particles_till_x_i = 0\n",
    "\n",
    "    # Looping over grid cells in the domain\n",
    "    for i in range(N_divisions):\n",
    "\n",
    "        # Average number of particles present between two consecutive grid nodes\n",
    "        average_particles_x_i_to_i_plus_one = (number_particles/(length_domain_x/dx))\n",
    "\n",
    "        # Amplitude in the current grid cell used to compute number of particles in the\n",
    "        # current grid cell\n",
    "        temp_amplitude = amplitude * np.cos(k_x * (i + 0.5) * dx / length_domain_x)\n",
    "\n",
    "        # Computing number of particles in the current grid cell\n",
    "        number_particles_x_i_to_i_plus_one = int(average_particles_x_i_to_i_plus_one \\\n",
    "                                                 * (1 + temp_amplitude)\\\n",
    "                                                )\n",
    "\n",
    "        # Assigining these number of particles their respective positions in the current grid cell\n",
    "        positions_x[particles_till_x_i\\\n",
    "                    :particles_till_x_i\\\n",
    "                    + number_particles_x_i_to_i_plus_one \\\n",
    "                   ] \\\n",
    "                            = i * dx \\\n",
    "                              + dx * np.random.rand(number_particles_x_i_to_i_plus_one)\n",
    "        \n",
    "        # keeping track of the number of particles that have been assigned positions\n",
    "        particles_till_x_i += number_particles_x_i_to_i_plus_one\n",
    "\n",
    "    return positions_x"
   ]
  },
  {
   "cell_type": "markdown",
   "metadata": {},
   "source": [
    "Using Computational particles\n",
    "\\begin{align}\n",
    "q_{p} = w_{p}q \\\\\n",
    "m_{p} = w_{p}m \\\\\n",
    "\\end{align}\n",
    "where $q_{p}$ and $m_{p} $is the charge of the macro particle and mass of the macro particle respectively"
   ]
  },
  {
   "cell_type": "code",
   "execution_count": 9,
   "metadata": {
    "collapsed": true
   },
   "outputs": [],
   "source": [
    "# Weighting factor w_p = number of electrons composing the macro particle\n",
    "# Doesn't affect the the physics of the system (Coarse graining doesn't affect vlasov maxwell system)\n",
    "# It should be kept such that the number density in the PIC code corresponds\n",
    "# to the densities found in real plasmas\n",
    "w_p             = 5"
   ]
  },
  {
   "cell_type": "code",
   "execution_count": 10,
   "metadata": {
    "collapsed": true
   },
   "outputs": [],
   "source": [
    "# Macro Particle parameters\n",
    "k_boltzmann     = 1\n",
    "mass_electron   = 1 * w_p\n",
    "tempertature    = 1\n",
    "charge_electron = -10 * w_p\n",
    "charge_ion      = +10 * w_p"
   ]
  },
  {
   "cell_type": "code",
   "execution_count": 11,
   "metadata": {
    "collapsed": true
   },
   "outputs": [],
   "source": [
    "# Setting the length of the domain\n",
    "length_domain_x = 1"
   ]
  },
  {
   "cell_type": "code",
   "execution_count": 12,
   "metadata": {
    "collapsed": true
   },
   "outputs": [],
   "source": [
    "# Setting number of particle in the domain\n",
    "number_of_electrons = 5000000"
   ]
  },
  {
   "cell_type": "code",
   "execution_count": 13,
   "metadata": {
    "collapsed": true
   },
   "outputs": [],
   "source": [
    "# Initializing the positions and velocities of the particles\n",
    "positions_x = length_domain_x * np.random.rand(number_of_electrons)\n",
    "\n",
    "# setting the mean and standard deviation of the maxwell distribution\n",
    "# Thermal/mean velocity of macro particles should correspond to \n",
    "# that of individual electrons in the plasma \n",
    "mu, sigma = 0, (k_boltzmann * tempertature / (mass_electron / w_p))\n",
    "\n",
    "# Initializing the velocitites according to the maxwell distribution\n",
    "\n",
    "velocity_x = np.random.normal(mu, sigma, number_of_electrons)"
   ]
  },
  {
   "cell_type": "code",
   "execution_count": 14,
   "metadata": {
    "collapsed": false
   },
   "outputs": [],
   "source": [
    "# Divisions in x grid\n",
    "divisions_domain_x = 100\n",
    "\n",
    "# initializing the x grid\n",
    "x_grid = np.linspace(    0,\\\n",
    "                         length_domain_x, \\\n",
    "                         divisions_domain_x + 1,\\\n",
    "                         endpoint=True,\\\n",
    "                         dtype = np.double\\\n",
    "                    )\n",
    "\n",
    "# dx is the distance between consecutive grid nodes\n",
    "dx = x_grid[1] - x_grid[0]"
   ]
  },
  {
   "cell_type": "code",
   "execution_count": 15,
   "metadata": {
    "collapsed": false
   },
   "outputs": [],
   "source": [
    "# Setting the amplitude for perturbation\n",
    "N_divisions         = 100\n",
    "amplitude_perturbed = 0.5\n",
    "k_x                 = 2 * np.pi\n",
    "\n",
    "# Initializing the perturbation\n",
    "positions_x = set_up_perturbation(    positions_x,\\\n",
    "                                      number_of_electrons,\\\n",
    "                                      N_divisions,\\\n",
    "                                      amplitude_perturbed,\\\n",
    "                                      k_x,\\\n",
    "                                      length_domain_x,\\\n",
    "                                      dx                                  \n",
    "                                 )"
   ]
  },
  {
   "cell_type": "code",
   "execution_count": 16,
   "metadata": {
    "collapsed": true
   },
   "outputs": [],
   "source": [
    "# Plotting the initial density perturbation\n",
    "\n",
    "position_grid   = np.linspace(0, 1, divisions_domain_x)\n",
    "number_electrons_in_bins, b  = np.histogram(positions_x, bins=(divisions_domain_x),\\\n",
    "                               range=(0, length_domain_x)\\\n",
    "                              )\n",
    "\n",
    "number_density     = (number_electrons_in_bins / (number_of_electrons / divisions_domain_x))"
   ]
  },
  {
   "cell_type": "code",
   "execution_count": 17,
   "metadata": {
    "collapsed": false
   },
   "outputs": [
    {
     "data": {
      "image/png": "[encoded data removed]",
      "text/plain": [
       "<matplotlib.figure.Figure at 0x7fde3a034828>"
      ]
     },
     "metadata": {},
     "output_type": "display_data"
    }
   ],
   "source": [
    "# Plotting the initial density perturbation\n",
    "pl.plot(position_grid, number_density, label = r'$n$')\n",
    "pl.title(r'$\\mathrm{Initial\\;density\\;perturbation}$')\n",
    "pl.xlabel('$x$')\n",
    "pl.ylabel(r'$n_{electrons}(x)$')\n",
    "pl.ylim(0.0,2.0)\n",
    "pl.show()\n",
    "pl.clf()"
   ]
  },
  {
   "cell_type": "code",
   "execution_count": 18,
   "metadata": {
    "collapsed": true
   },
   "outputs": [],
   "source": [
    "# Time parameters\n",
    "start_time = 0\n",
    "\n",
    "end_time   = 3\n",
    "\n",
    "dt         = 0.002\n",
    "\n",
    "time       = np.arange(    start_time,\\\n",
    "                           end_time + dt,\\\n",
    "                           dt,\\\n",
    "                           dtype = np.double\\\n",
    "                      )"
   ]
  },
  {
   "cell_type": "code",
   "execution_count": 19,
   "metadata": {
    "collapsed": true
   },
   "outputs": [],
   "source": [
    "# Some variables for storing data\n",
    "Ex_max       = np.zeros(len(time), dtype = np.double)"
   ]
  },
  {
   "cell_type": "code",
   "execution_count": 20,
   "metadata": {
    "collapsed": false
   },
   "outputs": [],
   "source": [
    "# Plotting the initial conditions\n",
    "# Finding interpolant fractions for the positions\n",
    "zone_x, frac_x = find_zone_and_fraction(positions_x, x_grid, dx)\n",
    "\n",
    "# Charge deposition using linear weighting scheme\n",
    "\n",
    "rho_electrons  = cloud_charge_deposition(charge_electron, zone_x,\\\n",
    "                                         frac_x, x_grid, dx\\\n",
    "                                        )\n",
    "\n",
    "rho_initial    = norm_background_ions(rho_electrons, number_of_electrons, w_p) "
   ]
  },
  {
   "cell_type": "code",
   "execution_count": 21,
   "metadata": {
    "collapsed": false
   },
   "outputs": [
    {
     "data": {
      "image/png": "[encoded data removed]",
      "text/plain": [
       "<matplotlib.figure.Figure at 0x7fde352c9e48>"
      ]
     },
     "metadata": {},
     "output_type": "display_data"
    }
   ],
   "source": [
    "# plotting intial rho in the system considering background ions\n",
    "pl.plot(rho_initial)\n",
    "pl.xlabel('$x$')\n",
    "pl.ylabel(r'$\\mathrm{Initial\\;conditions}\\;\\rho(x)$')\n",
    "pl.title(r'$\\rho(x)$')\n",
    "pl.show()\n",
    "pl.clf()"
   ]
  },
  {
   "cell_type": "code",
   "execution_count": 22,
   "metadata": {
    "collapsed": false
   },
   "outputs": [
    {
     "name": "stderr",
     "output_type": "stream",
     "text": [
      "/home/tejas/anaconda3/lib/python3.6/site-packages/ipykernel/__main__.py:26: ComplexWarning: Casting complex values to real discards the imaginary part\n"
     ]
    }
   ],
   "source": [
    "# Computing initial potential and electric field\n",
    "potential_initial, Ex_initial = fft_poisson(rho_initial, dx)"
   ]
  },
  {
   "cell_type": "code",
   "execution_count": 23,
   "metadata": {
    "collapsed": false
   },
   "outputs": [
    {
     "data": {
      "image/png": "[encoded data removed]",
      "text/plain": [
       "<matplotlib.figure.Figure at 0x7fde34d88668>"
      ]
     },
     "metadata": {},
     "output_type": "display_data"
    }
   ],
   "source": [
    "# Plotting the potential for the initial conditions\n",
    "pl.plot(potential_initial)\n",
    "pl.xlabel('x')\n",
    "pl.ylabel('$\\mathrm{potential}$')\n",
    "pl.title('$\\mathrm{Initial\\;conditions\\;potential}$')\n",
    "pl.show()\n",
    "pl.clf()"
   ]
  },
  {
   "cell_type": "code",
   "execution_count": 24,
   "metadata": {
    "collapsed": false
   },
   "outputs": [
    {
     "data": {
      "image/png": "[encoded data removed]",
      "text/plain": [
       "<matplotlib.figure.Figure at 0x7fde3527f320>"
      ]
     },
     "metadata": {},
     "output_type": "display_data"
    }
   ],
   "source": [
    "# Plotting the Electric field in the system for the given initial conditions\n",
    "pl.plot(Ex_initial, label = 'Ex numerical')\n",
    "pl.xlabel('x')\n",
    "pl.ylabel('E_{x}')\n",
    "pl.title('$\\mathrm{Initial\\;conditions\\;E_{x}}$')\n",
    "pl.show()\n",
    "pl.clf()"
   ]
  },
  {
   "cell_type": "markdown",
   "metadata": {},
   "source": [
    "The following cell block determines $v(\\frac{\\Delta t}{2})$:\n",
    "\\begin{align}\n",
    "v(\\frac{\\Delta t}{2}) = v(t = 0) + E_{x}\\left(x(\\frac{\\Delta t}{2})\\right)\\frac{\\Delta t}{2}\n",
    "\\end{align}"
   ]
  },
  {
   "cell_type": "code",
   "execution_count": null,
   "metadata": {
    "collapsed": false
   },
   "outputs": [],
   "source": [
    "# This cell block is to obtain v at (t = 0.5dt) to implement the verlet algorithm.\n",
    "\n",
    "positions_x_half = positions_x + velocity_x * dt/2\n",
    "\n",
    "# Periodic Boundary conditions for particles \n",
    "\n",
    "positions_x_half = periodic_particles(positions_x_half, length_domain_x)\n",
    "\n",
    "# Finding interpolant fractions for the positions\n",
    "zone_x, frac_x = find_zone_and_fraction(positions_x_half, x_grid, dx)\n",
    "\n",
    "# Interpolating the fields at each particle\n",
    "\n",
    "Ex_particle = interpolate.interp1d(x_grid, Ex_initial, kind = 'linear')(positions_x_half)\n",
    "\n",
    "# Updating the velocity using the interpolated Electric fields to find v at (t = 0.5dt)\n",
    "\n",
    "velocity_x = velocity_x  + (Ex_particle * charge_electron / mass_electron ) * dt/2\n",
    "time_grid = np.linspace(0, time[-1], len(Ex_max))"
   ]
  },
  {
   "cell_type": "code",
   "execution_count": null,
   "metadata": {
    "collapsed": false
   },
   "outputs": [
    {
     "name": "stdout",
     "output_type": "stream",
     "text": [
      "Computing for time =  0.0\n"
     ]
    },
    {
     "name": "stderr",
     "output_type": "stream",
     "text": [
      "/home/tejas/anaconda3/lib/python3.6/site-packages/ipykernel/__main__.py:26: ComplexWarning: Casting complex values to real discards the imaginary part\n"
     ]
    },
    {
     "name": "stdout",
     "output_type": "stream",
     "text": [
      "Computing for time =  0.2\n",
      "Computing for time =  0.4\n",
      "Computing for time =  0.6\n",
      "Computing for time =  0.8\n",
      "Computing for time =  1.0\n"
     ]
    }
   ],
   "source": [
    "for time_index in range(len(time)):\n",
    "    if(time_index%100==0):\n",
    "        print('Computing for time = ', time_index * dt)\n",
    "\n",
    "    # Updating the positions of particle using the velocites (Verlet algorithm)\n",
    "    # velocity at t = (n + 1/2) dt, positions_x at t = (n)dt and positions_x_new \n",
    "    # at t = (n+1)dt\n",
    "    positions_x_new = positions_x + velocity_x * dt\n",
    "    \n",
    "    # Periodic Boundary conditions for particles \n",
    "    positions_x_new = periodic_particles(positions_x_new, length_domain_x)\n",
    "    \n",
    "    # Finding interpolant fractions for the positions\n",
    "    zone_x, frac_x = find_zone_and_fraction(positions_x_new, x_grid, dx)\n",
    "\n",
    "    # Charge deposition using linear weighting scheme\n",
    "\n",
    "    rho_electrons  = cloud_charge_deposition(charge_electron, zone_x, frac_x, x_grid, dx)\n",
    "    rho_normalized = norm_background_ions(rho_electrons, number_of_electrons, w_p) \n",
    "\n",
    "    # Calculating the potential/Electric field from the charge deposition.\n",
    "\n",
    "    potential, Ex = fft_poisson(rho_normalized,dx)\n",
    "    \n",
    "    # Interpolating the fields at each particle\n",
    "    \n",
    "    Ex_particle = interpolate.interp1d(x_grid, Ex, kind = 'linear')(positions_x)\n",
    "    \n",
    "    pl.plot(x_grid, Ex)\n",
    "    pl.ylim(-1,1)\n",
    "    pl.savefig('images/Ex' + str(time_index) + '.png')\n",
    "    pl.clf()\n",
    "\n",
    "    # Updating the velocity using the interpolated Electric fields\n",
    "    \n",
    "    velocity_x_new = velocity_x  + (Ex_particle * charge_electron / mass_electron ) * dt\n",
    "    \n",
    "    # Saving the Electric fields for plotting\n",
    "    \n",
    "    Ex_max[time_index]       = max(abs(Ex))\n",
    "\n",
    "    # Saving the updated velocites for the next timestep\n",
    "    velocity_x  = velocity_x_new.copy()\n",
    "    positions_x = positions_x_new.copy()"
   ]
  },
  {
   "cell_type": "markdown",
   "metadata": {},
   "source": [
    "### Comparing the plots from both Linear theory calculations and Electrostatic PIC below"
   ]
  },
  {
   "cell_type": "code",
   "execution_count": null,
   "metadata": {
    "collapsed": false
   },
   "outputs": [],
   "source": [
    "# Reading data generated by the Cheng Knorr code\n",
    "h5f = h5py.File('CK_256.h5', 'r')\n",
    "Ex_max_CK = h5f['max_E'][:]\n",
    "Ex_max_CK = np.abs(Ex_max_CK)\n",
    "h5f.close()\n",
    "time_CK = np.linspace(0,3, len(Ex_max_CK))"
   ]
  },
  {
   "cell_type": "code",
   "execution_count": null,
   "metadata": {
    "collapsed": true
   },
   "outputs": [],
   "source": [
    "# Reading data generated by the Cheng Knorr code\n",
    "h5f = h5py.File('LT.h5', 'r')\n",
    "Ex_max_LT = h5f['Ex_amp'][:]\n",
    "Ex_max_LT = np.abs(Ex_max_LT)\n",
    "time_LT   = h5f['time_LT'][:]\n",
    "h5f.close()"
   ]
  },
  {
   "cell_type": "code",
   "execution_count": null,
   "metadata": {
    "collapsed": false
   },
   "outputs": [],
   "source": [
    "time_grid = np.linspace(0, time[-1], len(Ex_max))\n",
    "pl.plot(time_grid, Ex_max , label = r'$\\mathrm{PIC}$')\n",
    "# pl.plot(time_LT, Ex_max_LT,'--',lw = 3,label = '$\\mathrm{LT}$')\n",
    "pl.plot(time_CK, Ex_max_CK, label = '$\\mathrm{Cheng\\;Knorr}$')\n",
    "# print('(abs(Ex_amplitude[0])) is ',(abs(Ex_amplitude[0])))\n",
    "# print('(abs(Ex_max[0])) is ',(abs(Ex_max[0])))\n",
    "pl.xlabel('$t$')\n",
    "pl.ylabel('$\\mathrm{MAX}(|E_{x}|)$')\n",
    "pl.legend()\n",
    "# pl.show()\n",
    "# pl.savefig('MaxE_LT.png')\n",
    "pl.clf()"
   ]
  },
  {
   "cell_type": "code",
   "execution_count": null,
   "metadata": {
    "collapsed": false
   },
   "outputs": [],
   "source": [
    "pl.semilogy(time_grid, Ex_max ,label = r'$\\mathrm{PIC}$')\n",
    "# pl.semilogy(time_LT, Ex_max_LT,'--',lw = 3,label = '$\\mathrm{LT}$')\n",
    "pl.semilogy(time_CK,Ex_max_CK, label = '$\\mathrm{Cheng\\;Knorr}$')\n",
    "pl.legend()\n",
    "pl.xlabel('$t$')\n",
    "pl.ylabel('$\\mathrm{MAX}(|E_{x}|)$')\n",
    "# pl.show()\n",
    "# pl.savefig('MaxE_semilogy_LT.png')\n",
    "pl.clf()"
   ]
  },
  {
   "cell_type": "code",
   "execution_count": null,
   "metadata": {
    "collapsed": false
   },
   "outputs": [],
   "source": [
    "pl.loglog(time_grid, Ex_max ,label = r'$\\mathrm{PIC}$')\n",
    "# pl.loglog(time_LT, Ex_max_LT,'--',lw = 3,label = '$\\mathrm{LT}$')\n",
    "pl.semilogy(time_CK,Ex_max_CK, label = '$\\mathrm{Cheng\\;Knorr}$')\n",
    "pl.legend()\n",
    "pl.xlabel('$t$')\n",
    "pl.ylabel('$\\mathrm{MAX}(|E_{x}|)$')\n",
    "# pl.show()\n",
    "# pl.savefig('MaxE_loglog_LT.png')\n",
    "pl.clf()"
   ]
  },
  {
   "cell_type": "code",
   "execution_count": null,
   "metadata": {
    "collapsed": true
   },
   "outputs": [],
   "source": []
  },
  {
   "cell_type": "code",
   "execution_count": null,
   "metadata": {
    "collapsed": true
   },
   "outputs": [],
   "source": []
  }
 ],
 "metadata": {
  "anaconda-cloud": {},
  "kernelspec": {
   "display_name": "Python 3",
   "language": "python",
   "name": "python3"
  },
  "language_info": {
   "codemirror_mode": {
    "name": "ipython",
    "version": 3
   },
   "file_extension": ".py",
   "mimetype": "text/x-python",
   "name": "python",
   "nbconvert_exporter": "python",
   "pygments_lexer": "ipython3",
   "version": "3.6.0"
  }
 },
 "nbformat": 4,
 "nbformat_minor": 2
}
