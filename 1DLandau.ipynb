{
 "cells": [
  {
   "cell_type": "code",
   "execution_count": 1,
   "metadata": {
    "collapsed": true
   },
   "outputs": [],
   "source": [
    "import numpy as np\n",
    "import pylab as pl\n",
    "import scipy.fftpack as ff\n",
    "import h5py"
   ]
  },
  {
   "cell_type": "code",
   "execution_count": 2,
   "metadata": {
    "collapsed": true
   },
   "outputs": [],
   "source": [
    "pl.rcParams['figure.figsize']  = 12, 7.5\n",
    "pl.rcParams['lines.linewidth'] = 1.5\n",
    "pl.rcParams['font.family']     = 'serif'\n",
    "pl.rcParams['font.weight']     = 'bold'\n",
    "pl.rcParams['font.size']       = 20\n",
    "pl.rcParams['font.sans-serif'] = 'serif'\n",
    "pl.rcParams['text.usetex']     = True\n",
    "pl.rcParams['axes.linewidth']  = 1.5\n",
    "pl.rcParams['axes.titlesize']  = 'medium'\n",
    "pl.rcParams['axes.labelsize']  = 'medium'\n",
    "\n",
    "pl.rcParams['xtick.major.size'] = 8\n",
    "pl.rcParams['xtick.minor.size'] = 4\n",
    "pl.rcParams['xtick.major.pad']  = 8\n",
    "pl.rcParams['xtick.minor.pad']  = 8\n",
    "pl.rcParams['xtick.color']      = 'k'\n",
    "pl.rcParams['xtick.labelsize']  = 'medium'\n",
    "pl.rcParams['xtick.direction']  = 'in'\n",
    "\n",
    "pl.rcParams['ytick.major.size'] = 8\n",
    "pl.rcParams['ytick.minor.size'] = 4\n",
    "pl.rcParams['ytick.major.pad']  = 8\n",
    "pl.rcParams['ytick.minor.pad']  = 8\n",
    "pl.rcParams['ytick.color']      = 'k'\n",
    "pl.rcParams['ytick.labelsize']  = 'medium'\n",
    "pl.rcParams['ytick.direction']  = 'in'"
   ]
  },
  {
   "cell_type": "markdown",
   "metadata": {},
   "source": [
    "### Just for comparision\n",
    "$$V(k) = \\int_{0}^{1} V(x)e^{-2\\pi\\;i\\;k\\;x}dx$$\n",
    "$$V(x) = \\frac{1}{Npoints}\\int_{0}^{1} V(k)e^{+2\\pi\\;i\\;k\\;x}dk$$"
   ]
  },
  {
   "cell_type": "code",
   "execution_count": 3,
   "metadata": {
    "collapsed": true
   },
   "outputs": [],
   "source": [
    "# FFT solver :\n",
    "def fft_poisson(rho,dx):\n",
    "\n",
    "    kspace = ff.fftfreq(len(rho), d = dx)\n",
    "    print('kspace[0]',kspace[0])\n",
    "    kspace[0] = 0.0001\n",
    "    rho_kspace = ff.fft(rho)\n",
    "\n",
    "    V_kspace = np.zeros(len(rho))\n",
    "    \n",
    "    V_kspace[1:] =  (1/(4 * np.pi**2 * kspace[1:]**2)) * rho_kspace[1:]\n",
    "    V_kspace[0]  =  (1/(4 * np.pi**2))*np.sum(rho)/(len(rho)) \n",
    "    print('rho_kspace[0] is ', rho_kspace[0])\n",
    "    \n",
    "    \n",
    "#     V_kspace[0] = 0np.sum(rho)/(len(rho))\n",
    "\n",
    "    E_kspace =  1j * 2 * np. pi * kspace * V_kspace\n",
    "    \n",
    "    V = ff.ifft(V_kspace)\n",
    "\n",
    "    V = V.astype(np.float)\n",
    "    \n",
    "    E = ff.ifft(E_kspace)\n",
    "    \n",
    "    return V, E"
   ]
  },
  {
   "cell_type": "code",
   "execution_count": 4,
   "metadata": {
    "collapsed": true
   },
   "outputs": [],
   "source": [
    "# b1 charge depositor\n",
    "def cloud_charge_deposition(charge, zone_x, frac_x, x_grid):\n",
    "\n",
    "    left_corner_charge = (1 - frac_x) * charge\n",
    "    right_corner_charge = (frac_x) * charge\n",
    "\n",
    "    left_corners  = zone_x.copy()\n",
    "    right_corners = left_corners + 1\n",
    "\n",
    "    corners = np.concatenate([left_corners, right_corners], axis=0)\n",
    "    charges = np.concatenate([left_corner_charge, right_corner_charge], axis=0)\n",
    "\n",
    "    rho, temp = np.histogram(corners, bins=len(x_grid), range=(0, len(x_grid)), weights=charges)\n",
    "\n",
    "    return rho"
   ]
  },
  {
   "cell_type": "code",
   "execution_count": 5,
   "metadata": {
    "collapsed": true
   },
   "outputs": [],
   "source": [
    "# k_boltzmann     = 1\n",
    "# mass_electron   = 1\n",
    "# tempertature    = 1\n",
    "# charge_electron = -1\n",
    "# charge_ion      = +1"
   ]
  },
  {
   "cell_type": "code",
   "execution_count": 6,
   "metadata": {
    "collapsed": true
   },
   "outputs": [],
   "source": [
    "# length_domain_x = 1"
   ]
  },
  {
   "cell_type": "code",
   "execution_count": 7,
   "metadata": {
    "collapsed": true
   },
   "outputs": [],
   "source": [
    "# number_of_electrons = 3\n",
    "\n",
    "# positions_x = length_domain_x * np.random.rand(number_of_electrons)\n",
    "\n",
    "# mu, sigma = 0, (k_boltzmann * tempertature / mass_electron)\n",
    "\n",
    "# velocity_x = np.random.normal(mu, sigma, number_of_electrons)"
   ]
  },
  {
   "cell_type": "code",
   "execution_count": 8,
   "metadata": {
    "collapsed": true
   },
   "outputs": [],
   "source": [
    "# divisions_domain_x = 100\n",
    "\n",
    "# x_grid = np.linspace(0, length_domain_x, divisions_domain_x + 1, endpoint=True)\n",
    "\n",
    "# dx = x_grid[1] - x_grid[0]"
   ]
  },
  {
   "cell_type": "code",
   "execution_count": 9,
   "metadata": {
    "collapsed": true
   },
   "outputs": [],
   "source": [
    "# start_time = 0\n",
    "\n",
    "# end_time   = 3\n",
    "\n",
    "# dt  = 0.01\n",
    "\n",
    "# time = np.arange(start_time, end_time + dt, dt)"
   ]
  },
  {
   "cell_type": "code",
   "execution_count": 10,
   "metadata": {
    "collapsed": true
   },
   "outputs": [],
   "source": [
    "# rho_ions = (charge_ion * number_of_electrons) / (length_domain_x)"
   ]
  },
  {
   "cell_type": "code",
   "execution_count": 11,
   "metadata": {
    "collapsed": false
   },
   "outputs": [],
   "source": [
    "# for time_index in range(len(time)):\n",
    "\n",
    "#     # Updating the positions\n",
    "\n",
    "#     positions_x += velocity_x * dt\n",
    "\n",
    "#     # Boundary conditions\n",
    "#     outside_domain = np.where([positions_x < 0])[0]\n",
    "\n",
    "#     positions_x[outside_domain] += length_domain_x\n",
    "\n",
    "#     outside_domain = np.where([positions_x > length_domain_x])[0]\n",
    "#     positions_x[outside_domain] -= length_domain_x\n",
    "\n",
    "#     # Finding interpolant fractions for the positions\n",
    "\n",
    "#     zone_x = np.floor(((positions_x - x_grid[0]) / dx))\n",
    "#     zone_x = zone_x.astype(np.int)\n",
    "#     frac_x = (positions_x - x_grid[zone_x]) / (dx)\n",
    "\n",
    "#     # Charge deposition using linear weighting scheme\n",
    "\n",
    "#     rho = cloud_charge_deposition(charge_electron, zone_x, frac_x, x_grid)\n",
    "#     rho+= rho_ions\n",
    "\n",
    "#     # Calculating the potential from the charge deposition.\n",
    "\n",
    "#     V = fft_poisson(rho,dx)\n",
    "\n",
    "#     # Computing E from the potential\n",
    "\n",
    "#     Ex = compute_electric_field(V,dx)\n",
    "    \n",
    "\n",
    "#     # Interpolating the fields at each particle\n",
    "\n",
    "#     Ex_particle = Ex[zone_x] + frac_x * Ex[zone_x + 1]\n",
    "# #     Ex_particle = np.reshape(Ex_particle, (len(Ex_particle)))\n",
    "\n",
    "#     # Updating the particles using the interpolated field values.\n",
    "\n",
    "#     velocity_x += (Ex_particle * charge_electron / mass_electron ) * dt\n",
    "\n",
    "#     input('check')\n",
    "\n",
    "#     h5f = h5py.File('data/timestepped_data/solution_'+str(time_index)+'.h5', 'w')\n",
    "#     h5f.create_dataset('positions_x',   data = positions_x)\n",
    "#     h5f.create_dataset('velocity_x',   data = velocity_x)\n",
    "#     h5f.create_dataset('Ex',   data = (Ex))\n",
    "#     h5f.close()"
   ]
  },
  {
   "cell_type": "code",
   "execution_count": 12,
   "metadata": {
    "collapsed": true
   },
   "outputs": [],
   "source": [
    "# # cloud_charge_deposition test\n",
    "# charge = 1\n",
    "# x_grid = np.array([0, 0.2, 0.4, 0.6, 0.8, 1.0])\n",
    "# x = np.array([0.9])\n",
    "# zone_x = np.array([4])\n",
    "# frac_x = np.array([0.5])\n",
    "# print(cloud_charge_deposition(charge, zone_x, frac_x, x_grid))"
   ]
  },
  {
   "cell_type": "code",
   "execution_count": 13,
   "metadata": {
    "collapsed": false
   },
   "outputs": [
    {
     "name": "stdout",
     "output_type": "stream",
     "text": [
      "kspace[0] 0.0\n",
      "rho_kspace[0] is  (201+0j)\n",
      "max(V) 0.025745502095\n"
     ]
    },
    {
     "name": "stderr",
     "output_type": "stream",
     "text": [
      "/home/tejas/anaconda3/lib/python3.6/site-packages/ipykernel/__main__.py:11: ComplexWarning: Casting complex values to real discards the imaginary part\n",
      "/home/tejas/anaconda3/lib/python3.6/site-packages/ipykernel/__main__.py:22: ComplexWarning: Casting complex values to real discards the imaginary part\n"
     ]
    },
    {
     "data": {
      "image/png": "[encoded data removed]",
      "text/plain": [
       "<matplotlib.figure.Figure at 0x7fce1fc5a710>"
      ]
     },
     "metadata": {},
     "output_type": "display_data"
    }
   ],
   "source": [
    "# # FFT test\n",
    "\n",
    "rho_size = 200\n",
    "x = np.linspace(0, 1, rho_size )\n",
    "\n",
    "A = 1.0\n",
    "rho_0 = 1\n",
    "rho =  rho_0 + A * np.cos(2 * np.pi * x)\n",
    "dx = x[1] - x[0]\n",
    "\n",
    "V, E = fft_poisson(rho, dx)\n",
    "print('max(V)', max(V))\n",
    "pl.plot(x, V,'--',lw = 3,label = '$V$')\n",
    "# pl.plot(x, ff.ifft(ff.fft(rho)), label = 'ifft(fft(rho))')\n",
    "# pl.plot(x, rho, label = r'$\\rho$')\n",
    "pl.plot(x, np.cos(2*np.pi*x)/(4 * np.pi**2), label= '$\\mathrm{Analytical\\;V}$')\n",
    "# pl.plot(x, E, label = '$E_{x}$')\n",
    "# pl.ylim(0,1)\n",
    "pl.legend()\n",
    "pl.show()\n",
    "pl.clf()"
   ]
  }
 ],
 "metadata": {
  "kernelspec": {
   "display_name": "Python 3",
   "language": "python",
   "name": "python3"
  },
  "language_info": {
   "codemirror_mode": {
    "name": "ipython",
    "version": 3
   },
   "file_extension": ".py",
   "mimetype": "text/x-python",
   "name": "python",
   "nbconvert_exporter": "python",
   "pygments_lexer": "ipython3",
   "version": "3.6.0"
  }
 },
 "nbformat": 4,
 "nbformat_minor": 2
}
