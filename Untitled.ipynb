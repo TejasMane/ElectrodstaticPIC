{
 "cells": [
  {
   "cell_type": "code",
   "execution_count": 1,
   "metadata": {
    "collapsed": true
   },
   "outputs": [],
   "source": [
    "import arrayfire as af\n",
    "import numpy as np"
   ]
  },
  {
   "cell_type": "code",
   "execution_count": 2,
   "metadata": {
    "collapsed": true
   },
   "outputs": [],
   "source": [
    "data = af.to_array([0, 0.2, 0.4, 0.6, 0.8, 1.0])\n",
    "interp_points = af.to_array([0, 1.0, 5])\n"
   ]
  },
  {
   "cell_type": "code",
   "execution_count": 3,
   "metadata": {
    "collapsed": false
   },
   "outputs": [
    {
     "name": "stdout",
     "output_type": "stream",
     "text": [
      "arrayfire.Array()\n",
      "Type: float\n",
      "[3 1 1 1]\n",
      "    0.0000 \n",
      "    0.2000 \n",
      "    1.0000 \n",
      "\n",
      "\n"
     ]
    }
   ],
   "source": [
    "print(af.signal.approx1(data, interp_points, method= af.INTERP.LINEAR))"
   ]
  },
  {
   "cell_type": "code",
   "execution_count": 5,
   "metadata": {
    "collapsed": false
   },
   "outputs": [
    {
     "name": "stdout",
     "output_type": "stream",
     "text": [
      "arrayfire.Array()\n",
      "Type: float\n",
      "[6 1 1 1]\n",
      "    0.0000 \n",
      "    0.2000 \n",
      "    0.4000 \n",
      "    0.6000 \n",
      "    0.8000 \n",
      "    1.0000 \n",
      "\n",
      "\n",
      "arrayfire.Array()\n",
      "Type: float\n",
      "[6 1 1 1]\n",
      "    1.0000 \n",
      "    0.0000 \n",
      "    0.2000 \n",
      "    0.4000 \n",
      "    0.6000 \n",
      "    0.8000 \n",
      "\n",
      "\n"
     ]
    }
   ],
   "source": [
    "print(data)\n",
    "print(af.shift(data, 1))"
   ]
  },
  {
   "cell_type": "code",
   "execution_count": null,
   "metadata": {
    "collapsed": true
   },
   "outputs": [],
   "source": []
  }
 ],
 "metadata": {
  "kernelspec": {
   "display_name": "Python 3",
   "language": "python",
   "name": "python3"
  },
  "language_info": {
   "codemirror_mode": {
    "name": "ipython",
    "version": 3
   },
   "file_extension": ".py",
   "mimetype": "text/x-python",
   "name": "python",
   "nbconvert_exporter": "python",
   "pygments_lexer": "ipython3",
   "version": "3.6.0"
  }
 },
 "nbformat": 4,
 "nbformat_minor": 2
}
