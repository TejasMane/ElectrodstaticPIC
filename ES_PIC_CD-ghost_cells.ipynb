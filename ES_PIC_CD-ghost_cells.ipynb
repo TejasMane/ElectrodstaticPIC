{
 "cells": [
  {
   "cell_type": "code",
   "execution_count": 1,
   "metadata": {
    "collapsed": true
   },
   "outputs": [],
   "source": [
    "import numpy as np\n",
    "import h5py\n",
    "import pylab as pl\n",
    "import arrayfire as af\n",
    "from scipy.integrate import odeint\n",
    "import scipy.fftpack as ff\n",
    "from scipy import interpolate\n",
    "import arrayfire as af"
   ]
  },
  {
   "cell_type": "code",
   "execution_count": 2,
   "metadata": {
    "collapsed": true
   },
   "outputs": [],
   "source": [
    "pl.rcParams['figure.figsize']  = 12, 7.5\n",
    "pl.rcParams['lines.linewidth'] = 1.5\n",
    "pl.rcParams['font.family']     = 'serif'\n",
    "pl.rcParams['font.weight']     = 'bold'\n",
    "pl.rcParams['font.size']       = 20\n",
    "pl.rcParams['font.sans-serif'] = 'serif'\n",
    "pl.rcParams['text.usetex']     = True\n",
    "pl.rcParams['axes.linewidth']  = 1.5\n",
    "pl.rcParams['axes.titlesize']  = 'medium'\n",
    "pl.rcParams['axes.labelsize']  = 'medium'\n",
    "\n",
    "pl.rcParams['xtick.major.size'] = 8\n",
    "pl.rcParams['xtick.minor.size'] = 4\n",
    "pl.rcParams['xtick.major.pad']  = 8\n",
    "pl.rcParams['xtick.minor.pad']  = 8\n",
    "pl.rcParams['xtick.color']      = 'k'\n",
    "pl.rcParams['xtick.labelsize']  = 'medium'\n",
    "pl.rcParams['xtick.direction']  = 'in'\n",
    "\n",
    "pl.rcParams['ytick.major.size'] = 8\n",
    "pl.rcParams['ytick.minor.size'] = 4\n",
    "pl.rcParams['ytick.major.pad']  = 8\n",
    "pl.rcParams['ytick.minor.pad']  = 8\n",
    "pl.rcParams['ytick.color']      = 'k'\n",
    "pl.rcParams['ytick.labelsize']  = 'medium'\n",
    "pl.rcParams['ytick.direction']  = 'in'"
   ]
  },
  {
   "cell_type": "code",
   "execution_count": 3,
   "metadata": {
    "collapsed": false
   },
   "outputs": [],
   "source": [
    "def periodic_particles(positions_x, length_domain_x):\n",
    "    '''\n",
    "    function periodic_particles(positions_x, length_domain_x)\n",
    "    -----------------------------------------------------------------------\n",
    "    Input variables: positions_x and length_domain_x\n",
    "\n",
    "        positions_x: An one dimensional array of size equal to number of particles taken in the PIC code. \n",
    "        It contains the positions of particles.\n",
    "\n",
    "        length_domain_x: This is the length of the domain. The domain is assumed to be from x = 0 \n",
    "        to x = length_domain_x \n",
    "\n",
    "    -----------------------------------------------------------------------    \n",
    "    returns: positions_x\n",
    "        This function returns the modified positions_x such that particle previously gone outside the domain \n",
    "        through the left boundary enter via the right boundary and vice versa.\n",
    "        In other words, the function implements periodic boundary conditions for the particles. \n",
    "\n",
    "    '''\n",
    "    \n",
    "    # Arrayfire implementation\n",
    "    # Determine indices of particles which have gone outside the domain\n",
    "    # through right boundary\n",
    "    outside_domain_right       = af.algorithm.where(positions_x >= length_domain_x)\n",
    "    \n",
    "    # Determine indices of particles which have gone outside the domain\n",
    "    # through left boundary         \n",
    "    outside_domain_left        = af.algorithm.where(positions_x <  0  )\n",
    "    \n",
    "\n",
    "    if outside_domain_right.elements() > 0:\n",
    "        \n",
    "        # Apply periodic boundary conditions\n",
    "\n",
    "        positions_x[outside_domain_right] = positions_x[outside_domain_right] - length_domain_x\n",
    "\n",
    "\n",
    "    if outside_domain_left.elements() > 0:\n",
    "        \n",
    "        # Apply periodic boundary conditions\n",
    "        \n",
    "        positions_x[outside_domain_left]  = positions_x[outside_domain_left] + length_domain_x\n",
    "\n",
    "        \n",
    "        \n",
    "    af.eval(positions_x)\n",
    "    \n",
    "    return positions_x\n"
   ]
  },
  {
   "cell_type": "code",
   "execution_count": 4,
   "metadata": {
    "collapsed": false
   },
   "outputs": [],
   "source": [
    "def find_zone_and_fraction(positions_x, x_grid, dx):\n",
    "    '''\n",
    "    function find_zone_and_fraction(positions_x, x_grid, dx)\n",
    "    -----------------------------------------------------------------------  \n",
    "    Input variables: positions_x, x_grid, dx\n",
    "\n",
    "        positions_x: An one dimensional array of size equal to number of particles taken in the PIC code. It contains\n",
    "        the positions of particles.\n",
    "\n",
    "        x_grid: This is the grid in position space.\n",
    "\n",
    "        dx: This is distance between any two consecutive grid nodes of the position grid(x_grid).\n",
    "    -----------------------------------------------------------------------      \n",
    "    returns: zone_x, frac_x\n",
    "        This function returns the arrays zone_x and frac_x\n",
    "\n",
    "        zone_x: This is the array of size (number of macro particles) containing the indices of the left corners \n",
    "        of the grid cells containing the particles.\n",
    "\n",
    "        frac_x: This is the array of size (number of macro particles) containing the fraction of the \n",
    "        grid cell where the particle is located. For example if the particles position is 0.3 \n",
    "        between grid nodes(position grid) located at 0.2 and 0.4. frac_x is 0.5.\n",
    "    -----------------------------------------------------------------------  \n",
    "    Example: \n",
    "        Consider a grid: x_grid = [0, 0.2, 0.4, 0.6, 1.0] with dx = 0.2, and two particles with \n",
    "        positions_x = [0.15, 0.3]\n",
    "\n",
    "        find_zone_and_fraction(positions_x, x_grid, dx)\n",
    "        returns \n",
    "        zone_x = [0, 1], frac_x = [0.75, 0.5]\n",
    "    '''    \n",
    "    zone_x = np.floor((((positions_x ) - x_grid[0]) / dx))\n",
    "    \n",
    "    zone_x = zone_x.astype(np.int)\n",
    "    \n",
    "    frac_x = (positions_x - x_grid[zone_x]) / (dx)\n",
    "    \n",
    "    return zone_x, frac_x"
   ]
  },
  {
   "cell_type": "code",
   "execution_count": 5,
   "metadata": {
    "collapsed": true
   },
   "outputs": [],
   "source": [
    "def periodic_rho(rho, ghost_cells):\n",
    "    # Applying periodic BC's for charge depostions from last and first zone since \n",
    "    # first and the last x_grid point are the same point according to periodic BC's\n",
    "    # Since first and last point are the same, charge being deposited on the last grid point\n",
    "    # must also be deposited on the first grid point\n",
    "    \n",
    "    len_x = len(rho)\n",
    "    \n",
    "    rho_electrons[ghost_cells]  = rho_electrons[ghost_cells] + rho_electrons[-1 - ghost_cells]\n",
    "    rho_electrons[-1 - ghost_cells] = rho_electrons[ghost_cells].copy()\n",
    "    \n",
    "    # assigning values to the ghost nodes\n",
    "    rho[0 : ghost_cells]            = rho[len_x -1 - 2 * ghost_cells: len_x -1 - 1 * ghost_cells]\n",
    "    rho[len_x - ghost_cells : len_x] = rho[ghost_cells + 1: 2 * ghost_cells + 1]\n",
    "    \n",
    "    \n",
    "    return rho"
   ]
  },
  {
   "cell_type": "code",
   "execution_count": 6,
   "metadata": {
    "collapsed": true
   },
   "outputs": [],
   "source": [
    "def periodic_field(field, ghost_cells):\n",
    "    # Applying periodic BC's for charge depostions from last and first zone since \n",
    "    # first and the last x_grid point are the same point according to periodic BC's\n",
    "    # Since first and last point are the same, charge being deposited on the last grid point\n",
    "    # must also be deposited on the first grid point\n",
    "    \n",
    "    len_x = len(field)\n",
    "    \n",
    "    # assigning values to the ghost nodes\n",
    "    field[0 : ghost_cells]             = field[len_x -1 - 2 * ghost_cells: len_x -1 - 1 * ghost_cells]\n",
    "    field[len_x - ghost_cells : len_x] = field[ghost_cells + 1: 2 * ghost_cells + 1]\n",
    "    \n",
    "    \n",
    "    return field"
   ]
  },
  {
   "cell_type": "markdown",
   "metadata": {},
   "source": [
    "## cloud in cell charge deposition: \n",
    "\\begin{align}\n",
    "\\implies  \\rho(\\mathbf{x_{i}}, t) &= \\frac{1 }{\\Delta x}w_{p}q \\sum_{p = 1}^{N} b_{1}\\left(\\frac{x_{p} - \\mathbf{x_{i}}}{\\Delta x}\\right) \n",
    "\\end{align}"
   ]
  },
  {
   "cell_type": "code",
   "execution_count": 7,
   "metadata": {
    "collapsed": false
   },
   "outputs": [],
   "source": [
    "# b1 charge depositor\n",
    "def cloud_charge_deposition(charge, zone_x, frac_x, x_grid, dx, ghost_cells):\n",
    "    '''\n",
    "    function cloud_charge_deposition(charge, zone_x, frac_x, x_grid, dx)\n",
    "    -----------------------------------------------------------------------  \n",
    "    Input variables: charge, zone_x, frac_x, x_grid, dx\n",
    "\n",
    "        charge: This is a scalar denoting the charge of the macro particle in the PIC code.\n",
    "\n",
    "        zone_x: This is an array of size (number of electrons/macro particles) containing the indices \n",
    "        of the left corners of the grid cells containing the respective particles\n",
    "\n",
    "        frac_x: This is an array of size (number of electrons/macro particles) containing the fractional values of \n",
    "        the positions of particles in their respective grid cells. This is used for linear interpolation\n",
    "\n",
    "        x_grid: This is an array denoting the position grid chosen in the PIC simulation\n",
    "\n",
    "        dx: This is the distance between any two consecutive grid nodes of the position grid.\n",
    "\n",
    "    -----------------------------------------------------------------------  \n",
    "    returns: rho\n",
    "         rho: This is an array containing the charges deposited at the density grid nodes.\n",
    "    '''\n",
    "    \n",
    "    # Assigning particle charge to left grid point according to linear weighting scheme\n",
    "    # or also known as b1 spline deposition\n",
    "    left_corner_charge  = (1 - frac_x) * charge / (dx)\n",
    "    \n",
    "    # Assigning particle charge to right grid point\n",
    "    right_corner_charge = (frac_x) * charge / (dx)\n",
    "\n",
    "    \n",
    "    # Storing the respective indices of left and right grid points\n",
    "    left_corners  = zone_x.copy()\n",
    "    right_corners = left_corners + 1\n",
    "    \n",
    "    # Joining the indices and charges into one vector each\n",
    "    corners = np.concatenate([left_corners, right_corners], axis=0)\n",
    "    charges = np.concatenate([left_corner_charge, right_corner_charge], axis=0)\n",
    "\n",
    "    # Charge deposition using numpy histogram in a vectorized manner\n",
    "    \n",
    "    rho_electrons, temp = np.histogram(corners, bins=len(x_grid),\\\n",
    "                                       range=(0, len(x_grid)), \\\n",
    "                                       weights=charges\\\n",
    "                                      )\n",
    "    \n",
    "\n",
    "    \n",
    "    return rho_electrons"
   ]
  },
  {
   "cell_type": "markdown",
   "metadata": {},
   "source": [
    "The charge density is computed using the normalization factor $A$ given by :\n",
    "\\begin{align}\n",
    "f_{pic} &= f_{a}  \\\\\n",
    "\\implies A &= \\frac{\\int \\int f_{a}\\;dv\\;dx}{\\int \\int f_{pic}\\;dv\\;dx}  \\\\\n",
    "A &= \\frac{\\int \\int f_{a}\\;dv\\;dx}{\\int \\int\\sum_{p=1}^{N_{m}} w_{p}S(x, x_{p})S(v, v_{x,p})\\;dv\\;dx} \\\\\n",
    "A &= \\frac{\\int \\int f_{a}\\;dv\\;dx}{N_{m} * w_{p}}\n",
    "\\end{align}\n",
    "Background ion density is added to the computed charge density array:\n",
    "\\begin{align}\n",
    "\\int_{x_{i - \\frac{1}{2}}}^{x_{i + \\frac{1}{2}}} S(x, x_{p})dx &= b_{0+1}(\\frac{\\mathbf{x_{i}}- x_{p}}{\\Delta x}) \\\\\n",
    "\\implies  \\rho(\\mathbf{x_{i}}, t) &= \\frac{1 }{\\Delta x}Aw_{p}q \\sum_{p = 1}^{N} b_{1}\\left(\\frac{x_{p} - \\mathbf{x_{i}}}{\\Delta x}\\right) + \\rho_{ions}\n",
    "\\end{align}"
   ]
  },
  {
   "cell_type": "code",
   "execution_count": 8,
   "metadata": {
    "collapsed": false
   },
   "outputs": [],
   "source": [
    "def norm_background_ions(rho_electrons, number_of_electrons, w_p):\n",
    "    '''\n",
    "    function norm_background_ions(rho_electrons, number_of_electrons)\n",
    "    -----------------------------------------------------------------------  \n",
    "    Input variables: rho_electrons, number_of_electrons\n",
    "        rho_electrons: This is an array containing the charges deposited at the density grid nodes.\n",
    "\n",
    "        number_of_electrons: A scalar denoting the number of macro particles/electrons taken in the simulation\n",
    "    -----------------------------------------------------------------------      \n",
    "    returns: rho_normalized\n",
    "        This function returns a array denoting the normalized charge density throughout the domain containing\n",
    "        the contribution due background ions\n",
    "\n",
    "    '''\n",
    "    A                        = 1/(number_of_electrons * w_p)\n",
    "    rho_electrons_normalized = A*rho_electrons\n",
    "    \n",
    "    # Adding background ion density, and ensuring charge neutrality\n",
    "    rho_ions_normalized      = - np.sum(rho_electrons_normalized) / len(rho_electrons_normalized)\n",
    "    \n",
    "    rho_normalized           = rho_electrons_normalized + rho_ions_normalized\n",
    "    \n",
    "    return rho_normalized\n",
    "\n"
   ]
  },
  {
   "cell_type": "markdown",
   "metadata": {},
   "source": [
    "\\begin{align}\n",
    "\\hat{V}(k) &= \\int_{0}^{1} potential(x)e^{-2\\pi\\;i\\;k\\;x}dx \\\\ \\\\\n",
    "potential(x) &= \\frac{1}{Npoints}\\int_{0}^{1} \\hat{potential}(k)e^{+2\\pi\\;i\\;k\\;x}dk \\\\ \\\\\n",
    "\\hat{potential}(k) &= \\frac{1}{4\\pi^{2}\\;k^2}\\hat{\\rho(k)} \\\\ \\\\\n",
    "\\hat{E}(k) &= -i(2\\pi\\;k)\\hat{potential}(k)\n",
    "\\end{align}"
   ]
  },
  {
   "cell_type": "code",
   "execution_count": 9,
   "metadata": {
    "collapsed": false
   },
   "outputs": [],
   "source": [
    "# FFT solver :\n",
    "def fft_poisson(rho, dx):\n",
    "    '''\n",
    "    function fft_poisson(rho, dx)\n",
    "    -----------------------------------------------------------------------  \n",
    "    Input variables: rho, dx\n",
    "\n",
    "        rho: This is an array containing the charges deposited at the density grid nodes.\n",
    "\n",
    "        dx: This is the distance between any two consecutive grid nodes of the position grid.\n",
    "\n",
    "    -----------------------------------------------------------------------  \n",
    "    returns: potential, E\n",
    "\n",
    "        potential: This is an array containing the potential values across the domain\n",
    "\n",
    "        E: This is an array containing the electric field values across the domain.\n",
    "\n",
    "    '''\n",
    "    \n",
    "    rho_temp      = rho[:-1]\n",
    "    k_x           = ff.fftfreq(len(rho_temp), d = dx)\n",
    "    rho_hat       = ff.fft(rho_temp)\n",
    "    potential_hat = np.zeros(len(rho_temp))\n",
    "    \n",
    "    potential_hat[1:] =  (1/(4 * np.pi**2 * k_x[1:]**2)) * rho_hat[1:]\n",
    "    potential_hat[0]  =  0\n",
    "    \n",
    "    E_hat =  -1j * 2 * np.pi * k_x * potential_hat\n",
    "    \n",
    "    potential = ff.ifft(potential_hat)\n",
    "    potential = np.append(potential,potential[0])\n",
    "    potential = (potential.real).astype(np.double)\n",
    "    \n",
    "    E = ff.ifft(E_hat)\n",
    "    E = np.append(E,E[0])\n",
    "    E = (E.real).astype(np.double)\n",
    "    \n",
    "    return potential, E"
   ]
  },
  {
   "cell_type": "code",
   "execution_count": 10,
   "metadata": {
    "collapsed": false
   },
   "outputs": [],
   "source": [
    "def set_up_perturbation(positions_x, number_particles, N_divisions,\\\n",
    "                        amplitude , k_x, length_domain_x, dx\\\n",
    "                       ):\n",
    "    '''\n",
    "    function set_up_perturbation(positions_x, number_particles, N_divisions,\\\n",
    "                                 amplitude , k, length_domain_x\\\n",
    "                                ):\n",
    "    -----------------------------------------------------------------------  \n",
    "    Input variables: positions_x, number_particles, N_divisions, amplitude, k,length_domain_x\n",
    "\n",
    "        positions_x: An one dimensional array of size equal to number of particles taken in the PIC code.\n",
    "        It contains the positions of particles.\n",
    "\n",
    "        number_particles: The number of electrons /macro particles\n",
    "\n",
    "        N_divisions: The number of divisions considered for placing the macro particles\n",
    "\n",
    "        amplitude: This is the amplitude of the density perturbation\n",
    "\n",
    "        k_x: The is the wave number of the cosine density pertubation\n",
    "\n",
    "        length_domain_x: This is the length of the domain in x direction\n",
    "\n",
    "    -----------------------------------------------------------------------      \n",
    "    returns: positions_x\n",
    "        This function returns a array positions_x such that there is a cosine density perturbation \n",
    "        of the given amplitude\n",
    "\n",
    "    '''\n",
    "    # There might be a few particles left out during execution of function and the statement\n",
    "    # below randomizes those positions\n",
    "    positions_x = length_domain_x * np.random.rand(number_particles)\n",
    "\n",
    "    particles_till_x_i = 0\n",
    "\n",
    "    # Looping over grid cells in the domain\n",
    "    for i in range(N_divisions):\n",
    "\n",
    "        # Average number of particles present between two consecutive grid nodes\n",
    "        average_particles_x_i_to_i_plus_one = (number_particles/(length_domain_x/dx))\n",
    "\n",
    "        # Amplitude in the current grid cell used to compute number of particles in the\n",
    "        # current grid cell\n",
    "        temp_amplitude = amplitude * np.cos(k_x * (i + 0.5) * dx / length_domain_x)\n",
    "\n",
    "        # Computing number of particles in the current grid cell\n",
    "        number_particles_x_i_to_i_plus_one = int(average_particles_x_i_to_i_plus_one \\\n",
    "                                                 * (1 + temp_amplitude)\\\n",
    "                                                )\n",
    "\n",
    "        # Assigining these number of particles their respective positions in the current grid cell\n",
    "        positions_x[particles_till_x_i\\\n",
    "                    :particles_till_x_i\\\n",
    "                    + number_particles_x_i_to_i_plus_one \\\n",
    "                   ] \\\n",
    "                            = i * dx \\\n",
    "                              + dx * np.random.rand(number_particles_x_i_to_i_plus_one)\n",
    "        \n",
    "        # keeping track of the number of particles that have been assigned positions\n",
    "        particles_till_x_i += number_particles_x_i_to_i_plus_one\n",
    "\n",
    "    return positions_x"
   ]
  },
  {
   "cell_type": "code",
   "execution_count": 11,
   "metadata": {
    "collapsed": true
   },
   "outputs": [],
   "source": [
    "# Umeda needs x(n), and v(n+0.5dt) for implementation\n",
    "def Umeda_b1_deposition( charge_particle, positions_x, velocity_x,\\\n",
    "                         x_grid, ghost_cells, length_domain_x, dt\\\n",
    "                       ):\n",
    "\n",
    "    '''\n",
    "    A modified Umeda's scheme was implemented to handle a pure one dimensional case.\n",
    "    \n",
    "    function Umeda_b1_deposition( charge, x, velocity_x,\\\n",
    "                                  x_grid, ghost_cells, length_domain_x, dt\\\n",
    "                                )\n",
    "    -----------------------------------------------------------------------  \n",
    "    Input variables: charge, x, velocity_required_x, x_grid, ghost_cells, length_domain_x, dt\n",
    "\n",
    "        charge: This is an array containing the charges deposited at the density grid nodes.\n",
    "\n",
    "        positions_x: An one dimensional array of size equal to number of particles taken in the PIC code.\n",
    "        It contains the positions of particles.\n",
    "        \n",
    "        velocity_x: An one dimensional array of size equal to number of particles taken in the PIC code.\n",
    "        It contains the velocities of particles in x direction.\n",
    "        \n",
    "        x_grid: This is an array denoting the position grid chosen in the PIC simulation\n",
    "\n",
    "        ghost_cells: This is the number of ghost cells used in the simulation domain.\n",
    "        \n",
    "        length_domain_x: This is the length of the domain in x direction\n",
    "        \n",
    "        dt: this is the dt/time step chosen in the simulation\n",
    "    -----------------------------------------------------------------------  \n",
    "    returns: Jx_x_indices, Jx_values_at_these_indices\n",
    "\n",
    "        Jx_x_indices: This returns the indices of the array where the respective currents stored in \n",
    "        Jx_values_at_these_indices have to be deposited\n",
    "\n",
    "        Jx_values_at_these_indices: This is an array containing the currents to be deposited.\n",
    "        \n",
    "    For further details on the scheme refer to Umeda's paper provided in the sagemath folder as the \n",
    "    naming conventions used in the function use the papers naming convention.(x_1, x_2, x_r, F_x, )\n",
    "\n",
    "    '''    \n",
    "    \n",
    "    number_zones_x = (x_grid.elements() - 1 - 2 * ghost_cells )  # number of zones\n",
    "\n",
    "    dx = length_domain_x / number_zones_x\n",
    "\n",
    "    # Start location x_1 at t = n * dt\n",
    "    x_1 = (positions_x).as_type(af.Dtype.f64)\n",
    "    \n",
    "    # Start location x_2 at t = (n+1) * dt\n",
    "    x_2 = (positions_x + (velocity_x * dt)).as_type(af.Dtype.f64)\n",
    "\n",
    "    # Calculation i_1 and i_2, indices of left corners of cells containing the particles\n",
    "    # at x_1 and x_2 respectively\n",
    "    i_1 = af.arith.floor( ((af.abs( x_1 - af.sum(x_grid[0])))/dx) - ghost_cells)\n",
    "\n",
    "\n",
    "    i_2 = af.arith.floor( ((af.abs( x_2 - af.sum(x_grid[0])))/dx) - ghost_cells)\n",
    "\n",
    "\n",
    "    i_dx       = dx * af.join(1, i_1, i_2)\n",
    "\n",
    "    i_dx_x_avg = af.join(1, af.max(i_dx,1), ((x_1+x_2)/2))\n",
    "\n",
    "    x_r_term_1 = dx + af.min(i_dx, 1)\n",
    "    x_r_term_2 = af.max(i_dx_x_avg, 1)\n",
    "\n",
    "    x_r_combined_term = af.join(1, x_r_term_1, x_r_term_2)\n",
    "    \n",
    "    # Computing the relay point\n",
    "    x_r = af.min(x_r_combined_term, 1)\n",
    "\n",
    "    # Computing the fluxes\n",
    "    F_x_1 = charge_particle * (x_r - x_1)/dt\n",
    "    \n",
    "    F_x_2 = charge_particle * (x_2 - x_r)/dt\n",
    "\n",
    "    # computing the currents at (i_1 + 1/2)*dx and (i_2 + 1/2) * dx\n",
    "    J_x_1_1 = (1/(dx)) * (F_x_1)\n",
    "\n",
    "    J_x_2_1 = (1/(dx)) * (F_x_2)\n",
    "\n",
    "    # Combining the indices into one vector\n",
    "    Jx_x_indices = af.join(0, i_1 + ghost_cells, i_2 + ghost_cells)\n",
    "    \n",
    "    # Combining the currents into one vector\n",
    "    Jx_values_at_these_indices = af.join(0, J_x_1_1, J_x_2_1)\n",
    "\n",
    "    af.eval(Jx_x_indices)\n",
    "    af.eval(Jx_values_at_these_indices)\n",
    "\n",
    "    return Jx_x_indices, Jx_values_at_these_indices"
   ]
  },
  {
   "cell_type": "code",
   "execution_count": 12,
   "metadata": {
    "collapsed": false
   },
   "outputs": [],
   "source": [
    "def Umeda_2003(charge_particle,\\\n",
    "               no_of_particles,\\\n",
    "               positions_x,\\\n",
    "               velocity_x,\\\n",
    "               x_center_grid,\\\n",
    "               ghost_cells,\\\n",
    "               length_domain_x,\\\n",
    "               dx,\\\n",
    "               dt\\\n",
    "              ):\n",
    "\n",
    "    '''\n",
    "    function Umeda_b1_deposition( charge, x, velocity_x,\\\n",
    "                                  x_grid, ghost_cells, length_domain_x, dt\\\n",
    "                                )\n",
    "    -----------------------------------------------------------------------  \n",
    "    Input variables: charge, x, velocity_required_x, x_grid, ghost_cells, length_domain_x, dt\n",
    "\n",
    "        charge: This is an array containing the charges deposited at the density grid nodes.\n",
    "\n",
    "        positions_x(t = n*dt): An one dimensional array of size equal to number of particles taken in the PIC code.\n",
    "        It contains the positions of particles.\n",
    "        \n",
    "        velocity_x(t = (n+1/2)*dt): An one dimensional array of size equal to number of particles taken in the PIC code.\n",
    "        It contains the velocities of particles in x direction.\n",
    "        \n",
    "        x_grid: This is an array denoting the position grid chosen in the PIC simulation.\n",
    "\n",
    "        ghost_cells: This is the number of ghost cells used in the simulation domain..\n",
    "        \n",
    "        length_domain_x: This is the length of the domain in x direction.\n",
    "        \n",
    "        dt: this is the dt/time step chosen in the simulation.\n",
    "    -----------------------------------------------------------------------  \n",
    "    returns: Jx_staggered\n",
    "\n",
    "        Jx_staggered: This returns the array Jx on a staggered yee lattice.\n",
    "\n",
    "\n",
    "    '''    \n",
    "    # storing the number of elements in x_center_grid for current deposition\n",
    "    elements = x_center_grid.elements()\n",
    "\n",
    "    \n",
    "    # Depositing currents using Umeda's modified 1D scheme\n",
    "    Jx_x_indices, Jx_values_at_these_indices = Umeda_b1_deposition(  charge_particle,\\\n",
    "                                                                     positions_x,\\\n",
    "                                                                     velocity_x,\\\n",
    "                                                                     x_center_grid,\\\n",
    "                                                                     ghost_cells,\\\n",
    "                                                                     length_domain_x,\\\n",
    "                                                                     dt\\\n",
    "                                                                  )\n",
    "\n",
    "    \n",
    "    \n",
    "    # Depositing currents using numpy histogram\n",
    "\n",
    "    input_indices      = (Jx_x_indices)\n",
    "    Jx_staggered, temp = np.histogram(input_indices,\\\n",
    "                                      bins=elements,\\\n",
    "                                      range=(0, elements),\\\n",
    "                                      weights=Jx_values_at_these_indices\\\n",
    "                                     )\n",
    "\n",
    "\n",
    "\n",
    "    Jx_staggered = af.to_array(Jx_staggered)\n",
    "    \n",
    "    af.eval(Jx_staggered)\n",
    "\n",
    "    return Jx_staggered"
   ]
  },
  {
   "cell_type": "markdown",
   "metadata": {},
   "source": [
    "The current density is computed using the normalization factor $A$ given by :\n",
    "\\begin{align}\n",
    "f_{pic} &= f_{a}  \\\\\n",
    "\\implies A &= \\frac{\\int \\int f_{a}\\;dv\\;dx}{\\int \\int f_{pic}\\;dv\\;dx}  \\\\\n",
    "A &= \\frac{\\int \\int f_{a}\\;dv\\;dx}{\\int \\int\\sum_{p=1}^{N_{m}} w_{p}S(x, x_{p})S(v, v_{x,p})\\;dv\\;dx} \\\\\n",
    "A &= \\frac{\\int \\int f_{a}\\;dv\\;dx}{N_{m} * w_{p}}\n",
    "\\end{align}\n",
    "Background ion density is added to the computed charge density array:\n",
    "\\begin{align}\n",
    "\\int_{x_{i - \\frac{1}{2}}}^{x_{i + \\frac{1}{2}}} S(x, x_{p})dx &= b_{0+1}(\\frac{\\mathbf{x_{i}}- x_{p}}{\\Delta x}) \\\\\n",
    "\\implies  J(\\mathbf{x_{i}}, t) &= \\frac{1}{\\Delta x} Aw_{p}\\;q \\sum_{p=1}^{N_{m}} v_{x,p}\\;b_{1}(\\mathbf{x_{i}}, x_{p})\n",
    "\\end{align}"
   ]
  },
  {
   "cell_type": "code",
   "execution_count": 13,
   "metadata": {
    "collapsed": true
   },
   "outputs": [],
   "source": [
    "def current_norm_BC(Jx_staggered, number_of_electrons, w_p):\n",
    "    \n",
    "    '''\n",
    "    function current_norm_BC(Jx_staggered, number_of_electrons, w_p)\n",
    "    -----------------------------------------------------------------------  \n",
    "    Input variables: Jx_staggered, number_of_electrons, w_p\n",
    "\n",
    "        Jx_staggered: This is an array containing the currents deposited on staggered lattice.\n",
    "\n",
    "        number_of_electrons: Number of macroparticles taken in the domain.\n",
    "        \n",
    "        w_p: Number of particles comprising the macroparticle.\n",
    "\n",
    "    -----------------------------------------------------------------------  \n",
    "    returns: Jx_norm_centered\n",
    "\n",
    "        Jx_norm_centered: This returns the array Jx on the centered lattice same as the electric field.\n",
    "\n",
    "\n",
    "    '''       \n",
    "    len_x = Jx_staggered.elements()\n",
    "    \n",
    "    # Normalizing the currents to be deposited\n",
    "    A                  = 1/(number_of_electrons * w_p)\n",
    "    \n",
    "    Jx_norm_staggered  = A * Jx_staggered\n",
    "\n",
    "    \n",
    "    # assigning the current density to the boundary points for periodic boundary conditions\n",
    "    Jx_norm_staggered[ghost_cells]  = Jx_norm_staggered[ghost_cells] + Jx_norm_staggered[-1 - ghost_cells]\n",
    "    Jx_norm_staggered[-2 - ghost_cells] = Jx_norm_staggered[-2 - ghost_cells] + Jx_norm_staggered[ghost_cells - 1]\n",
    "    Jx_norm_staggered[-1 - ghost_cells] = Jx_norm_staggered[ghost_cells].copy()\n",
    "    \n",
    "    # Assigning ghost cell values\n",
    "    Jx_norm_staggered[0 : ghost_cells]             = Jx_norm_staggered[len_x -1 - 2 * ghost_cells: len_x -1 - 1 * ghost_cells]\n",
    "    Jx_norm_staggered[len_x - ghost_cells : len_x] = Jx_norm_staggered[ghost_cells + 1: 2 * ghost_cells + 1]\n",
    "    \n",
    "    af.eval(Jx_norm_staggered)\n",
    "    \n",
    "    return Jx_norm_staggered"
   ]
  },
  {
   "cell_type": "markdown",
   "metadata": {},
   "source": [
    "Using Computational particles\n",
    "\\begin{align}\n",
    "q_{p} = w_{p}q \\\\\n",
    "m_{p} = w_{p}m \\\\\n",
    "\\end{align}\n",
    "where $q_{p}$ and $m_{p} $is the charge of the macro particle and mass of the macro particle respectively"
   ]
  },
  {
   "cell_type": "code",
   "execution_count": 14,
   "metadata": {
    "collapsed": true
   },
   "outputs": [],
   "source": [
    "# Weighting factor w_p = number of electrons composing the macro particle\n",
    "# Doesn't affect the the physics of the system (Coarse graining doesn't affect vlasov maxwell system)\n",
    "# It should be kept such that the number density in the PIC code corresponds\n",
    "# to the densities found in real plasmas\n",
    "w_p             = 1"
   ]
  },
  {
   "cell_type": "code",
   "execution_count": 15,
   "metadata": {
    "collapsed": true
   },
   "outputs": [],
   "source": [
    "# Macro Particle parameters\n",
    "k_boltzmann     = 1\n",
    "mass_electron   = 1 * w_p\n",
    "tempertature    = 1\n",
    "charge_electron = -10 * w_p\n",
    "charge_ion      = +10 * w_p"
   ]
  },
  {
   "cell_type": "code",
   "execution_count": 16,
   "metadata": {
    "collapsed": true
   },
   "outputs": [],
   "source": [
    "# Setting the length of the domain\n",
    "length_domain_x = 1"
   ]
  },
  {
   "cell_type": "code",
   "execution_count": 17,
   "metadata": {
    "collapsed": true
   },
   "outputs": [],
   "source": [
    "# Setting number of particle in the domain\n",
    "number_of_electrons = 4000000"
   ]
  },
  {
   "cell_type": "code",
   "execution_count": 18,
   "metadata": {
    "collapsed": true
   },
   "outputs": [],
   "source": [
    "# Initializing the positions and velocities of the particles\n",
    "positions_x = length_domain_x * np.random.rand(number_of_electrons)\n",
    "\n",
    "# setting the mean and standard deviation of the maxwell distribution\n",
    "# Thermal/mean velocity of macro particles should correspond to \n",
    "# that of individual electrons in the plasma \n",
    "mu, sigma = 0, (k_boltzmann * tempertature / (mass_electron / w_p))\n",
    "\n",
    "# Initializing the velocitites according to the maxwell distribution\n",
    "\n",
    "velocity_x = np.random.normal(mu, sigma, number_of_electrons)"
   ]
  },
  {
   "cell_type": "code",
   "execution_count": 19,
   "metadata": {
    "collapsed": false
   },
   "outputs": [],
   "source": [
    "ghost_cells  = 1"
   ]
  },
  {
   "cell_type": "code",
   "execution_count": 20,
   "metadata": {
    "collapsed": true
   },
   "outputs": [],
   "source": [
    "# Divisions in x grid\n",
    "divisions_domain_x = 100\n",
    "dx = length_domain_x / divisions_domain_x\n",
    "# initializing the x grid\n",
    "x_grid = np.linspace(    0 - ghost_cells * dx,\\\n",
    "                         length_domain_x + ghost_cells * dx, \\\n",
    "                         divisions_domain_x + 1 + 2 * ghost_cells,\\\n",
    "                         endpoint=True,\\\n",
    "                         dtype = np.double\\\n",
    "                    )\n",
    "\n",
    "# dx is the distance between consecutive grid nodes\n",
    "x_right = x_grid + dx/2"
   ]
  },
  {
   "cell_type": "code",
   "execution_count": 21,
   "metadata": {
    "collapsed": false
   },
   "outputs": [],
   "source": [
    "# Setting the amplitude for perturbation\n",
    "N_divisions         = 100\n",
    "amplitude_perturbed = 0.5\n",
    "k_x                 = 2 * np.pi\n",
    "\n",
    "# Initializing the perturbation\n",
    "positions_x = set_up_perturbation(    positions_x,\\\n",
    "                                      number_of_electrons,\\\n",
    "                                      N_divisions,\\\n",
    "                                      amplitude_perturbed,\\\n",
    "                                      k_x,\\\n",
    "                                      length_domain_x,\\\n",
    "                                      dx                                  \n",
    "                                 )"
   ]
  },
  {
   "cell_type": "code",
   "execution_count": 22,
   "metadata": {
    "collapsed": true
   },
   "outputs": [],
   "source": [
    "# Plotting the initial density perturbation\n",
    "\n",
    "position_grid   = np.linspace(0, 1, divisions_domain_x)\n",
    "number_electrons_in_bins, b  = np.histogram(positions_x, bins=(divisions_domain_x),\\\n",
    "                               range=(0, length_domain_x)\\\n",
    "                              )\n",
    "\n",
    "number_density     = (number_electrons_in_bins / (number_of_electrons / divisions_domain_x))"
   ]
  },
  {
   "cell_type": "code",
   "execution_count": 23,
   "metadata": {
    "collapsed": false
   },
   "outputs": [
    {
     "data": {
      "image/png": "[encoded data removed]",
      "text/plain": [
       "<matplotlib.figure.Figure at 0x7fe529515d68>"
      ]
     },
     "metadata": {},
     "output_type": "display_data"
    }
   ],
   "source": [
    "# Plotting the initial density perturbation\n",
    "pl.plot(position_grid, number_density, label = r'$n$')\n",
    "pl.title(r'$\\mathrm{Initial\\;density\\;perturbation}$')\n",
    "pl.xlabel('$x$')\n",
    "pl.ylabel(r'$n_{electrons}(x)$')\n",
    "pl.ylim(0.0,2.0)\n",
    "pl.show()\n",
    "pl.clf()"
   ]
  },
  {
   "cell_type": "code",
   "execution_count": 24,
   "metadata": {
    "collapsed": true
   },
   "outputs": [],
   "source": [
    "# Time parameters\n",
    "start_time = 0\n",
    "\n",
    "end_time   = 2\n",
    "\n",
    "dt         = 0.002\n",
    "\n",
    "time       = np.arange(    start_time,\\\n",
    "                           end_time + dt,\\\n",
    "                           dt,\\\n",
    "                           dtype = np.double\\\n",
    "                      )"
   ]
  },
  {
   "cell_type": "code",
   "execution_count": 25,
   "metadata": {
    "collapsed": true
   },
   "outputs": [],
   "source": [
    "# Some variables for storing data\n",
    "Ex_max       = np.zeros(len(time), dtype = np.double)"
   ]
  },
  {
   "cell_type": "code",
   "execution_count": 26,
   "metadata": {
    "collapsed": false
   },
   "outputs": [],
   "source": [
    "# Plotting the initial conditions\n",
    "# Finding interpolant fractions for the positions\n",
    "zone_x, frac_x = find_zone_and_fraction(positions_x, x_grid, dx)\n",
    "\n",
    "# Charge deposition using linear weighting scheme\n",
    "\n",
    "rho_electrons  = cloud_charge_deposition(charge_electron, zone_x,\\\n",
    "                                         frac_x, x_grid, dx, ghost_cells\\\n",
    "                                        )\n",
    "\n",
    "rho_electrons = periodic_rho(rho_electrons, ghost_cells)\n",
    "rho_initial = norm_background_ions(rho_electrons, number_of_electrons, w_p)"
   ]
  },
  {
   "cell_type": "code",
   "execution_count": 27,
   "metadata": {
    "collapsed": false
   },
   "outputs": [
    {
     "data": {
      "image/png": "[encoded data removed]",
      "text/plain": [
       "<matplotlib.figure.Figure at 0x7fe52702abe0>"
      ]
     },
     "metadata": {},
     "output_type": "display_data"
    }
   ],
   "source": [
    "# plotting intial rho in the system considering background ions\n",
    "pl.plot(rho_initial)\n",
    "pl.xlabel('$x$')\n",
    "pl.ylabel(r'$\\mathrm{Initial\\;conditions}\\;\\rho(x)$')\n",
    "pl.title(r'$\\rho(x)$')\n",
    "pl.show()\n",
    "pl.clf()"
   ]
  },
  {
   "cell_type": "code",
   "execution_count": 28,
   "metadata": {
    "collapsed": false
   },
   "outputs": [
    {
     "name": "stderr",
     "output_type": "stream",
     "text": [
      "/home/tejas/anaconda3/lib/python3.6/site-packages/ipykernel/__main__.py:26: ComplexWarning: Casting complex values to real discards the imaginary part\n"
     ]
    }
   ],
   "source": [
    "# Computing initial potential and electric field\n",
    "Ex_intitial_centered = np.zeros(len(x_grid))\n",
    "potential_initial, Ex_temp = fft_poisson(rho_initial[ghost_cells:-ghost_cells], dx)\n",
    "\n",
    "Ex_intitial_centered[ghost_cells:-ghost_cells] = Ex_temp[:]\n",
    "\n",
    "Ex_intitial_centered = periodic_field(Ex_intitial_centered, ghost_cells)"
   ]
  },
  {
   "cell_type": "code",
   "execution_count": 29,
   "metadata": {
    "collapsed": true
   },
   "outputs": [],
   "source": [
    "Ex_intitial_staggered = 0.5 * (Ex_intitial_centered + np.roll(Ex_intitial_centered, -1))\n",
    "Ex_intitial_staggered = periodic_field(Ex_intitial_staggered, ghost_cells)"
   ]
  },
  {
   "cell_type": "code",
   "execution_count": 30,
   "metadata": {
    "collapsed": false
   },
   "outputs": [
    {
     "data": {
      "image/png": "[encoded data removed]",
      "text/plain": [
       "<matplotlib.figure.Figure at 0x7fe526eb4cf8>"
      ]
     },
     "metadata": {},
     "output_type": "display_data"
    }
   ],
   "source": [
    "# Plotting the Electric field in the system for the given initial conditions\n",
    "pl.plot(Ex_intitial_staggered, label = 'Ex numerical')\n",
    "pl.xlabel('x')\n",
    "pl.ylabel('E_{x}')\n",
    "pl.title('$\\mathrm{Initial\\;conditions\\;E_{x}}$')\n",
    "pl.show()\n",
    "pl.clf()"
   ]
  },
  {
   "cell_type": "code",
   "execution_count": 31,
   "metadata": {
    "collapsed": false
   },
   "outputs": [
    {
     "name": "stdout",
     "output_type": "stream",
     "text": [
      "[ 0.0250511  -0.0250511  -0.07492373 -0.12435014 -0.17338442 -0.22185232\n",
      " -0.26943178 -0.31581194 -0.36090506 -0.40464288 -0.44684185 -0.48734202\n",
      " -0.52577929 -0.5621512  -0.596289   -0.62799514 -0.65746605 -0.68436467\n",
      " -0.70830057 -0.72944677 -0.74784624 -0.76329096 -0.77576949 -0.78519381\n",
      " -0.79148549 -0.79462401 -0.79462084 -0.79154294 -0.78527901 -0.77583518\n",
      " -0.76344328 -0.74803016 -0.72962912 -0.70837479 -0.68424757 -0.65744059\n",
      " -0.62813252 -0.59630608 -0.56209992 -0.52570358 -0.48719102 -0.44681283\n",
      " -0.40466016 -0.3608689  -0.31572757 -0.26934314 -0.22178004 -0.17338348\n",
      " -0.12439026 -0.07482903 -0.02496335  0.02496335  0.07482903  0.12439026\n",
      "  0.17338348  0.22178004  0.26934314  0.31572757  0.3608689   0.40466016\n",
      "  0.44681283  0.48719102  0.52570358  0.56209992  0.59630608  0.62813252\n",
      "  0.65744059  0.68424757  0.70837479  0.72962912  0.74803016  0.76344328\n",
      "  0.77583518  0.78527901  0.79154294  0.79462084  0.79462401  0.79148549\n",
      "  0.78519381  0.77576949  0.76329096  0.74784624  0.72944677  0.70830057\n",
      "  0.68436467  0.65746605  0.62799514  0.596289    0.5621512   0.52577929\n",
      "  0.48734202  0.44684185  0.40464288  0.36090506  0.31581194  0.26943178\n",
      "  0.22185232  0.17338442  0.12435014  0.07492373  0.0250511  -0.0250511\n",
      " -0.07492373]\n",
      "[  5.01022080e-02   0.00000000e+00  -5.01022080e-02  -9.97452432e-02\n",
      "  -1.48955034e-01  -1.97813810e-01  -2.45890830e-01  -2.92972733e-01\n",
      "  -3.38651148e-01  -3.83158968e-01  -4.26126799e-01  -4.67556896e-01\n",
      "  -5.07127141e-01  -5.44431433e-01  -5.79870968e-01  -6.12707027e-01\n",
      "  -6.43283247e-01  -6.71648860e-01  -6.97080480e-01  -7.19520663e-01\n",
      "  -7.39372886e-01  -7.56319588e-01  -7.70262328e-01  -7.81276653e-01\n",
      "  -7.89110963e-01  -7.93860026e-01  -7.95387994e-01  -7.93853682e-01\n",
      "  -7.89232196e-01  -7.81325834e-01  -7.70344516e-01  -7.56542039e-01\n",
      "  -7.39518287e-01  -7.19739948e-01  -6.97009628e-01  -6.71485515e-01\n",
      "  -6.43395664e-01  -6.12869381e-01  -5.79742780e-01  -5.44457065e-01\n",
      "  -5.06950089e-01  -4.67431958e-01  -4.26193705e-01  -3.83126616e-01\n",
      "  -3.38611181e-01  -2.92843964e-01  -2.45842309e-01  -1.97717780e-01\n",
      "  -1.49049172e-01  -9.97313559e-02  -4.99266989e-02  -1.42108547e-16\n",
      "   4.99266989e-02   9.97313559e-02   1.49049172e-01   1.97717780e-01\n",
      "   2.45842309e-01   2.92843964e-01   3.38611181e-01   3.83126616e-01\n",
      "   4.26193705e-01   4.67431958e-01   5.06950089e-01   5.44457065e-01\n",
      "   5.79742780e-01   6.12869381e-01   6.43395664e-01   6.71485515e-01\n",
      "   6.97009628e-01   7.19739948e-01   7.39518287e-01   7.56542039e-01\n",
      "   7.70344516e-01   7.81325834e-01   7.89232196e-01   7.93853682e-01\n",
      "   7.95387994e-01   7.93860026e-01   7.89110963e-01   7.81276653e-01\n",
      "   7.70262328e-01   7.56319588e-01   7.39372886e-01   7.19520663e-01\n",
      "   6.97080480e-01   6.71648860e-01   6.43283247e-01   6.12707027e-01\n",
      "   5.79870968e-01   5.44431433e-01   5.07127141e-01   4.67556896e-01\n",
      "   4.26126799e-01   3.83158968e-01   3.38651148e-01   2.92972733e-01\n",
      "   2.45890830e-01   1.97813810e-01   1.48955034e-01   9.97452432e-02\n",
      "   5.01022080e-02   0.00000000e+00  -5.01022080e-02]\n"
     ]
    }
   ],
   "source": [
    "print(Ex_intitial_staggered)\n",
    "print(Ex_intitial_centered)\n"
   ]
  },
  {
   "cell_type": "code",
   "execution_count": 32,
   "metadata": {
    "collapsed": true
   },
   "outputs": [],
   "source": [
    "# Converting to arrayfire arrays\n",
    "Ex           = af.to_array(Ex_intitial_staggered)\n",
    "positions_x  = af.to_array(positions_x)\n",
    "velocity_x   = af.to_array(velocity_x)\n",
    "x_grid       = af.to_array(x_grid)\n",
    "x_right      = af.to_array(x_right)"
   ]
  },
  {
   "cell_type": "code",
   "execution_count": 33,
   "metadata": {
    "collapsed": false
   },
   "outputs": [
    {
     "ename": "IndexError",
     "evalue": "In function void opencl::evalNodes(std::vector<opencl::Param>&, std::vector<opencl::JIT::Node*>)\nIn file src/backend/opencl/jit.cpp:267\nOpenCL Error (-4): Memory Object Allocation Failure when calling clEnqueueNDRangeKernel\n",
     "output_type": "error",
     "traceback": [
      "\u001b[0;31m---------------------------------------------------------------------------\u001b[0m",
      "\u001b[0;31mRuntimeError\u001b[0m                              Traceback (most recent call last)",
      "\u001b[0;32m/home/tejas/anaconda3/lib/python3.6/site-packages/arrayfire/array.py\u001b[0m in \u001b[0;36m__getitem__\u001b[0;34m(self, key)\u001b[0m\n\u001b[1;32m   1039\u001b[0m             safe_call(backend.get().af_index_gen(c_pointer(out.arr),\n\u001b[0;32m-> 1040\u001b[0;31m                                     self.arr, c_dim_t(n_dims), inds.pointer))\n\u001b[0m\u001b[1;32m   1041\u001b[0m             \u001b[0;32mreturn\u001b[0m \u001b[0mout\u001b[0m\u001b[0;34m\u001b[0m\u001b[0m\n",
      "\u001b[0;32m/home/tejas/anaconda3/lib/python3.6/site-packages/arrayfire/util.py\u001b[0m in \u001b[0;36msafe_call\u001b[0;34m(af_error)\u001b[0m\n\u001b[1;32m     78\u001b[0m         \u001b[0mbackend\u001b[0m\u001b[0;34m.\u001b[0m\u001b[0mget\u001b[0m\u001b[0;34m(\u001b[0m\u001b[0;34m)\u001b[0m\u001b[0;34m.\u001b[0m\u001b[0maf_get_last_error\u001b[0m\u001b[0;34m(\u001b[0m\u001b[0mc_pointer\u001b[0m\u001b[0;34m(\u001b[0m\u001b[0merr_str\u001b[0m\u001b[0;34m)\u001b[0m\u001b[0;34m,\u001b[0m \u001b[0mc_pointer\u001b[0m\u001b[0;34m(\u001b[0m\u001b[0merr_len\u001b[0m\u001b[0;34m)\u001b[0m\u001b[0;34m)\u001b[0m\u001b[0;34m\u001b[0m\u001b[0m\n\u001b[0;32m---> 79\u001b[0;31m         \u001b[0;32mraise\u001b[0m \u001b[0mRuntimeError\u001b[0m\u001b[0;34m(\u001b[0m\u001b[0mto_str\u001b[0m\u001b[0;34m(\u001b[0m\u001b[0merr_str\u001b[0m\u001b[0;34m)\u001b[0m\u001b[0;34m)\u001b[0m\u001b[0;34m\u001b[0m\u001b[0m\n\u001b[0m\u001b[1;32m     80\u001b[0m \u001b[0;34m\u001b[0m\u001b[0m\n",
      "\u001b[0;31mRuntimeError\u001b[0m: In function void opencl::evalNodes(std::vector<opencl::Param>&, std::vector<opencl::JIT::Node*>)\nIn file src/backend/opencl/jit.cpp:267\nOpenCL Error (-4): Memory Object Allocation Failure when calling clEnqueueNDRangeKernel\n",
      "\nDuring handling of the above exception, another exception occurred:\n",
      "\u001b[0;31mIndexError\u001b[0m                                Traceback (most recent call last)",
      "\u001b[0;32m<ipython-input-33-4c4c86c59c57>\u001b[0m in \u001b[0;36m<module>\u001b[0;34m()\u001b[0m\n\u001b[1;32m      5\u001b[0m \u001b[0;31m# Periodic Boundary conditions for particles\u001b[0m\u001b[0;34m\u001b[0m\u001b[0;34m\u001b[0m\u001b[0m\n\u001b[1;32m      6\u001b[0m \u001b[0;34m\u001b[0m\u001b[0m\n\u001b[0;32m----> 7\u001b[0;31m \u001b[0mpositions_x_half\u001b[0m \u001b[0;34m=\u001b[0m \u001b[0mperiodic_particles\u001b[0m\u001b[0;34m(\u001b[0m\u001b[0mpositions_x_half\u001b[0m\u001b[0;34m,\u001b[0m \u001b[0mlength_domain_x\u001b[0m\u001b[0;34m)\u001b[0m\u001b[0;34m\u001b[0m\u001b[0m\n\u001b[0m\u001b[1;32m      8\u001b[0m \u001b[0;34m\u001b[0m\u001b[0m\n\u001b[1;32m      9\u001b[0m \u001b[0;31m# Finding interpolant fractions for the positions\u001b[0m\u001b[0;34m\u001b[0m\u001b[0;34m\u001b[0m\u001b[0m\n",
      "\u001b[0;32m<ipython-input-3-1deb9847d6bd>\u001b[0m in \u001b[0;36mperiodic_particles\u001b[0;34m(positions_x, length_domain_x)\u001b[0m\n\u001b[1;32m     33\u001b[0m         \u001b[0;31m# Apply periodic boundary conditions\u001b[0m\u001b[0;34m\u001b[0m\u001b[0;34m\u001b[0m\u001b[0m\n\u001b[1;32m     34\u001b[0m \u001b[0;34m\u001b[0m\u001b[0m\n\u001b[0;32m---> 35\u001b[0;31m         \u001b[0mpositions_x\u001b[0m\u001b[0;34m[\u001b[0m\u001b[0moutside_domain_right\u001b[0m\u001b[0;34m]\u001b[0m \u001b[0;34m=\u001b[0m \u001b[0mpositions_x\u001b[0m\u001b[0;34m[\u001b[0m\u001b[0moutside_domain_right\u001b[0m\u001b[0;34m]\u001b[0m \u001b[0;34m-\u001b[0m \u001b[0mlength_domain_x\u001b[0m\u001b[0;34m\u001b[0m\u001b[0m\n\u001b[0m\u001b[1;32m     36\u001b[0m \u001b[0;34m\u001b[0m\u001b[0m\n\u001b[1;32m     37\u001b[0m \u001b[0;34m\u001b[0m\u001b[0m\n",
      "\u001b[0;32m/home/tejas/anaconda3/lib/python3.6/site-packages/arrayfire/array.py\u001b[0m in \u001b[0;36m__getitem__\u001b[0;34m(self, key)\u001b[0m\n\u001b[1;32m   1041\u001b[0m             \u001b[0;32mreturn\u001b[0m \u001b[0mout\u001b[0m\u001b[0;34m\u001b[0m\u001b[0m\n\u001b[1;32m   1042\u001b[0m         \u001b[0;32mexcept\u001b[0m \u001b[0mRuntimeError\u001b[0m \u001b[0;32mas\u001b[0m \u001b[0me\u001b[0m\u001b[0;34m:\u001b[0m\u001b[0;34m\u001b[0m\u001b[0m\n\u001b[0;32m-> 1043\u001b[0;31m             \u001b[0;32mraise\u001b[0m \u001b[0mIndexError\u001b[0m\u001b[0;34m(\u001b[0m\u001b[0mstr\u001b[0m\u001b[0;34m(\u001b[0m\u001b[0me\u001b[0m\u001b[0;34m)\u001b[0m\u001b[0;34m)\u001b[0m\u001b[0;34m\u001b[0m\u001b[0m\n\u001b[0m\u001b[1;32m   1044\u001b[0m \u001b[0;34m\u001b[0m\u001b[0m\n\u001b[1;32m   1045\u001b[0m \u001b[0;34m\u001b[0m\u001b[0m\n",
      "\u001b[0;31mIndexError\u001b[0m: In function void opencl::evalNodes(std::vector<opencl::Param>&, std::vector<opencl::JIT::Node*>)\nIn file src/backend/opencl/jit.cpp:267\nOpenCL Error (-4): Memory Object Allocation Failure when calling clEnqueueNDRangeKernel\n"
     ]
    }
   ],
   "source": [
    "# This cell block is to obtain v at (t = 0.5dt) to implement the verlet algorithm.\n",
    "\n",
    "positions_x_half = positions_x + velocity_x * dt/2\n",
    "\n",
    "# Periodic Boundary conditions for particles \n",
    "\n",
    "positions_x_half = periodic_particles(positions_x_half, length_domain_x)\n",
    "\n",
    "# Finding interpolant fractions for the positions\n",
    "\n",
    "frac_interpolation = (positions_x_half - af.sum(x_right[0])) / dx\n",
    "\n",
    "# Interpolating the fields at each particle\n",
    "Ex_particle = af.signal.approx1(Ex, frac_interpolation, method= af.INTERP.LINEAR)\n",
    "\n",
    "\n",
    "# Updating the velocity using the interpolated Electric fields to find v at (t = 0.5dt)\n",
    "\n",
    "velocity_x = velocity_x  + (Ex_particle * charge_electron / mass_electron ) * dt/2"
   ]
  },
  {
   "cell_type": "code",
   "execution_count": null,
   "metadata": {
    "collapsed": false
   },
   "outputs": [],
   "source": [
    "for time_index in range(len(time)):\n",
    "    if(time_index%50==0):\n",
    "        print('Computing for time = ', time_index * dt)\n",
    "        \n",
    "\n",
    "    # Updating the positions of particle using the velocites (Verlet algorithm)\n",
    "    # velocity at t = (n + 1/2) dt, positions_x at t = (n)dt and positions_x_new \n",
    "    # at t = (n+1)dt\n",
    "    positions_x_new = positions_x + velocity_x * dt\n",
    "    \n",
    "    # Periodic Boundary conditions for particles \n",
    "    positions_x_new = periodic_particles(positions_x_new, length_domain_x)\n",
    "\n",
    "    # Computing the current densities on the staggered grid provided by Umeda's scheme\n",
    "    \n",
    "    Jx_staggered = Umeda_2003(charge_electron,\\\n",
    "                               number_of_electrons,\\\n",
    "                               positions_x,\\\n",
    "                               velocity_x,\\\n",
    "                               x_grid,\\\n",
    "                               ghost_cells,\\\n",
    "                               length_domain_x,\\\n",
    "                               dx,\\\n",
    "                               dt\\\n",
    "                              )\n",
    "    \n",
    "    # Normalizing and evaluation of current densities on the centered grid\n",
    "    \n",
    "    Jx_norm_staggered = current_norm_BC(Jx_staggered, number_of_electrons, w_p)\n",
    "    \n",
    "    # Evolving electric fields using currents\n",
    "        \n",
    "    Ex = Ex - Jx_norm_staggered * dt\n",
    "    \n",
    "    # Interpolating the fields at each particle\n",
    "    # calculating the interpolation fraction needed for arrayfire's 1D interpolation\n",
    "    frac_interpolation = (positions_x_new - af.sum(x_right[0])) / dx\n",
    "    \n",
    "    Ex_particle = af.signal.approx1(Ex, frac_interpolation, method= af.INTERP.LINEAR)\n",
    "    \n",
    "    # Updating the velocity using the interpolated Electric fields\n",
    "    \n",
    "    velocity_x_new = velocity_x  + (Ex_particle * charge_electron / mass_electron ) * dt\n",
    "    \n",
    "    # Saving the Electric fields for plotting\n",
    "    \n",
    "    Ex_max[time_index]       = (af.max(af.abs(Ex)))\n",
    "    \n",
    "    pl.plot(Ex)\n",
    "    pl.ylim(-1, 1)\n",
    "    pl.savefig('images/' + str(time_index) + '.png')\n",
    "    pl.clf()\n",
    "    \n",
    "\n",
    "    # Saving the updated velocites for the next timestep\n",
    "    velocity_x  = velocity_x_new.copy()\n",
    "    positions_x = positions_x_new.copy()"
   ]
  },
  {
   "cell_type": "code",
   "execution_count": null,
   "metadata": {
    "collapsed": true
   },
   "outputs": [],
   "source": [
    "# Reading data generated by the Cheng Knorr code\n",
    "h5f = h5py.File('CK_256.h5', 'r')\n",
    "Ex_max_CK = h5f['max_E'][:]\n",
    "Ex_max_CK = np.abs(Ex_max_CK)\n",
    "h5f.close()\n",
    "time_CK = np.linspace(0,2, len(Ex_max_CK))"
   ]
  },
  {
   "cell_type": "code",
   "execution_count": null,
   "metadata": {
    "collapsed": true
   },
   "outputs": [],
   "source": [
    "# Reading data generated by the Cheng Knorr code\n",
    "h5f = h5py.File('LT.h5', 'r')\n",
    "Ex_max_LT = h5f['Ex_amp'][:]\n",
    "Ex_max_LT = np.abs(Ex_max_LT)\n",
    "time_LT   = h5f['time_LT'][:]\n",
    "h5f.close()"
   ]
  },
  {
   "cell_type": "code",
   "execution_count": null,
   "metadata": {
    "collapsed": false
   },
   "outputs": [],
   "source": [
    "time_grid = np.linspace(0, time[-1], len(Ex_max))\n",
    "pl.plot(time_grid, Ex_max , label = r'$\\mathrm{PIC}$')\n",
    "# pl.plot(time_LT, Ex_max_LT,'--',lw = 3,label = '$\\mathrm{LT}$')\n",
    "pl.plot(time_CK, Ex_max_CK, label = '$\\mathrm{Cheng\\;Knorr}$')\n",
    "# print('(abs(Ex_amplitude[0])) is ',(abs(Ex_amplitude[0])))\n",
    "# print('(abs(Ex_max[0])) is ',(abs(Ex_max[0])))\n",
    "pl.xlabel('$t$')\n",
    "pl.ylabel('$\\mathrm{MAX}(|E_{x}|)$')\n",
    "pl.legend()\n",
    "pl.show()\n",
    "pl.savefig('MaxE_LT.png')\n",
    "pl.clf()"
   ]
  },
  {
   "cell_type": "code",
   "execution_count": null,
   "metadata": {
    "collapsed": false
   },
   "outputs": [],
   "source": [
    "pl.semilogy(time_grid, Ex_max ,label = r'$\\mathrm{PIC}$')\n",
    "# pl.semilogy(time_LT, Ex_max_LT,'--',lw = 3,label = '$\\mathrm{LT}$')\n",
    "pl.semilogy(time_CK,Ex_max_CK, label = '$\\mathrm{Cheng\\;Knorr}$')\n",
    "pl.legend()\n",
    "pl.xlabel('$t$')\n",
    "pl.ylabel('$\\mathrm{MAX}(|E_{x}|)$')\n",
    "pl.show()\n",
    "pl.savefig('MaxE_semilogy_LT.png')\n",
    "pl.clf()"
   ]
  },
  {
   "cell_type": "code",
   "execution_count": null,
   "metadata": {
    "collapsed": false
   },
   "outputs": [],
   "source": [
    "pl.loglog(time_grid, Ex_max ,label = r'$\\mathrm{PIC}$')\n",
    "# pl.loglog(time_LT, Ex_max_LT,'--',lw = 3,label = '$\\mathrm{LT}$')\n",
    "pl.semilogy(time_CK,Ex_max_CK, label = '$\\mathrm{Cheng\\;Knorr}$')\n",
    "pl.legend()\n",
    "pl.xlabel('$t$')\n",
    "pl.ylabel('$\\mathrm{MAX}(|E_{x}|)$')\n",
    "pl.show()\n",
    "pl.savefig('MaxE_loglog_LT.png')\n",
    "pl.clf()"
   ]
  },
  {
   "cell_type": "code",
   "execution_count": null,
   "metadata": {
    "collapsed": true
   },
   "outputs": [],
   "source": []
  },
  {
   "cell_type": "code",
   "execution_count": null,
   "metadata": {
    "collapsed": true
   },
   "outputs": [],
   "source": []
  }
 ],
 "metadata": {
  "anaconda-cloud": {},
  "kernelspec": {
   "display_name": "Python 3",
   "language": "python",
   "name": "python3"
  },
  "language_info": {
   "codemirror_mode": {
    "name": "ipython",
    "version": 3
   },
   "file_extension": ".py",
   "mimetype": "text/x-python",
   "name": "python",
   "nbconvert_exporter": "python",
   "pygments_lexer": "ipython3",
   "version": "3.6.0"
  }
 },
 "nbformat": 4,
 "nbformat_minor": 2
}
