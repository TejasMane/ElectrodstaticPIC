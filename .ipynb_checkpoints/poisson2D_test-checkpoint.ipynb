{
 "cells": [
  {
   "cell_type": "code",
   "execution_count": 45,
   "metadata": {
    "collapsed": false
   },
   "outputs": [],
   "source": [
    "import numpy as np\n",
    "import h5py\n",
    "import pylab as pl\n",
    "import arrayfire as af\n",
    "from scipy.fftpack import fftfreq\n",
    "import numpy.fft as fft\n",
    "af.set_backend('cpu')"
   ]
  },
  {
   "cell_type": "code",
   "execution_count": 46,
   "metadata": {
    "collapsed": false
   },
   "outputs": [],
   "source": [
    "x_grid = np.linspace(0, 1, 2)\n",
    "y_grid = np.linspace(0, 1.2, 51)\n",
    "dx = x_grid[1] - x_grid[0]\n",
    "dy = y_grid[1] - y_grid[0]"
   ]
  },
  {
   "cell_type": "code",
   "execution_count": 47,
   "metadata": {
    "collapsed": true
   },
   "outputs": [],
   "source": [
    "sin_y = np.sin(2 * np.pi * y_grid)"
   ]
  },
  {
   "cell_type": "code",
   "execution_count": 48,
   "metadata": {
    "collapsed": false
   },
   "outputs": [],
   "source": [
    "sin_y = np.reshape(sin_y, (len(sin_y), 1))"
   ]
  },
  {
   "cell_type": "code",
   "execution_count": 49,
   "metadata": {
    "collapsed": true
   },
   "outputs": [],
   "source": [
    "rho = np.tile(sin_y, (1, len(x_grid)))"
   ]
  },
  {
   "cell_type": "code",
   "execution_count": 50,
   "metadata": {
    "collapsed": false
   },
   "outputs": [
    {
     "data": {
      "text/plain": [
       "(51, 2)"
      ]
     },
     "execution_count": 50,
     "metadata": {},
     "output_type": "execute_result"
    }
   ],
   "source": [
    "(fft.fft2(rho)).shape"
   ]
  },
  {
   "cell_type": "code",
   "execution_count": 51,
   "metadata": {
    "collapsed": false
   },
   "outputs": [],
   "source": [
    "rho = af.to_array(rho)"
   ]
  },
  {
   "cell_type": "code",
   "execution_count": 52,
   "metadata": {
    "collapsed": false
   },
   "outputs": [
    {
     "data": {
      "image/png": "[encoded data removed]",
      "text/plain": [
       "<matplotlib.figure.Figure at 0x7f58400b4cf8>"
      ]
     },
     "metadata": {},
     "output_type": "display_data"
    }
   ],
   "source": [
    "pl.plot(np.array(rho)[:,0])\n",
    "pl.show()\n",
    "pl.clf()"
   ]
  },
  {
   "cell_type": "code",
   "execution_count": 53,
   "metadata": {
    "collapsed": true
   },
   "outputs": [],
   "source": [
    "def fft_poisson(rho, dx, dy = None):\n",
    "    \"\"\"\n",
    "    FFT solver which returns the value of electric field. This will only work\n",
    "    when the system being solved for has periodic boundary conditions.\n",
    "\n",
    "    Parameters:\n",
    "    -----------\n",
    "    rho : The 1D/2D density array obtained from calculate_density() is passed to this\n",
    "          function.\n",
    "\n",
    "    dx  : Step size in the x-grid\n",
    "\n",
    "    dy  : Step size in the y-grid.Set to None by default to avoid conflict with the 1D case.\n",
    "\n",
    "    Output:\n",
    "    -------\n",
    "    E_x, E_y : Depending on the dimensionality of the system considered, either both E_x, and\n",
    "               E_y are returned or E_x is returned.\n",
    "    \"\"\"\n",
    "\n",
    "    k_x = af.to_array(fftfreq(rho.shape[1], dx))\n",
    "    k_x = af.Array.as_type(k_x, af.Dtype.c64)\n",
    "    k_y = af.to_array(fftfreq(rho.shape[0], dy))\n",
    "    k_x = af.tile(af.reorder(k_x), rho.shape[0], 1)\n",
    "    k_y = af.tile(k_y, 1, rho.shape[1])\n",
    "    k_y = af.Array.as_type(k_y, af.Dtype.c64)\n",
    "\n",
    "    \n",
    "    rho_hat       = af.fft2(rho)\n",
    "    potential_hat = af.constant(0, rho.shape[0], rho.shape[1], dtype=af.Dtype.c64)\n",
    "\n",
    "    potential_hat       = (1/(4 * np.pi**2 * (k_x* k_x + k_y* k_y))) * rho_hat\n",
    "    \n",
    "    potential_hat[0, 0] = 0\n",
    "\n",
    "    E_x_hat = -1j * 2 * np.pi * (k_x) * potential_hat\n",
    "    E_y_hat = -1j * 2 * np.pi * (k_y) * potential_hat\n",
    "\n",
    "    E_x = af.real(af.ifft2(E_x_hat))\n",
    "    E_y = af.real(af.ifft2(E_y_hat))\n",
    "\n",
    "    af.eval(E_x, E_y)\n",
    "    \n",
    "    \n",
    "    return(E_x, E_y)"
   ]
  },
  {
   "cell_type": "code",
   "execution_count": 54,
   "metadata": {
    "collapsed": false
   },
   "outputs": [],
   "source": [
    "Ex, Ey = fft_poisson(af.to_array(rho), dx, dy = dy)"
   ]
  },
  {
   "cell_type": "code",
   "execution_count": 55,
   "metadata": {
    "collapsed": false
   },
   "outputs": [
    {
     "data": {
      "image/png": "[encoded data removed]",
      "text/plain": [
       "<matplotlib.figure.Figure at 0x7f5820a46f60>"
      ]
     },
     "metadata": {},
     "output_type": "display_data"
    }
   ],
   "source": [
    "pl.plot(np.array(Ey)[:,0])\n",
    "pl.show()\n",
    "pl.clf()"
   ]
  },
  {
   "cell_type": "code",
   "execution_count": 43,
   "metadata": {
    "collapsed": false
   },
   "outputs": [
    {
     "name": "stdout",
     "output_type": "stream",
     "text": [
      "0.0 0.16226367379104828\n",
      "(51, 2)\n"
     ]
    }
   ],
   "source": [
    "print(af.max(Ex), af.max(Ey))\n",
    "print(Ey.shape)"
   ]
  },
  {
   "cell_type": "code",
   "execution_count": 44,
   "metadata": {
    "collapsed": false
   },
   "outputs": [
    {
     "data": {
      "image/png": "[encoded data removed]",
      "text/plain": [
       "<matplotlib.figure.Figure at 0x7f5820d6bc50>"
      ]
     },
     "metadata": {},
     "output_type": "display_data"
    }
   ],
   "source": [
    "pl.contourf(np.array(Ey), 100)\n",
    "pl.show()\n",
    "pl.clf()"
   ]
  },
  {
   "cell_type": "code",
   "execution_count": null,
   "metadata": {
    "collapsed": true
   },
   "outputs": [],
   "source": []
  },
  {
   "cell_type": "code",
   "execution_count": null,
   "metadata": {
    "collapsed": true
   },
   "outputs": [],
   "source": []
  },
  {
   "cell_type": "code",
   "execution_count": null,
   "metadata": {
    "collapsed": true
   },
   "outputs": [],
   "source": []
  }
 ],
 "metadata": {
  "kernelspec": {
   "display_name": "Python 3",
   "language": "python",
   "name": "python3"
  },
  "language_info": {
   "codemirror_mode": {
    "name": "ipython",
    "version": 3
   },
   "file_extension": ".py",
   "mimetype": "text/x-python",
   "name": "python",
   "nbconvert_exporter": "python",
   "pygments_lexer": "ipython3",
   "version": "3.6.0"
  }
 },
 "nbformat": 4,
 "nbformat_minor": 2
}
