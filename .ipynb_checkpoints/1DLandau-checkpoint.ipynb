{
 "cells": [
  {
   "cell_type": "code",
   "execution_count": 1,
   "metadata": {
    "collapsed": true
   },
   "outputs": [],
   "source": [
    "import numpy as np\n",
    "import pylab as pl\n",
    "import scipy.fftpack as ff\n",
    "import h5py"
   ]
  },
  {
   "cell_type": "code",
   "execution_count": 2,
   "metadata": {
    "collapsed": true
   },
   "outputs": [],
   "source": [
    "pl.rcParams['figure.figsize']  = 12, 7.5\n",
    "pl.rcParams['lines.linewidth'] = 1.5\n",
    "pl.rcParams['font.family']     = 'serif'\n",
    "pl.rcParams['font.weight']     = 'bold'\n",
    "pl.rcParams['font.size']       = 20\n",
    "pl.rcParams['font.sans-serif'] = 'serif'\n",
    "pl.rcParams['text.usetex']     = True\n",
    "pl.rcParams['axes.linewidth']  = 1.5\n",
    "pl.rcParams['axes.titlesize']  = 'medium'\n",
    "pl.rcParams['axes.labelsize']  = 'medium'\n",
    "\n",
    "pl.rcParams['xtick.major.size'] = 8\n",
    "pl.rcParams['xtick.minor.size'] = 4\n",
    "pl.rcParams['xtick.major.pad']  = 8\n",
    "pl.rcParams['xtick.minor.pad']  = 8\n",
    "pl.rcParams['xtick.color']      = 'k'\n",
    "pl.rcParams['xtick.labelsize']  = 'medium'\n",
    "pl.rcParams['xtick.direction']  = 'in'\n",
    "\n",
    "pl.rcParams['ytick.major.size'] = 8\n",
    "pl.rcParams['ytick.minor.size'] = 4\n",
    "pl.rcParams['ytick.major.pad']  = 8\n",
    "pl.rcParams['ytick.minor.pad']  = 8\n",
    "pl.rcParams['ytick.color']      = 'k'\n",
    "pl.rcParams['ytick.labelsize']  = 'medium'\n",
    "pl.rcParams['ytick.direction']  = 'in'"
   ]
  },
  {
   "cell_type": "markdown",
   "metadata": {},
   "source": [
    "### For reference\n",
    "\\begin{align}\n",
    "\\hat{V}(k) &= \\int_{0}^{1} V(x)e^{-2\\pi\\;i\\;k\\;x}dx \\\\ \\\\\n",
    "V(x) &= \\frac{1}{Npoints}\\int_{0}^{1} \\hat{V}(k)e^{+2\\pi\\;i\\;k\\;x}dk \\\\ \\\\\n",
    "\\hat{V}(k) &= \\frac{1}{4\\pi^{2}\\;k^2}\\hat{\\rho(k)} \\\\ \\\\\n",
    "\\hat{E}(k) &= -i(2\\pi\\;k)\\hat{V}(k)\n",
    "\\end{align}"
   ]
  },
  {
   "cell_type": "code",
   "execution_count": 3,
   "metadata": {
    "collapsed": false
   },
   "outputs": [],
   "source": [
    "# FFT solver :\n",
    "def fft_poisson(rho,dx):\n",
    "\n",
    "    kspace = ff.fftfreq(len(rho), d = dx)\n",
    "    rho_kspace = ff.fft(rho)\n",
    "\n",
    "    V_kspace = np.zeros(len(rho))\n",
    "    \n",
    "    V_kspace[1:] =  (1/(4 * np.pi**2 * kspace[1:]**2)) * rho_kspace[1:]\n",
    "    V_kspace[0]  =  (1/(4 * np.pi**2)) * np.sum(rho)/(len(rho)) \n",
    "    \n",
    "    E_kspace =  -1j * 2 * np. pi * kspace * V_kspace\n",
    "    \n",
    "    V = ff.ifft(V_kspace)\n",
    "\n",
    "    V = V.astype(np.double)\n",
    "    \n",
    "    E = ff.ifft(E_kspace)\n",
    "    \n",
    "    E = E.astype(np.double)\n",
    "    \n",
    "    return V, E"
   ]
  },
  {
   "cell_type": "code",
   "execution_count": 4,
   "metadata": {
    "collapsed": true
   },
   "outputs": [],
   "source": [
    "# b1 charge depositor\n",
    "def cloud_charge_deposition(charge, zone_x, frac_x, x_grid, dx):\n",
    "\n",
    "    left_corner_charge = (1 - frac_x) * charge / (dx)\n",
    "    right_corner_charge = (frac_x) * charge / (dx)\n",
    "\n",
    "    left_corners  = zone_x.copy()\n",
    "    right_corners = left_corners + 1\n",
    "\n",
    "    corners = np.concatenate([left_corners, right_corners], axis=0)\n",
    "    charges = np.concatenate([left_corner_charge, right_corner_charge], axis=0)\n",
    "\n",
    "    rho, temp = np.histogram(corners, bins=len(x_grid), range=(0, len(x_grid)), weights=charges)\n",
    "\n",
    "    return rho"
   ]
  },
  {
   "cell_type": "code",
   "execution_count": 5,
   "metadata": {
    "collapsed": true
   },
   "outputs": [],
   "source": [
    "k_boltzmann     = 1\n",
    "mass_electron   = 1\n",
    "tempertature    = 1\n",
    "charge_electron = -1\n",
    "charge_ion      = +1"
   ]
  },
  {
   "cell_type": "code",
   "execution_count": 6,
   "metadata": {
    "collapsed": true
   },
   "outputs": [],
   "source": [
    "length_domain_x = 1"
   ]
  },
  {
   "cell_type": "code",
   "execution_count": 7,
   "metadata": {
    "collapsed": true
   },
   "outputs": [],
   "source": [
    "number_of_electrons = 300000\n",
    "\n",
    "positions_x = length_domain_x * np.random.rand(number_of_electrons)\n",
    "\n",
    "mu, sigma = 0, (k_boltzmann * tempertature / mass_electron)\n",
    "\n",
    "velocity_x = np.random.normal(mu, sigma, number_of_electrons)"
   ]
  },
  {
   "cell_type": "code",
   "execution_count": 8,
   "metadata": {
    "collapsed": true
   },
   "outputs": [],
   "source": [
    "divisions_domain_x = 100\n",
    "\n",
    "x_grid = np.linspace(0, length_domain_x, divisions_domain_x + 1, endpoint=True)\n",
    "\n",
    "dx = x_grid[1] - x_grid[0]"
   ]
  },
  {
   "cell_type": "code",
   "execution_count": 9,
   "metadata": {
    "collapsed": false
   },
   "outputs": [],
   "source": [
    "# Setting the amplitude for perturbation\n",
    "Amplitude_perturbed = 0.3\n",
    "k_fourier = 2 * np.pi\n",
    "# Initializing the perturbation\n",
    "\n",
    "x_divisions_perturbed = 100\n",
    "positions_x = np.zeros(number_of_electrons)\n",
    "velocity_x  = np.zeros(number_of_electrons)\n",
    "last=0\n",
    "next=0\n",
    "\n",
    "for i in range(x_divisions_perturbed):\n",
    "    next=last+(number_of_electrons*Amplitude_perturbed*np.sin((np.pi/2)+i*k_fourier*length_domain_x/x_divisions_perturbed)/x_divisions_perturbed)+(number_of_electrons/x_divisions_perturbed)\n",
    "    number = len(positions_x[int(round(last)):(int(round(next))-1)])\n",
    "    positions_x[int(round(last)):(int(round(next))-1)] = length_domain_x*(i+1)/(x_divisions_perturbed+1)\n",
    "    n_temp = (1 + Amplitude_perturbed * np.cos(i*k_fourier*length_domain_x/x_divisions_perturbed))\n",
    "    velocity_x[int(round(last)):(int(round(next))-1)] = n_temp * np.random.normal(mu, sigma, number)\n",
    "    last=next"
   ]
  },
  {
   "cell_type": "code",
   "execution_count": 10,
   "metadata": {
    "collapsed": false
   },
   "outputs": [
    {
     "data": {
      "image/png": "[encoded data removed]",
      "text/plain": [
       "<matplotlib.figure.Figure at 0x7f1c1c6fecf8>"
      ]
     },
     "metadata": {},
     "output_type": "display_data"
    }
   ],
   "source": [
    "# positions_x = np.sin(np.pi * positions_x) \n",
    "# Plot\n",
    "x_temp = np.linspace(0,1,100)\n",
    "a, b = np.histogram(positions_x, bins=(divisions_domain_x), range=(0, length_domain_x))\n",
    "a = (a / (number_of_electrons / divisions_domain_x))\n",
    "pl.plot(x_temp,a)\n",
    "pl.xlabel('$x$')\n",
    "pl.ylabel(r'$\\delta\\rho(x)$')\n",
    "pl.ylim(0.0,2.0)\n",
    "# pl.savefig('data_files/images/' + '%04d'%(0) + '.png')\n",
    "pl.show()\n",
    "pl.clf()"
   ]
  },
  {
   "cell_type": "code",
   "execution_count": 11,
   "metadata": {
    "collapsed": true
   },
   "outputs": [],
   "source": [
    "start_time = 0\n",
    "\n",
    "end_time   = 3\n",
    "\n",
    "dt  = 0.001\n",
    "\n",
    "time = np.arange(start_time, end_time + dt, dt)"
   ]
  },
  {
   "cell_type": "code",
   "execution_count": 12,
   "metadata": {
    "collapsed": true
   },
   "outputs": [],
   "source": [
    "rho_ions = (charge_ion * number_of_electrons) / (len(x_grid) * dx)"
   ]
  },
  {
   "cell_type": "code",
   "execution_count": null,
   "metadata": {
    "collapsed": false
   },
   "outputs": [
    {
     "name": "stderr",
     "output_type": "stream",
     "text": [
      "/home/tejas/anaconda3/lib/python3.6/site-packages/ipykernel/__main__.py:1: VisibleDeprecationWarning: using a non-integer number instead of an integer will result in an error in the future\n",
      "  if __name__ == '__main__':\n"
     ]
    }
   ],
   "source": [
    "Ex_all_times = np.zeros(len(time)/10)"
   ]
  },
  {
   "cell_type": "code",
   "execution_count": null,
   "metadata": {
    "collapsed": false
   },
   "outputs": [
    {
     "name": "stderr",
     "output_type": "stream",
     "text": [
      "/home/tejas/anaconda3/lib/python3.6/site-packages/ipykernel/__main__.py:9: ComplexWarning: Casting complex values to real discards the imaginary part\n",
      "/home/tejas/anaconda3/lib/python3.6/site-packages/ipykernel/__main__.py:16: ComplexWarning: Casting complex values to real discards the imaginary part\n",
      "/home/tejas/anaconda3/lib/python3.6/site-packages/ipykernel/__main__.py:20: ComplexWarning: Casting complex values to real discards the imaginary part\n",
      "/home/tejas/anaconda3/lib/python3.6/site-packages/ipykernel/__main__.py:41: VisibleDeprecationWarning: using a non-integer number instead of an integer will result in an error in the future\n"
     ]
    },
    {
     "name": "stdout",
     "output_type": "stream",
     "text": [
      "Computing for time_index =  0\n",
      "Computing for time_index =  100\n",
      "Computing for time_index =  200\n",
      "Computing for time_index =  300\n",
      "Computing for time_index =  400\n",
      "Computing for time_index =  500\n"
     ]
    }
   ],
   "source": [
    "for time_index in range(len(time)):\n",
    "    if(time_index%100==0):\n",
    "        print('Computing for time_index = ', time_index)\n",
    "        \n",
    "    # Updating the positions of particle\n",
    "    \n",
    "    positions_x += velocity_x * dt\n",
    "\n",
    "    # Boundary conditions for particles\n",
    "    \n",
    "    outside_domain = np.where([positions_x < 0])[1]\n",
    "    \n",
    "    positions_x[outside_domain] = positions_x[outside_domain] + length_domain_x\n",
    "\n",
    "    outside_domain = np.where([positions_x > length_domain_x])[1]\n",
    "    \n",
    "    positions_x[outside_domain] -= length_domain_x\n",
    "\n",
    "    # Finding interpolant fractions for the positions\n",
    "\n",
    "    zone_x = np.floor(((positions_x - x_grid[0]) / dx))\n",
    "    zone_x = zone_x.astype(np.int)\n",
    "    frac_x = (positions_x - x_grid[zone_x]) / (dx)\n",
    "\n",
    "    # Charge deposition using linear weighting scheme\n",
    "\n",
    "    rho = cloud_charge_deposition(charge_electron, zone_x, frac_x, x_grid, dx)\n",
    "    rho+= rho_ions\n",
    "    \n",
    "    # Calculating the potential/Electric field from the charge deposition.\n",
    "\n",
    "    V, Ex = fft_poisson(rho,dx)\n",
    "    \n",
    "\n",
    "    # Interpolating the fields at each particle\n",
    "    Ex_particle = Ex[zone_x] + frac_x * Ex[zone_x + 1]\n",
    "\n",
    "    velocity_x += (Ex_particle * charge_electron / mass_electron ) * dt\n",
    "    \n",
    "    if(time_index%10 == 0):\n",
    "        Ex_all_times[time_index/10] = np.sum(abs(Ex))\n",
    "    \n",
    "    # File writing\n",
    "    \n",
    "#     h5f = h5py.File('data/timestepped_data/solution_'+str(time_index)+'.h5', 'w')\n",
    "#     h5f.create_dataset('positions_x',   data = positions_x)\n",
    "#     h5f.create_dataset('velocity_x',   data = velocity_x)\n",
    "#     h5f.create_dataset('Ex',   data = (Ex))\n",
    "#     h5f.close()"
   ]
  },
  {
   "cell_type": "code",
   "execution_count": null,
   "metadata": {
    "collapsed": false
   },
   "outputs": [],
   "source": [
    "pl.plot( Ex_all_times/number_of_electrons , label = r'$\\mathrm{Average(abs(E))}$')\n",
    "pl.legend()\n",
    "pl.show()\n",
    "pl.clf()"
   ]
  },
  {
   "cell_type": "code",
   "execution_count": null,
   "metadata": {
    "collapsed": false
   },
   "outputs": [],
   "source": [
    "pl.semilogy( Ex_all_times / number_of_electrons, lw = 0.1,label = r'$\\mathrm{Average(abs(E))}$')\n",
    "pl.legend()\n",
    "pl.show()\n",
    "pl.clf()"
   ]
  },
  {
   "cell_type": "code",
   "execution_count": null,
   "metadata": {
    "collapsed": true
   },
   "outputs": [],
   "source": [
    "# # cloud_charge_deposition test\n",
    "# charge = 1\n",
    "# x_grid = np.array([0, 0.2, 0.4, 0.6, 0.8, 1.0])\n",
    "# x = np.array([0.9])\n",
    "# zone_x = np.array([4])\n",
    "# frac_x = np.array([0.5])\n",
    "# print(cloud_charge_deposition(charge, zone_x, frac_x, x_grid))"
   ]
  },
  {
   "cell_type": "code",
   "execution_count": null,
   "metadata": {
    "collapsed": false
   },
   "outputs": [],
   "source": [
    "# # # FFT test\n",
    "\n",
    "# rho_size = 200\n",
    "# x = np.linspace(0, 1, rho_size )\n",
    "\n",
    "# A = 0.1\n",
    "# rho_0 = 0\n",
    "# rho =  rho_0 + A * np.cos(2 * np.pi * x)\n",
    "# dx = x[1] - x[0]\n",
    "\n",
    "# V, E = fft_poisson(rho, dx)\n",
    "# print('max(V)', max(V))\n",
    "# # pl.plot(x, V,'--',lw = 3,label = '$V$')\n",
    "# # pl.plot(x, ff.ifft(ff.fft(rho)), label = 'ifft(fft(rho))')\n",
    "# # pl.plot(x, rho, label = r'$\\rho$')\n",
    "# # pl.plot(x, np.cos(2*np.pi*x)/(4 * np.pi**2), label= '$\\mathrm{Analytical\\;V}$')\n",
    "# pl.plot(x, E, label = '$E_{x}$')\n",
    "# pl.plot(x, A * np.sin(2 * np.pi * x)/(2 * np.pi), label = '$E_{x}\\;analytical$')\n",
    "# # pl.ylim(0,1)\n",
    "# pl.legend()\n",
    "# pl.show()\n",
    "# pl.clf()"
   ]
  }
 ],
 "metadata": {
  "kernelspec": {
   "display_name": "Python 3",
   "language": "python",
   "name": "python3"
  },
  "language_info": {
   "codemirror_mode": {
    "name": "ipython",
    "version": 3
   },
   "file_extension": ".py",
   "mimetype": "text/x-python",
   "name": "python",
   "nbconvert_exporter": "python",
   "pygments_lexer": "ipython3",
   "version": "3.6.0"
  }
 },
 "nbformat": 4,
 "nbformat_minor": 2
}
