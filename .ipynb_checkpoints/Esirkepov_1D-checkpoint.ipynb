{
 "cells": [
  {
   "cell_type": "code",
   "execution_count": 1,
   "metadata": {
    "collapsed": true
   },
   "outputs": [],
   "source": [
    "import numpy as np\n",
    "import h5py\n",
    "import pylab as pl\n",
    "import arrayfire as af\n",
    "from scipy.integrate import odeint\n",
    "import scipy.fftpack as ff\n",
    "from scipy import interpolate\n",
    "import arrayfire as af"
   ]
  },
  {
   "cell_type": "code",
   "execution_count": 2,
   "metadata": {
    "collapsed": true
   },
   "outputs": [],
   "source": [
    "pl.rcParams['figure.figsize']  = 12, 7.5\n",
    "pl.rcParams['lines.linewidth'] = 1.5\n",
    "pl.rcParams['font.family']     = 'serif'\n",
    "pl.rcParams['font.weight']     = 'bold'\n",
    "pl.rcParams['font.size']       = 20\n",
    "pl.rcParams['font.sans-serif'] = 'serif'\n",
    "pl.rcParams['text.usetex']     = True\n",
    "pl.rcParams['axes.linewidth']  = 1.5\n",
    "pl.rcParams['axes.titlesize']  = 'medium'\n",
    "pl.rcParams['axes.labelsize']  = 'medium'\n",
    "\n",
    "pl.rcParams['xtick.major.size'] = 8\n",
    "pl.rcParams['xtick.minor.size'] = 4\n",
    "pl.rcParams['xtick.major.pad']  = 8\n",
    "pl.rcParams['xtick.minor.pad']  = 8\n",
    "pl.rcParams['xtick.color']      = 'k'\n",
    "pl.rcParams['xtick.labelsize']  = 'medium'\n",
    "pl.rcParams['xtick.direction']  = 'in'\n",
    "\n",
    "pl.rcParams['ytick.major.size'] = 8\n",
    "pl.rcParams['ytick.minor.size'] = 4\n",
    "pl.rcParams['ytick.major.pad']  = 8\n",
    "pl.rcParams['ytick.minor.pad']  = 8\n",
    "pl.rcParams['ytick.color']      = 'k'\n",
    "pl.rcParams['ytick.labelsize']  = 'medium'\n",
    "pl.rcParams['ytick.direction']  = 'in'"
   ]
  },
  {
   "cell_type": "code",
   "execution_count": 3,
   "metadata": {
    "collapsed": false
   },
   "outputs": [],
   "source": [
    "def periodic_particles(positions_x, length_domain_x):\n",
    "    '''\n",
    "    function periodic_particles(positions_x, length_domain_x)\n",
    "    -----------------------------------------------------------------------\n",
    "    Input variables: positions_x and length_domain_x\n",
    "\n",
    "        positions_x: An one dimensional array of size equal to number of particles taken in the PIC code. \n",
    "        It contains the positions of particles.\n",
    "\n",
    "        length_domain_x: This is the length of the domain. The domain is assumed to be from x = 0 \n",
    "        to x = length_domain_x \n",
    "\n",
    "    -----------------------------------------------------------------------    \n",
    "    returns: positions_x\n",
    "        This function returns the modified positions_x such that particle previously gone outside the domain \n",
    "        through the left boundary enter via the right boundary and vice versa.\n",
    "        In other words, the function implements periodic boundary conditions for the particles. \n",
    "\n",
    "    '''\n",
    "    \n",
    "    # Arrayfire implementation\n",
    "    # Determine indices of particles which have gone outside the domain\n",
    "    # through right boundary\n",
    "    outside_domain_right       = af.algorithm.where(positions_x >= length_domain_x)\n",
    "    \n",
    "    # Determine indices of particles which have gone outside the domain\n",
    "    # through left boundary         \n",
    "    outside_domain_left        = af.algorithm.where(positions_x <  0  )\n",
    "    \n",
    "\n",
    "    if outside_domain_right.elements() > 0:\n",
    "        \n",
    "        # Apply periodic boundary conditions\n",
    "\n",
    "        positions_x[outside_domain_right] = positions_x[outside_domain_right] - length_domain_x\n",
    "\n",
    "\n",
    "    if outside_domain_left.elements() > 0:\n",
    "        \n",
    "        # Apply periodic boundary conditions\n",
    "        \n",
    "        positions_x[outside_domain_left]  = positions_x[outside_domain_left] + length_domain_x\n",
    "\n",
    "        \n",
    "        \n",
    "    af.eval(positions_x)\n",
    "    \n",
    "    return positions_x\n"
   ]
  },
  {
   "cell_type": "code",
   "execution_count": 4,
   "metadata": {
    "collapsed": true
   },
   "outputs": [],
   "source": [
    "def periodic_rho(rho, ghost_cells):\n",
    "    # Applying periodic BC's for charge depostions from last and first zone since \n",
    "    # first and the last x_grid point are the same point according to periodic BC's\n",
    "    # Since first and last point are the same, charge being deposited on the last grid point\n",
    "    # must also be deposited on the first grid point\n",
    "    \n",
    "    len_x = (rho).elements()\n",
    "    \n",
    "    rho_electrons[ghost_cells]  = rho_electrons[ghost_cells] + rho_electrons[-1 - ghost_cells]\n",
    "    rho_electrons[-1 - ghost_cells] = rho_electrons[ghost_cells].copy()\n",
    "    \n",
    "    rho_electrons[-2 - ghost_cells] = rho_electrons[ghost_cells - 1] + rho_electrons[-2 - ghost_cells]\n",
    "    rho_electrons[ghost_cells + 1]= rho_electrons[ghost_cells + 1] + rho_electrons[-ghost_cells]\n",
    "    \n",
    "    # assigning values to the ghost nodes\n",
    "    rho[0 : ghost_cells]            = rho[len_x -1 - 2 * ghost_cells: len_x -1 - 1 * ghost_cells]\n",
    "    rho[len_x - ghost_cells : len_x] = rho[ghost_cells + 1: 2 * ghost_cells + 1]\n",
    "    \n",
    "    \n",
    "    return rho"
   ]
  },
  {
   "cell_type": "code",
   "execution_count": 5,
   "metadata": {
    "collapsed": true
   },
   "outputs": [],
   "source": [
    "def periodic_field(field, ghost_cells):\n",
    "    # Applying periodic BC's for charge depostions from last and first zone since \n",
    "    # first and the last x_grid point are the same point according to periodic BC's\n",
    "    # Since first and last point are the same, charge being deposited on the last grid point\n",
    "    # must also be deposited on the first grid point\n",
    "    \n",
    "    len_x = len(field)\n",
    "    \n",
    "    # assigning values to the ghost nodes\n",
    "    field[0 : ghost_cells]             = field[len_x -1 - 2 * ghost_cells: len_x -1 - 1 * ghost_cells]\n",
    "    field[len_x - ghost_cells : len_x] = field[ghost_cells + 1: 2 * ghost_cells + 1]\n",
    "    \n",
    "    \n",
    "    return field"
   ]
  },
  {
   "cell_type": "markdown",
   "metadata": {},
   "source": [
    "## Triangular Shaped Cloud(TSC) charge deposition: \n",
    "\\begin{align}\n",
    "\\implies  \\rho(\\mathbf{x_{i}}, t) &= \\frac{1 }{\\Delta x}w_{p}q \\sum_{p = 1}^{N} b_{2}\\left(\\frac{x_{p} - \\mathbf{x_{i}}}{\\Delta x}\\right) \n",
    "\\end{align}"
   ]
  },
  {
   "cell_type": "code",
   "execution_count": 6,
   "metadata": {
    "collapsed": false
   },
   "outputs": [],
   "source": [
    "# b1 charge depositor\n",
    "def TSC_charge_deposition(charge_electron, number_of_electrons, positions_x,\\\n",
    "                  x_grid, ghost_cells,length_domain_x, dx):\n",
    "    '''\n",
    "    function cloud_charge_deposition(charge, zone_x, frac_x, x_grid, dx)\n",
    "    -----------------------------------------------------------------------  \n",
    "    Input variables: charge, zone_x, frac_x, x_grid, dx\n",
    "\n",
    "        charge: This is a scalar denoting the charge of the macro particle in the PIC code.\n",
    "\n",
    "        zone_x: This is an array of size (number of electrons/macro particles) containing the indices \n",
    "        of the left corners of the grid cells containing the respective particles\n",
    "\n",
    "        frac_x: This is an array of size (number of electrons/macro particles) containing the fractional values of \n",
    "        the positions of particles in their respective grid cells. This is used for linear interpolation\n",
    "\n",
    "        x_grid: This is an array denoting the position grid chosen in the PIC simulation\n",
    "\n",
    "        dx: This is the distance between any two consecutive grid nodes of the position grid.\n",
    "\n",
    "    -----------------------------------------------------------------------  \n",
    "    returns: rho\n",
    "         rho: This is an array containing the charges deposited at the density grid nodes.\n",
    "    '''\n",
    "\n",
    "    base_indices = af.data.constant(0, positions_x.elements(), dtype=af.Dtype.u32)\n",
    "\n",
    "\n",
    "    x_zone = (((af.abs(positions_x - af.sum(x_grid[0])))/dx).as_type(af.Dtype.u32))\n",
    "\n",
    "    temp = af.where(af.abs(positions_x-x_grid[x_zone])<af.abs(positions_x-x_grid[x_zone + 1]))\n",
    "\n",
    "    if(temp.elements()>0):\n",
    "        base_indices[temp] = x_zone[temp]\n",
    "\n",
    "    temp = af.where(af.abs(positions_x - x_grid[x_zone])>=af.abs(positions_x-x_grid[x_zone + 1]))\n",
    "\n",
    "    if(temp.elements()>0):\n",
    "        base_indices[temp] = (x_zone[temp] + 1).as_type(af.Dtype.u32)    \n",
    "\n",
    "    base_indices_minus = (base_indices - 1).as_type(af.Dtype.u32)    \n",
    "    base_indices_plus  = (base_indices + 1).as_type(af.Dtype.u32)    \n",
    "\n",
    "\n",
    "    index_list = af.join(0, base_indices_minus, base_indices, base_indices_plus)\n",
    "\n",
    "    positions_x_3x        = af.join(0, positions_x, positions_x, positions_x)\n",
    "\n",
    "    distance_nodes = x_grid[index_list]\n",
    "\n",
    "\n",
    "    W = 0 * positions_x_3x.copy()\n",
    "\n",
    "    temp = af.where(af.abs(distance_nodes - positions_x_3x) < dx/2 )\n",
    "\n",
    "    if(temp.elements()>0):\n",
    "        W[temp] = 0.75 - (af.abs(distance_nodes[temp] - positions_x_3x[temp])/dx)**2\n",
    "\n",
    "    temp = af.where((af.abs(distance_nodes - positions_x_3x) >= dx/2 )\\\n",
    "                     * (af.abs(distance_nodes - positions_x_3x) < (1.5 * dx) )\\\n",
    "                   )\n",
    "\n",
    "    if(temp.elements()>0):\n",
    "        W[temp] = 0.5 * (1.5 - (af.abs(distance_nodes[temp] - positions_x_3x[temp])/dx))**2\n",
    "\n",
    "    charges = (charge_electron * W)/dx\n",
    "\n",
    "    # Depositing currents using numpy histogram\n",
    "    input_indices      = index_list\n",
    "    elements           = x_grid.elements()\n",
    "\n",
    "    rho, temp = np.histogram(input_indices, bins=elements, range=(0, elements),weights=charges)\n",
    "\n",
    "    rho = af.to_array(rho)\n",
    "\n",
    "    af.eval(rho)\n",
    "\n",
    "\n",
    "    return rho"
   ]
  },
  {
   "cell_type": "markdown",
   "metadata": {},
   "source": [
    "The charge density is computed using the normalization factor $A$ given by :\n",
    "\\begin{align}\n",
    "f_{pic} &= f_{a}  \\\\\n",
    "\\implies A &= \\frac{\\int \\int f_{a}\\;dv\\;dx}{\\int \\int f_{pic}\\;dv\\;dx}  \\\\\n",
    "A &= \\frac{\\int \\int f_{a}\\;dv\\;dx}{\\int \\int\\sum_{p=1}^{N_{m}} w_{p}S(x, x_{p})S(v, v_{x,p})\\;dv\\;dx} \\\\\n",
    "A &= \\frac{\\int \\int f_{a}\\;dv\\;dx}{N_{m} * w_{p}}\n",
    "\\end{align}\n",
    "Background ion density is added to the computed charge density array:\n",
    "\\begin{align}\n",
    "\\int_{x_{i - \\frac{1}{2}}}^{x_{i + \\frac{1}{2}}} S(x, x_{p})dx &= b_{0+1}(\\frac{\\mathbf{x_{i}}- x_{p}}{\\Delta x}) \\\\\n",
    "\\implies  \\rho(\\mathbf{x_{i}}, t) &= \\frac{1 }{\\Delta x}Aw_{p}q \\sum_{p = 1}^{N} b_{1}\\left(\\frac{x_{p} - \\mathbf{x_{i}}}{\\Delta x}\\right) + \\rho_{ions}\n",
    "\\end{align}"
   ]
  },
  {
   "cell_type": "code",
   "execution_count": 7,
   "metadata": {
    "collapsed": false
   },
   "outputs": [],
   "source": [
    "def norm_background_ions(rho_electrons, number_of_electrons, w_p, charge_electron):\n",
    "    '''\n",
    "    function norm_background_ions(rho_electrons, number_of_electrons)\n",
    "    -----------------------------------------------------------------------  \n",
    "    Input variables: rho_electrons, number_of_electrons\n",
    "        rho_electrons: This is an array containing the charges deposited at the density grid nodes.\n",
    "\n",
    "        number_of_electrons: A scalar denoting the number of macro particles/electrons taken in the simulation\n",
    "    -----------------------------------------------------------------------      \n",
    "    returns: rho_normalized\n",
    "        This function returns a array denoting the normalized charge density throughout the domain containing\n",
    "        the contribution due background ions\n",
    "\n",
    "    '''\n",
    "    A                        = 1/(number_of_electrons * w_p)\n",
    "    rho_electrons_normalized = A*rho_electrons\n",
    "    \n",
    "    # Adding background ion density, and ensuring charge neutrality\n",
    "    \n",
    "    rho_normalized           = rho_electrons_normalized - charge_electron\n",
    "    \n",
    "    return rho_normalized\n",
    "\n"
   ]
  },
  {
   "cell_type": "markdown",
   "metadata": {},
   "source": [
    "\\begin{align}\n",
    "\\hat{V}(k) &= \\int_{0}^{1} potential(x)e^{-2\\pi\\;i\\;k\\;x}dx \\\\ \\\\\n",
    "potential(x) &= \\frac{1}{Npoints}\\int_{0}^{1} \\hat{potential}(k)e^{+2\\pi\\;i\\;k\\;x}dk \\\\ \\\\\n",
    "\\hat{potential}(k) &= \\frac{1}{4\\pi^{2}\\;k^2}\\hat{\\rho(k)} \\\\ \\\\\n",
    "\\hat{E}(k) &= -i(2\\pi\\;k)\\hat{potential}(k)\n",
    "\\end{align}"
   ]
  },
  {
   "cell_type": "code",
   "execution_count": 8,
   "metadata": {
    "collapsed": false
   },
   "outputs": [],
   "source": [
    "# FFT solver :\n",
    "def fft_poisson(rho, dx):\n",
    "    '''\n",
    "    function fft_poisson(rho, dx)\n",
    "    -----------------------------------------------------------------------  \n",
    "    Input variables: rho, dx\n",
    "\n",
    "        rho: This is an array containing the charges deposited at the density grid nodes.\n",
    "\n",
    "        dx: This is the distance between any two consecutive grid nodes of the position grid.\n",
    "\n",
    "    -----------------------------------------------------------------------  \n",
    "    returns: potential, E\n",
    "\n",
    "        potential: This is an array containing the potential values across the domain\n",
    "\n",
    "        E: This is an array containing the electric field values across the domain.\n",
    "\n",
    "    '''\n",
    "    \n",
    "    rho_temp      = rho[:-1]\n",
    "    k_x           = ff.fftfreq(len(rho_temp), d = dx)\n",
    "    rho_hat       = ff.fft(rho_temp)\n",
    "    potential_hat = np.zeros(len(rho_temp))\n",
    "    \n",
    "    potential_hat[1:] =  (1/(4 * np.pi**2 * k_x[1:]**2)) * rho_hat[1:]\n",
    "    potential_hat[0]  =  0\n",
    "    \n",
    "    E_hat =  -1j * 2 * np.pi * k_x * potential_hat\n",
    "    \n",
    "    potential = ff.ifft(potential_hat)\n",
    "    potential = np.append(potential,potential[0])\n",
    "    potential = (potential.real).astype(np.double)\n",
    "    \n",
    "    E = ff.ifft(E_hat)\n",
    "    E = np.append(E,E[0])\n",
    "    E = (E.real).astype(np.double)\n",
    "    \n",
    "    return potential, E"
   ]
  },
  {
   "cell_type": "code",
   "execution_count": 9,
   "metadata": {
    "collapsed": false
   },
   "outputs": [],
   "source": [
    "def set_up_perturbation(positions_x, number_particles, N_divisions,\\\n",
    "                        amplitude , k_x, length_domain_x, dx\\\n",
    "                       ):\n",
    "    '''\n",
    "    function set_up_perturbation(positions_x, number_particles, N_divisions,\\\n",
    "                                 amplitude , k, length_domain_x\\\n",
    "                                ):\n",
    "    -----------------------------------------------------------------------  \n",
    "    Input variables: positions_x, number_particles, N_divisions, amplitude, k,length_domain_x\n",
    "\n",
    "        positions_x: An one dimensional array of size equal to number of particles taken in the PIC code.\n",
    "        It contains the positions of particles.\n",
    "\n",
    "        number_particles: The number of electrons /macro particles\n",
    "\n",
    "        N_divisions: The number of divisions considered for placing the macro particles\n",
    "\n",
    "        amplitude: This is the amplitude of the density perturbation\n",
    "\n",
    "        k_x: The is the wave number of the cosine density pertubation\n",
    "\n",
    "        length_domain_x: This is the length of the domain in x direction\n",
    "\n",
    "    -----------------------------------------------------------------------      \n",
    "    returns: positions_x\n",
    "        This function returns a array positions_x such that there is a cosine density perturbation \n",
    "        of the given amplitude\n",
    "\n",
    "    '''\n",
    "    # There might be a few particles left out during execution of function and the statement\n",
    "    # below randomizes those positions\n",
    "    positions_x = length_domain_x * np.random.rand(number_particles)\n",
    "\n",
    "    particles_till_x_i = 0\n",
    "\n",
    "    # Looping over grid cells in the domain\n",
    "    for i in range(N_divisions):\n",
    "\n",
    "        # Average number of particles present between two consecutive grid nodes\n",
    "        average_particles_x_i_to_i_plus_one = (number_particles/(length_domain_x/dx))\n",
    "\n",
    "        # Amplitude in the current grid cell used to compute number of particles in the\n",
    "        # current grid cell\n",
    "        temp_amplitude = amplitude * np.cos(k_x * (i + 0.5) * dx / length_domain_x)\n",
    "\n",
    "        # Computing number of particles in the current grid cell\n",
    "        number_particles_x_i_to_i_plus_one = int(average_particles_x_i_to_i_plus_one \\\n",
    "                                                 * (1 + temp_amplitude)\\\n",
    "                                                )\n",
    "\n",
    "        # Assigining these number of particles their respective positions in the current grid cell\n",
    "        positions_x[particles_till_x_i\\\n",
    "                    :particles_till_x_i\\\n",
    "                    + number_particles_x_i_to_i_plus_one \\\n",
    "                   ] \\\n",
    "                            = i * dx \\\n",
    "                              + dx * np.random.rand(number_particles_x_i_to_i_plus_one)\n",
    "        \n",
    "        # keeping track of the number of particles that have been assigned positions\n",
    "        particles_till_x_i += number_particles_x_i_to_i_plus_one\n",
    "\n",
    "    return positions_x"
   ]
  },
  {
   "cell_type": "code",
   "execution_count": 10,
   "metadata": {
    "collapsed": true
   },
   "outputs": [],
   "source": [
    "def indices_and_currents_TSC(charge_electron, positions_x, velocity_x, dt, x_grid, dx, ghost_cells):\n",
    "    \n",
    "    positions_x_new     = positions_x + velocity_x * dt\n",
    "    number_of_electrons = positions_x.elements()\n",
    "\n",
    "\n",
    "    base_indices = af.data.constant(0, positions_x.elements(), dtype=af.Dtype.u32)\n",
    "    Jx           = af.data.constant(0, positions_x.elements(), 5, dtype=af.Dtype.f64)\n",
    "\n",
    "\n",
    "    x_zone = (((af.abs(positions_x - af.sum(x_grid[0])))/dx).as_type(af.Dtype.u32))\n",
    "    \n",
    "    temp   = af.where(af.abs(positions_x-x_grid[x_zone])<af.abs(positions_x-x_grid[x_zone + 1]))\n",
    "\n",
    "    if(temp.elements()>0):\n",
    "        base_indices[temp] = x_zone[temp]\n",
    "\n",
    "    temp = af.where(af.abs(positions_x - x_grid[x_zone])>=af.abs(positions_x-x_grid[x_zone + 1]))\n",
    "\n",
    "    if(temp.elements()>0):\n",
    "        base_indices[temp] = (x_zone[temp] + 1).as_type(af.Dtype.u32)\n",
    "\n",
    "    S0 = af.data.constant(0, 5 * positions_x.elements(), dtype=af.Dtype.f64)\n",
    "    S1 = S0.copy()\n",
    "\n",
    "    base_indices_plus      = (base_indices + 1 ).as_type(af.Dtype.u32)\n",
    "    base_indices_plus_two  = (base_indices + 2 ).as_type(af.Dtype.u32)\n",
    "\n",
    "    base_indices_minus     = (base_indices - 1 ).as_type(af.Dtype.u32)\n",
    "    base_indices_minus_two = (base_indices - 2 ).as_type(af.Dtype.u32)\n",
    "\n",
    "\n",
    "    index_list_1 = af.join( 0, base_indices_minus_two, base_indices_minus,\\\n",
    "                          )\n",
    "    index_list_2 = af.join( 0, base_indices, base_indices_plus,base_indices_plus_two\\\n",
    "                          )\n",
    "\n",
    "    index_list   = af.join(0, index_list_1, index_list_2)\n",
    "\n",
    "\n",
    "    # Computing S(base_indices - 1, base_indices, base_indices + 1)\n",
    "\n",
    "    positions_x_5x = af.join(0, positions_x, positions_x, positions_x)\n",
    "\n",
    "    positions_x_5x = af.join(0, positions_x_5x, positions_x, positions_x)\n",
    "\n",
    "\n",
    "    positions_x_new_5x = af.join(0, positions_x_new, positions_x_new, positions_x_new)\n",
    "\n",
    "    positions_x_new_5x = af.join(0, positions_x_new_5x, positions_x_new, positions_x_new)\n",
    "\n",
    "\n",
    "    # Computing S0\n",
    "\n",
    "    temp = af.where(af.abs(positions_x_5x - x_grid[index_list]) < dx/2)\n",
    "\n",
    "    if(temp.elements()>0):\n",
    "\n",
    "        S0[temp] = (0.75) - (af.abs(positions_x_5x[temp] - x_grid[index_list[temp]])/dx)**2\n",
    "\n",
    "    temp = af.where((af.abs(positions_x_5x - x_grid[index_list]) >= 0.5 * dx)\\\n",
    "                     * (af.abs(positions_x_5x - x_grid[index_list]) < 1.5 * dx)\\\n",
    "                   )\n",
    "\n",
    "\n",
    "    if(temp.elements()>0):\n",
    "\n",
    "        S0[temp] = 0.5 * (3/2 - af.abs((positions_x_5x[temp] - x_grid[index_list[temp]])/dx) )**2\n",
    "\n",
    "\n",
    "    # Computing S1\n",
    "\n",
    "\n",
    "    temp = af.where(af.abs(positions_x_new_5x - x_grid[index_list]) < dx/2)\n",
    "\n",
    "    if(temp.elements()>0):\n",
    "\n",
    "        S1[temp] = (3/4) - (af.abs(positions_x_new_5x[temp] - x_grid[index_list[temp]])/dx)**2\n",
    "\n",
    "    temp = af.where((af.abs(positions_x_new_5x - x_grid[index_list]) >= 0.5 * dx)\\\n",
    "                     * (af.abs(positions_x_new_5x - x_grid[index_list]) < 1.5 * dx)\\\n",
    "                   )\n",
    "\n",
    "\n",
    "    if(temp.elements()>0):\n",
    "\n",
    "        S1[temp] = 0.5 * (3/2 - af.abs((positions_x_new_5x[temp] - x_grid[index_list[temp]])/dx) )**2\n",
    "\n",
    "\n",
    "    # Computing DS\n",
    "\n",
    "\n",
    "    DS = S1 - S0\n",
    "\n",
    "    DS = af.data.moddims(DS, number_of_electrons, 5)\n",
    "\n",
    "    # Computing weights\n",
    "\n",
    "    W = DS.copy()\n",
    "\n",
    "    Jx[:, 0] = -1 * charge_electron * velocity_x * W[:, 0].copy() * (1/dx)\n",
    "\n",
    "    Jx[:, 1] = Jx[:, 0] + (-1 * charge_electron * velocity_x * W[:, 1].copy()) * (1/dx)\n",
    "\n",
    "    Jx[:, 2] = Jx[:, 1] + (-1 * charge_electron * velocity_x * W[:, 2].copy()) * (1/dx)\n",
    "\n",
    "    Jx[:, 3] = Jx[:, 2] + (-1 * charge_electron * velocity_x * W[:, 3].copy()) * (1/dx)\n",
    "\n",
    "    Jx[:, 4] = Jx[:, 3] + (-1 * charge_electron * velocity_x * W[:, 4].copy()) * (1/dx)\n",
    "\n",
    "    # Flattening the current matrix\n",
    "    currents = af.flat(Jx)\n",
    "\n",
    "\n",
    "\n",
    "#     temp = af.where(af.abs(currents) > 0)\n",
    "    \n",
    "#     if(temp.elements()>0):\n",
    "#         index_list  = index_list[temp].copy()\n",
    "#         currents    = currents[temp].copy()\n",
    "\n",
    "    af.eval(index_list)\n",
    "    af.eval(currents)\n",
    "\n",
    "\n",
    "    return index_list, currents"
   ]
  },
  {
   "cell_type": "code",
   "execution_count": 11,
   "metadata": {
    "collapsed": false
   },
   "outputs": [],
   "source": [
    "def Jx_Esirkepov( charge_electron, number_of_electrons, positions_x, velocity_x,\\\n",
    "                  x_grid, ghost_cells,length_domain_x, dx, dt\\\n",
    "                ):\n",
    "    \n",
    "\n",
    "    # storing the number of elements in x_center_grid for current deposition\n",
    "    elements = x_grid.elements()\n",
    "\n",
    "    index_list, currents = indices_and_currents_TSC( charge_electron, positions_x, velocity_x, dt, x_grid, dx, ghost_cells)\n",
    "\n",
    "    # Depositing currents using numpy histogram\n",
    "    input_indices      = (index_list)\n",
    "    Jx_staggered, temp = np.histogram(input_indices,\\\n",
    "                                      bins=elements,\\\n",
    "                                      range=(0, elements),\\\n",
    "                                      weights=currents\\\n",
    "                                     )\n",
    "\n",
    "    Jx_staggered = af.to_array(Jx_staggered)\n",
    "    \n",
    "    af.eval(Jx_staggered)\n",
    "\n",
    "    return Jx_staggered"
   ]
  },
  {
   "cell_type": "markdown",
   "metadata": {},
   "source": [
    "The current density is computed using the normalization factor $A$ given by :\n",
    "\\begin{align}\n",
    "f_{pic} &= f_{a}  \\\\\n",
    "\\implies A &= \\frac{\\int \\int f_{a}\\;dv\\;dx}{\\int \\int f_{pic}\\;dv\\;dx}  \\\\\n",
    "A &= \\frac{\\int \\int f_{a}\\;dv\\;dx}{\\int \\int\\sum_{p=1}^{N_{m}} w_{p}S(x, x_{p})S(v, v_{x,p})\\;dv\\;dx} \\\\\n",
    "A &= \\frac{\\int \\int f_{a}\\;dv\\;dx}{N_{m} * w_{p}}\n",
    "\\end{align}\n",
    "Background ion density is added to the computed charge density array:\n",
    "\\begin{align}\n",
    "\\int_{x_{i - \\frac{1}{2}}}^{x_{i + \\frac{1}{2}}} S(x, x_{p})dx &= b_{0+1}(\\frac{\\mathbf{x_{i}}- x_{p}}{\\Delta x}) \\\\\n",
    "\\implies  J(\\mathbf{x_{i}}, t) &= \\frac{1}{\\Delta x} Aw_{p}\\;q \\sum_{p=1}^{N_{m}} v_{x,p}\\;b_{1}(\\mathbf{x_{i}}, x_{p})\n",
    "\\end{align}"
   ]
  },
  {
   "cell_type": "code",
   "execution_count": 12,
   "metadata": {
    "collapsed": true
   },
   "outputs": [],
   "source": [
    "def current_norm_BC(Jx_staggered, number_of_electrons, w_p):\n",
    "    \n",
    "    '''\n",
    "    function current_norm_BC(Jx_staggered, number_of_electrons, w_p)\n",
    "    -----------------------------------------------------------------------  \n",
    "    Input variables: Jx_staggered, number_of_electrons, w_p\n",
    "\n",
    "        Jx_staggered: This is an array containing the currents deposited on staggered lattice.\n",
    "\n",
    "        number_of_electrons: Number of macroparticles taken in the domain.\n",
    "        \n",
    "        w_p: Number of particles comprising the macroparticle.\n",
    "\n",
    "    -----------------------------------------------------------------------  \n",
    "    returns: Jx_norm_centered\n",
    "\n",
    "        Jx_norm_centered: This returns the array Jx on the centered lattice same as the electric field.\n",
    "\n",
    "\n",
    "    '''       \n",
    "    len_x = Jx_staggered.elements()\n",
    "    \n",
    "    # Normalizing the currents to be deposited\n",
    "    A                  = 1/(number_of_electrons * w_p)\n",
    "    \n",
    "    Jx_norm_staggered  = A * Jx_staggered\n",
    "\n",
    "    \n",
    "    # assigning the current density to the boundary points for periodic boundary conditions\n",
    "    Jx_norm_staggered[ghost_cells]  = Jx_norm_staggered[ghost_cells] + Jx_norm_staggered[-1 - ghost_cells]\n",
    "    Jx_norm_staggered[-2 - ghost_cells] = Jx_norm_staggered[-2 - ghost_cells] + Jx_norm_staggered[ghost_cells - 1]\n",
    "    Jx_norm_staggered[-1 - ghost_cells] = Jx_norm_staggered[ghost_cells].copy()\n",
    "    \n",
    "    Jx_norm_staggered[-2 - ghost_cells] = Jx_norm_staggered[-2 - ghost_cells] + Jx_norm_staggered[ghost_cells - 1] \n",
    "    Jx_norm_staggered[-3 - ghost_cells] = Jx_norm_staggered[-3 - ghost_cells] + Jx_norm_staggered[ghost_cells - 2] \n",
    "    \n",
    "    Jx_norm_staggered[ghost_cells + 1] = Jx_norm_staggered[ghost_cells + 1] + Jx_norm_staggered[-ghost_cells] \n",
    "    Jx_norm_staggered[ghost_cells + 2] = Jx_norm_staggered[ghost_cells + 2] + Jx_norm_staggered[1-ghost_cells] \n",
    "    \n",
    "    # Assigning ghost cell values\n",
    "    Jx_norm_staggered[0 : ghost_cells]             = Jx_norm_staggered[len_x -1 - 2 * ghost_cells: len_x -1 - 1 * ghost_cells]\n",
    "    Jx_norm_staggered[len_x - ghost_cells : len_x] = Jx_norm_staggered[ghost_cells + 1: 2 * ghost_cells + 1]\n",
    "    \n",
    "    af.eval(Jx_norm_staggered)\n",
    "    \n",
    "    return Jx_norm_staggered"
   ]
  },
  {
   "cell_type": "markdown",
   "metadata": {},
   "source": [
    "Using Computational particles\n",
    "\\begin{align}\n",
    "q_{p} = w_{p}q \\\\\n",
    "m_{p} = w_{p}m \\\\\n",
    "\\end{align}\n",
    "where $q_{p}$ and $m_{p} $is the charge of the macro particle and mass of the macro particle respectively"
   ]
  },
  {
   "cell_type": "code",
   "execution_count": 13,
   "metadata": {
    "collapsed": true
   },
   "outputs": [],
   "source": [
    "# Weighting factor w_p = number of electrons composing the macro particle\n",
    "# Doesn't affect the the physics of the system (Coarse graining doesn't affect vlasov maxwell system)\n",
    "# It should be kept such that the number density in the PIC code corresponds\n",
    "# to the densities found in real plasmas\n",
    "w_p             = 1"
   ]
  },
  {
   "cell_type": "code",
   "execution_count": 14,
   "metadata": {
    "collapsed": true
   },
   "outputs": [],
   "source": [
    "# Macro Particle parameters\n",
    "k_boltzmann     = 1\n",
    "mass_electron   = 1 * w_p\n",
    "tempertature    = 1\n",
    "charge_electron = -10 * w_p\n",
    "charge_ion      = +10 * w_p"
   ]
  },
  {
   "cell_type": "code",
   "execution_count": 15,
   "metadata": {
    "collapsed": true
   },
   "outputs": [],
   "source": [
    "# Setting the length of the domain\n",
    "length_domain_x = 1"
   ]
  },
  {
   "cell_type": "code",
   "execution_count": 16,
   "metadata": {
    "collapsed": true
   },
   "outputs": [],
   "source": [
    "# Setting number of particle in the domain\n",
    "number_of_electrons = 4000000"
   ]
  },
  {
   "cell_type": "code",
   "execution_count": 17,
   "metadata": {
    "collapsed": true
   },
   "outputs": [],
   "source": [
    "# Initializing the positions and velocities of the particles\n",
    "positions_x = length_domain_x * np.random.rand(number_of_electrons)\n",
    "\n",
    "# setting the mean and standard deviation of the maxwell distribution\n",
    "# Thermal/mean velocity of macro particles should correspond to \n",
    "# that of individual electrons in the plasma \n",
    "mu, sigma = 0, (k_boltzmann * tempertature / (mass_electron / w_p))\n",
    "\n",
    "# Initializing the velocitites according to the maxwell distribution\n",
    "\n",
    "velocity_x = np.random.normal(mu, sigma, number_of_electrons)"
   ]
  },
  {
   "cell_type": "code",
   "execution_count": 18,
   "metadata": {
    "collapsed": false
   },
   "outputs": [],
   "source": [
    "ghost_cells  = 2"
   ]
  },
  {
   "cell_type": "code",
   "execution_count": 19,
   "metadata": {
    "collapsed": true
   },
   "outputs": [],
   "source": [
    "# Divisions in x grid\n",
    "divisions_domain_x = 100\n",
    "dx = length_domain_x / divisions_domain_x\n",
    "# initializing the x grid\n",
    "x_grid = np.linspace(    0 - ghost_cells * dx,\\\n",
    "                         length_domain_x + ghost_cells * dx, \\\n",
    "                         divisions_domain_x + 1 + 2 * ghost_cells,\\\n",
    "                         endpoint=True,\\\n",
    "                         dtype = np.double\\\n",
    "                    )\n",
    "\n",
    "# dx is the distance between consecutive grid nodes\n",
    "x_right = x_grid + dx/2"
   ]
  },
  {
   "cell_type": "code",
   "execution_count": 20,
   "metadata": {
    "collapsed": false
   },
   "outputs": [],
   "source": [
    "# Setting the amplitude for perturbation\n",
    "N_divisions         = divisions_domain_x\n",
    "amplitude_perturbed = 0.5\n",
    "k_x                 = 2 * np.pi\n",
    "\n",
    "# Initializing the perturbation\n",
    "positions_x = set_up_perturbation(    positions_x,\\\n",
    "                                      number_of_electrons,\\\n",
    "                                      N_divisions,\\\n",
    "                                      amplitude_perturbed,\\\n",
    "                                      k_x,\\\n",
    "                                      length_domain_x,\\\n",
    "                                      dx                                  \n",
    "                                 )"
   ]
  },
  {
   "cell_type": "code",
   "execution_count": 21,
   "metadata": {
    "collapsed": true
   },
   "outputs": [],
   "source": [
    "# Plotting the initial density perturbation\n",
    "\n",
    "position_grid   = np.linspace(0, 1, divisions_domain_x)\n",
    "number_electrons_in_bins, b  = np.histogram(positions_x, bins=(divisions_domain_x),\\\n",
    "                               range=(0, length_domain_x)\\\n",
    "                              )\n",
    "\n",
    "number_density     = (number_electrons_in_bins / (number_of_electrons / divisions_domain_x))"
   ]
  },
  {
   "cell_type": "code",
   "execution_count": 22,
   "metadata": {
    "collapsed": false
   },
   "outputs": [
    {
     "data": {
      "image/png": "[encoded data removed]",
      "text/plain": [
       "<matplotlib.figure.Figure at 0x7fe74cd33c88>"
      ]
     },
     "metadata": {},
     "output_type": "display_data"
    }
   ],
   "source": [
    "# Plotting the initial density perturbation\n",
    "pl.plot(position_grid, number_density, label = r'$n$')\n",
    "pl.title(r'$\\mathrm{Initial\\;density\\;perturbation}$')\n",
    "pl.xlabel('$x$')\n",
    "pl.ylabel(r'$n_{electrons}(x)$')\n",
    "pl.ylim(0.0,2.0)\n",
    "pl.show()\n",
    "pl.clf()"
   ]
  },
  {
   "cell_type": "code",
   "execution_count": 23,
   "metadata": {
    "collapsed": true
   },
   "outputs": [],
   "source": [
    "# Time parameters\n",
    "start_time = 0\n",
    "\n",
    "end_time   = 1\n",
    "\n",
    "dt         = 0.002\n",
    "\n",
    "time       = np.arange(    start_time,\\\n",
    "                           end_time + dt,\\\n",
    "                           dt,\\\n",
    "                           dtype = np.double\\\n",
    "                      )"
   ]
  },
  {
   "cell_type": "code",
   "execution_count": 24,
   "metadata": {
    "collapsed": true
   },
   "outputs": [],
   "source": [
    "# Some variables for storing data\n",
    "Ex_max       = np.zeros(len(time), dtype = np.double)"
   ]
  },
  {
   "cell_type": "code",
   "execution_count": 25,
   "metadata": {
    "collapsed": false
   },
   "outputs": [],
   "source": [
    "# Plotting the initial conditions\n",
    "# Charge deposition using TSC weighting scheme\n",
    "\n",
    "rho_electrons  = TSC_charge_deposition(charge_electron, number_of_electrons,\\\n",
    "                                       af.to_array(positions_x), af.to_array(x_grid),\\\n",
    "                                       ghost_cells,length_domain_x, dx\\\n",
    "                                      )\n",
    "\n",
    "rho_electrons = periodic_rho(rho_electrons, ghost_cells)\n",
    "rho_initial = norm_background_ions(rho_electrons, number_of_electrons, w_p, charge_electron)"
   ]
  },
  {
   "cell_type": "code",
   "execution_count": 26,
   "metadata": {
    "collapsed": false
   },
   "outputs": [
    {
     "data": {
      "image/png": "[encoded data removed]",
      "text/plain": [
       "<matplotlib.figure.Figure at 0x7fe74cada0b8>"
      ]
     },
     "metadata": {},
     "output_type": "display_data"
    }
   ],
   "source": [
    "rho_initial = np.array(rho_initial)\n",
    "# plotting intial rho in the system considering background ions\n",
    "pl.plot(rho_initial)\n",
    "pl.xlabel('$x$')\n",
    "pl.ylabel(r'$\\mathrm{Initial\\;conditions}\\;\\rho(x)$')\n",
    "pl.title(r'$\\rho(x)$')\n",
    "pl.show()\n",
    "pl.clf()"
   ]
  },
  {
   "cell_type": "code",
   "execution_count": 27,
   "metadata": {
    "collapsed": false
   },
   "outputs": [
    {
     "name": "stderr",
     "output_type": "stream",
     "text": [
      "/home/tejas/anaconda3/lib/python3.6/site-packages/ipykernel/__main__.py:26: ComplexWarning: Casting complex values to real discards the imaginary part\n"
     ]
    }
   ],
   "source": [
    "# Computing initial potential and electric field\n",
    "Ex_initial_centered = np.zeros(len(x_grid))\n",
    "potential_initial, Ex_temp = fft_poisson(rho_initial[ghost_cells:-ghost_cells], dx)\n",
    "\n",
    "Ex_initial_centered[ghost_cells:-ghost_cells] = Ex_temp[:]\n",
    "\n",
    "Ex_initial_centered = periodic_field(Ex_initial_centered, ghost_cells)"
   ]
  },
  {
   "cell_type": "code",
   "execution_count": 28,
   "metadata": {
    "collapsed": false
   },
   "outputs": [],
   "source": [
    "Divergence_E =   (np.roll(Ex_initial_centered, -1) - np.roll(Ex_initial_centered, 1)) / (2 * dx)\n",
    "\n",
    "Divergence_E = periodic_field(Divergence_E, ghost_cells)    \n",
    "\n",
    "Divergence_E_rho = Divergence_E - rho_initial"
   ]
  },
  {
   "cell_type": "code",
   "execution_count": 29,
   "metadata": {
    "collapsed": false
   },
   "outputs": [
    {
     "data": {
      "image/png": "[encoded data removed]",
      "text/plain": [
       "<matplotlib.figure.Figure at 0x7fe74a476cf8>"
      ]
     },
     "metadata": {},
     "output_type": "display_data"
    }
   ],
   "source": [
    "pl.plot(np.array(Divergence_E), label = r'$\\nabla \\cdot E$')\n",
    "pl.plot(rho_initial , label = 'rho')\n",
    "pl.legend()\n",
    "pl.show()\n",
    "pl.clf()"
   ]
  },
  {
   "cell_type": "code",
   "execution_count": 30,
   "metadata": {
    "collapsed": false
   },
   "outputs": [
    {
     "data": {
      "image/png": "[encoded data removed]",
      "text/plain": [
       "<matplotlib.figure.Figure at 0x7fe74a421b38>"
      ]
     },
     "metadata": {},
     "output_type": "display_data"
    }
   ],
   "source": [
    "pl.plot(np.array(Divergence_E_rho))\n",
    "pl.show()\n",
    "pl.clf()"
   ]
  },
  {
   "cell_type": "code",
   "execution_count": 31,
   "metadata": {
    "collapsed": true
   },
   "outputs": [],
   "source": [
    "Ex_intitial_staggered = 0.5 * (Ex_initial_centered + np.roll(Ex_initial_centered, -1))\n",
    "Ex_intitial_staggered = periodic_field(Ex_intitial_staggered, ghost_cells)"
   ]
  },
  {
   "cell_type": "code",
   "execution_count": 32,
   "metadata": {
    "collapsed": false
   },
   "outputs": [
    {
     "data": {
      "image/png": "[encoded data removed]",
      "text/plain": [
       "<matplotlib.figure.Figure at 0x7fe74a328f28>"
      ]
     },
     "metadata": {},
     "output_type": "display_data"
    }
   ],
   "source": [
    "# Plotting the Electric field in the system for the given initial conditions\n",
    "pl.plot(Ex_intitial_staggered, label = 'Ex numerical')\n",
    "pl.xlabel('x')\n",
    "pl.ylabel('E_{x}')\n",
    "pl.title('$\\mathrm{Initial\\;conditions\\;E_{x}}$')\n",
    "pl.show()\n",
    "pl.clf()"
   ]
  },
  {
   "cell_type": "code",
   "execution_count": 33,
   "metadata": {
    "collapsed": false
   },
   "outputs": [],
   "source": [
    "# Converting to arrayfire arrays\n",
    "Ex           = af.to_array(Ex_intitial_staggered)\n",
    "positions_x  = af.to_array(positions_x)\n",
    "velocity_x   = af.to_array(velocity_x)\n",
    "x_grid       = af.to_array(x_grid)\n",
    "x_right      = af.to_array(x_right)"
   ]
  },
  {
   "cell_type": "code",
   "execution_count": null,
   "metadata": {
    "collapsed": false
   },
   "outputs": [],
   "source": [
    "# This cell block is to obtain v at (t = 0.5dt) to implement the verlet algorithm.\n",
    "\n",
    "positions_x_half = positions_x + velocity_x * dt/2\n",
    "\n",
    "# Periodic Boundary conditions for particles \n",
    "\n",
    "positions_x_half = periodic_particles(positions_x_half, length_domain_x)\n",
    "\n",
    "# Finding interpolant fractions for the positions\n",
    "\n",
    "frac_interpolation = (positions_x_half - af.sum(x_right[0])) / dx\n",
    "\n",
    "# Interpolating the fields at each particle\n",
    "Ex_particle = af.signal.approx1(Ex, frac_interpolation, method= af.INTERP.LINEAR)\n",
    "\n",
    "\n",
    "# Updating the velocity using the interpolated Electric fields to find v at (t = 0.5dt)\n",
    "\n",
    "velocity_x = velocity_x  + (Ex_particle * charge_electron / mass_electron ) * dt/2"
   ]
  },
  {
   "cell_type": "code",
   "execution_count": null,
   "metadata": {
    "collapsed": false
   },
   "outputs": [
    {
     "name": "stdout",
     "output_type": "stream",
     "text": [
      "Computing for time =  0.0\n"
     ]
    }
   ],
   "source": [
    "for time_index in range(len(time)):\n",
    "    if(time_index%50==0):\n",
    "        print('Computing for time = ', time_index * dt)\n",
    "        \n",
    "\n",
    "    # Updating the positions of particle using the velocites (Verlet algorithm)\n",
    "    # velocity at t = (n + 1/2) dt, positions_x at t = (n)dt and positions_x_new \n",
    "    # at t = (n+1)dt\n",
    "    positions_x_new = positions_x + velocity_x * dt\n",
    "    \n",
    "    # Periodic Boundary conditions for particles \n",
    "    positions_x_new = periodic_particles(positions_x_new, length_domain_x)\n",
    "\n",
    "    # Computing the current densities on the staggered grid provided by Umeda's scheme\n",
    "    \n",
    "    Jx_staggered = Jx_Esirkepov( charge_electron, number_of_electrons, positions_x, velocity_x,\\\n",
    "                                  x_grid, ghost_cells,length_domain_x, dx, dt\\\n",
    "                                )\n",
    "    \n",
    "    # Normalizing and evaluation of current densities on the centered grid\n",
    "    \n",
    "    Jx_norm_staggered = current_norm_BC(Jx_staggered, number_of_electrons, w_p)\n",
    "    \n",
    "    # Evolving electric fields using currents\n",
    "        \n",
    "    Ex = Ex - Jx_norm_staggered * dt\n",
    "    \n",
    "    # Interpolating the fields at each particle\n",
    "    # calculating the interpolation fraction needed for arrayfire's 1D interpolation\n",
    "    frac_interpolation = (positions_x_new - af.sum(x_right[0])) / dx\n",
    "    \n",
    "    Ex_particle = af.signal.approx1(Ex, frac_interpolation, method= af.INTERP.LINEAR)\n",
    "    \n",
    "    # Updating the velocity using the interpolated Electric fields\n",
    "    \n",
    "    velocity_x_new = velocity_x  + (Ex_particle * charge_electron / mass_electron ) * dt\n",
    "    \n",
    "    # Saving the Electric fields for plotting\n",
    "    \n",
    "    Ex_max[time_index]       = (af.max(af.abs(Ex)))\n",
    "    \n",
    "    pl.plot(Ex[ghost_cells:-ghost_cells])\n",
    "    pl.ylim(-1, 1)\n",
    "    pl.savefig('images/' + str(time_index) + '.png')\n",
    "    pl.clf()\n",
    "    \n",
    "\n",
    "    # Saving the updated velocites for the next timestep\n",
    "    velocity_x  = velocity_x_new.copy()\n",
    "    positions_x = positions_x_new.copy()"
   ]
  },
  {
   "cell_type": "code",
   "execution_count": null,
   "metadata": {
    "collapsed": true
   },
   "outputs": [],
   "source": [
    "# Reading data generated by the Cheng Knorr code\n",
    "h5f = h5py.File('CK_256.h5', 'r')\n",
    "Ex_max_CK = h5f['max_E'][:]\n",
    "Ex_max_CK = np.abs(Ex_max_CK)\n",
    "h5f.close()\n",
    "time_CK = np.linspace(0,2, len(Ex_max_CK))"
   ]
  },
  {
   "cell_type": "code",
   "execution_count": null,
   "metadata": {
    "collapsed": true
   },
   "outputs": [],
   "source": [
    "# Reading data generated by the Cheng Knorr code\n",
    "h5f = h5py.File('LT.h5', 'r')\n",
    "Ex_max_LT = h5f['Ex_amp'][:]\n",
    "Ex_max_LT = np.abs(Ex_max_LT)\n",
    "time_LT   = h5f['time_LT'][:]\n",
    "h5f.close()"
   ]
  },
  {
   "cell_type": "code",
   "execution_count": null,
   "metadata": {
    "collapsed": false
   },
   "outputs": [],
   "source": [
    "time_grid = np.linspace(0, time[-1], len(Ex_max))\n",
    "pl.plot(time_grid, Ex_max , label = r'$\\mathrm{PIC}$')\n",
    "# pl.plot(time_LT, Ex_max_LT,'--',lw = 3,label = '$\\mathrm{LT}$')\n",
    "pl.plot(time_CK, Ex_max_CK, label = '$\\mathrm{Cheng\\;Knorr}$')\n",
    "# print('(abs(Ex_amplitude[0])) is ',(abs(Ex_amplitude[0])))\n",
    "# print('(abs(Ex_max[0])) is ',(abs(Ex_max[0])))\n",
    "pl.xlabel('$t$')\n",
    "pl.ylabel('$\\mathrm{MAX}(|E_{x}|)$')\n",
    "pl.legend()\n",
    "pl.show()\n",
    "pl.savefig('MaxE_LT.png')\n",
    "pl.clf()"
   ]
  },
  {
   "cell_type": "code",
   "execution_count": null,
   "metadata": {
    "collapsed": false
   },
   "outputs": [],
   "source": [
    "pl.semilogy(time_grid, Ex_max ,label = r'$\\mathrm{PIC}$')\n",
    "# pl.semilogy(time_LT, Ex_max_LT,'--',lw = 3,label = '$\\mathrm{LT}$')\n",
    "pl.semilogy(time_CK,Ex_max_CK, label = '$\\mathrm{Cheng\\;Knorr}$')\n",
    "pl.legend()\n",
    "pl.xlabel('$t$')\n",
    "pl.ylabel('$\\mathrm{MAX}(|E_{x}|)$')\n",
    "pl.show()\n",
    "pl.savefig('MaxE_semilogy_LT.png')\n",
    "pl.clf()"
   ]
  },
  {
   "cell_type": "code",
   "execution_count": null,
   "metadata": {
    "collapsed": false
   },
   "outputs": [],
   "source": [
    "pl.loglog(time_grid, Ex_max ,label = r'$\\mathrm{PIC}$')\n",
    "# pl.loglog(time_LT, Ex_max_LT,'--',lw = 3,label = '$\\mathrm{LT}$')\n",
    "pl.semilogy(time_CK,Ex_max_CK, label = '$\\mathrm{Cheng\\;Knorr}$')\n",
    "pl.legend()\n",
    "pl.xlabel('$t$')\n",
    "pl.ylabel('$\\mathrm{MAX}(|E_{x}|)$')\n",
    "pl.show()\n",
    "pl.savefig('MaxE_loglog_LT.png')\n",
    "pl.clf()"
   ]
  },
  {
   "cell_type": "code",
   "execution_count": null,
   "metadata": {
    "collapsed": true
   },
   "outputs": [],
   "source": []
  },
  {
   "cell_type": "code",
   "execution_count": null,
   "metadata": {
    "collapsed": true
   },
   "outputs": [],
   "source": []
  }
 ],
 "metadata": {
  "anaconda-cloud": {},
  "kernelspec": {
   "display_name": "Python 3",
   "language": "python",
   "name": "python3"
  },
  "language_info": {
   "codemirror_mode": {
    "name": "ipython",
    "version": 3
   },
   "file_extension": ".py",
   "mimetype": "text/x-python",
   "name": "python",
   "nbconvert_exporter": "python",
   "pygments_lexer": "ipython3",
   "version": "3.6.0"
  }
 },
 "nbformat": 4,
 "nbformat_minor": 2
}
