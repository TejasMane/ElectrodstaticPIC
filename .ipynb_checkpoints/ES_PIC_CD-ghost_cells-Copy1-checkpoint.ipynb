{
 "cells": [
  {
   "cell_type": "code",
   "execution_count": 1,
   "metadata": {
    "collapsed": true
   },
   "outputs": [],
   "source": [
    "import numpy as np\n",
    "import h5py\n",
    "import pylab as pl\n",
    "import arrayfire as af\n",
    "from scipy.integrate import odeint\n",
    "import scipy.fftpack as ff\n",
    "from scipy import interpolate\n",
    "import arrayfire as af"
   ]
  },
  {
   "cell_type": "code",
   "execution_count": 2,
   "metadata": {
    "collapsed": true
   },
   "outputs": [],
   "source": [
    "pl.rcParams['figure.figsize']  = 12, 7.5\n",
    "pl.rcParams['lines.linewidth'] = 1.5\n",
    "pl.rcParams['font.family']     = 'serif'\n",
    "pl.rcParams['font.weight']     = 'bold'\n",
    "pl.rcParams['font.size']       = 20\n",
    "pl.rcParams['font.sans-serif'] = 'serif'\n",
    "pl.rcParams['text.usetex']     = True\n",
    "pl.rcParams['axes.linewidth']  = 1.5\n",
    "pl.rcParams['axes.titlesize']  = 'medium'\n",
    "pl.rcParams['axes.labelsize']  = 'medium'\n",
    "\n",
    "pl.rcParams['xtick.major.size'] = 8\n",
    "pl.rcParams['xtick.minor.size'] = 4\n",
    "pl.rcParams['xtick.major.pad']  = 8\n",
    "pl.rcParams['xtick.minor.pad']  = 8\n",
    "pl.rcParams['xtick.color']      = 'k'\n",
    "pl.rcParams['xtick.labelsize']  = 'medium'\n",
    "pl.rcParams['xtick.direction']  = 'in'\n",
    "\n",
    "pl.rcParams['ytick.major.size'] = 8\n",
    "pl.rcParams['ytick.minor.size'] = 4\n",
    "pl.rcParams['ytick.major.pad']  = 8\n",
    "pl.rcParams['ytick.minor.pad']  = 8\n",
    "pl.rcParams['ytick.color']      = 'k'\n",
    "pl.rcParams['ytick.labelsize']  = 'medium'\n",
    "pl.rcParams['ytick.direction']  = 'in'"
   ]
  },
  {
   "cell_type": "code",
   "execution_count": 3,
   "metadata": {
    "collapsed": false
   },
   "outputs": [],
   "source": [
    "def periodic_particles(positions_x, length_domain_x):\n",
    "    '''\n",
    "    function periodic_particles(positions_x, length_domain_x)\n",
    "    -----------------------------------------------------------------------\n",
    "    Input variables: positions_x and length_domain_x\n",
    "\n",
    "        positions_x: An one dimensional array of size equal to number of particles taken in the PIC code. \n",
    "        It contains the positions of particles.\n",
    "\n",
    "        length_domain_x: This is the length of the domain. The domain is assumed to be from x = 0 \n",
    "        to x = length_domain_x \n",
    "\n",
    "    -----------------------------------------------------------------------    \n",
    "    returns: positions_x\n",
    "        This function returns the modified positions_x such that particle previously gone outside the domain \n",
    "        through the left boundary enter via the right boundary and vice versa.\n",
    "        In other words, the function implements periodic boundary conditions for the particles. \n",
    "\n",
    "    '''\n",
    "    \n",
    "    # Arrayfire implementation\n",
    "    # Determine indices of particles which have gone outside the domain\n",
    "    # through right boundary\n",
    "    outside_domain_right       = af.algorithm.where(positions_x >= length_domain_x)\n",
    "    \n",
    "    # Determine indices of particles which have gone outside the domain\n",
    "    # through left boundary         \n",
    "    outside_domain_left        = af.algorithm.where(positions_x <  0  )\n",
    "    \n",
    "\n",
    "    if outside_domain_right.elements() > 0:\n",
    "        \n",
    "        # Apply periodic boundary conditions\n",
    "\n",
    "        positions_x[outside_domain_right] = positions_x[outside_domain_right] - length_domain_x\n",
    "\n",
    "\n",
    "    if outside_domain_left.elements() > 0:\n",
    "        \n",
    "        # Apply periodic boundary conditions\n",
    "        \n",
    "        positions_x[outside_domain_left]  = positions_x[outside_domain_left] + length_domain_x\n",
    "\n",
    "        \n",
    "        \n",
    "    af.eval(positions_x)\n",
    "    \n",
    "    return positions_x\n"
   ]
  },
  {
   "cell_type": "code",
   "execution_count": 4,
   "metadata": {
    "collapsed": false
   },
   "outputs": [],
   "source": [
    "def find_zone_and_fraction(positions_x, x_grid, dx):\n",
    "    '''\n",
    "    function find_zone_and_fraction(positions_x, x_grid, dx)\n",
    "    -----------------------------------------------------------------------  \n",
    "    Input variables: positions_x, x_grid, dx\n",
    "\n",
    "        positions_x: An one dimensional array of size equal to number of particles taken in the PIC code. It contains\n",
    "        the positions of particles.\n",
    "\n",
    "        x_grid: This is the grid in position space.\n",
    "\n",
    "        dx: This is distance between any two consecutive grid nodes of the position grid(x_grid).\n",
    "    -----------------------------------------------------------------------      \n",
    "    returns: zone_x, frac_x\n",
    "        This function returns the arrays zone_x and frac_x\n",
    "\n",
    "        zone_x: This is the array of size (number of macro particles) containing the indices of the left corners \n",
    "        of the grid cells containing the particles.\n",
    "\n",
    "        frac_x: This is the array of size (number of macro particles) containing the fraction of the \n",
    "        grid cell where the particle is located. For example if the particles position is 0.3 \n",
    "        between grid nodes(position grid) located at 0.2 and 0.4. frac_x is 0.5.\n",
    "    -----------------------------------------------------------------------  \n",
    "    Example: \n",
    "        Consider a grid: x_grid = [0, 0.2, 0.4, 0.6, 1.0] with dx = 0.2, and two particles with \n",
    "        positions_x = [0.15, 0.3]\n",
    "\n",
    "        find_zone_and_fraction(positions_x, x_grid, dx)\n",
    "        returns \n",
    "        zone_x = [0, 1], frac_x = [0.75, 0.5]\n",
    "    '''    \n",
    "    zone_x = np.floor((((positions_x ) - x_grid[0]) / dx))\n",
    "    \n",
    "    zone_x = zone_x.astype(np.int)\n",
    "    \n",
    "    frac_x = (positions_x - x_grid[zone_x]) / (dx)\n",
    "    \n",
    "    return zone_x, frac_x"
   ]
  },
  {
   "cell_type": "code",
   "execution_count": 5,
   "metadata": {
    "collapsed": true
   },
   "outputs": [],
   "source": [
    "def periodic_rho(rho, ghost_cells):\n",
    "    # Applying periodic BC's for charge depostions from last and first zone since \n",
    "    # first and the last x_grid point are the same point according to periodic BC's\n",
    "    # Since first and last point are the same, charge being deposited on the last grid point\n",
    "    # must also be deposited on the first grid point\n",
    "    \n",
    "    len_x = len(rho)\n",
    "    \n",
    "    rho_electrons[ghost_cells]  = rho_electrons[ghost_cells] + rho_electrons[-1 - ghost_cells]\n",
    "    rho_electrons[-1 - ghost_cells] = rho_electrons[ghost_cells].copy()\n",
    "    \n",
    "    # assigning values to the ghost nodes\n",
    "    rho[0 : ghost_cells]            = rho[len_x -1 - 2 * ghost_cells: len_x -1 - 1 * ghost_cells]\n",
    "    rho[len_x - ghost_cells : len_x] = rho[ghost_cells + 1: 2 * ghost_cells + 1]\n",
    "    \n",
    "    \n",
    "    return rho"
   ]
  },
  {
   "cell_type": "code",
   "execution_count": 6,
   "metadata": {
    "collapsed": true
   },
   "outputs": [],
   "source": [
    "def periodic_field(field, ghost_cells):\n",
    "    # Applying periodic BC's for charge depostions from last and first zone since \n",
    "    # first and the last x_grid point are the same point according to periodic BC's\n",
    "    # Since first and last point are the same, charge being deposited on the last grid point\n",
    "    # must also be deposited on the first grid point\n",
    "    \n",
    "    len_x = len(field)\n",
    "    \n",
    "    # assigning values to the ghost nodes\n",
    "    field[0 : ghost_cells]             = field[len_x -1 - 2 * ghost_cells: len_x -1 - 1 * ghost_cells]\n",
    "    field[len_x - ghost_cells : len_x] = field[ghost_cells + 1: 2 * ghost_cells + 1]\n",
    "    \n",
    "    \n",
    "    return field"
   ]
  },
  {
   "cell_type": "markdown",
   "metadata": {},
   "source": [
    "## cloud in cell charge deposition: \n",
    "\\begin{align}\n",
    "\\implies  \\rho(\\mathbf{x_{i}}, t) &= \\frac{1 }{\\Delta x}w_{p}q \\sum_{p = 1}^{N} b_{1}\\left(\\frac{x_{p} - \\mathbf{x_{i}}}{\\Delta x}\\right) \n",
    "\\end{align}"
   ]
  },
  {
   "cell_type": "code",
   "execution_count": 7,
   "metadata": {
    "collapsed": false
   },
   "outputs": [],
   "source": [
    "# b1 charge depositor\n",
    "def cloud_charge_deposition(charge, zone_x, frac_x, x_grid, dx, ghost_cells):\n",
    "    '''\n",
    "    function cloud_charge_deposition(charge, zone_x, frac_x, x_grid, dx)\n",
    "    -----------------------------------------------------------------------  \n",
    "    Input variables: charge, zone_x, frac_x, x_grid, dx\n",
    "\n",
    "        charge: This is a scalar denoting the charge of the macro particle in the PIC code.\n",
    "\n",
    "        zone_x: This is an array of size (number of electrons/macro particles) containing the indices \n",
    "        of the left corners of the grid cells containing the respective particles\n",
    "\n",
    "        frac_x: This is an array of size (number of electrons/macro particles) containing the fractional values of \n",
    "        the positions of particles in their respective grid cells. This is used for linear interpolation\n",
    "\n",
    "        x_grid: This is an array denoting the position grid chosen in the PIC simulation\n",
    "\n",
    "        dx: This is the distance between any two consecutive grid nodes of the position grid.\n",
    "\n",
    "    -----------------------------------------------------------------------  \n",
    "    returns: rho\n",
    "         rho: This is an array containing the charges deposited at the density grid nodes.\n",
    "    '''\n",
    "    \n",
    "    # Assigning particle charge to left grid point according to linear weighting scheme\n",
    "    # or also known as b1 spline deposition\n",
    "    left_corner_charge  = (1 - frac_x) * charge / (dx)\n",
    "    \n",
    "    # Assigning particle charge to right grid point\n",
    "    right_corner_charge = (frac_x) * charge / (dx)\n",
    "\n",
    "    \n",
    "    # Storing the respective indices of left and right grid points\n",
    "    left_corners  = zone_x.copy()\n",
    "    right_corners = left_corners + 1\n",
    "    \n",
    "    # Joining the indices and charges into one vector each\n",
    "    corners = np.concatenate([left_corners, right_corners], axis=0)\n",
    "    charges = np.concatenate([left_corner_charge, right_corner_charge], axis=0)\n",
    "\n",
    "    # Charge deposition using numpy histogram in a vectorized manner\n",
    "    \n",
    "    rho_electrons, temp = np.histogram(corners, bins=len(x_grid),\\\n",
    "                                       range=(0, len(x_grid)), \\\n",
    "                                       weights=charges\\\n",
    "                                      )\n",
    "    \n",
    "\n",
    "    \n",
    "    return rho_electrons"
   ]
  },
  {
   "cell_type": "markdown",
   "metadata": {},
   "source": [
    "The charge density is computed using the normalization factor $A$ given by :\n",
    "\\begin{align}\n",
    "f_{pic} &= f_{a}  \\\\\n",
    "\\implies A &= \\frac{\\int \\int f_{a}\\;dv\\;dx}{\\int \\int f_{pic}\\;dv\\;dx}  \\\\\n",
    "A &= \\frac{\\int \\int f_{a}\\;dv\\;dx}{\\int \\int\\sum_{p=1}^{N_{m}} w_{p}S(x, x_{p})S(v, v_{x,p})\\;dv\\;dx} \\\\\n",
    "A &= \\frac{\\int \\int f_{a}\\;dv\\;dx}{N_{m} * w_{p}}\n",
    "\\end{align}\n",
    "Background ion density is added to the computed charge density array:\n",
    "\\begin{align}\n",
    "\\int_{x_{i - \\frac{1}{2}}}^{x_{i + \\frac{1}{2}}} S(x, x_{p})dx &= b_{0+1}(\\frac{\\mathbf{x_{i}}- x_{p}}{\\Delta x}) \\\\\n",
    "\\implies  \\rho(\\mathbf{x_{i}}, t) &= \\frac{1 }{\\Delta x}Aw_{p}q \\sum_{p = 1}^{N} b_{1}\\left(\\frac{x_{p} - \\mathbf{x_{i}}}{\\Delta x}\\right) + \\rho_{ions}\n",
    "\\end{align}"
   ]
  },
  {
   "cell_type": "code",
   "execution_count": 8,
   "metadata": {
    "collapsed": false
   },
   "outputs": [],
   "source": [
    "def norm_background_ions(rho_electrons, number_of_electrons, w_p):\n",
    "    '''\n",
    "    function norm_background_ions(rho_electrons, number_of_electrons)\n",
    "    -----------------------------------------------------------------------  \n",
    "    Input variables: rho_electrons, number_of_electrons\n",
    "        rho_electrons: This is an array containing the charges deposited at the density grid nodes.\n",
    "\n",
    "        number_of_electrons: A scalar denoting the number of macro particles/electrons taken in the simulation\n",
    "    -----------------------------------------------------------------------      \n",
    "    returns: rho_normalized\n",
    "        This function returns a array denoting the normalized charge density throughout the domain containing\n",
    "        the contribution due background ions\n",
    "\n",
    "    '''\n",
    "    A                        = 1/(number_of_electrons * w_p)\n",
    "    rho_electrons_normalized = A*rho_electrons\n",
    "    \n",
    "    # Adding background ion density, and ensuring charge neutrality\n",
    "    rho_ions_normalized      = - np.sum(rho_electrons_normalized) / len(rho_electrons_normalized)\n",
    "    \n",
    "    rho_normalized           = rho_electrons_normalized + rho_ions_normalized\n",
    "    \n",
    "    return rho_normalized\n",
    "\n"
   ]
  },
  {
   "cell_type": "markdown",
   "metadata": {},
   "source": [
    "\\begin{align}\n",
    "\\hat{V}(k) &= \\int_{0}^{1} potential(x)e^{-2\\pi\\;i\\;k\\;x}dx \\\\ \\\\\n",
    "potential(x) &= \\frac{1}{Npoints}\\int_{0}^{1} \\hat{potential}(k)e^{+2\\pi\\;i\\;k\\;x}dk \\\\ \\\\\n",
    "\\hat{potential}(k) &= \\frac{1}{4\\pi^{2}\\;k^2}\\hat{\\rho(k)} \\\\ \\\\\n",
    "\\hat{E}(k) &= -i(2\\pi\\;k)\\hat{potential}(k)\n",
    "\\end{align}"
   ]
  },
  {
   "cell_type": "code",
   "execution_count": 9,
   "metadata": {
    "collapsed": false
   },
   "outputs": [],
   "source": [
    "# FFT solver :\n",
    "def fft_poisson(rho, dx):\n",
    "    '''\n",
    "    function fft_poisson(rho, dx)\n",
    "    -----------------------------------------------------------------------  \n",
    "    Input variables: rho, dx\n",
    "\n",
    "        rho: This is an array containing the charges deposited at the density grid nodes.\n",
    "\n",
    "        dx: This is the distance between any two consecutive grid nodes of the position grid.\n",
    "\n",
    "    -----------------------------------------------------------------------  \n",
    "    returns: potential, E\n",
    "\n",
    "        potential: This is an array containing the potential values across the domain\n",
    "\n",
    "        E: This is an array containing the electric field values across the domain.\n",
    "\n",
    "    '''\n",
    "    \n",
    "    rho_temp      = rho[:-1]\n",
    "    k_x           = ff.fftfreq(len(rho_temp), d = dx)\n",
    "    rho_hat       = ff.fft(rho_temp)\n",
    "    potential_hat = np.zeros(len(rho_temp))\n",
    "    \n",
    "    potential_hat[1:] =  (1/(4 * np.pi**2 * k_x[1:]**2)) * rho_hat[1:]\n",
    "    potential_hat[0]  =  0\n",
    "    \n",
    "    E_hat =  -1j * 2 * np.pi * k_x * potential_hat\n",
    "    \n",
    "    potential = ff.ifft(potential_hat)\n",
    "    potential = np.append(potential,potential[0])\n",
    "    potential = (potential.real).astype(np.double)\n",
    "    \n",
    "    E = ff.ifft(E_hat)\n",
    "    E = np.append(E,E[0])\n",
    "    E = (E.real).astype(np.double)\n",
    "    \n",
    "    return potential, E"
   ]
  },
  {
   "cell_type": "code",
   "execution_count": 10,
   "metadata": {
    "collapsed": false
   },
   "outputs": [],
   "source": [
    "def set_up_perturbation(positions_x, number_particles, N_divisions,\\\n",
    "                        amplitude , k_x, length_domain_x, dx\\\n",
    "                       ):\n",
    "    '''\n",
    "    function set_up_perturbation(positions_x, number_particles, N_divisions,\\\n",
    "                                 amplitude , k, length_domain_x\\\n",
    "                                ):\n",
    "    -----------------------------------------------------------------------  \n",
    "    Input variables: positions_x, number_particles, N_divisions, amplitude, k,length_domain_x\n",
    "\n",
    "        positions_x: An one dimensional array of size equal to number of particles taken in the PIC code.\n",
    "        It contains the positions of particles.\n",
    "\n",
    "        number_particles: The number of electrons /macro particles\n",
    "\n",
    "        N_divisions: The number of divisions considered for placing the macro particles\n",
    "\n",
    "        amplitude: This is the amplitude of the density perturbation\n",
    "\n",
    "        k_x: The is the wave number of the cosine density pertubation\n",
    "\n",
    "        length_domain_x: This is the length of the domain in x direction\n",
    "\n",
    "    -----------------------------------------------------------------------      \n",
    "    returns: positions_x\n",
    "        This function returns a array positions_x such that there is a cosine density perturbation \n",
    "        of the given amplitude\n",
    "\n",
    "    '''\n",
    "    # There might be a few particles left out during execution of function and the statement\n",
    "    # below randomizes those positions\n",
    "    positions_x = length_domain_x * np.random.rand(number_particles)\n",
    "\n",
    "    particles_till_x_i = 0\n",
    "\n",
    "    # Looping over grid cells in the domain\n",
    "    for i in range(N_divisions):\n",
    "\n",
    "        # Average number of particles present between two consecutive grid nodes\n",
    "        average_particles_x_i_to_i_plus_one = (number_particles/(length_domain_x/dx))\n",
    "\n",
    "        # Amplitude in the current grid cell used to compute number of particles in the\n",
    "        # current grid cell\n",
    "        temp_amplitude = amplitude * np.cos(k_x * (i + 0.5) * dx / length_domain_x)\n",
    "\n",
    "        # Computing number of particles in the current grid cell\n",
    "        number_particles_x_i_to_i_plus_one = int(average_particles_x_i_to_i_plus_one \\\n",
    "                                                 * (1 + temp_amplitude)\\\n",
    "                                                )\n",
    "\n",
    "        # Assigining these number of particles their respective positions in the current grid cell\n",
    "        positions_x[particles_till_x_i\\\n",
    "                    :particles_till_x_i\\\n",
    "                    + number_particles_x_i_to_i_plus_one \\\n",
    "                   ] \\\n",
    "                            = i * dx \\\n",
    "                              + dx * np.random.rand(number_particles_x_i_to_i_plus_one)\n",
    "        \n",
    "        # keeping track of the number of particles that have been assigned positions\n",
    "        particles_till_x_i += number_particles_x_i_to_i_plus_one\n",
    "\n",
    "    return positions_x"
   ]
  },
  {
   "cell_type": "code",
   "execution_count": 11,
   "metadata": {
    "collapsed": true
   },
   "outputs": [],
   "source": [
    "# Umeda needs x(n), and v(n+0.5dt) for implementation\n",
    "def Umeda_b1_deposition( charge_particle, positions_x, velocity_x,\\\n",
    "                         x_grid, ghost_cells, length_domain_x, dt\\\n",
    "                       ):\n",
    "\n",
    "    '''\n",
    "    A modified Umeda's scheme was implemented to handle a pure one dimensional case.\n",
    "    \n",
    "    function Umeda_b1_deposition( charge, x, velocity_x,\\\n",
    "                                  x_grid, ghost_cells, length_domain_x, dt\\\n",
    "                                )\n",
    "    -----------------------------------------------------------------------  \n",
    "    Input variables: charge, x, velocity_required_x, x_grid, ghost_cells, length_domain_x, dt\n",
    "\n",
    "        charge: This is an array containing the charges deposited at the density grid nodes.\n",
    "\n",
    "        positions_x: An one dimensional array of size equal to number of particles taken in the PIC code.\n",
    "        It contains the positions of particles.\n",
    "        \n",
    "        velocity_x: An one dimensional array of size equal to number of particles taken in the PIC code.\n",
    "        It contains the velocities of particles in x direction.\n",
    "        \n",
    "        x_grid: This is an array denoting the position grid chosen in the PIC simulation\n",
    "\n",
    "        ghost_cells: This is the number of ghost cells used in the simulation domain.\n",
    "        \n",
    "        length_domain_x: This is the length of the domain in x direction\n",
    "        \n",
    "        dt: this is the dt/time step chosen in the simulation\n",
    "    -----------------------------------------------------------------------  \n",
    "    returns: Jx_x_indices, Jx_values_at_these_indices\n",
    "\n",
    "        Jx_x_indices: This returns the indices of the array where the respective currents stored in \n",
    "        Jx_values_at_these_indices have to be deposited\n",
    "\n",
    "        Jx_values_at_these_indices: This is an array containing the currents to be deposited.\n",
    "        \n",
    "    For further details on the scheme refer to Umeda's paper provided in the sagemath folder as the \n",
    "    naming conventions used in the function use the papers naming convention.(x_1, x_2, x_r, F_x, )\n",
    "\n",
    "    '''    \n",
    "    \n",
    "    number_zones_x = (x_grid.elements() - 1 - 2 * ghost_cells )  # number of zones\n",
    "\n",
    "    dx = length_domain_x / number_zones_x\n",
    "\n",
    "    # Start location x_1 at t = n * dt\n",
    "    x_1 = (positions_x).as_type(af.Dtype.f64)\n",
    "    \n",
    "    # Start location x_2 at t = (n+1) * dt\n",
    "    x_2 = (positions_x + (velocity_x * dt)).as_type(af.Dtype.f64)\n",
    "\n",
    "    # Calculation i_1 and i_2, indices of left corners of cells containing the particles\n",
    "    # at x_1 and x_2 respectively\n",
    "    i_1 = af.arith.floor( ((af.abs( x_1 - af.sum(x_grid[0])))/dx) - ghost_cells)\n",
    "\n",
    "\n",
    "    i_2 = af.arith.floor( ((af.abs( x_2 - af.sum(x_grid[0])))/dx) - ghost_cells)\n",
    "\n",
    "\n",
    "    i_dx       = dx * af.join(1, i_1, i_2)\n",
    "\n",
    "    i_dx_x_avg = af.join(1, af.max(i_dx,1), ((x_1+x_2)/2))\n",
    "\n",
    "    x_r_term_1 = dx + af.min(i_dx, 1)\n",
    "    x_r_term_2 = af.max(i_dx_x_avg, 1)\n",
    "\n",
    "    x_r_combined_term = af.join(1, x_r_term_1, x_r_term_2)\n",
    "    \n",
    "    # Computing the relay point\n",
    "    x_r = af.min(x_r_combined_term, 1)\n",
    "\n",
    "    # Computing the fluxes\n",
    "    F_x_1 = charge_particle * (x_r - x_1)/dt\n",
    "    \n",
    "    F_x_2 = charge_particle * (x_2 - x_r)/dt\n",
    "\n",
    "    # computing the currents at (i_1 + 1/2)*dx and (i_2 + 1/2) * dx\n",
    "    J_x_1_1 = (1/(dx)) * (F_x_1)\n",
    "\n",
    "    J_x_2_1 = (1/(dx)) * (F_x_2)\n",
    "\n",
    "    # Combining the indices into one vector\n",
    "    Jx_x_indices = af.join(0, i_1 + ghost_cells, i_2 + ghost_cells)\n",
    "    \n",
    "    # Combining the currents into one vector\n",
    "    Jx_values_at_these_indices = af.join(0, J_x_1_1, J_x_2_1)\n",
    "\n",
    "    af.eval(Jx_x_indices)\n",
    "    af.eval(Jx_values_at_these_indices)\n",
    "\n",
    "    return Jx_x_indices, Jx_values_at_these_indices"
   ]
  },
  {
   "cell_type": "code",
   "execution_count": 12,
   "metadata": {
    "collapsed": false
   },
   "outputs": [],
   "source": [
    "def Umeda_2003(charge_particle,\\\n",
    "               no_of_particles,\\\n",
    "               positions_x,\\\n",
    "               velocity_x,\\\n",
    "               x_center_grid,\\\n",
    "               ghost_cells,\\\n",
    "               length_domain_x,\\\n",
    "               dx,\\\n",
    "               dt\\\n",
    "              ):\n",
    "\n",
    "    '''\n",
    "    function Umeda_b1_deposition( charge, x, velocity_x,\\\n",
    "                                  x_grid, ghost_cells, length_domain_x, dt\\\n",
    "                                )\n",
    "    -----------------------------------------------------------------------  \n",
    "    Input variables: charge, x, velocity_required_x, x_grid, ghost_cells, length_domain_x, dt\n",
    "\n",
    "        charge: This is an array containing the charges deposited at the density grid nodes.\n",
    "\n",
    "        positions_x(t = n*dt): An one dimensional array of size equal to number of particles taken in the PIC code.\n",
    "        It contains the positions of particles.\n",
    "        \n",
    "        velocity_x(t = (n+1/2)*dt): An one dimensional array of size equal to number of particles taken in the PIC code.\n",
    "        It contains the velocities of particles in x direction.\n",
    "        \n",
    "        x_grid: This is an array denoting the position grid chosen in the PIC simulation.\n",
    "\n",
    "        ghost_cells: This is the number of ghost cells used in the simulation domain..\n",
    "        \n",
    "        length_domain_x: This is the length of the domain in x direction.\n",
    "        \n",
    "        dt: this is the dt/time step chosen in the simulation.\n",
    "    -----------------------------------------------------------------------  \n",
    "    returns: Jx_staggered\n",
    "\n",
    "        Jx_staggered: This returns the array Jx on a staggered yee lattice.\n",
    "\n",
    "\n",
    "    '''    \n",
    "    # storing the number of elements in x_center_grid for current deposition\n",
    "    elements = x_center_grid.elements()\n",
    "\n",
    "    \n",
    "    # Depositing currents using Umeda's modified 1D scheme\n",
    "    Jx_x_indices, Jx_values_at_these_indices = Umeda_b1_deposition(  charge_particle,\\\n",
    "                                                                     positions_x,\\\n",
    "                                                                     velocity_x,\\\n",
    "                                                                     x_center_grid,\\\n",
    "                                                                     ghost_cells,\\\n",
    "                                                                     length_domain_x,\\\n",
    "                                                                     dt\\\n",
    "                                                                  )\n",
    "\n",
    "    \n",
    "    \n",
    "    # Depositing currents using numpy histogram\n",
    "\n",
    "    input_indices      = (Jx_x_indices)\n",
    "    Jx_staggered, temp = np.histogram(input_indices,\\\n",
    "                                      bins=elements,\\\n",
    "                                      range=(0, elements),\\\n",
    "                                      weights=Jx_values_at_these_indices\\\n",
    "                                     )\n",
    "\n",
    "\n",
    "\n",
    "    Jx_staggered = af.to_array(Jx_staggered)\n",
    "    \n",
    "    af.eval(Jx_staggered)\n",
    "\n",
    "    return Jx_staggered"
   ]
  },
  {
   "cell_type": "markdown",
   "metadata": {},
   "source": [
    "The current density is computed using the normalization factor $A$ given by :\n",
    "\\begin{align}\n",
    "f_{pic} &= f_{a}  \\\\\n",
    "\\implies A &= \\frac{\\int \\int f_{a}\\;dv\\;dx}{\\int \\int f_{pic}\\;dv\\;dx}  \\\\\n",
    "A &= \\frac{\\int \\int f_{a}\\;dv\\;dx}{\\int \\int\\sum_{p=1}^{N_{m}} w_{p}S(x, x_{p})S(v, v_{x,p})\\;dv\\;dx} \\\\\n",
    "A &= \\frac{\\int \\int f_{a}\\;dv\\;dx}{N_{m} * w_{p}}\n",
    "\\end{align}\n",
    "Background ion density is added to the computed charge density array:\n",
    "\\begin{align}\n",
    "\\int_{x_{i - \\frac{1}{2}}}^{x_{i + \\frac{1}{2}}} S(x, x_{p})dx &= b_{0+1}(\\frac{\\mathbf{x_{i}}- x_{p}}{\\Delta x}) \\\\\n",
    "\\implies  J(\\mathbf{x_{i}}, t) &= \\frac{1}{\\Delta x} Aw_{p}\\;q \\sum_{p=1}^{N_{m}} v_{x,p}\\;b_{1}(\\mathbf{x_{i}}, x_{p})\n",
    "\\end{align}"
   ]
  },
  {
   "cell_type": "code",
   "execution_count": 13,
   "metadata": {
    "collapsed": true
   },
   "outputs": [],
   "source": [
    "def current_norm_BC(Jx_staggered, number_of_electrons, w_p):\n",
    "    \n",
    "    '''\n",
    "    function current_norm_BC(Jx_staggered, number_of_electrons, w_p)\n",
    "    -----------------------------------------------------------------------  \n",
    "    Input variables: Jx_staggered, number_of_electrons, w_p\n",
    "\n",
    "        Jx_staggered: This is an array containing the currents deposited on staggered lattice.\n",
    "\n",
    "        number_of_electrons: Number of macroparticles taken in the domain.\n",
    "        \n",
    "        w_p: Number of particles comprising the macroparticle.\n",
    "\n",
    "    -----------------------------------------------------------------------  \n",
    "    returns: Jx_norm_centered\n",
    "\n",
    "        Jx_norm_centered: This returns the array Jx on the centered lattice same as the electric field.\n",
    "\n",
    "\n",
    "    '''       \n",
    "    len_x = Jx_staggered.elements()\n",
    "    \n",
    "    # Normalizing the currents to be deposited\n",
    "    A                  = 1/(number_of_electrons * w_p)\n",
    "    \n",
    "    Jx_norm_staggered  = A * Jx_staggered\n",
    "\n",
    "    \n",
    "    # assigning the current density to the boundary points for periodic boundary conditions\n",
    "    Jx_norm_staggered[ghost_cells]  = Jx_norm_staggered[ghost_cells] + Jx_norm_staggered[-1 - ghost_cells]\n",
    "    Jx_norm_staggered[-2 - ghost_cells] = Jx_norm_staggered[-2 - ghost_cells] + Jx_norm_staggered[ghost_cells - 1]\n",
    "    Jx_norm_staggered[-1 - ghost_cells] = Jx_norm_staggered[ghost_cells].copy()\n",
    "    \n",
    "    # Assigning ghost cell values\n",
    "    Jx_norm_staggered[0 : ghost_cells]             = Jx_norm_staggered[len_x -1 - 2 * ghost_cells: len_x -1 - 1 * ghost_cells]\n",
    "    Jx_norm_staggered[len_x - ghost_cells : len_x] = Jx_norm_staggered[ghost_cells + 1: 2 * ghost_cells + 1]\n",
    "    \n",
    "    af.eval(Jx_norm_staggered)\n",
    "    \n",
    "    return Jx_norm_staggered"
   ]
  },
  {
   "cell_type": "markdown",
   "metadata": {},
   "source": [
    "Using Computational particles\n",
    "\\begin{align}\n",
    "q_{p} = w_{p}q \\\\\n",
    "m_{p} = w_{p}m \\\\\n",
    "\\end{align}\n",
    "where $q_{p}$ and $m_{p} $is the charge of the macro particle and mass of the macro particle respectively"
   ]
  },
  {
   "cell_type": "code",
   "execution_count": 14,
   "metadata": {
    "collapsed": true
   },
   "outputs": [],
   "source": [
    "# Weighting factor w_p = number of electrons composing the macro particle\n",
    "# Doesn't affect the the physics of the system (Coarse graining doesn't affect vlasov maxwell system)\n",
    "# It should be kept such that the number density in the PIC code corresponds\n",
    "# to the densities found in real plasmas\n",
    "w_p             = 1"
   ]
  },
  {
   "cell_type": "code",
   "execution_count": 15,
   "metadata": {
    "collapsed": true
   },
   "outputs": [],
   "source": [
    "# Macro Particle parameters\n",
    "k_boltzmann     = 1\n",
    "mass_electron   = 1 * w_p\n",
    "tempertature    = 1\n",
    "charge_electron = -10 * w_p\n",
    "charge_ion      = +10 * w_p"
   ]
  },
  {
   "cell_type": "code",
   "execution_count": 16,
   "metadata": {
    "collapsed": true
   },
   "outputs": [],
   "source": [
    "# Setting the length of the domain\n",
    "length_domain_x = 1"
   ]
  },
  {
   "cell_type": "code",
   "execution_count": 17,
   "metadata": {
    "collapsed": true
   },
   "outputs": [],
   "source": [
    "# Setting number of particle in the domain\n",
    "number_of_electrons = 100000"
   ]
  },
  {
   "cell_type": "code",
   "execution_count": 18,
   "metadata": {
    "collapsed": true
   },
   "outputs": [],
   "source": [
    "# Initializing the positions and velocities of the particles\n",
    "positions_x = length_domain_x * np.random.rand(number_of_electrons)\n",
    "\n",
    "# setting the mean and standard deviation of the maxwell distribution\n",
    "# Thermal/mean velocity of macro particles should correspond to \n",
    "# that of individual electrons in the plasma \n",
    "mu, sigma = 0, (k_boltzmann * tempertature / (mass_electron / w_p))\n",
    "\n",
    "# Initializing the velocitites according to the maxwell distribution\n",
    "\n",
    "velocity_x = np.random.normal(mu, sigma, number_of_electrons)"
   ]
  },
  {
   "cell_type": "code",
   "execution_count": 19,
   "metadata": {
    "collapsed": false
   },
   "outputs": [],
   "source": [
    "ghost_cells  = 1"
   ]
  },
  {
   "cell_type": "code",
   "execution_count": 20,
   "metadata": {
    "collapsed": true
   },
   "outputs": [],
   "source": [
    "# Divisions in x grid\n",
    "divisions_domain_x = 100\n",
    "dx = length_domain_x / divisions_domain_x\n",
    "# initializing the x grid\n",
    "x_grid = np.linspace(    0 - ghost_cells * dx,\\\n",
    "                         length_domain_x + ghost_cells * dx, \\\n",
    "                         divisions_domain_x + 1 + 2 * ghost_cells,\\\n",
    "                         endpoint=True,\\\n",
    "                         dtype = np.double\\\n",
    "                    )\n",
    "\n",
    "# dx is the distance between consecutive grid nodes\n",
    "x_right = x_grid + dx/2"
   ]
  },
  {
   "cell_type": "code",
   "execution_count": 21,
   "metadata": {
    "collapsed": false
   },
   "outputs": [],
   "source": [
    "# Setting the amplitude for perturbation\n",
    "N_divisions         = divisions_domain_x\n",
    "amplitude_perturbed = 0.5\n",
    "k_x                 = 2 * np.pi\n",
    "\n",
    "# Initializing the perturbation\n",
    "positions_x = set_up_perturbation(    positions_x,\\\n",
    "                                      number_of_electrons,\\\n",
    "                                      N_divisions,\\\n",
    "                                      amplitude_perturbed,\\\n",
    "                                      k_x,\\\n",
    "                                      length_domain_x,\\\n",
    "                                      dx                                  \n",
    "                                 )"
   ]
  },
  {
   "cell_type": "code",
   "execution_count": 22,
   "metadata": {
    "collapsed": true
   },
   "outputs": [],
   "source": [
    "# Plotting the initial density perturbation\n",
    "\n",
    "position_grid   = np.linspace(0, 1, divisions_domain_x)\n",
    "number_electrons_in_bins, b  = np.histogram(positions_x, bins=(divisions_domain_x),\\\n",
    "                               range=(0, length_domain_x)\\\n",
    "                              )\n",
    "\n",
    "number_density     = (number_electrons_in_bins / (number_of_electrons / divisions_domain_x))"
   ]
  },
  {
   "cell_type": "code",
   "execution_count": 23,
   "metadata": {
    "collapsed": false
   },
   "outputs": [
    {
     "data": {
      "image/png": "[encoded data removed]",
      "text/plain": [
       "<matplotlib.figure.Figure at 0x7ffa2d576128>"
      ]
     },
     "metadata": {},
     "output_type": "display_data"
    }
   ],
   "source": [
    "# Plotting the initial density perturbation\n",
    "pl.plot(position_grid, number_density, label = r'$n$')\n",
    "pl.title(r'$\\mathrm{Initial\\;density\\;perturbation}$')\n",
    "pl.xlabel('$x$')\n",
    "pl.ylabel(r'$n_{electrons}(x)$')\n",
    "pl.ylim(0.0,2.0)\n",
    "pl.show()\n",
    "pl.clf()"
   ]
  },
  {
   "cell_type": "code",
   "execution_count": 24,
   "metadata": {
    "collapsed": true
   },
   "outputs": [],
   "source": [
    "# Time parameters\n",
    "start_time = 0\n",
    "\n",
    "end_time   = 2\n",
    "\n",
    "dt         = 0.002\n",
    "\n",
    "time       = np.arange(    start_time,\\\n",
    "                           end_time + dt,\\\n",
    "                           dt,\\\n",
    "                           dtype = np.double\\\n",
    "                      )"
   ]
  },
  {
   "cell_type": "code",
   "execution_count": 25,
   "metadata": {
    "collapsed": true
   },
   "outputs": [],
   "source": [
    "# Some variables for storing data\n",
    "Ex_max       = np.zeros(len(time), dtype = np.double)"
   ]
  },
  {
   "cell_type": "code",
   "execution_count": 26,
   "metadata": {
    "collapsed": false
   },
   "outputs": [],
   "source": [
    "# Plotting the initial conditions\n",
    "# Finding interpolant fractions for the positions\n",
    "zone_x, frac_x = find_zone_and_fraction(positions_x, x_grid, dx)\n",
    "\n",
    "# Charge deposition using linear weighting scheme\n",
    "\n",
    "rho_electrons  = cloud_charge_deposition(charge_electron, zone_x,\\\n",
    "                                         frac_x, x_grid, dx, ghost_cells\\\n",
    "                                        )\n",
    "\n",
    "rho_electrons = periodic_rho(rho_electrons, ghost_cells)\n",
    "rho_initial = norm_background_ions(rho_electrons, number_of_electrons, w_p)"
   ]
  },
  {
   "cell_type": "code",
   "execution_count": 27,
   "metadata": {
    "collapsed": false
   },
   "outputs": [
    {
     "data": {
      "image/png": "[encoded data removed]",
      "text/plain": [
       "<matplotlib.figure.Figure at 0x7ffa22751cc0>"
      ]
     },
     "metadata": {},
     "output_type": "display_data"
    }
   ],
   "source": [
    "# plotting intial rho in the system considering background ions\n",
    "pl.plot(rho_initial)\n",
    "pl.xlabel('$x$')\n",
    "pl.ylabel(r'$\\mathrm{Initial\\;conditions}\\;\\rho(x)$')\n",
    "pl.title(r'$\\rho(x)$')\n",
    "pl.show()\n",
    "pl.clf()"
   ]
  },
  {
   "cell_type": "code",
   "execution_count": 28,
   "metadata": {
    "collapsed": false
   },
   "outputs": [
    {
     "name": "stderr",
     "output_type": "stream",
     "text": [
      "/home/tejas/anaconda3/lib/python3.6/site-packages/ipykernel/__main__.py:26: ComplexWarning: Casting complex values to real discards the imaginary part\n"
     ]
    }
   ],
   "source": [
    "# Computing initial potential and electric field\n",
    "Ex_initial_centered = np.zeros(len(x_grid))\n",
    "potential_initial, Ex_temp = fft_poisson(rho_initial[ghost_cells:-ghost_cells], dx)\n",
    "\n",
    "Ex_initial_centered[ghost_cells:-ghost_cells] = Ex_temp[:]\n",
    "\n",
    "Ex_initial_centered = periodic_field(Ex_initial_centered, ghost_cells)"
   ]
  },
  {
   "cell_type": "code",
   "execution_count": 29,
   "metadata": {
    "collapsed": false
   },
   "outputs": [],
   "source": [
    "Divergence_E =   (np.roll(Ex_initial_centered, -1) - np.roll(Ex_initial_centered, 1)) / (2 * dx)\n",
    "\n",
    "Divergence_E = periodic_field(Divergence_E, ghost_cells)    \n",
    "\n",
    "Divergence_E_rho = Divergence_E - rho_initial"
   ]
  },
  {
   "cell_type": "code",
   "execution_count": 30,
   "metadata": {
    "collapsed": false
   },
   "outputs": [
    {
     "name": "stdout",
     "output_type": "stream",
     "text": [
      "Ex_initial_centered [  1.66050241e-02   0.00000000e+00  -1.66050241e-02  -3.32972738e-02\n",
      "  -4.99652717e-02  -6.65831611e-02  -8.32056709e-02  -9.97345415e-02\n",
      "  -1.16218634e-01  -1.32695264e-01  -1.49090947e-01  -1.65440537e-01\n",
      "  -1.81730271e-01  -1.97889641e-01  -2.13996386e-01  -2.30041619e-01\n",
      "  -2.45915420e-01  -2.61725942e-01  -2.77410929e-01  -2.92902148e-01\n",
      "  -3.08356183e-01  -3.23629800e-01  -3.38797381e-01  -3.53825117e-01\n",
      "  -3.68716428e-01  -3.83398607e-01  -3.97854989e-01  -4.12178114e-01\n",
      "  -4.26325852e-01  -4.40310273e-01  -4.54115132e-01  -4.67744904e-01\n",
      "  -4.81077611e-01  -4.94257604e-01  -5.07230062e-01  -5.19925517e-01\n",
      "  -5.32472412e-01  -5.44742906e-01  -5.56751028e-01  -5.68511641e-01\n",
      "  -5.80121287e-01  -5.91339003e-01  -6.02356437e-01  -6.13127288e-01\n",
      "  -6.23643730e-01  -6.33835927e-01  -6.43750929e-01  -6.53376922e-01\n",
      "  -6.62784605e-01  -6.71851224e-01  -6.80622469e-01  -6.89130808e-01\n",
      "  -6.97318212e-01  -7.05201495e-01  -7.12776005e-01  -7.20010511e-01\n",
      "  -7.26941529e-01  -7.33560244e-01  -7.39816761e-01  -7.45797377e-01\n",
      "  -7.51488003e-01  -7.56768743e-01  -7.61724707e-01  -7.66429746e-01\n",
      "  -7.70738057e-01  -7.74733379e-01  -7.78304579e-01  -7.81670129e-01\n",
      "  -7.84601966e-01  -7.87191827e-01  -7.89407027e-01  -7.91333006e-01\n",
      "  -7.92917412e-01  -7.94185852e-01  -7.95054195e-01  -7.95604327e-01\n",
      "  -7.95710864e-01  -7.95561450e-01  -7.95032335e-01  -7.94206396e-01\n",
      "  -7.92962051e-01  -7.91395534e-01  -7.89453067e-01  -7.87216130e-01\n",
      "  -7.84590295e-01  -7.81658255e-01  -7.78373498e-01  -7.74723999e-01\n",
      "  -7.70749354e-01  -7.66443299e-01  -7.61795170e-01  -7.56793614e-01\n",
      "  -7.51490662e-01  -7.45870925e-01  -7.39856661e-01  -7.33554343e-01\n",
      "  -7.26942681e-01  -7.19974585e-01  -7.12755704e-01  -7.05191628e-01\n",
      "  -6.97305129e-01  -6.89151830e-01  -6.80636794e-01  -6.71864200e-01\n",
      "  -6.62760129e-01  -6.53417696e-01  -6.43738677e-01  -6.33823681e-01\n",
      "  -6.23597820e-01  -6.13111883e-01  -6.02360302e-01  -5.91364595e-01\n",
      "  -5.80070521e-01  -5.68558248e-01  -5.56771269e-01  -5.44700227e-01\n",
      "  -5.32444313e-01  -5.19918120e-01  -5.07191047e-01  -4.94280979e-01\n",
      "  -4.81077447e-01  -4.67719056e-01  -4.54126657e-01  -4.40352033e-01\n",
      "  -4.26353329e-01  -4.12219027e-01  -3.97867222e-01  -3.83356238e-01\n",
      "  -3.68641235e-01  -3.53817401e-01  -3.38809769e-01  -3.23677742e-01\n",
      "  -3.08354502e-01  -2.92912769e-01  -2.77371427e-01  -2.61700751e-01\n",
      "  -2.45889231e-01  -2.29978686e-01  -2.13984033e-01  -1.97880454e-01\n",
      "  -1.81675934e-01  -1.65434584e-01  -1.49102687e-01  -1.32712975e-01\n",
      "  -1.16233547e-01  -9.97194942e-02  -8.31508046e-02  -6.66326068e-02\n",
      "  -4.99927191e-02  -3.33443252e-02  -1.66806962e-02   2.36847579e-16\n",
      "   1.66806962e-02   3.33443252e-02   4.99927191e-02   6.66326068e-02\n",
      "   8.31508046e-02   9.97194942e-02   1.16233547e-01   1.32712975e-01\n",
      "   1.49102687e-01   1.65434584e-01   1.81675934e-01   1.97880454e-01\n",
      "   2.13984033e-01   2.29978686e-01   2.45889231e-01   2.61700751e-01\n",
      "   2.77371427e-01   2.92912769e-01   3.08354502e-01   3.23677742e-01\n",
      "   3.38809769e-01   3.53817401e-01   3.68641235e-01   3.83356238e-01\n",
      "   3.97867222e-01   4.12219027e-01   4.26353329e-01   4.40352033e-01\n",
      "   4.54126657e-01   4.67719056e-01   4.81077447e-01   4.94280979e-01\n",
      "   5.07191047e-01   5.19918120e-01   5.32444313e-01   5.44700227e-01\n",
      "   5.56771269e-01   5.68558248e-01   5.80070521e-01   5.91364595e-01\n",
      "   6.02360302e-01   6.13111883e-01   6.23597820e-01   6.33823681e-01\n",
      "   6.43738677e-01   6.53417696e-01   6.62760129e-01   6.71864200e-01\n",
      "   6.80636794e-01   6.89151830e-01   6.97305129e-01   7.05191628e-01\n",
      "   7.12755704e-01   7.19974585e-01   7.26942681e-01   7.33554343e-01\n",
      "   7.39856661e-01   7.45870925e-01   7.51490662e-01   7.56793614e-01\n",
      "   7.61795170e-01   7.66443299e-01   7.70749354e-01   7.74723999e-01\n",
      "   7.78373498e-01   7.81658255e-01   7.84590295e-01   7.87216130e-01\n",
      "   7.89453067e-01   7.91395534e-01   7.92962051e-01   7.94206396e-01\n",
      "   7.95032335e-01   7.95561450e-01   7.95710864e-01   7.95604327e-01\n",
      "   7.95054195e-01   7.94185852e-01   7.92917412e-01   7.91333006e-01\n",
      "   7.89407027e-01   7.87191827e-01   7.84601966e-01   7.81670129e-01\n",
      "   7.78304579e-01   7.74733379e-01   7.70738057e-01   7.66429746e-01\n",
      "   7.61724707e-01   7.56768743e-01   7.51488003e-01   7.45797377e-01\n",
      "   7.39816761e-01   7.33560244e-01   7.26941529e-01   7.20010511e-01\n",
      "   7.12776005e-01   7.05201495e-01   6.97318212e-01   6.89130808e-01\n",
      "   6.80622469e-01   6.71851224e-01   6.62784605e-01   6.53376922e-01\n",
      "   6.43750929e-01   6.33835927e-01   6.23643730e-01   6.13127288e-01\n",
      "   6.02356437e-01   5.91339003e-01   5.80121287e-01   5.68511641e-01\n",
      "   5.56751028e-01   5.44742906e-01   5.32472412e-01   5.19925517e-01\n",
      "   5.07230062e-01   4.94257604e-01   4.81077611e-01   4.67744904e-01\n",
      "   4.54115132e-01   4.40310273e-01   4.26325852e-01   4.12178114e-01\n",
      "   3.97854989e-01   3.83398607e-01   3.68716428e-01   3.53825117e-01\n",
      "   3.38797381e-01   3.23629800e-01   3.08356183e-01   2.92902148e-01\n",
      "   2.77410929e-01   2.61725942e-01   2.45915420e-01   2.30041619e-01\n",
      "   2.13996386e-01   1.97889641e-01   1.81730271e-01   1.65440537e-01\n",
      "   1.49090947e-01   1.32695264e-01   1.16218634e-01   9.97345415e-02\n",
      "   8.32056709e-02   6.65831611e-02   4.99652717e-02   3.32972738e-02\n",
      "   1.66050241e-02   0.00000000e+00  -1.66050241e-02]\n",
      "Divergence_E [-4.99459106 -4.98150724 -4.99459106 -5.00403714 -4.9928831  -4.98605987\n",
      " -4.97270706 -4.9519445  -4.94410841 -4.93084692 -4.91179095 -4.89589863\n",
      " -4.86736561 -4.83991719 -4.82279663 -4.78785513 -4.75264848 -4.72432641\n",
      " -4.67643093 -4.64178804 -4.60914771 -4.56617976 -4.52929768 -4.48785695\n",
      " -4.4360235  -4.37078423 -4.31692604 -4.27062934 -4.21982373 -4.16839204\n",
      " -4.11519479 -4.04437188 -3.97690488 -3.92286764 -3.85018707 -3.78635258\n",
      " -3.72260836 -3.6417924  -3.5653102  -3.50553879 -3.42410434 -3.33527251\n",
      " -3.26824264 -3.19309399 -3.10629588 -3.0160798  -2.93114926 -2.85505146\n",
      " -2.77114535 -2.67567948 -2.59193758 -2.50436148 -2.41060305 -2.3186689\n",
      " -2.22135232 -2.12482867 -2.03246003 -1.93128486 -1.8355699  -1.75068622\n",
      " -1.64570489 -1.53550557 -1.44915054 -1.35200254 -1.24554495 -1.1349783\n",
      " -1.04051249 -0.94460807 -0.82825468 -0.72075911 -0.62117678 -0.52655773\n",
      " -0.42792702 -0.32051748 -0.21277122 -0.09850037  0.00643153  0.10177933\n",
      "  0.20325824  0.31054262  0.42162926  0.52634756  0.62691052  0.7294159\n",
      "  0.83368128  0.93251954  1.04013846  1.1436216   1.24210502  1.34312761\n",
      "  1.44745272  1.54567612  1.63840333  1.74510014  1.84748733  1.93709707\n",
      "  2.03696365  2.12804655  2.21744356  2.31758622  2.40596977  2.5002503\n",
      "  2.5931444   2.68149975  2.76697567  2.85321773  2.93910222  3.02112851\n",
      "  3.10676969  3.1856277   3.26209325  3.34346719  3.42095193  3.49488783\n",
      "  3.57870322  3.64904342  3.71731606  3.78798994  3.84557121  3.91703997\n",
      "  3.98428842  4.04261851  4.10505343  4.16599912  4.21995094  4.27291613\n",
      "  4.32941829  4.38389796  4.43082563  4.4747199   4.52094876  4.56829011\n",
      "  4.61474592  4.64746122  4.68180272  4.72232941  4.75830981  4.78577968\n",
      "  4.8147348   4.84621494  4.86688044  4.88598704  4.90824136  4.93037094\n",
      "  4.94902214  4.96241137  4.96303311  4.97371282  4.99324224  4.99680344\n",
      "  5.00164878  5.00420885  5.00164878  4.99680344  4.99324224  4.97371282\n",
      "  4.96303311  4.96241137  4.94902214  4.93037094  4.90824136  4.88598704\n",
      "  4.86688044  4.84621494  4.8147348   4.78577968  4.75830981  4.72232941\n",
      "  4.68180272  4.64746122  4.61474592  4.56829011  4.52094876  4.4747199\n",
      "  4.43082563  4.38389796  4.32941829  4.27291613  4.21995094  4.16599912\n",
      "  4.10505343  4.04261851  3.98428842  3.91703997  3.84557121  3.78798994\n",
      "  3.71731606  3.64904342  3.57870322  3.49488783  3.42095193  3.34346719\n",
      "  3.26209325  3.1856277   3.10676969  3.02112851  2.93910222  2.85321773\n",
      "  2.76697567  2.68149975  2.5931444   2.5002503   2.40596977  2.31758622\n",
      "  2.21744356  2.12804655  2.03696365  1.93709707  1.84748733  1.74510014\n",
      "  1.63840333  1.54567612  1.44745272  1.34312761  1.24210502  1.1436216\n",
      "  1.04013846  0.93251954  0.83368128  0.7294159   0.62691052  0.52634756\n",
      "  0.42162926  0.31054262  0.20325824  0.10177933  0.00643153 -0.09850037\n",
      " -0.21277122 -0.32051748 -0.42792702 -0.52655773 -0.62117678 -0.72075911\n",
      " -0.82825468 -0.94460807 -1.04051249 -1.1349783  -1.24554495 -1.35200254\n",
      " -1.44915054 -1.53550557 -1.64570489 -1.75068622 -1.8355699  -1.93128486\n",
      " -2.03246003 -2.12482867 -2.22135232 -2.3186689  -2.41060305 -2.50436148\n",
      " -2.59193758 -2.67567948 -2.77114535 -2.85505146 -2.93114926 -3.0160798\n",
      " -3.10629588 -3.19309399 -3.26824264 -3.33527251 -3.42410434 -3.50553879\n",
      " -3.5653102  -3.6417924  -3.72260836 -3.78635258 -3.85018707 -3.92286764\n",
      " -3.97690488 -4.04437188 -4.11519479 -4.16839204 -4.21982373 -4.27062934\n",
      " -4.31692604 -4.37078423 -4.4360235  -4.48785695 -4.52929768 -4.56617976\n",
      " -4.60914771 -4.64178804 -4.67643093 -4.72432641 -4.75264848 -4.78785513\n",
      " -4.82279663 -4.83991719 -4.86736561 -4.89589863 -4.91179095 -4.93084692\n",
      " -4.94410841 -4.9519445  -4.97270706 -4.98605987 -4.9928831  -5.00403714\n",
      " -4.99459106 -4.98150724 -4.99459106]\n",
      "rho_initial  [-4.95778993 -4.92284922 -4.9369116  -4.96985137 -4.94160881 -4.91451\n",
      " -4.94119747 -4.8840133  -4.9059346  -4.8985584  -4.85908447 -4.8369559\n",
      " -4.81396111 -4.80907891 -4.77880291 -4.72252719 -4.70877868 -4.68974402\n",
      " -4.62567106 -4.5802354  -4.56974196 -4.50547624 -4.47856428 -4.42340166\n",
      " -4.40105546 -4.31844907 -4.2809315  -4.20282389 -4.15687342 -4.14267411\n",
      " -4.07828432 -3.99759194 -3.91735523 -3.87392297 -3.78591976 -3.74592802\n",
      " -3.67074303 -3.59189683 -3.51054656 -3.48210143 -3.37746337 -3.26958657\n",
      " -3.22555839 -3.13673353 -3.06785186 -2.95995953 -2.88406108 -2.80268807\n",
      " -2.7232782  -2.60905348 -2.56962979 -2.43272696 -2.3730148  -2.25585796\n",
      " -2.19360798 -2.06446253 -1.99567326 -1.87545503 -1.7913974  -1.6961942\n",
      " -1.59956126 -1.47595861 -1.4261468  -1.2718531  -1.21310922 -1.07842049\n",
      " -0.9905687  -0.90144801 -0.77546003 -0.67313517 -0.54737056 -0.481249\n",
      " -0.4042483  -0.24897192 -0.18773143 -0.0338585   0.0714686   0.13153677\n",
      "  0.24644787  0.35289854  0.48504789  0.58090953  0.6617773   0.78126755\n",
      "  0.9047001   0.96488692  1.08934672  1.19697449  1.29800547  1.38463067\n",
      "  1.50360486  1.59957153  1.68142282  1.79246062  1.89994086  1.97400077\n",
      "  2.09756552  2.15918687  2.27898122  2.36719531  2.45523249  2.55230945\n",
      "  2.6403753   2.74367451  2.80707757  2.91382463  2.98094949  3.05454378\n",
      "  3.16924303  3.24323203  3.30441219  3.39280565  3.47686783  3.52739094\n",
      "  3.63472217  3.71651712  3.7590742   3.83940169  3.87792122  3.96548322\n",
      "  4.05856372  4.07549851  4.15089702  4.21881591  4.27004738  4.3213302\n",
      "  4.38615272  4.4236233   4.49574983  4.51839633  4.56673182  4.61584676\n",
      "  4.68659153  4.67785709  4.73816544  4.76414571  4.82513595  4.81715099\n",
      "  4.86555336  4.90461878  4.9075338   4.94142073  4.9537369   4.99858384\n",
      "  4.99337166  5.00665469  5.01391712  5.01119718  5.05747682  5.0284385\n",
      "  5.07141205  5.04216205  5.05740492  5.0345062   5.06274839  5.0094202\n",
      "  5.01889578  5.01554045  5.01133869  4.95547928  4.96835084  4.92165601\n",
      "  4.92955355  4.88860391  4.86537911  4.84459338  4.80340693  4.77158609\n",
      "  4.73211435  4.70044932  4.66447343  4.60353862  4.58688965  4.51736171\n",
      "  4.47470728  4.43914793  4.37831166  4.31603566  4.2725289   4.21293242\n",
      "  4.16038644  4.10456426  4.01084532  3.97797022  3.89121439  3.85518733\n",
      "  3.76572173  3.67826677  3.63802217  3.542915    3.47641875  3.38777912\n",
      "  3.32116337  3.2215536   3.1543344   3.07587347  3.00425985  2.8885522\n",
      "  2.82436425  2.72292212  2.63965819  2.55877854  2.43657283  2.39008626\n",
      "  2.23562613  2.20187094  2.08298002  1.98500604  1.90650276  1.79765781\n",
      "  1.68406456  1.59560025  1.49453888  1.3941467   1.28970905  1.18272673\n",
      "  1.10434936  0.97884716  0.87995349  0.76251667  0.69980234  0.56348022\n",
      "  0.46822628  0.35808516  0.26209278  0.16443335  0.04382279 -0.05410675\n",
      " -0.15280409 -0.28114193 -0.36674988 -0.46695105 -0.5997477  -0.6631322\n",
      " -0.77957051 -0.89405422 -1.00535564 -1.06269885 -1.20885656 -1.30577576\n",
      " -1.4142639  -1.44937101 -1.6233034  -1.69687968 -1.79205097 -1.86547065\n",
      " -1.9986143  -2.06112888 -2.16980353 -2.26784283 -2.36517536 -2.45997301\n",
      " -2.54185616 -2.61024348 -2.75056538 -2.79239256 -2.89164029 -2.95526284\n",
      " -3.06337818 -3.1380796  -3.23586936 -3.27337626 -3.38422789 -3.44259896\n",
      " -3.50667116 -3.59424226 -3.68148431 -3.73474871 -3.79571375 -3.90092513\n",
      " -3.91709764 -3.99460259 -4.0649855  -4.08924126 -4.18924828 -4.23615675\n",
      " -4.26053956 -4.30480378 -4.3939027  -4.44301597 -4.49624744 -4.51235765\n",
      " -4.56242836 -4.60515637 -4.61090699 -4.68399604 -4.68432575 -4.75378245\n",
      " -4.78391023 -4.75866778 -4.82401472 -4.8639273  -4.86103523 -4.86522187\n",
      " -4.8931002  -4.90539364 -4.9152799  -4.96169039 -4.93698664 -4.95270593\n",
      " -4.95778993 -4.92284922 -4.9369116 ]\n"
     ]
    }
   ],
   "source": [
    "print('Ex_initial_centered', Ex_initial_centered[:])\n",
    "\n",
    "print('Divergence_E', Divergence_E[:])\n",
    "print('rho_initial ', rho_initial[:])"
   ]
  },
  {
   "cell_type": "code",
   "execution_count": 31,
   "metadata": {
    "collapsed": false
   },
   "outputs": [
    {
     "data": {
      "image/png": "[encoded data removed]",
      "text/plain": [
       "<matplotlib.figure.Figure at 0x7ffa22711160>"
      ]
     },
     "metadata": {},
     "output_type": "display_data"
    }
   ],
   "source": [
    "pl.plot(np.array(Divergence_E), label = r'$\\nabla \\cdot E$')\n",
    "pl.plot(rho_initial , label = 'rho')\n",
    "pl.legend()\n",
    "pl.show()\n",
    "pl.clf()"
   ]
  },
  {
   "cell_type": "code",
   "execution_count": 32,
   "metadata": {
    "collapsed": false
   },
   "outputs": [
    {
     "data": {
      "image/png": "[encoded data removed]",
      "text/plain": [
       "<matplotlib.figure.Figure at 0x7ffa197b4f98>"
      ]
     },
     "metadata": {},
     "output_type": "display_data"
    }
   ],
   "source": [
    "pl.plot(np.array(Divergence_E_rho))\n",
    "pl.show()\n",
    "pl.clf()"
   ]
  },
  {
   "cell_type": "code",
   "execution_count": 33,
   "metadata": {
    "collapsed": true
   },
   "outputs": [],
   "source": [
    "Ex_intitial_staggered = 0.5 * (Ex_initial_centered + np.roll(Ex_initial_centered, -1))\n",
    "Ex_intitial_staggered = periodic_field(Ex_intitial_staggered, ghost_cells)"
   ]
  },
  {
   "cell_type": "code",
   "execution_count": 34,
   "metadata": {
    "collapsed": false
   },
   "outputs": [
    {
     "data": {
      "image/png": "[encoded data removed]",
      "text/plain": [
       "<matplotlib.figure.Figure at 0x7ffa196d0d68>"
      ]
     },
     "metadata": {},
     "output_type": "display_data"
    }
   ],
   "source": [
    "# Plotting the Electric field in the system for the given initial conditions\n",
    "pl.plot(Ex_intitial_staggered, label = 'Ex numerical')\n",
    "pl.xlabel('x')\n",
    "pl.ylabel('E_{x}')\n",
    "pl.title('$\\mathrm{Initial\\;conditions\\;E_{x}}$')\n",
    "pl.show()\n",
    "pl.clf()"
   ]
  },
  {
   "cell_type": "code",
   "execution_count": 35,
   "metadata": {
    "collapsed": false
   },
   "outputs": [
    {
     "name": "stdout",
     "output_type": "stream",
     "text": [
      "[ 0.00830251 -0.00830251 -0.02495115 -0.04163127 -0.05827422 -0.07489442\n",
      " -0.09147011 -0.10797659 -0.12445695 -0.14089311 -0.15726574 -0.1735854\n",
      " -0.18980996 -0.20594301 -0.222019   -0.23797852 -0.25382068 -0.26956844\n",
      " -0.28515654 -0.30062917 -0.31599299 -0.33121359 -0.34631125 -0.36127077\n",
      " -0.37605752 -0.3906268  -0.40501655 -0.41925198 -0.43331806 -0.4472127\n",
      " -0.46093002 -0.47441126 -0.48766761 -0.50074383 -0.51357779 -0.52619896\n",
      " -0.53860766 -0.55074697 -0.56263133 -0.57431646 -0.58573015 -0.59684772\n",
      " -0.60774186 -0.61838551 -0.62873983 -0.63879343 -0.64856393 -0.65808076\n",
      " -0.66731791 -0.67623685 -0.68487664 -0.69322451 -0.70125985 -0.70898875\n",
      " -0.71639326 -0.72347602 -0.73025089 -0.7366885  -0.74280707 -0.74864269\n",
      " -0.75412837 -0.75924672 -0.76407723 -0.7685839  -0.77273572 -0.77651898\n",
      " -0.77998735 -0.78313605 -0.7858969  -0.78829943 -0.79037002 -0.79212521\n",
      " -0.79355163 -0.79462002 -0.79532926 -0.7956576  -0.79563616 -0.79529689\n",
      " -0.79461937 -0.79358422 -0.79217879 -0.7904243  -0.7883346  -0.78590321\n",
      " -0.78312427 -0.78001588 -0.77654875 -0.77273668 -0.76859633 -0.76411923\n",
      " -0.75929439 -0.75414214 -0.74868079 -0.74286379 -0.7367055  -0.73024851\n",
      " -0.72345863 -0.71636514 -0.70897367 -0.70124838 -0.69322848 -0.68489431\n",
      " -0.6762505  -0.66731216 -0.65808891 -0.64857819 -0.63878118 -0.62871075\n",
      " -0.61835485 -0.60773609 -0.59686245 -0.58571756 -0.57431438 -0.56266476\n",
      " -0.55073575 -0.53857227 -0.52618122 -0.51355458 -0.50073601 -0.48767921\n",
      " -0.47439825 -0.46092286 -0.44723934 -0.43335268 -0.41928618 -0.40504312\n",
      " -0.39061173 -0.37599874 -0.36122932 -0.34631358 -0.33124376 -0.31601612\n",
      " -0.30063364 -0.2851421  -0.26953609 -0.25379499 -0.23793396 -0.22198136\n",
      " -0.20593224 -0.18977819 -0.17355526 -0.15726864 -0.14090783 -0.12447326\n",
      " -0.10797652 -0.09143515 -0.07489171 -0.05831266 -0.04166852 -0.02501251\n",
      " -0.00834035  0.00834035  0.02501251  0.04166852  0.05831266  0.07489171\n",
      "  0.09143515  0.10797652  0.12447326  0.14090783  0.15726864  0.17355526\n",
      "  0.18977819  0.20593224  0.22198136  0.23793396  0.25379499  0.26953609\n",
      "  0.2851421   0.30063364  0.31601612  0.33124376  0.34631358  0.36122932\n",
      "  0.37599874  0.39061173  0.40504312  0.41928618  0.43335268  0.44723934\n",
      "  0.46092286  0.47439825  0.48767921  0.50073601  0.51355458  0.52618122\n",
      "  0.53857227  0.55073575  0.56266476  0.57431438  0.58571756  0.59686245\n",
      "  0.60773609  0.61835485  0.62871075  0.63878118  0.64857819  0.65808891\n",
      "  0.66731216  0.6762505   0.68489431  0.69322848  0.70124838  0.70897367\n",
      "  0.71636514  0.72345863  0.73024851  0.7367055   0.74286379  0.74868079\n",
      "  0.75414214  0.75929439  0.76411923  0.76859633  0.77273668  0.77654875\n",
      "  0.78001588  0.78312427  0.78590321  0.7883346   0.7904243   0.79217879\n",
      "  0.79358422  0.79461937  0.79529689  0.79563616  0.7956576   0.79532926\n",
      "  0.79462002  0.79355163  0.79212521  0.79037002  0.78829943  0.7858969\n",
      "  0.78313605  0.77998735  0.77651898  0.77273572  0.7685839   0.76407723\n",
      "  0.75924672  0.75412837  0.74864269  0.74280707  0.7366885   0.73025089\n",
      "  0.72347602  0.71639326  0.70898875  0.70125985  0.69322451  0.68487664\n",
      "  0.67623685  0.66731791  0.65808076  0.64856393  0.63879343  0.62873983\n",
      "  0.61838551  0.60774186  0.59684772  0.58573015  0.57431646  0.56263133\n",
      "  0.55074697  0.53860766  0.52619896  0.51357779  0.50074383  0.48766761\n",
      "  0.47441126  0.46093002  0.4472127   0.43331806  0.41925198  0.40501655\n",
      "  0.3906268   0.37605752  0.36127077  0.34631125  0.33121359  0.31599299\n",
      "  0.30062917  0.28515654  0.26956844  0.25382068  0.23797852  0.222019\n",
      "  0.20594301  0.18980996  0.1735854   0.15726574  0.14089311  0.12445695\n",
      "  0.10797659  0.09147011  0.07489442  0.05827422  0.04163127  0.02495115\n",
      "  0.00830251 -0.00830251 -0.02495115]\n",
      "[  1.66050241e-02   0.00000000e+00  -1.66050241e-02  -3.32972738e-02\n",
      "  -4.99652717e-02  -6.65831611e-02  -8.32056709e-02  -9.97345415e-02\n",
      "  -1.16218634e-01  -1.32695264e-01  -1.49090947e-01  -1.65440537e-01\n",
      "  -1.81730271e-01  -1.97889641e-01  -2.13996386e-01  -2.30041619e-01\n",
      "  -2.45915420e-01  -2.61725942e-01  -2.77410929e-01  -2.92902148e-01\n",
      "  -3.08356183e-01  -3.23629800e-01  -3.38797381e-01  -3.53825117e-01\n",
      "  -3.68716428e-01  -3.83398607e-01  -3.97854989e-01  -4.12178114e-01\n",
      "  -4.26325852e-01  -4.40310273e-01  -4.54115132e-01  -4.67744904e-01\n",
      "  -4.81077611e-01  -4.94257604e-01  -5.07230062e-01  -5.19925517e-01\n",
      "  -5.32472412e-01  -5.44742906e-01  -5.56751028e-01  -5.68511641e-01\n",
      "  -5.80121287e-01  -5.91339003e-01  -6.02356437e-01  -6.13127288e-01\n",
      "  -6.23643730e-01  -6.33835927e-01  -6.43750929e-01  -6.53376922e-01\n",
      "  -6.62784605e-01  -6.71851224e-01  -6.80622469e-01  -6.89130808e-01\n",
      "  -6.97318212e-01  -7.05201495e-01  -7.12776005e-01  -7.20010511e-01\n",
      "  -7.26941529e-01  -7.33560244e-01  -7.39816761e-01  -7.45797377e-01\n",
      "  -7.51488003e-01  -7.56768743e-01  -7.61724707e-01  -7.66429746e-01\n",
      "  -7.70738057e-01  -7.74733379e-01  -7.78304579e-01  -7.81670129e-01\n",
      "  -7.84601966e-01  -7.87191827e-01  -7.89407027e-01  -7.91333006e-01\n",
      "  -7.92917412e-01  -7.94185852e-01  -7.95054195e-01  -7.95604327e-01\n",
      "  -7.95710864e-01  -7.95561450e-01  -7.95032335e-01  -7.94206396e-01\n",
      "  -7.92962051e-01  -7.91395534e-01  -7.89453067e-01  -7.87216130e-01\n",
      "  -7.84590295e-01  -7.81658255e-01  -7.78373498e-01  -7.74723999e-01\n",
      "  -7.70749354e-01  -7.66443299e-01  -7.61795170e-01  -7.56793614e-01\n",
      "  -7.51490662e-01  -7.45870925e-01  -7.39856661e-01  -7.33554343e-01\n",
      "  -7.26942681e-01  -7.19974585e-01  -7.12755704e-01  -7.05191628e-01\n",
      "  -6.97305129e-01  -6.89151830e-01  -6.80636794e-01  -6.71864200e-01\n",
      "  -6.62760129e-01  -6.53417696e-01  -6.43738677e-01  -6.33823681e-01\n",
      "  -6.23597820e-01  -6.13111883e-01  -6.02360302e-01  -5.91364595e-01\n",
      "  -5.80070521e-01  -5.68558248e-01  -5.56771269e-01  -5.44700227e-01\n",
      "  -5.32444313e-01  -5.19918120e-01  -5.07191047e-01  -4.94280979e-01\n",
      "  -4.81077447e-01  -4.67719056e-01  -4.54126657e-01  -4.40352033e-01\n",
      "  -4.26353329e-01  -4.12219027e-01  -3.97867222e-01  -3.83356238e-01\n",
      "  -3.68641235e-01  -3.53817401e-01  -3.38809769e-01  -3.23677742e-01\n",
      "  -3.08354502e-01  -2.92912769e-01  -2.77371427e-01  -2.61700751e-01\n",
      "  -2.45889231e-01  -2.29978686e-01  -2.13984033e-01  -1.97880454e-01\n",
      "  -1.81675934e-01  -1.65434584e-01  -1.49102687e-01  -1.32712975e-01\n",
      "  -1.16233547e-01  -9.97194942e-02  -8.31508046e-02  -6.66326068e-02\n",
      "  -4.99927191e-02  -3.33443252e-02  -1.66806962e-02   2.36847579e-16\n",
      "   1.66806962e-02   3.33443252e-02   4.99927191e-02   6.66326068e-02\n",
      "   8.31508046e-02   9.97194942e-02   1.16233547e-01   1.32712975e-01\n",
      "   1.49102687e-01   1.65434584e-01   1.81675934e-01   1.97880454e-01\n",
      "   2.13984033e-01   2.29978686e-01   2.45889231e-01   2.61700751e-01\n",
      "   2.77371427e-01   2.92912769e-01   3.08354502e-01   3.23677742e-01\n",
      "   3.38809769e-01   3.53817401e-01   3.68641235e-01   3.83356238e-01\n",
      "   3.97867222e-01   4.12219027e-01   4.26353329e-01   4.40352033e-01\n",
      "   4.54126657e-01   4.67719056e-01   4.81077447e-01   4.94280979e-01\n",
      "   5.07191047e-01   5.19918120e-01   5.32444313e-01   5.44700227e-01\n",
      "   5.56771269e-01   5.68558248e-01   5.80070521e-01   5.91364595e-01\n",
      "   6.02360302e-01   6.13111883e-01   6.23597820e-01   6.33823681e-01\n",
      "   6.43738677e-01   6.53417696e-01   6.62760129e-01   6.71864200e-01\n",
      "   6.80636794e-01   6.89151830e-01   6.97305129e-01   7.05191628e-01\n",
      "   7.12755704e-01   7.19974585e-01   7.26942681e-01   7.33554343e-01\n",
      "   7.39856661e-01   7.45870925e-01   7.51490662e-01   7.56793614e-01\n",
      "   7.61795170e-01   7.66443299e-01   7.70749354e-01   7.74723999e-01\n",
      "   7.78373498e-01   7.81658255e-01   7.84590295e-01   7.87216130e-01\n",
      "   7.89453067e-01   7.91395534e-01   7.92962051e-01   7.94206396e-01\n",
      "   7.95032335e-01   7.95561450e-01   7.95710864e-01   7.95604327e-01\n",
      "   7.95054195e-01   7.94185852e-01   7.92917412e-01   7.91333006e-01\n",
      "   7.89407027e-01   7.87191827e-01   7.84601966e-01   7.81670129e-01\n",
      "   7.78304579e-01   7.74733379e-01   7.70738057e-01   7.66429746e-01\n",
      "   7.61724707e-01   7.56768743e-01   7.51488003e-01   7.45797377e-01\n",
      "   7.39816761e-01   7.33560244e-01   7.26941529e-01   7.20010511e-01\n",
      "   7.12776005e-01   7.05201495e-01   6.97318212e-01   6.89130808e-01\n",
      "   6.80622469e-01   6.71851224e-01   6.62784605e-01   6.53376922e-01\n",
      "   6.43750929e-01   6.33835927e-01   6.23643730e-01   6.13127288e-01\n",
      "   6.02356437e-01   5.91339003e-01   5.80121287e-01   5.68511641e-01\n",
      "   5.56751028e-01   5.44742906e-01   5.32472412e-01   5.19925517e-01\n",
      "   5.07230062e-01   4.94257604e-01   4.81077611e-01   4.67744904e-01\n",
      "   4.54115132e-01   4.40310273e-01   4.26325852e-01   4.12178114e-01\n",
      "   3.97854989e-01   3.83398607e-01   3.68716428e-01   3.53825117e-01\n",
      "   3.38797381e-01   3.23629800e-01   3.08356183e-01   2.92902148e-01\n",
      "   2.77410929e-01   2.61725942e-01   2.45915420e-01   2.30041619e-01\n",
      "   2.13996386e-01   1.97889641e-01   1.81730271e-01   1.65440537e-01\n",
      "   1.49090947e-01   1.32695264e-01   1.16218634e-01   9.97345415e-02\n",
      "   8.32056709e-02   6.65831611e-02   4.99652717e-02   3.32972738e-02\n",
      "   1.66050241e-02   0.00000000e+00  -1.66050241e-02]\n"
     ]
    }
   ],
   "source": [
    "print(Ex_intitial_staggered)\n",
    "print(Ex_initial_centered)\n"
   ]
  },
  {
   "cell_type": "code",
   "execution_count": 36,
   "metadata": {
    "collapsed": false
   },
   "outputs": [
    {
     "ename": "AttributeError",
     "evalue": "'NoneType' object has no attribute 'decode'",
     "output_type": "error",
     "traceback": [
      "\u001b[0;31m---------------------------------------------------------------------------\u001b[0m",
      "\u001b[0;31mAttributeError\u001b[0m                            Traceback (most recent call last)",
      "\u001b[0;32m<ipython-input-36-8cf352cee44e>\u001b[0m in \u001b[0;36m<module>\u001b[0;34m()\u001b[0m\n\u001b[1;32m      2\u001b[0m \u001b[0mEx\u001b[0m           \u001b[0;34m=\u001b[0m \u001b[0maf\u001b[0m\u001b[0;34m.\u001b[0m\u001b[0mto_array\u001b[0m\u001b[0;34m(\u001b[0m\u001b[0mEx_intitial_staggered\u001b[0m\u001b[0;34m)\u001b[0m\u001b[0;34m\u001b[0m\u001b[0m\n\u001b[1;32m      3\u001b[0m \u001b[0mpositions_x\u001b[0m  \u001b[0;34m=\u001b[0m \u001b[0maf\u001b[0m\u001b[0;34m.\u001b[0m\u001b[0mto_array\u001b[0m\u001b[0;34m(\u001b[0m\u001b[0mpositions_x\u001b[0m\u001b[0;34m)\u001b[0m\u001b[0;34m\u001b[0m\u001b[0m\n\u001b[0;32m----> 4\u001b[0;31m \u001b[0mvelocity_x\u001b[0m   \u001b[0;34m=\u001b[0m \u001b[0maf\u001b[0m\u001b[0;34m.\u001b[0m\u001b[0mto_array\u001b[0m\u001b[0;34m(\u001b[0m\u001b[0mvelocity_x\u001b[0m\u001b[0;34m)\u001b[0m\u001b[0;34m\u001b[0m\u001b[0m\n\u001b[0m\u001b[1;32m      5\u001b[0m \u001b[0mx_grid\u001b[0m       \u001b[0;34m=\u001b[0m \u001b[0maf\u001b[0m\u001b[0;34m.\u001b[0m\u001b[0mto_array\u001b[0m\u001b[0;34m(\u001b[0m\u001b[0mx_grid\u001b[0m\u001b[0;34m)\u001b[0m\u001b[0;34m\u001b[0m\u001b[0m\n\u001b[1;32m      6\u001b[0m \u001b[0mx_right\u001b[0m      \u001b[0;34m=\u001b[0m \u001b[0maf\u001b[0m\u001b[0;34m.\u001b[0m\u001b[0mto_array\u001b[0m\u001b[0;34m(\u001b[0m\u001b[0mx_right\u001b[0m\u001b[0;34m)\u001b[0m\u001b[0;34m\u001b[0m\u001b[0m\n",
      "\u001b[0;32m/home/tejas/anaconda3/lib/python3.6/site-packages/arrayfire/interop.py\u001b[0m in \u001b[0;36mto_array\u001b[0;34m(in_array)\u001b[0m\n\u001b[1;32m    234\u001b[0m     \"\"\"\n\u001b[1;32m    235\u001b[0m     \u001b[0;32mif\u001b[0m \u001b[0mAF_NUMPY_FOUND\u001b[0m \u001b[0;32mand\u001b[0m \u001b[0misinstance\u001b[0m\u001b[0;34m(\u001b[0m\u001b[0min_array\u001b[0m\u001b[0;34m,\u001b[0m \u001b[0mNumpyArray\u001b[0m\u001b[0;34m)\u001b[0m\u001b[0;34m:\u001b[0m\u001b[0;34m\u001b[0m\u001b[0m\n\u001b[0;32m--> 236\u001b[0;31m         \u001b[0;32mreturn\u001b[0m \u001b[0mnp_to_af_array\u001b[0m\u001b[0;34m(\u001b[0m\u001b[0min_array\u001b[0m\u001b[0;34m)\u001b[0m\u001b[0;34m\u001b[0m\u001b[0m\n\u001b[0m\u001b[1;32m    237\u001b[0m     \u001b[0;32mif\u001b[0m \u001b[0mAF_PYCUDA_FOUND\u001b[0m \u001b[0;32mand\u001b[0m \u001b[0misinstance\u001b[0m\u001b[0;34m(\u001b[0m\u001b[0min_array\u001b[0m\u001b[0;34m,\u001b[0m \u001b[0mCudaArray\u001b[0m\u001b[0;34m)\u001b[0m\u001b[0;34m:\u001b[0m\u001b[0;34m\u001b[0m\u001b[0m\n\u001b[1;32m    238\u001b[0m         \u001b[0;32mreturn\u001b[0m \u001b[0mpycuda_to_af_array\u001b[0m\u001b[0;34m(\u001b[0m\u001b[0min_array\u001b[0m\u001b[0;34m)\u001b[0m\u001b[0;34m\u001b[0m\u001b[0m\n",
      "\u001b[0;32m/home/tejas/anaconda3/lib/python3.6/site-packages/arrayfire/interop.py\u001b[0m in \u001b[0;36mnp_to_af_array\u001b[0;34m(np_arr)\u001b[0m\n\u001b[1;32m     59\u001b[0m \u001b[0;34m\u001b[0m\u001b[0m\n\u001b[1;32m     60\u001b[0m         \u001b[0;32mif\u001b[0m \u001b[0;34m(\u001b[0m\u001b[0mnp_arr\u001b[0m\u001b[0;34m.\u001b[0m\u001b[0mflags\u001b[0m\u001b[0;34m[\u001b[0m\u001b[0;34m'F_CONTIGUOUS'\u001b[0m\u001b[0;34m]\u001b[0m\u001b[0;34m)\u001b[0m\u001b[0;34m:\u001b[0m\u001b[0;34m\u001b[0m\u001b[0m\n\u001b[0;32m---> 61\u001b[0;31m             \u001b[0;32mreturn\u001b[0m \u001b[0mArray\u001b[0m\u001b[0;34m(\u001b[0m\u001b[0min_ptr\u001b[0m\u001b[0;34m,\u001b[0m \u001b[0min_shape\u001b[0m\u001b[0;34m,\u001b[0m \u001b[0min_dtype\u001b[0m\u001b[0;34m)\u001b[0m\u001b[0;34m\u001b[0m\u001b[0m\n\u001b[0m\u001b[1;32m     62\u001b[0m         \u001b[0;32melif\u001b[0m \u001b[0;34m(\u001b[0m\u001b[0mnp_arr\u001b[0m\u001b[0;34m.\u001b[0m\u001b[0mflags\u001b[0m\u001b[0;34m[\u001b[0m\u001b[0;34m'C_CONTIGUOUS'\u001b[0m\u001b[0;34m]\u001b[0m\u001b[0;34m)\u001b[0m\u001b[0;34m:\u001b[0m\u001b[0;34m\u001b[0m\u001b[0m\n\u001b[1;32m     63\u001b[0m             \u001b[0;32mif\u001b[0m \u001b[0mnp_arr\u001b[0m\u001b[0;34m.\u001b[0m\u001b[0mndim\u001b[0m \u001b[0;34m==\u001b[0m \u001b[0;36m1\u001b[0m\u001b[0;34m:\u001b[0m\u001b[0;34m\u001b[0m\u001b[0m\n",
      "\u001b[0;32m/home/tejas/anaconda3/lib/python3.6/site-packages/arrayfire/array.py\u001b[0m in \u001b[0;36m__init__\u001b[0;34m(self, src, dims, dtype, is_device, offset, strides)\u001b[0m\n\u001b[1;32m    443\u001b[0m                 \u001b[0;32mraise\u001b[0m \u001b[0mTypeError\u001b[0m\u001b[0;34m(\u001b[0m\u001b[0;34m\"Can not create array of requested type from input data type\"\u001b[0m\u001b[0;34m)\u001b[0m\u001b[0;34m\u001b[0m\u001b[0m\n\u001b[1;32m    444\u001b[0m             \u001b[0;32mif\u001b[0m\u001b[0;34m(\u001b[0m\u001b[0moffset\u001b[0m \u001b[0;32mis\u001b[0m \u001b[0;32mNone\u001b[0m \u001b[0;32mand\u001b[0m \u001b[0mstrides\u001b[0m \u001b[0;32mis\u001b[0m \u001b[0;32mNone\u001b[0m\u001b[0;34m)\u001b[0m\u001b[0;34m:\u001b[0m\u001b[0;34m\u001b[0m\u001b[0m\n\u001b[0;32m--> 445\u001b[0;31m                 \u001b[0mself\u001b[0m\u001b[0;34m.\u001b[0m\u001b[0marr\u001b[0m \u001b[0;34m=\u001b[0m \u001b[0m_create_array\u001b[0m\u001b[0;34m(\u001b[0m\u001b[0mbuf\u001b[0m\u001b[0;34m,\u001b[0m \u001b[0mnumdims\u001b[0m\u001b[0;34m,\u001b[0m \u001b[0midims\u001b[0m\u001b[0;34m,\u001b[0m \u001b[0mto_dtype\u001b[0m\u001b[0;34m[\u001b[0m\u001b[0m_type_char\u001b[0m\u001b[0;34m]\u001b[0m\u001b[0;34m,\u001b[0m \u001b[0mis_device\u001b[0m\u001b[0;34m)\u001b[0m\u001b[0;34m\u001b[0m\u001b[0m\n\u001b[0m\u001b[1;32m    446\u001b[0m             \u001b[0;32melse\u001b[0m\u001b[0;34m:\u001b[0m\u001b[0;34m\u001b[0m\u001b[0m\n\u001b[1;32m    447\u001b[0m                 \u001b[0mself\u001b[0m\u001b[0;34m.\u001b[0m\u001b[0marr\u001b[0m \u001b[0;34m=\u001b[0m \u001b[0m_create_strided_array\u001b[0m\u001b[0;34m(\u001b[0m\u001b[0mbuf\u001b[0m\u001b[0;34m,\u001b[0m \u001b[0mnumdims\u001b[0m\u001b[0;34m,\u001b[0m \u001b[0midims\u001b[0m\u001b[0;34m,\u001b[0m \u001b[0mto_dtype\u001b[0m\u001b[0;34m[\u001b[0m\u001b[0m_type_char\u001b[0m\u001b[0;34m]\u001b[0m\u001b[0;34m,\u001b[0m \u001b[0mis_device\u001b[0m\u001b[0;34m,\u001b[0m \u001b[0moffset\u001b[0m\u001b[0;34m,\u001b[0m \u001b[0mstrides\u001b[0m\u001b[0;34m)\u001b[0m\u001b[0;34m\u001b[0m\u001b[0m\n",
      "\u001b[0;32m/home/tejas/anaconda3/lib/python3.6/site-packages/arrayfire/array.py\u001b[0m in \u001b[0;36m_create_array\u001b[0;34m(buf, numdims, idims, dtype, is_device)\u001b[0m\n\u001b[1;32m     26\u001b[0m     \u001b[0;32mif\u001b[0m \u001b[0;34m(\u001b[0m\u001b[0;32mnot\u001b[0m \u001b[0mis_device\u001b[0m\u001b[0;34m)\u001b[0m\u001b[0;34m:\u001b[0m\u001b[0;34m\u001b[0m\u001b[0m\n\u001b[1;32m     27\u001b[0m         safe_call(backend.get().af_create_array(c_pointer(out_arr), c_void_ptr_t(buf),\n\u001b[0;32m---> 28\u001b[0;31m                                                 numdims, c_pointer(c_dims), dtype.value))\n\u001b[0m\u001b[1;32m     29\u001b[0m     \u001b[0;32melse\u001b[0m\u001b[0;34m:\u001b[0m\u001b[0;34m\u001b[0m\u001b[0m\n\u001b[1;32m     30\u001b[0m         safe_call(backend.get().af_device_array(c_pointer(out_arr), c_void_ptr_t(buf),\n",
      "\u001b[0;32m/home/tejas/anaconda3/lib/python3.6/site-packages/arrayfire/util.py\u001b[0m in \u001b[0;36msafe_call\u001b[0;34m(af_error)\u001b[0m\n\u001b[1;32m     77\u001b[0m         \u001b[0merr_len\u001b[0m \u001b[0;34m=\u001b[0m \u001b[0mc_dim_t\u001b[0m\u001b[0;34m(\u001b[0m\u001b[0;36m0\u001b[0m\u001b[0;34m)\u001b[0m\u001b[0;34m\u001b[0m\u001b[0m\n\u001b[1;32m     78\u001b[0m         \u001b[0mbackend\u001b[0m\u001b[0;34m.\u001b[0m\u001b[0mget\u001b[0m\u001b[0;34m(\u001b[0m\u001b[0;34m)\u001b[0m\u001b[0;34m.\u001b[0m\u001b[0maf_get_last_error\u001b[0m\u001b[0;34m(\u001b[0m\u001b[0mc_pointer\u001b[0m\u001b[0;34m(\u001b[0m\u001b[0merr_str\u001b[0m\u001b[0;34m)\u001b[0m\u001b[0;34m,\u001b[0m \u001b[0mc_pointer\u001b[0m\u001b[0;34m(\u001b[0m\u001b[0merr_len\u001b[0m\u001b[0;34m)\u001b[0m\u001b[0;34m)\u001b[0m\u001b[0;34m\u001b[0m\u001b[0m\n\u001b[0;32m---> 79\u001b[0;31m         \u001b[0;32mraise\u001b[0m \u001b[0mRuntimeError\u001b[0m\u001b[0;34m(\u001b[0m\u001b[0mto_str\u001b[0m\u001b[0;34m(\u001b[0m\u001b[0merr_str\u001b[0m\u001b[0;34m)\u001b[0m\u001b[0;34m)\u001b[0m\u001b[0;34m\u001b[0m\u001b[0m\n\u001b[0m\u001b[1;32m     80\u001b[0m \u001b[0;34m\u001b[0m\u001b[0m\n\u001b[1;32m     81\u001b[0m \u001b[0;32mdef\u001b[0m \u001b[0mget_version\u001b[0m\u001b[0;34m(\u001b[0m\u001b[0;34m)\u001b[0m\u001b[0;34m:\u001b[0m\u001b[0;34m\u001b[0m\u001b[0m\n",
      "\u001b[0;32m/home/tejas/anaconda3/lib/python3.6/site-packages/arrayfire/util.py\u001b[0m in \u001b[0;36mto_str\u001b[0;34m(c_str)\u001b[0m\n\u001b[1;32m     70\u001b[0m \u001b[0;34m\u001b[0m\u001b[0m\n\u001b[1;32m     71\u001b[0m \u001b[0;32mdef\u001b[0m \u001b[0mto_str\u001b[0m\u001b[0;34m(\u001b[0m\u001b[0mc_str\u001b[0m\u001b[0;34m)\u001b[0m\u001b[0;34m:\u001b[0m\u001b[0;34m\u001b[0m\u001b[0m\n\u001b[0;32m---> 72\u001b[0;31m     \u001b[0;32mreturn\u001b[0m \u001b[0mstr\u001b[0m\u001b[0;34m(\u001b[0m\u001b[0mc_str\u001b[0m\u001b[0;34m.\u001b[0m\u001b[0mvalue\u001b[0m\u001b[0;34m.\u001b[0m\u001b[0mdecode\u001b[0m\u001b[0;34m(\u001b[0m\u001b[0;34m'utf-8'\u001b[0m\u001b[0;34m)\u001b[0m\u001b[0;34m)\u001b[0m\u001b[0;34m\u001b[0m\u001b[0m\n\u001b[0m\u001b[1;32m     73\u001b[0m \u001b[0;34m\u001b[0m\u001b[0m\n\u001b[1;32m     74\u001b[0m \u001b[0;32mdef\u001b[0m \u001b[0msafe_call\u001b[0m\u001b[0;34m(\u001b[0m\u001b[0maf_error\u001b[0m\u001b[0;34m)\u001b[0m\u001b[0;34m:\u001b[0m\u001b[0;34m\u001b[0m\u001b[0m\n",
      "\u001b[0;31mAttributeError\u001b[0m: 'NoneType' object has no attribute 'decode'"
     ]
    }
   ],
   "source": [
    "# Converting to arrayfire arrays\n",
    "Ex           = af.to_array(Ex_intitial_staggered)\n",
    "positions_x  = af.to_array(positions_x)\n",
    "velocity_x   = af.to_array(velocity_x)\n",
    "x_grid       = af.to_array(x_grid)\n",
    "x_right      = af.to_array(x_right)"
   ]
  },
  {
   "cell_type": "code",
   "execution_count": null,
   "metadata": {
    "collapsed": false
   },
   "outputs": [],
   "source": [
    "# This cell block is to obtain v at (t = 0.5dt) to implement the verlet algorithm.\n",
    "\n",
    "positions_x_half = positions_x + velocity_x * dt/2\n",
    "\n",
    "# Periodic Boundary conditions for particles \n",
    "\n",
    "positions_x_half = periodic_particles(positions_x_half, length_domain_x)\n",
    "\n",
    "# Finding interpolant fractions for the positions\n",
    "\n",
    "frac_interpolation = (positions_x_half - af.sum(x_right[0])) / dx\n",
    "\n",
    "# Interpolating the fields at each particle\n",
    "Ex_particle = af.signal.approx1(Ex, frac_interpolation, method= af.INTERP.LINEAR)\n",
    "\n",
    "\n",
    "# Updating the velocity using the interpolated Electric fields to find v at (t = 0.5dt)\n",
    "\n",
    "velocity_x = velocity_x  + (Ex_particle * charge_electron / mass_electron ) * dt/2"
   ]
  },
  {
   "cell_type": "code",
   "execution_count": null,
   "metadata": {
    "collapsed": false
   },
   "outputs": [],
   "source": [
    "for time_index in range(len(time)):\n",
    "    if(time_index%50==0):\n",
    "        print('Computing for time = ', time_index * dt)\n",
    "        \n",
    "\n",
    "    # Updating the positions of particle using the velocites (Verlet algorithm)\n",
    "    # velocity at t = (n + 1/2) dt, positions_x at t = (n)dt and positions_x_new \n",
    "    # at t = (n+1)dt\n",
    "    positions_x_new = positions_x + velocity_x * dt\n",
    "    \n",
    "    # Periodic Boundary conditions for particles \n",
    "    positions_x_new = periodic_particles(positions_x_new, length_domain_x)\n",
    "\n",
    "    # Computing the current densities on the staggered grid provided by Umeda's scheme\n",
    "    \n",
    "    Jx_staggered = Umeda_2003(charge_electron,\\\n",
    "                               number_of_electrons,\\\n",
    "                               positions_x,\\\n",
    "                               velocity_x,\\\n",
    "                               x_grid,\\\n",
    "                               ghost_cells,\\\n",
    "                               length_domain_x,\\\n",
    "                               dx,\\\n",
    "                               dt\\\n",
    "                              )\n",
    "    \n",
    "    # Normalizing and evaluation of current densities on the centered grid\n",
    "    \n",
    "    Jx_norm_staggered = current_norm_BC(Jx_staggered, number_of_electrons, w_p)\n",
    "    \n",
    "    # Evolving electric fields using currents\n",
    "        \n",
    "    Ex = Ex - Jx_norm_staggered * dt\n",
    "    \n",
    "    # Interpolating the fields at each particle\n",
    "    # calculating the interpolation fraction needed for arrayfire's 1D interpolation\n",
    "    frac_interpolation = (positions_x_new - af.sum(x_right[0])) / dx\n",
    "    \n",
    "    Ex_particle = af.signal.approx1(Ex, frac_interpolation, method= af.INTERP.LINEAR)\n",
    "    \n",
    "    # Updating the velocity using the interpolated Electric fields\n",
    "    \n",
    "    velocity_x_new = velocity_x  + (Ex_particle * charge_electron / mass_electron ) * dt\n",
    "    \n",
    "    # Saving the Electric fields for plotting\n",
    "    \n",
    "    Ex_max[time_index]       = (af.max(af.abs(Ex)))\n",
    "    \n",
    "    pl.plot(Ex)\n",
    "    pl.ylim(-1, 1)\n",
    "    pl.savefig('images/' + str(time_index) + '.png')\n",
    "    pl.clf()\n",
    "    \n",
    "\n",
    "    # Saving the updated velocites for the next timestep\n",
    "    velocity_x  = velocity_x_new.copy()\n",
    "    positions_x = positions_x_new.copy()"
   ]
  },
  {
   "cell_type": "code",
   "execution_count": null,
   "metadata": {
    "collapsed": true
   },
   "outputs": [],
   "source": [
    "# Reading data generated by the Cheng Knorr code\n",
    "h5f = h5py.File('CK_256.h5', 'r')\n",
    "Ex_max_CK = h5f['max_E'][:]\n",
    "Ex_max_CK = np.abs(Ex_max_CK)\n",
    "h5f.close()\n",
    "time_CK = np.linspace(0,2, len(Ex_max_CK))"
   ]
  },
  {
   "cell_type": "code",
   "execution_count": null,
   "metadata": {
    "collapsed": true
   },
   "outputs": [],
   "source": [
    "# Reading data generated by the Cheng Knorr code\n",
    "h5f = h5py.File('LT.h5', 'r')\n",
    "Ex_max_LT = h5f['Ex_amp'][:]\n",
    "Ex_max_LT = np.abs(Ex_max_LT)\n",
    "time_LT   = h5f['time_LT'][:]\n",
    "h5f.close()"
   ]
  },
  {
   "cell_type": "code",
   "execution_count": null,
   "metadata": {
    "collapsed": false
   },
   "outputs": [],
   "source": [
    "time_grid = np.linspace(0, time[-1], len(Ex_max))\n",
    "pl.plot(time_grid, Ex_max , label = r'$\\mathrm{PIC}$')\n",
    "# pl.plot(time_LT, Ex_max_LT,'--',lw = 3,label = '$\\mathrm{LT}$')\n",
    "pl.plot(time_CK, Ex_max_CK, label = '$\\mathrm{Cheng\\;Knorr}$')\n",
    "# print('(abs(Ex_amplitude[0])) is ',(abs(Ex_amplitude[0])))\n",
    "# print('(abs(Ex_max[0])) is ',(abs(Ex_max[0])))\n",
    "pl.xlabel('$t$')\n",
    "pl.ylabel('$\\mathrm{MAX}(|E_{x}|)$')\n",
    "pl.legend()\n",
    "pl.show()\n",
    "pl.savefig('MaxE_LT.png')\n",
    "pl.clf()"
   ]
  },
  {
   "cell_type": "code",
   "execution_count": null,
   "metadata": {
    "collapsed": false
   },
   "outputs": [],
   "source": [
    "pl.semilogy(time_grid, Ex_max ,label = r'$\\mathrm{PIC}$')\n",
    "# pl.semilogy(time_LT, Ex_max_LT,'--',lw = 3,label = '$\\mathrm{LT}$')\n",
    "pl.semilogy(time_CK,Ex_max_CK, label = '$\\mathrm{Cheng\\;Knorr}$')\n",
    "pl.legend()\n",
    "pl.xlabel('$t$')\n",
    "pl.ylabel('$\\mathrm{MAX}(|E_{x}|)$')\n",
    "pl.show()\n",
    "pl.savefig('MaxE_semilogy_LT.png')\n",
    "pl.clf()"
   ]
  },
  {
   "cell_type": "code",
   "execution_count": null,
   "metadata": {
    "collapsed": false
   },
   "outputs": [],
   "source": [
    "pl.loglog(time_grid, Ex_max ,label = r'$\\mathrm{PIC}$')\n",
    "# pl.loglog(time_LT, Ex_max_LT,'--',lw = 3,label = '$\\mathrm{LT}$')\n",
    "pl.semilogy(time_CK,Ex_max_CK, label = '$\\mathrm{Cheng\\;Knorr}$')\n",
    "pl.legend()\n",
    "pl.xlabel('$t$')\n",
    "pl.ylabel('$\\mathrm{MAX}(|E_{x}|)$')\n",
    "pl.show()\n",
    "pl.savefig('MaxE_loglog_LT.png')\n",
    "pl.clf()"
   ]
  },
  {
   "cell_type": "code",
   "execution_count": null,
   "metadata": {
    "collapsed": true
   },
   "outputs": [],
   "source": []
  },
  {
   "cell_type": "code",
   "execution_count": null,
   "metadata": {
    "collapsed": true
   },
   "outputs": [],
   "source": []
  }
 ],
 "metadata": {
  "anaconda-cloud": {},
  "kernelspec": {
   "display_name": "Python 3",
   "language": "python",
   "name": "python3"
  },
  "language_info": {
   "codemirror_mode": {
    "name": "ipython",
    "version": 3
   },
   "file_extension": ".py",
   "mimetype": "text/x-python",
   "name": "python",
   "nbconvert_exporter": "python",
   "pygments_lexer": "ipython3",
   "version": "3.6.0"
  }
 },
 "nbformat": 4,
 "nbformat_minor": 2
}
