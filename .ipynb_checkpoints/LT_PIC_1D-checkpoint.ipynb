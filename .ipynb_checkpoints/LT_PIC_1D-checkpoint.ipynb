{
 "cells": [
  {
   "cell_type": "code",
   "execution_count": null,
   "metadata": {
    "collapsed": true
   },
   "outputs": [],
   "source": [
    "import numpy as np\n",
    "import h5py\n",
    "import pylab as pl\n",
    "import arrayfire as af\n",
    "from scipy.integrate import odeint\n",
    "import scipy.fftpack as ff\n",
    "from scipy import interpolate"
   ]
  },
  {
   "cell_type": "code",
   "execution_count": null,
   "metadata": {
    "collapsed": true
   },
   "outputs": [],
   "source": [
    "pl.rcParams['figure.figsize']  = 12, 7.5\n",
    "pl.rcParams['lines.linewidth'] = 1.5\n",
    "pl.rcParams['font.family']     = 'serif'\n",
    "pl.rcParams['font.weight']     = 'bold'\n",
    "pl.rcParams['font.size']       = 20\n",
    "pl.rcParams['font.sans-serif'] = 'serif'\n",
    "pl.rcParams['text.usetex']     = True\n",
    "pl.rcParams['axes.linewidth']  = 1.5\n",
    "pl.rcParams['axes.titlesize']  = 'medium'\n",
    "pl.rcParams['axes.labelsize']  = 'medium'\n",
    "\n",
    "pl.rcParams['xtick.major.size'] = 8\n",
    "pl.rcParams['xtick.minor.size'] = 4\n",
    "pl.rcParams['xtick.major.pad']  = 8\n",
    "pl.rcParams['xtick.minor.pad']  = 8\n",
    "pl.rcParams['xtick.color']      = 'k'\n",
    "pl.rcParams['xtick.labelsize']  = 'medium'\n",
    "pl.rcParams['xtick.direction']  = 'in'\n",
    "\n",
    "pl.rcParams['ytick.major.size'] = 8\n",
    "pl.rcParams['ytick.minor.size'] = 4\n",
    "pl.rcParams['ytick.major.pad']  = 8\n",
    "pl.rcParams['ytick.minor.pad']  = 8\n",
    "pl.rcParams['ytick.color']      = 'k'\n",
    "pl.rcParams['ytick.labelsize']  = 'medium'\n",
    "pl.rcParams['ytick.direction']  = 'in'"
   ]
  },
  {
   "cell_type": "markdown",
   "metadata": {},
   "source": [
    "## For reference\n",
    "\\begin{align}\n",
    "\\hat{V}(k) &= \\int_{0}^{1} V(x)e^{-2\\pi\\;i\\;k\\;x}dx \\\\ \\\\\n",
    "V(x) &= \\frac{1}{Npoints}\\int_{0}^{1} \\hat{V}(k)e^{+2\\pi\\;i\\;k\\;x}dk \\\\ \\\\\n",
    "\\hat{V}(k) &= \\frac{1}{4\\pi^{2}\\;k^2}\\hat{\\rho(k)} \\\\ \\\\\n",
    "\\hat{E}(k) &= -i(2\\pi\\;k)\\hat{V}(k)\n",
    "\\end{align}"
   ]
  },
  {
   "cell_type": "code",
   "execution_count": null,
   "metadata": {
    "collapsed": true
   },
   "outputs": [],
   "source": [
    "# FFT solver :\n",
    "def fft_poisson(rho,dx):\n",
    "\n",
    "    kspace = ff.fftfreq(len(rho), d = dx)\n",
    "    rho_kspace = ff.fft(rho)\n",
    "\n",
    "    V_kspace = np.zeros(len(rho))\n",
    "\n",
    "    V_kspace[1:] =  (1/(4 * np.pi**2 * kspace[1:]**2)) * rho_kspace[1:]\n",
    "    V_kspace[0]  =  (1/(4 * np.pi**2)) * np.sum(rho)/(len(rho))\n",
    "\n",
    "    E_kspace =  -1j * 2 * np. pi * kspace * V_kspace\n",
    "\n",
    "    V = ff.ifft(V_kspace)\n",
    "\n",
    "    V = V.astype(np.double)\n",
    "\n",
    "    E = ff.ifft(E_kspace)\n",
    "\n",
    "    E = E.astype(np.double)\n",
    "\n",
    "    return V, E"
   ]
  },
  {
   "cell_type": "code",
   "execution_count": null,
   "metadata": {
    "collapsed": true
   },
   "outputs": [],
   "source": [
    "# b1 charge depositor\n",
    "def cloud_charge_deposition(charge, zone_x, frac_x, x_grid, dx):\n",
    "\n",
    "    left_corner_charge = (1 - frac_x) * charge / (dx)\n",
    "    right_corner_charge = (frac_x) * charge / (dx)\n",
    "\n",
    "    left_corners  = zone_x.copy()\n",
    "    right_corners = left_corners + 1\n",
    "\n",
    "    corners = np.concatenate([left_corners, right_corners], axis=0)\n",
    "    charges = np.concatenate([left_corner_charge, right_corner_charge], axis=0)\n",
    "\n",
    "    rho, temp = np.histogram(corners, bins=len(x_grid), range=(0, len(x_grid)), weights=charges)\n",
    "\n",
    "    return rho"
   ]
  },
  {
   "cell_type": "code",
   "execution_count": null,
   "metadata": {
    "collapsed": true
   },
   "outputs": [],
   "source": [
    "# Particle parameters\n",
    "k_boltzmann     = 1\n",
    "mass_electron   = 1\n",
    "tempertature    = 1\n",
    "charge_electron = -1\n",
    "charge_ion      = +1"
   ]
  },
  {
   "cell_type": "code",
   "execution_count": null,
   "metadata": {
    "collapsed": true
   },
   "outputs": [],
   "source": [
    "length_domain_x = 1"
   ]
  },
  {
   "cell_type": "code",
   "execution_count": null,
   "metadata": {
    "collapsed": true
   },
   "outputs": [],
   "source": [
    "# Setting number of particle in the domain\n",
    "number_of_electrons = 500000"
   ]
  },
  {
   "cell_type": "code",
   "execution_count": null,
   "metadata": {
    "collapsed": true
   },
   "outputs": [],
   "source": [
    "# Initializing the positions and velocities of the particles\n",
    "positions_x = length_domain_x * np.random.rand(number_of_electrons)\n",
    "\n",
    "mu, sigma = 0, (k_boltzmann * tempertature / mass_electron)\n",
    "\n",
    "velocity_x = np.random.normal(mu, sigma, number_of_electrons)"
   ]
  },
  {
   "cell_type": "code",
   "execution_count": null,
   "metadata": {
    "collapsed": true
   },
   "outputs": [],
   "source": [
    "divisions_domain_x = 200\n",
    "\n",
    "x_grid = np.linspace(0, length_domain_x, divisions_domain_x + 1, endpoint=True)\n",
    "\n",
    "dx = x_grid[1] - x_grid[0]"
   ]
  },
  {
   "cell_type": "code",
   "execution_count": null,
   "metadata": {
    "collapsed": true
   },
   "outputs": [],
   "source": [
    "# Setting the amplitude for perturbation\n",
    "Amplitude_perturbed = 0.01\n",
    "k_fourier = 2 * np.pi\n",
    "# Initializing the perturbation\n",
    "\n",
    "x_divisions_perturbed = 100\n",
    "positions_x = np.zeros(number_of_electrons)\n",
    "velocity_x  = np.zeros(number_of_electrons)\n",
    "last=0\n",
    "next=0\n",
    "\n",
    "for i in range(x_divisions_perturbed):\n",
    "    next=last+(number_of_electrons*Amplitude_perturbed*np.sin((np.pi/2)+i*k_fourier*length_domain_x/x_divisions_perturbed)/x_divisions_perturbed)+(number_of_electrons/x_divisions_perturbed)\n",
    "    number = len(positions_x[int(round(last)):(int(round(next))-1)])\n",
    "    positions_x[int(round(last)):(int(round(next))-1)] = length_domain_x*(i+1)/(x_divisions_perturbed+1)\n",
    "    n_temp = (1 + Amplitude_perturbed * np.cos(i*k_fourier*length_domain_x/x_divisions_perturbed))\n",
    "    velocity_x[int(round(last)):(int(round(next))-1)] = n_temp * np.random.normal(mu, sigma, number)\n",
    "    last=next"
   ]
  },
  {
   "cell_type": "code",
   "execution_count": null,
   "metadata": {
    "collapsed": true
   },
   "outputs": [],
   "source": [
    "# Plot initial density perturbation\n",
    "x_temp = np.linspace(0,1,100)\n",
    "a, b = np.histogram(positions_x, bins=(100), range=(0, length_domain_x))\n",
    "a = (a / (number_of_electrons / 100))\n",
    "pl.plot(x_temp,a)\n",
    "pl.xlabel('$x$')\n",
    "pl.ylabel(r'$\\delta\\rho(x)$')\n",
    "pl.ylim(0.0,2.0)\n",
    "# pl.savefig('data_files/images/' + '%04d'%(0) + '.png')\n",
    "pl.show()\n",
    "pl.clf()"
   ]
  },
  {
   "cell_type": "code",
   "execution_count": null,
   "metadata": {
    "collapsed": true
   },
   "outputs": [],
   "source": [
    "# Time parameters\n",
    "start_time = 0\n",
    "\n",
    "end_time   = 3\n",
    "\n",
    "dt  = 0.01\n",
    "\n",
    "time = np.arange(start_time, end_time + dt, dt)"
   ]
  },
  {
   "cell_type": "code",
   "execution_count": null,
   "metadata": {
    "collapsed": true
   },
   "outputs": [],
   "source": [
    "# Background ions concentration\n",
    "rho_ions = (charge_ion * number_of_electrons) / (len(x_grid) * dx)"
   ]
  },
  {
   "cell_type": "code",
   "execution_count": null,
   "metadata": {
    "collapsed": true
   },
   "outputs": [],
   "source": [
    "# Some variables for storing data\n",
    "Ex_all_times = np.zeros(len(time))\n",
    "Ex_max = np.zeros(len(time))"
   ]
  },
  {
   "cell_type": "code",
   "execution_count": null,
   "metadata": {
    "collapsed": true
   },
   "outputs": [],
   "source": [
    "# Finding interpolant fractions for the positions\n",
    "\n",
    "zone_x = np.floor(((positions_x - x_grid[0]) / dx))\n",
    "zone_x = zone_x.astype(np.int)\n",
    "frac_x = (positions_x - x_grid[zone_x]) / (dx)\n",
    "\n",
    "# Charge deposition using linear weighting scheme\n",
    "\n",
    "rho = cloud_charge_deposition(charge_electron, zone_x, frac_x, x_grid, dx)\n",
    "rho+= rho_ions\n",
    "rho = rho/ number_of_electrons\n",
    "\n",
    "# Calculating the potential/Electric field from the charge deposition.\n",
    "\n",
    "V, Ex = fft_poisson(rho,dx)\n",
    "\n",
    "print('Max electric field', max(Ex))\n",
    "# In[14]:"
   ]
  },
  {
   "cell_type": "code",
   "execution_count": null,
   "metadata": {
    "collapsed": true
   },
   "outputs": [],
   "source": [
    "for time_index in range(len(time)):\n",
    "    if(time_index%100==0):\n",
    "        print('Computing for time_index = ', time_index)\n",
    "\n",
    "    # Updating the positions of particle\n",
    "\n",
    "    positions_x += velocity_x * dt\n",
    "\n",
    "    # Boundary conditions for particles\n",
    "\n",
    "    outside_domain = np.where([positions_x < 0])[1]\n",
    "\n",
    "    positions_x[outside_domain] = positions_x[outside_domain] + length_domain_x\n",
    "\n",
    "    outside_domain = np.where([positions_x > length_domain_x])[1]\n",
    "\n",
    "    positions_x[outside_domain] -= length_domain_x\n",
    "\n",
    "    # Finding interpolant fractions for the positions\n",
    "\n",
    "    zone_x = np.floor(((positions_x - x_grid[0]) / dx))\n",
    "    zone_x = zone_x.astype(np.int)\n",
    "    frac_x = (positions_x - x_grid[zone_x]) / (dx)\n",
    "\n",
    "    # Charge deposition using linear weighting scheme\n",
    "\n",
    "    rho = cloud_charge_deposition(charge_electron, zone_x, frac_x, x_grid, dx)\n",
    "    rho+= rho_ions\n",
    "    rho = rho/ number_of_electrons\n",
    "\n",
    "    # Calculating the potential/Electric field from the charge deposition.\n",
    "\n",
    "    V, Ex = fft_poisson(rho,dx)\n",
    "\n",
    "#     if(time_index == 0):\n",
    "#         pl.plot(Ex)\n",
    "#         pl.show()\n",
    "#         pl.clf()\n",
    "#         input('check')\n",
    "\n",
    "\n",
    "    # Interpolating the fields at each particle\n",
    "    Ex_particle = Ex[zone_x] + frac_x * Ex[zone_x + 1]\n",
    "#     Ex_particle = interpolate.interp1d(x_grid, Ex, kind = 'linear')(positions_x)\n",
    "\n",
    "\n",
    "    velocity_x += (Ex_particle * charge_electron / mass_electron ) * dt\n",
    "\n",
    "    Ex_all_times[time_index] = np.sum(abs(Ex))\n",
    "    Ex_max[time_index] = max(abs(Ex))\n",
    "\n",
    "    # File writing\n",
    "\n",
    "    h5f = h5py.File('data/timestepped_data/solution_'+str(time_index)+'.h5', 'w')\n",
    "    h5f.create_dataset('positions_x',   data = positions_x)\n",
    "    h5f.create_dataset('velocity_x',   data = velocity_x)\n",
    "    h5f.create_dataset('Ex',   data = (Ex))\n",
    "    h5f.close()"
   ]
  },
  {
   "cell_type": "code",
   "execution_count": null,
   "metadata": {
    "collapsed": true
   },
   "outputs": [],
   "source": [
    "# In[15]:\n",
    "# Setting the variables in the maxwell distribution\n",
    "m = 1\n",
    "K = 1\n",
    "T = 1\n",
    "e =-1\n",
    "\n",
    "# k for the mode in fourier space\n",
    "k = 2*np.pi\n",
    "amp = Amplitude_perturbed"
   ]
  },
  {
   "cell_type": "code",
   "execution_count": null,
   "metadata": {
    "collapsed": true
   },
   "outputs": [],
   "source": [
    "# The maxwell Boltzman function\n",
    "def f_0(v):\n",
    "    return np.sqrt(m/(2*np.pi*K*T))*np.exp(-m*v**2/(2*K*T))\n",
    "\n",
    "# This the function which returns the derivative of the maxwell boltzmann equation\n",
    "def diff_f_0_v(v):\n",
    "    return np.sqrt(m/(2*np.pi*K*T))*np.exp(-m*v**2/(2*K*T)) * ( -m * v / (K * T))"
   ]
  },
  {
   "cell_type": "code",
   "execution_count": null,
   "metadata": {
    "collapsed": true
   },
   "outputs": [],
   "source": [
    "# Assign the maxim and minimum velocity for the velocity grid\n",
    "velocity_max =  +10\n",
    "velocity_min =  -10\n",
    "\n",
    "# Set the divisions for the velocity grid\n",
    "number_of_velocities_points = 501\n",
    "velocity_x = np.linspace(velocity_min, velocity_max, number_of_velocities_points)\n",
    "dv = velocity_x[1] - velocity_x[0]"
   ]
  },
  {
   "cell_type": "code",
   "execution_count": null,
   "metadata": {
    "collapsed": true
   },
   "outputs": [],
   "source": [
    "# Function that returns df_i/dt and df_r/dt used for odeint function\n",
    "# See the latex document for more details on the differential equations\n",
    "# This has been done to split the imaginary and real part of the ODE\n",
    "def diff_delta_f(Y,t):\n",
    "    f_r = Y[0:len(velocity_x)]  # Initial conditions for odeint\n",
    "    f_i = Y[len(velocity_x): 2 * len(velocity_x)]\n",
    "\n",
    "    int_Df_i = np.sum(f_i) * (velocity_x[1]-velocity_x[0])\n",
    "    int_Df_r = np.sum(f_r) * (velocity_x[1]-velocity_x[0])\n",
    "\n",
    "    # This the derivate for f_r and f_i given in the latex document\n",
    "    dYdt =np.concatenate([(k * velocity_x * f_i) - e*e*(int_Df_i * diff_f_0_v(velocity_x)/k ), \\\n",
    "                           -(k * velocity_x * f_r) + e*e*(int_Df_r * diff_f_0_v(velocity_x)/k )\\\n",
    "                         ], axis = 0)\n",
    "    # This returns the derivative for the coupled set of ODE\n",
    "\n",
    "    return dYdt"
   ]
  },
  {
   "cell_type": "code",
   "execution_count": null,
   "metadata": {
    "collapsed": true
   },
   "outputs": [],
   "source": [
    "def diff_delta_f_Ex(Y,t):\n",
    "\n",
    "    f_r = Y[0:len(velocity_x)]  # Initial conditions for odeint\n",
    "    f_i = Y[len(velocity_x): 2 * len(velocity_x)]\n",
    "    E_x_r = Y[2 * len(velocity_x)]\n",
    "    E_x_i = Y[2 * len(velocity_x) + 1]\n",
    "\n",
    "    int_v_delta_f_dv_i = e * np.sum(f_i * velocity_x) * (dv)\n",
    "    int_v_delta_f_dv_r = e * np.sum(f_r * velocity_x) * (dv)\n",
    "    int_v_delta_f_dv = np.array([int_v_delta_f_dv_r, int_v_delta_f_dv_i ] )\n",
    "\n",
    "    # This the derivate for f_r and f_i given in the latex document\n",
    "    dYdt =np.concatenate([(    k * velocity_x * f_i) - e*(E_x_r * diff_f_0_v(velocity_x) ), \\\n",
    "                            - (k * velocity_x * f_r) - e*(E_x_i * diff_f_0_v(velocity_x) ), \\\n",
    "                                -1 * int_v_delta_f_dv\\\n",
    "                         ], axis = 0\\\n",
    "                        )\n",
    "    # This returns the derivative for the coupled set of ODE\n",
    "\n",
    "    return dYdt"
   ]
  },
  {
   "cell_type": "code",
   "execution_count": null,
   "metadata": {
    "collapsed": true
   },
   "outputs": [],
   "source": [
    "# Set the initial conditions for delta f(v,t) here\n",
    "delta_f_initial = np.zeros((2 * len(velocity_x)), dtype = np.float)\n",
    "delta_f_initial[0: len(velocity_x)] = amp * f_0(velocity_x)\n",
    "\n",
    "delta_f_Ex_initial = np.zeros((2 * len(velocity_x)+2), dtype = np.float)\n",
    "delta_f_Ex_initial[0 : len(velocity_x)] = amp * f_0(velocity_x)\n",
    "delta_f_Ex_initial[2 * len(velocity_x) + 1] = -1 * e * (1/k) * np.sum(delta_f_Ex_initial[0: len(velocity_x)] ) * dv"
   ]
  },
  {
   "cell_type": "code",
   "execution_count": null,
   "metadata": {
    "collapsed": true
   },
   "outputs": [],
   "source": [
    "# Setting the parameters for time here\n",
    "final_time = 3\n",
    "dt = 0.001\n",
    "time_ana = np.arange(0, final_time, dt)"
   ]
  },
  {
   "cell_type": "code",
   "execution_count": null,
   "metadata": {
    "collapsed": true
   },
   "outputs": [],
   "source": [
    "# Variable for temperorily storing the real and imaginary parts of delta f used for odeint\n",
    "initial_conditions_delta_f = np.zeros((2 * len(velocity_x)), dtype = np.float)\n",
    "old_delta_f = np.zeros((2 * len(velocity_x)), dtype = np.float)\n",
    "\n",
    "\n",
    "initial_conditions_delta_f_Ex = np.zeros((2 * len(velocity_x) + 2), dtype = np.float)\n",
    "old_delta_f_Ex = np.zeros((2 * len(velocity_x) + 2 ), dtype = np.float)\n",
    "# Variable for storing delta rho\n",
    "\n",
    "delta_rho1 = np.zeros(len(time_ana), dtype = np.float)\n",
    "delta_rho2 = np.zeros(len(time_ana), dtype = np.float)\n",
    "Ex_amp  = np.zeros(len(time_ana), dtype = np.float)\n",
    "Ex_amp2 = np.zeros(len(time_ana), dtype = np.float)\n",
    "Ex_amp_real  = np.zeros(len(time_ana), dtype = np.float)\n",
    "# Ex_amp3 = np.zeros(len(time_ana), dtype = np.float)\n",
    "delta_f_temp = np.zeros(2 * len(velocity_x), dtype=np.float)\n",
    "temperory_delta_f_Ex = np.zeros(2 * len(velocity_x) + 2, dtype=np.float)"
   ]
  },
  {
   "cell_type": "code",
   "execution_count": null,
   "metadata": {
    "collapsed": true
   },
   "outputs": [],
   "source": [
    "for time_index, t0 in enumerate(time_ana):\n",
    "    if(time_index%1000==0):\n",
    "        print(\"Computing for TimeIndex = \", time_index)\n",
    "    t0 = time_ana[time_index]\n",
    "    if (time_index == time_ana.size - 1):\n",
    "        break\n",
    "    t1 = time_ana[time_index + 1]\n",
    "    t = [t0, t1]\n",
    "\n",
    "    # delta f is defined on the velocity grid\n",
    "\n",
    "\n",
    "    # Initial conditions for the odeint\n",
    "    if(time_index == 0):\n",
    "        # Initial conditions for the odeint for the 2 ODE's respectively for the first time step\n",
    "        # First column for storing the real values of delta f and 2nd column for the imaginary values\n",
    "        initial_conditions_delta_f                 = delta_f_initial.copy()\n",
    "        initial_conditions_delta_f_Ex                 = delta_f_Ex_initial.copy()\n",
    "        # Storing the integral sum of delta f dv used in odeint\n",
    "\n",
    "    else:\n",
    "        # Initial conditions for the odeint for the 2 ODE's respectively for all other time steps\n",
    "        # First column for storing the real values of delta f and 2nd column for the imaginary values\n",
    "        initial_conditions_delta_f= old_delta_f.copy()\n",
    "        initial_conditions_delta_f_Ex= old_delta_f_Ex.copy()\n",
    "        # Storing the integral sum of delta f dv used in odeint\n",
    "\n",
    "    # Integrating delta f\n",
    "\n",
    "    temperory_delta_f = odeint(diff_delta_f, initial_conditions_delta_f, t)[1]\n",
    "    temperory_delta_f_Ex = odeint(diff_delta_f_Ex, initial_conditions_delta_f_Ex, t)[1]\n",
    "\n",
    "    # Saving delta rho for current time_index\n",
    "    delta_rho1[time_index] = ((sum(dv * temperory_delta_f[ 0: len(velocity_x)])))\n",
    "    delta_rho2[time_index] = ((sum(dv * temperory_delta_f_Ex[ 0: len(velocity_x)])))\n",
    "    Ex_amp[time_index] = (e/k)*sum(  dv * temperory_delta_f[ 0: len(velocity_x)]  )\n",
    "    Ex_amp2[time_index] = (e/k)*(sum  (  dv * temperory_delta_f_Ex[ 1 * len(velocity_x) : 2 * len(velocity_x)]  ))\n",
    "    Ex_amp_real[time_index] = np.sqrt( Ex_amp[time_index]**2 + Ex_amp2[time_index]**2  )\n",
    "    # Saving the solution for to use it for the next time step\n",
    "    old_delta_f = temperory_delta_f.copy()\n",
    "    old_delta_f_Ex = temperory_delta_f_Ex.copy()"
   ]
  },
  {
   "cell_type": "code",
   "execution_count": null,
   "metadata": {
    "collapsed": true
   },
   "outputs": [],
   "source": [
    "temp = np.linspace(0, time[-1], len(Ex_all_times))\n",
    "pl.plot( temp, Ex_max , label = r'$\\mathrm{Max(abs(E))}$')\n",
    "pl.plot(time_ana, (abs(Ex_amp_real)),label = '$\\mathrm{Linear\\;Theory\\;fields}$')\n",
    "pl.title('$\\mathrm{Landau\\;damping}$')\n",
    "pl.xlabel('$x$')\n",
    "pl.ylabel('$E_{x}$')\n",
    "pl.legend()\n",
    "pl.show()\n",
    "# pl.savefig('MaxE.png')\n",
    "pl.clf()"
   ]
  },
  {
   "cell_type": "code",
   "execution_count": null,
   "metadata": {
    "collapsed": true
   },
   "outputs": [],
   "source": [
    "pl.semilogy(temp, Ex_max ,label = r'$\\mathrm{Max(abs(E))}$')\n",
    "pl.semilogy(time_ana, (abs(Ex_amp_real)),label = '$\\mathrm{Linear\\;Theory\\;fields}$')\n",
    "pl.legend()\n",
    "pl.title('$\\mathrm{Landau\\;damping}$')\n",
    "pl.xlabel('$x$')\n",
    "pl.ylabel('$E_{x}$')\n",
    "pl.show()\n",
    "# pl.savefig('MaxE_semilogy.png')\n",
    "pl.clf()"
   ]
  },
  {
   "cell_type": "code",
   "execution_count": null,
   "metadata": {
    "collapsed": true
   },
   "outputs": [],
   "source": [
    "# print('ExAmp is ', Ex_amp)\n",
    "# h5f = h5py.File('data_files/LT.h5', 'w')\n",
    "# h5f.create_dataset('delta_rho1',   data = delta_rho1)\n",
    "# h5f.create_dataset('delta_rho2',   data = delta_rho2)\n",
    "# h5f.create_dataset('Ex_amp',   data = Ex_amp)\n",
    "# h5f.close()\n",
    "#\n",
    "#\n",
    "# h5f           = h5py.File('data_files/LT.h5', 'r')\n",
    "# delta_rho1     = h5f['delta_rho1'][:]\n",
    "# delta_rho2     = h5f['delta_rho2'][:]\n",
    "# Ex_amp     = h5f['Ex_amp'][:]\n",
    "# h5f.close()\n",
    "#\n",
    "# # print('data is ', data)\n",
    "#\n",
    "# # Plotting the required quantities here\n",
    "# # pl.plot(time_ana, abs((Ex_amp)),label = '$LT1$')\n",
    "# # pl.plot(time_ana, abs((Ex_amp2)),label = '$LT2$')\n",
    "#\n",
    "# # pl.plot(time_ana, (abs(delta_rho1)),label = '$\\mathrm{Linear\\;Theory\\;fields}$')\n",
    "# # pl.plot(time_ana, (abs(delta_rho2)),label = '$\\mathrm{Linear\\;Theory\\;No\\;fields}$')\n",
    "# pl.plot(time_ana, (abs(Ex_amp_real)),label = '$\\mathrm{Linear\\;Theory\\;fields}$')\n",
    "# # pl.plot(time_mill,data,label = '$\\mathrm{Numerical\\;PIC}$')\n",
    "#\n",
    "# # pl.plot(time_mill, dataEx, label = '$\\mathrm{Numerical\\;PIC}$')\n",
    "# # pl.plot(time_mill, data_energy, label = '$\\mathrm{Numerical\\;PIC\\;Energy}$')\n",
    "# pl.xlabel('$\\mathrm{time}$')\n",
    "# # pl.ylabel(r'$\\delta \\hat{\\rho}\\left(t\\right)$')\n",
    "# pl.ylabel('$\\delta \\hat{Ex}(t)$')\n",
    "#\n",
    "# pl.title('$\\mathrm{Linear\\;Landau\\;damping}$')\n",
    "# pl.legend()\n",
    "# # pl.ylim(0, 0.01)\n",
    "# # pl.xlim(0,2)\n",
    "# pl.show()\n",
    "# pl.clf()\n",
    "#\n",
    "# # pl.plot(time_ana, np.log(abs(Ex_amp)),label = '$LT1$')\n",
    "# # pl.plot(time_ana, np.log(abs(Ex_amp2)),label = '$LT2$')\n",
    "#\n",
    "# pl.semilogy(time_ana, (abs(Ex_amp_real)),label = '$LT1$')\n",
    "#\n",
    "# # pl.plot(time_ana, np.log(abs(delta_rho1)),label = '$\\mathrm{Linear\\;Theory\\;with\\;fields}$')\n",
    "# # pl.plot(time_ana, np.log(abs(delta_rho2)),label = '$\\mathrm{Linear\\;Theory\\;No\\;fields}$')\n",
    "# pl.xlabel('$\\mathrm{time}$')\n",
    "# # pl.xlim(0,2)\n",
    "# # pl.ylabel(r'$log(\\delta \\hat{\\rho}\\left(t\\right))$')\n",
    "# pl.ylabel(r'$\\log(\\delta \\hat{E_{x}}\\left(t\\right))$')\n",
    "# pl.title('$\\mathrm{Linear\\;Landau\\;damping}$')\n",
    "# pl.legend()\n",
    "# pl.show()\n",
    "\n",
    "\n",
    "\n",
    "\n",
    "\n",
    "\n",
    "# temp = np.linspace(0, time[-1], len(Ex_all_times))\n",
    "# pl.plot( temp, Ex_all_times , label = r'$\\mathrm{Average(abs(E))}$')\n",
    "# pl.xlabel('$x$')\n",
    "# pl.legend()\n",
    "# pl.show()\n",
    "# # pl.savefig('AbsE.png')\n",
    "# pl.clf()\n",
    "#\n",
    "#\n",
    "# # In[16]:\n",
    "#\n",
    "# pl.semilogy(temp, Ex_all_times ,label = r'$\\mathrm{Average(abs(E))}$')\n",
    "# pl.legend()\n",
    "# pl.xlabel('$x$')\n",
    "# pl.show()\n",
    "# # pl.savefig('AbsE_semilogy.png')\n",
    "# pl.clf()\n",
    "#\n",
    "#\n",
    "# # In[17]:\n",
    "#\n",
    "# pl.loglog(temp, Ex_all_times ,label = r'$\\mathrm{Average(abs(E))}$')\n",
    "# pl.legend()\n",
    "# pl.xlabel('$x$')\n",
    "# pl.show()\n",
    "# # pl.savefig('AbsE_semilogy.png')\n",
    "# pl.clf()"
   ]
  }
 ],
 "metadata": {
  "kernelspec": {
   "display_name": "Python 3",
   "language": "python",
   "name": "python3"
  },
  "language_info": {
   "codemirror_mode": {
    "name": "ipython",
    "version": 3
   },
   "file_extension": ".py",
   "mimetype": "text/x-python",
   "name": "python",
   "nbconvert_exporter": "python",
   "pygments_lexer": "ipython3",
   "version": "3.6.0"
  }
 },
 "nbformat": 4,
 "nbformat_minor": 2
}
