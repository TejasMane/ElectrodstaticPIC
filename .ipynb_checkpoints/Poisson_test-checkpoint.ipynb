{
 "cells": [
  {
   "cell_type": "code",
   "execution_count": 1,
   "metadata": {
    "collapsed": true
   },
   "outputs": [],
   "source": [
    "import numpy as np\n",
    "import pylab as pl\n",
    "import scipy.fftpack as ff\n",
    "import h5py"
   ]
  },
  {
   "cell_type": "code",
   "execution_count": 2,
   "metadata": {
    "collapsed": true
   },
   "outputs": [],
   "source": [
    "pl.rcParams['figure.figsize']  = 12, 7.5\n",
    "pl.rcParams['lines.linewidth'] = 1.5\n",
    "pl.rcParams['font.family']     = 'serif'\n",
    "pl.rcParams['font.weight']     = 'bold'\n",
    "pl.rcParams['font.size']       = 20\n",
    "pl.rcParams['font.sans-serif'] = 'serif'\n",
    "pl.rcParams['text.usetex']     = True\n",
    "pl.rcParams['axes.linewidth']  = 1.5\n",
    "pl.rcParams['axes.titlesize']  = 'medium'\n",
    "pl.rcParams['axes.labelsize']  = 'medium'\n",
    "\n",
    "pl.rcParams['xtick.major.size'] = 8\n",
    "pl.rcParams['xtick.minor.size'] = 4\n",
    "pl.rcParams['xtick.major.pad']  = 8\n",
    "pl.rcParams['xtick.minor.pad']  = 8\n",
    "pl.rcParams['xtick.color']      = 'k'\n",
    "pl.rcParams['xtick.labelsize']  = 'medium'\n",
    "pl.rcParams['xtick.direction']  = 'in'\n",
    "\n",
    "pl.rcParams['ytick.major.size'] = 8\n",
    "pl.rcParams['ytick.minor.size'] = 4\n",
    "pl.rcParams['ytick.major.pad']  = 8\n",
    "pl.rcParams['ytick.minor.pad']  = 8\n",
    "pl.rcParams['ytick.color']      = 'k'\n",
    "pl.rcParams['ytick.labelsize']  = 'medium'\n",
    "pl.rcParams['ytick.direction']  = 'in'"
   ]
  },
  {
   "cell_type": "markdown",
   "metadata": {},
   "source": [
    "### For reference\n",
    "\\begin{align}\n",
    "\\hat{V}(k) &= \\int_{0}^{1} V(x)e^{-2\\pi\\;i\\;k\\;x}dx \\\\ \\\\\n",
    "V(x) &= \\frac{1}{Npoints}\\int_{0}^{1} \\hat{V}(k)e^{+2\\pi\\;i\\;k\\;x}dk \\\\ \\\\\n",
    "\\hat{V}(k) &= \\frac{1}{4\\pi^{2}\\;k^2}\\hat{\\rho(k)} \\\\ \\\\\n",
    "\\hat{E}(k) &= -i(2\\pi\\;k)\\hat{V}(k)\n",
    "\\end{align}"
   ]
  },
  {
   "cell_type": "code",
   "execution_count": 3,
   "metadata": {
    "collapsed": true
   },
   "outputs": [],
   "source": [
    "# FFT solver :\n",
    "def fft_poisson(rho,dx):\n",
    "\n",
    "    kspace = ff.fftfreq(len(rho), d = dx)\n",
    "    print('kspace[0]',kspace[0])\n",
    "    kspace[0] = 0.0001\n",
    "    rho_kspace = ff.fft(rho)\n",
    "\n",
    "    V_kspace = np.zeros(len(rho))\n",
    "    \n",
    "    V_kspace[1:] =  (1/(4 * np.pi**2 * kspace[1:]**2)) * rho_kspace[1:]\n",
    "    V_kspace[0]  =  (1/(4 * np.pi**2)) * np.sum(rho)/(len(rho)) \n",
    "    print('rho_kspace[0] is ', rho_kspace[0])\n",
    "    \n",
    "    E_kspace =  -1j * 2 * np. pi * kspace * V_kspace\n",
    "    \n",
    "    V = ff.ifft(V_kspace)\n",
    "\n",
    "    V = V.astype(np.float)\n",
    "    \n",
    "    E = ff.ifft(E_kspace)\n",
    "    \n",
    "    return V, E"
   ]
  },
  {
   "cell_type": "code",
   "execution_count": null,
   "metadata": {
    "collapsed": true
   },
   "outputs": [],
   "source": [
    "# # FFT test\n",
    "\n",
    "rho_size = 200\n",
    "x = np.linspace(0, 1, rho_size )\n",
    "\n",
    "A = 0.1\n",
    "rho_0 = 0\n",
    "rho =  rho_0 + A * np.cos(2 * np.pi * x)\n",
    "dx = x[1] - x[0]\n",
    "\n",
    "V, E = fft_poisson(rho, dx)\n",
    "print('max(V)', max(V))\n",
    "# pl.plot(x, V,'--',lw = 3,label = '$V$')\n",
    "# pl.plot(x, ff.ifft(ff.fft(rho)), label = 'ifft(fft(rho))')\n",
    "# pl.plot(x, rho, label = r'$\\rho$')\n",
    "# pl.plot(x, np.cos(2*np.pi*x)/(4 * np.pi**2), label= '$\\mathrm{Analytical\\;V}$')\n",
    "pl.plot(x, E, label = '$E_{x}$')\n",
    "pl.plot(x, A * np.sin(2 * np.pi * x)/(2 * np.pi), label = '$E_{x}\\;analytical$')\n",
    "# pl.ylim(0,1)\n",
    "pl.legend()\n",
    "pl.show()\n",
    "pl.clf()"
   ]
  }
 ],
 "metadata": {
  "kernelspec": {
   "display_name": "Python 3",
   "language": "python",
   "name": "python3"
  },
  "language_info": {
   "codemirror_mode": {
    "name": "ipython",
    "version": 3
   },
   "file_extension": ".py",
   "mimetype": "text/x-python",
   "name": "python",
   "nbconvert_exporter": "python",
   "pygments_lexer": "ipython3",
   "version": "3.6.0"
  }
 },
 "nbformat": 4,
 "nbformat_minor": 2
}
