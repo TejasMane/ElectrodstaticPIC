{
 "cells": [
  {
   "cell_type": "code",
   "execution_count": null,
   "metadata": {
    "collapsed": true
   },
   "outputs": [],
   "source": [
    "import numpy as np\n",
    "import h5py\n",
    "import pylab as pl\n",
    "from scipy.integrate import odeint\n",
    "import scipy.fftpack as fft\n",
    "from scipy import interpolate"
   ]
  },
  {
   "cell_type": "code",
   "execution_count": null,
   "metadata": {
    "collapsed": true
   },
   "outputs": [],
   "source": [
    "pl.rcParams['figure.figsize']  = 12, 7.5\n",
    "pl.rcParams['lines.linewidth'] = 1.5\n",
    "pl.rcParams['font.family']     = 'serif'\n",
    "pl.rcParams['font.weight']     = 'bold'\n",
    "pl.rcParams['font.size']       = 20\n",
    "pl.rcParams['font.sans-serif'] = 'serif'\n",
    "pl.rcParams['text.usetex']     = True\n",
    "pl.rcParams['axes.linewidth']  = 1.5\n",
    "pl.rcParams['axes.titlesize']  = 'medium'\n",
    "pl.rcParams['axes.labelsize']  = 'medium'\n",
    "\n",
    "pl.rcParams['xtick.major.size'] = 8\n",
    "pl.rcParams['xtick.minor.size'] = 4\n",
    "pl.rcParams['xtick.major.pad']  = 8\n",
    "pl.rcParams['xtick.minor.pad']  = 8\n",
    "pl.rcParams['xtick.color']      = 'k'\n",
    "pl.rcParams['xtick.labelsize']  = 'medium'\n",
    "pl.rcParams['xtick.direction']  = 'in'\n",
    "\n",
    "pl.rcParams['ytick.major.size'] = 8\n",
    "pl.rcParams['ytick.minor.size'] = 4\n",
    "pl.rcParams['ytick.major.pad']  = 8\n",
    "pl.rcParams['ytick.minor.pad']  = 8\n",
    "pl.rcParams['ytick.color']      = 'k'\n",
    "pl.rcParams['ytick.labelsize']  = 'medium'\n",
    "pl.rcParams['ytick.direction']  = 'in'"
   ]
  },
  {
   "cell_type": "code",
   "execution_count": null,
   "metadata": {
    "collapsed": true
   },
   "outputs": [],
   "source": [
    "# FFT solver :\n",
    "def fft_poisson(rho,dx):\n",
    "    # finding the frequency space for rho\n",
    "    kspace = fft.fftfreq(len(rho), d = dx)\n",
    "    rho_kspace = fft.fft(rho)\n",
    "\n",
    "    V_kspace = np.zeros(len(rho))\n",
    "    \n",
    "    # V(k) = (1/(4(pi k)^{2})) rho(k)\n",
    "    \n",
    "    V_kspace[1:] =  (1/(4 * np.pi**2 * kspace[1:]**2)) * rho_kspace[1:]\n",
    "    V_kspace[0]  =  (1/(4 * np.pi**2)) * np.sum(rho)/(len(rho))\n",
    "\n",
    "    E_kspace =  -1j * 2 * np. pi * kspace * V_kspace\n",
    "\n",
    "    # taking inverse fourier transform for the potential\n",
    "    \n",
    "    V = fft.ifft(V_kspace)\n",
    "\n",
    "    V = (V.real).astype(np.double)\n",
    "\n",
    "    # Taking inverse fourier transform for the electric field\n",
    "    \n",
    "    E = fft.ifft(E_kspace)\n",
    "\n",
    "    E = (E.real).astype(np.double)\n",
    "\n",
    "    return V, E"
   ]
  },
  {
   "cell_type": "code",
   "execution_count": null,
   "metadata": {
    "collapsed": true
   },
   "outputs": [],
   "source": [
    "# Umeda needs x(n), and v(n+0.5dt) for implementation\n",
    "def Umeda_b1_deposition( charge, x, y, velocity_required_x, velocity_required_y,\\\n",
    "                         x_grid, y_grid, ghost_cells, Lx, Ly, dt\\\n",
    "                       ):\n",
    "\n",
    "  x_current_zone = np.zeros(len(x), dtype = np.int)\n",
    "  y_current_zone = np.zeros(len(y), dtype = np.int)\n",
    "\n",
    "  nx = (x_grid.elements() - 1 - 2 * ghost_cells )  # number of zones\n",
    "  ny = (y_grid.elements() - 1 - 2 * ghost_cells )  # number of zones\n",
    "\n",
    "  dx = Lx/nx\n",
    "  dy = Ly/ny\n",
    "\n",
    "  x_1 = x\n",
    "  x_2 = x + (velocity_required_x * dt)\n",
    "\n",
    "  y_1 = y\n",
    "  y_2 = y + (velocity_required_y * dt)\n",
    "    \n",
    "  i_1 = np.floor( ((af.abs( x_1 - (x_grid[0])))/dx) - ghost_cells)\n",
    "  j_1 = np.floor( ((af.abs( y_1 - (y_grid[0])))/dy) - ghost_cells)\n",
    "\n",
    "\n",
    "  i_2 = np.floor( ((af.abs( x_2 - (x_grid[0])))/dx) - ghost_cells)\n",
    "  j_2 = np.floor( ((af.abs( y_2 - (y_grid[0])))/dy) - ghost_cells)\n",
    "\n",
    "  i_dx = dx * af.join(1, i_1, i_2)\n",
    "  j_dy = dy * af.join(1, j_1, j_2)\n",
    "\n",
    "  i_dx_x_avg = af.join(1, af.max(i_dx,1), ((x_1+x_2)/2))\n",
    "  j_dy_y_avg = af.join(1, af.max(j_dy,1), ((y_1+y_2)/2))\n",
    "\n",
    "  x_r_term_1 = dx + af.min(i_dx, 1)\n",
    "  x_r_term_2 = af.max(i_dx_x_avg, 1)\n",
    "\n",
    "  y_r_term_1 = dy + af.min(j_dy, 1)\n",
    "  y_r_term_2 = af.max(j_dy_y_avg, 1)\n",
    "\n",
    "  x_r_combined_term = af.join(1, x_r_term_1, x_r_term_2)\n",
    "  y_r_combined_term = af.join(1, y_r_term_1, y_r_term_2)\n",
    "\n",
    "  x_r = af.min(x_r_combined_term, 1)\n",
    "  y_r = af.min(y_r_combined_term, 1)\n",
    "\n",
    "  F_x_1 = charge * (x_r - x_1)/dt\n",
    "  F_x_2 = charge * (x_2 - x_r)/dt\n",
    "\n",
    "  F_y_1 = charge * (y_r - y_1)/dt\n",
    "  F_y_2 = charge * (y_2 - y_r)/dt\n",
    "\n",
    "  W_x_1 = (x_1 + x_r)/(2 * dx) - i_1\n",
    "  W_x_2 = (x_2 + x_r)/(2 * dx) - i_2\n",
    "\n",
    "  W_y_1 = (y_1 + y_r)/(2 * dy) - j_1\n",
    "  W_y_2 = (y_2 + y_r)/(2 * dy) - j_2\n",
    "\n",
    "  J_x_1_1 = (1/(dx * dy)) * (F_x_1 * (1 - W_y_1))\n",
    "  J_x_1_2 = (1/(dx * dy)) * (F_x_1 * (W_y_1))\n",
    "\n",
    "  J_x_2_1 = (1/(dx * dy)) * (F_x_2 * (1 - W_y_2))\n",
    "  J_x_2_2 = (1/(dx * dy)) * (F_x_2 * (W_y_2))\n",
    "\n",
    "  J_y_1_1 = (1/(dx * dy)) * (F_y_1 * (1 - W_x_1))\n",
    "  J_y_1_2 = (1/(dx * dy)) * (F_y_1 * (W_x_1))\n",
    "\n",
    "  J_y_2_1 = (1/(dx * dy)) * (F_y_2 * (1 - W_x_2))\n",
    "  J_y_2_2 = (1/(dx * dy)) * (F_y_2 * (W_x_2))\n",
    "\n",
    "  Jx_x_indices = np.concatenate( [i_1 + ghost_cells,\\\n",
    "                                  i_1 + ghost_cells,\\\n",
    "                                  i_2 + ghost_cells,\\\n",
    "                                  i_2 + ghost_cells\\\n",
    "                                 ],axis = 0\n",
    "                               )\n",
    "\n",
    "  Jx_y_indices = np.concatenate(  [j_1 + ghost_cells,\\\n",
    "                                    (j_1 + 1 + ghost_cells),\\\n",
    "                                    j_2 + ghost_cells,\\\n",
    "                                    (j_2 + 1 + ghost_cells)\\\n",
    "                                  ], axis = 0\n",
    "                               )\n",
    "    \n",
    "  Jx_values_at_these_indices = np.concatenate( [ J_x_1_1,\\\n",
    "                                                J_x_1_2,\\\n",
    "                                                J_x_2_1,\\\n",
    "                                                J_x_2_2\\\n",
    "                                               ], axis = 0\\\n",
    "                                             )\n",
    "\n",
    "  Jy_x_indices = af.join(   [i_1 + ghost_cells,\\\n",
    "                             (i_1 + 1 + ghost_cells),\\\n",
    "                             i_2 + ghost_cells,\\\n",
    "                             (i_2 + 1 + ghost_cells)\\\n",
    "                            ], axis = 0\n",
    "                        )\n",
    "  Jy_y_indices = np.concatenate([j_1 + ghost_cells,\\\n",
    "                                 j_1 + ghost_cells,\\\n",
    "                                 j_2 + ghost_cells,\\\n",
    "                                 j_2 + ghost_cells\\\n",
    "                                ], axis = 0\\\n",
    "                               )\n",
    "\n",
    "  Jy_values_at_these_indices = np.concatenate([J_y_1_1,\\\n",
    "                                               J_y_1_2,\\\n",
    "                                               J_y_2_1,\\\n",
    "                                               J_y_2_2\\\n",
    "                                              ], axis = 0\\\n",
    "                                             )\n",
    "\n",
    "  return Jx_x_indices, Jx_y_indices, Jx_values_at_these_indices,\\\n",
    "         Jy_x_indices, Jy_y_indices, Jy_values_at_these_indices"
   ]
  },
  {
   "cell_type": "code",
   "execution_count": null,
   "metadata": {
    "collapsed": true
   },
   "outputs": [],
   "source": [
    "def Umeda_2003(charge, no_of_particles, positions_x ,positions_y, positions_z, velocities_x, velocities_y, velocities_z, \\\n",
    "                x_center_grid, y_center_grid, ghost_cells, Lx, Ly, dx, dy, dt\\\n",
    "              ):\n",
    "\n",
    "  x_right_grid = x_center_grid + dx/2\n",
    "  y_top_grid = y_center_grid + dy/2\n",
    "\n",
    "  elements = x_center_grid.elements()*y_center_grid.elements()\n",
    "\n",
    "  Jx_x_indices, Jx_y_indices, Jx_values_at_these_indices,\\\n",
    "  Jy_x_indices, Jy_y_indices,\\\n",
    "  Jy_values_at_these_indices = Umeda_b1_deposition( charge, positions_x, positions_y, velocities_x,\\\n",
    "                                                     velocities_y, x_center_grid, y_center_grid,\\\n",
    "                                                     ghost_cells, Lx, Ly, dt\\\n",
    "                                                   )\n",
    "\n",
    "  input_indices = (Jx_x_indices*(y_center_grid.elements()) + Jx_y_indices)\n",
    "  Jx, temp = np.histogram(input_indices, bins=elements, range=(0, elements), weights=Jx_values_at_these_indices)\n",
    "  Jx = af.data.moddims(af.to_array(Jx), y_center_grid.elements(), x_center_grid.elements())\n",
    "\n",
    "  input_indices = (Jy_x_indices*(y_center_grid.elements()) + Jy_y_indices)\n",
    "  Jy, temp = np.histogram(input_indices, bins=elements, range=(0, elements), weights=Jy_values_at_these_indices)\n",
    "  Jy = af.data.moddims(af.to_array(Jy), y_center_grid.elements(), x_center_grid.elements())\n",
    "\n",
    "  Jz_x_indices, Jz_y_indices, Jz_values_at_these_indices = current_b1_depositor( charge, positions_x, positions_y, velocities_z,\\\n",
    "                                                                          x_center_grid, y_center_grid,\\\n",
    "                                                                          ghost_cells, Lx, Ly\\\n",
    "                                                                         )\n",
    "\n",
    "  input_indices = (Jz_x_indices*(y_center_grid.elements()) + Jz_y_indices)\n",
    "  Jz, temp = np.histogram(input_indices, bins=elements, range=(0, elements), weights=Jz_values_at_these_indices)\n",
    "  Jz = af.data.moddims(af.to_array(Jz),  y_center_grid.elements(), x_center_grid.elements())\n",
    "\n",
    "  af.eval(Jx, Jy, Jz)\n",
    "\n",
    "  return Jx, Jy, Jz"
   ]
  },
  {
   "cell_type": "code",
   "execution_count": null,
   "metadata": {
    "collapsed": true
   },
   "outputs": [],
   "source": [
    "# Particle parameters\n",
    "k_boltzmann     =  1\n",
    "mass_electron   =  1\n",
    "tempertature    =  1\n",
    "charge_electron = -1\n",
    "charge_ion      = +1"
   ]
  },
  {
   "cell_type": "code",
   "execution_count": null,
   "metadata": {
    "collapsed": true
   },
   "outputs": [],
   "source": [
    "# Setting the length of the domain\n",
    "length_domain_x = 1"
   ]
  },
  {
   "cell_type": "code",
   "execution_count": null,
   "metadata": {
    "collapsed": true
   },
   "outputs": [],
   "source": [
    "# Setting number of particle in the domain\n",
    "number_of_electrons = 1000000"
   ]
  },
  {
   "cell_type": "code",
   "execution_count": null,
   "metadata": {
    "collapsed": true
   },
   "outputs": [],
   "source": [
    "me = mass_electron\n",
    "# Initializing the positions and velocities of the particles\n",
    "positions_x = length_domain_x * np.random.rand(number_of_electrons)\n",
    "\n",
    "# setting the mean and standard deviation of the maxwell distribution\n",
    "\n",
    "mu, sigma = 0, (k_boltzmann * tempertature / me)\n",
    "\n",
    "# Initializing the velocitites according to the maxwell distribution\n",
    "\n",
    "velocity_x = np.random.normal(mu, sigma, number_of_electrons)"
   ]
  },
  {
   "cell_type": "code",
   "execution_count": null,
   "metadata": {
    "collapsed": true
   },
   "outputs": [],
   "source": [
    "# Divisions in x grid\n",
    "divisions_domain_x = 100\n",
    "\n",
    "x_grid = np.linspace(    0,\\\n",
    "                         length_domain_x, \\\n",
    "                         divisions_domain_x + 1,\\\n",
    "                         endpoint=True,\\\n",
    "                         dtype = np.double\\\n",
    "                    )\n",
    "\n",
    "dx = x_grid[1] - x_grid[0]"
   ]
  },
  {
   "cell_type": "code",
   "execution_count": null,
   "metadata": {
    "collapsed": true
   },
   "outputs": [],
   "source": [
    "def set_up_perturbation(positions_x, number_particles, divisions_perturbed, amplitude , k, length_domain_x):\n",
    "\n",
    "    positions_x = length_domain_x * np.random.rand(number_of_electrons)\n",
    "\n",
    "    particles_uptill_current_x_i = 0\n",
    "\n",
    "    for i in range(divisions_perturbed):\n",
    "\n",
    "        average_particles_x_i_to_i_plus_one = (number_particles/(length_domain_x/dx))\n",
    "\n",
    "        current_amplitude = amplitude * np.cos(k * (i + 0.5) * dx / length_domain_x)\n",
    "\n",
    "        number_particles_x_i_to_i_plus_one = int(average_particles_x_i_to_i_plus_one \\\n",
    "                                                 * (1 + current_amplitude)\\\n",
    "                                                )\n",
    "\n",
    "\n",
    "        positions_x[particles_uptill_current_x_i\\\n",
    "                    :particles_uptill_current_x_i\\\n",
    "                    + number_particles_x_i_to_i_plus_one \\\n",
    "                   ] \\\n",
    "                            = i * dx \\\n",
    "                              + dx * np.random.rand(number_particles_x_i_to_i_plus_one)\n",
    "\n",
    "        particles_uptill_current_x_i += number_particles_x_i_to_i_plus_one\n",
    "\n",
    "    return positions_x"
   ]
  },
  {
   "cell_type": "code",
   "execution_count": null,
   "metadata": {
    "collapsed": true
   },
   "outputs": [],
   "source": [
    "# Setting the amplitude for perturbation\n",
    "divisions_perturbed = divisions_domain_x\n",
    "Amplitude_perturbed = 0.5\n",
    "wave_number         = 2 * np.pi\n",
    "# Initializing the perturbation\n",
    "positions_x = set_up_perturbation(    positions_x,\\\n",
    "                                      number_of_electrons,\\\n",
    "                                      divisions_perturbed,\\\n",
    "                                      Amplitude_perturbed,\\\n",
    "                                      wave_number,\\\n",
    "                                      length_domain_x\\\n",
    "                                 )"
   ]
  },
  {
   "cell_type": "code",
   "execution_count": null,
   "metadata": {
    "collapsed": true
   },
   "outputs": [],
   "source": [
    "# Plotting the initial distribution\n",
    "\n",
    "position_grid = np.linspace(0,1,divisions_domain_x)\n",
    "a, b = np.histogram(positions_x, bins=(divisions_domain_x), range=(0, length_domain_x))\n",
    "a    = (a / (number_of_electrons / divisions_domain_x))\n",
    "\n",
    "\n",
    "pl.plot(position_grid, a, label = r'$\\rho$')\n",
    "pl.title(r'$\\mathrm{Initial\\;density\\;perturbation}$')\n",
    "pl.xlabel('$x$')\n",
    "pl.ylabel(r'$\\rho_{electrons}(x)$')\n",
    "pl.ylim(0.0,2.0)\n",
    "pl.show()\n",
    "pl.clf()"
   ]
  },
  {
   "cell_type": "code",
   "execution_count": null,
   "metadata": {
    "collapsed": true
   },
   "outputs": [],
   "source": [
    "# Time parameters\n",
    "start_time = 0\n",
    "\n",
    "end_time   = 3\n",
    "\n",
    "dt         = 0.01\n",
    "\n",
    "time       = np.arange(    start_time,\\\n",
    "                           end_time + dt,\\\n",
    "                           dt,\\\n",
    "                           dtype = np.double\\\n",
    "                      )"
   ]
  },
  {
   "cell_type": "code",
   "execution_count": null,
   "metadata": {
    "collapsed": true
   },
   "outputs": [],
   "source": [
    "# Some variables for storing data\n",
    "Ex_all_times = np.zeros(len(time), dtype = np.double)\n",
    "Ex_max       = np.zeros(len(time), dtype = np.double)"
   ]
  },
  {
   "cell_type": "code",
   "execution_count": null,
   "metadata": {
    "collapsed": true
   },
   "outputs": [],
   "source": [
    "# Plotting the initial conditions\n",
    "# Finding interpolant fractions for the positions\n",
    "zone_x = np.floor(((positions_x - x_grid[0]) / dx))\n",
    "zone_x = zone_x.astype(np.int)\n",
    "frac_x = (positions_x - x_grid[zone_x]) / (dx)\n",
    "# Charge deposition using linear weighting scheme\n",
    "\n",
    "rho      = cloud_charge_deposition(charge_electron, zone_x, frac_x, x_grid, dx)\n",
    "rho      = rho/ number_of_electrons\n",
    "rho_ions = - np.sum(rho)/len(rho)\n",
    "rho      = rho + rho_ions"
   ]
  },
  {
   "cell_type": "code",
   "execution_count": null,
   "metadata": {
    "collapsed": true
   },
   "outputs": [],
   "source": [
    "# plotting intial rho in the system considering background ions\n",
    "pl.plot(rho)\n",
    "pl.xlabel('$x$')\n",
    "pl.ylabel(r'$\\rho(x)$')\n",
    "pl.title(r'$\\rho(x)$')\n",
    "pl.show()\n",
    "pl.clf()"
   ]
  },
  {
   "cell_type": "code",
   "execution_count": null,
   "metadata": {
    "collapsed": true
   },
   "outputs": [],
   "source": [
    "# Computing initial potential and Electric field\n",
    "V, Ex = fft_poisson(rho,dx)"
   ]
  },
  {
   "cell_type": "code",
   "execution_count": null,
   "metadata": {
    "collapsed": true
   },
   "outputs": [],
   "source": [
    "# Plotting the potential for the intial conditions\n",
    "pl.plot(V)\n",
    "pl.xlabel('x')\n",
    "pl.ylabel('y')\n",
    "pl.title('$\\mathrm{Initial\\;conditions\\;V}$')\n",
    "pl.show()\n",
    "pl.clf()"
   ]
  },
  {
   "cell_type": "code",
   "execution_count": null,
   "metadata": {
    "collapsed": true
   },
   "outputs": [],
   "source": [
    "# Plotting the Electric field in the system for the given initial conditions\n",
    "pl.plot(Ex, label = 'Ex numerical')\n",
    "pl.xlabel('x')\n",
    "pl.ylabel('E_{x}')\n",
    "pl.title('$\\mathrm{Initial\\;conditions\\;E_{x}}$')\n",
    "pl.show()\n",
    "pl.clf()\n",
    "print('max(Ex) is', max(Ex))\n",
    "# Ex_max[0] = max(Ex)"
   ]
  },
  {
   "cell_type": "code",
   "execution_count": null,
   "metadata": {
    "collapsed": true
   },
   "outputs": [],
   "source": [
    "positions_x_half = positions_x + velocity_x * dt/2\n",
    "\n",
    "# Periodic Boundary conditions for particles \n",
    "\n",
    "outside_domain = np.where([positions_x_half < 0])[1]\n",
    "\n",
    "positions_x_half[outside_domain] = positions_x_half[outside_domain] + length_domain_x\n",
    "\n",
    "outside_domain = np.where([positions_x_half > length_domain_x])[1]\n",
    "\n",
    "positions_x_half[outside_domain] = positions_x_half[outside_domain] - length_domain_x\n",
    "\n",
    "# Finding interpolant fractions for the positions\n",
    "\n",
    "zone_x = np.floor(((positions_x_half - x_grid[0]) / dx))\n",
    "zone_x = zone_x.astype(np.int)\n",
    "frac_x = (positions_x_half - x_grid[zone_x]) / (dx)\n",
    "\n",
    "# Interpolating the fields at each particle\n",
    "\n",
    "Ex_particle = interpolate.interp1d(x_grid, Ex, kind = 'linear')(positions_x_half)\n",
    "\n",
    "# Updating the velocity using the interpolated Electric fields to find v(0.5dt)\n",
    "\n",
    "velocity_x = velocity_x  + (Ex_particle * charge_electron / mass_electron ) * dt/2"
   ]
  },
  {
   "cell_type": "code",
   "execution_count": null,
   "metadata": {
    "collapsed": true
   },
   "outputs": [],
   "source": [
    "for time_index in range(len(time)):\n",
    "    if(time_index%100==0):\n",
    "        print('Computing for time_index = ', time_index)\n",
    "\n",
    "    # Updating the positions of particle using the velocites\n",
    "    # velocity at t = (n + 1/2) dt\n",
    "    positions_x_plus = positions_x + velocity_x * dt\n",
    "    \n",
    "    # Periodic Boundary conditions for particles \n",
    "\n",
    "    outside_domain = np.where([positions_x_plus < 0])[1]\n",
    "\n",
    "    positions_x_plus[outside_domain] = positions_x_plus[outside_domain] + length_domain_x\n",
    "\n",
    "    outside_domain = np.where([positions_x_plus > length_domain_x])[1]\n",
    "\n",
    "    positions_x_plus[outside_domain] = positions_x_plus[outside_domain] - length_domain_x\n",
    "\n",
    "    # Finding interpolant fractions for the positions\n",
    "\n",
    "    zone_x = np.floor((((positions_x_plus ) - x_grid[0]) / dx))\n",
    "    zone_x = zone_x.astype(np.int)\n",
    "    frac_x = (positions_x_plus - x_grid[zone_x]) / (dx)\n",
    "\n",
    "    # Charge deposition using linear weighting scheme\n",
    "\n",
    "    rho      = cloud_charge_deposition(charge_electron, zone_x, frac_x, x_grid, dx)\n",
    "    rho      = rho/ number_of_electrons\n",
    "    rho_ions = - np.sum(rho)/len(rho)\n",
    "    rho      = rho + rho_ions\n",
    "\n",
    "    # Calculating the potential/Electric field from the charge deposition.\n",
    "\n",
    "    V, Ex = fft_poisson(rho,dx)\n",
    "\n",
    "    if(time_index ==0):\n",
    "        print('max(Ex) is ', max(Ex))\n",
    "    \n",
    "    # Interpolating the fields at each particle\n",
    "    \n",
    "    Ex_particle = interpolate.interp1d(x_grid, Ex, kind = 'linear')(positions_x)\n",
    "\n",
    "    # Updating the velocity using the interpolated Electric fields\n",
    "    \n",
    "    velocity_x_plus = velocity_x  + (Ex_particle * charge_electron / mass_electron ) * dt\n",
    "    \n",
    "    # Saving the Electric fields for plotting\n",
    "    \n",
    "    Ex_all_times[time_index] = np.sum(abs(Ex))\n",
    "    Ex_max[time_index]       = max(abs(Ex))\n",
    "\n",
    "    \n",
    "    velocity_x  = velocity_x_plus.copy()\n",
    "    positions_x = positions_x_plus.copy()\n",
    "    \n",
    "    # File writing for saving the data\n",
    "\n",
    "#     h5f = h5py.File('data/timestepped_data/solution_'+str(time_index)+'.h5', 'w')\n",
    "#     h5f.create_dataset('positions_x',   data = positions_x)\n",
    "#     h5f.create_dataset('velocity_x',   data = velocity_x)\n",
    "#     h5f.create_dataset('Ex',   data = (Ex))\n",
    "#     h5f.close()"
   ]
  }
 ],
 "metadata": {
  "kernelspec": {
   "display_name": "Python 3",
   "language": "python",
   "name": "python3"
  },
  "language_info": {
   "codemirror_mode": {
    "name": "ipython",
    "version": 3
   },
   "file_extension": ".py",
   "mimetype": "text/x-python",
   "name": "python",
   "nbconvert_exporter": "python",
   "pygments_lexer": "ipython3",
   "version": "3.6.0"
  }
 },
 "nbformat": 4,
 "nbformat_minor": 2
}
