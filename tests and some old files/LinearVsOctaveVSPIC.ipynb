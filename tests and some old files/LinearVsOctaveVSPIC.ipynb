{
 "cells": [
  {
   "cell_type": "code",
   "execution_count": 1,
   "metadata": {
    "collapsed": true
   },
   "outputs": [],
   "source": [
    "import numpy as np\n",
    "import h5py\n",
    "import pylab as pl\n",
    "import arrayfire as af\n",
    "from scipy.integrate import odeint\n",
    "import scipy.fftpack as fft\n",
    "from scipy import interpolate\n",
    "import scipy.io as sio"
   ]
  },
  {
   "cell_type": "code",
   "execution_count": 2,
   "metadata": {
    "collapsed": true
   },
   "outputs": [],
   "source": [
    "pl.rcParams['figure.figsize']  = 12, 7.5\n",
    "pl.rcParams['lines.linewidth'] = 1.5\n",
    "pl.rcParams['font.family']     = 'serif'\n",
    "pl.rcParams['font.weight']     = 'bold'\n",
    "pl.rcParams['font.size']       = 20\n",
    "pl.rcParams['font.sans-serif'] = 'serif'\n",
    "pl.rcParams['text.usetex']     = True\n",
    "pl.rcParams['axes.linewidth']  = 1.5\n",
    "pl.rcParams['axes.titlesize']  = 'medium'\n",
    "pl.rcParams['axes.labelsize']  = 'medium'\n",
    "\n",
    "pl.rcParams['xtick.major.size'] = 8\n",
    "pl.rcParams['xtick.minor.size'] = 4\n",
    "pl.rcParams['xtick.major.pad']  = 8\n",
    "pl.rcParams['xtick.minor.pad']  = 8\n",
    "pl.rcParams['xtick.color']      = 'k'\n",
    "pl.rcParams['xtick.labelsize']  = 'medium'\n",
    "pl.rcParams['xtick.direction']  = 'in'\n",
    "\n",
    "pl.rcParams['ytick.major.size'] = 8\n",
    "pl.rcParams['ytick.minor.size'] = 4\n",
    "pl.rcParams['ytick.major.pad']  = 8\n",
    "pl.rcParams['ytick.minor.pad']  = 8\n",
    "pl.rcParams['ytick.color']      = 'k'\n",
    "pl.rcParams['ytick.labelsize']  = 'medium'\n",
    "pl.rcParams['ytick.direction']  = 'in'"
   ]
  },
  {
   "cell_type": "code",
   "execution_count": 3,
   "metadata": {
    "collapsed": false
   },
   "outputs": [
    {
     "name": "stdout",
     "output_type": "stream",
     "text": [
      "max(E_field_octave[0]) is  0.0660217151368\n"
     ]
    }
   ],
   "source": [
    "E_field_octave = np.zeros(30, dtype = np.double)\n",
    "for time_index in range(30):\n",
    "    a = sio.loadmat(str(time_index+1))\n",
    "    a = a['Eg']\n",
    "    E_field_octave[time_index] = max(a)\n",
    "print('max(E_field_octave[0]) is ', (E_field_octave[0]))\n",
    "time_octave = np.linspace(0,3, len(E_field_octave))"
   ]
  },
  {
   "cell_type": "markdown",
   "metadata": {},
   "source": [
    "## For reference\n",
    "\\begin{align}\n",
    "\\hat{V}(k) &= \\int_{0}^{1} V(x)e^{-2\\pi\\;i\\;k\\;x}dx \\\\ \\\\\n",
    "V(x) &= \\frac{1}{Npoints}\\int_{0}^{1} \\hat{V}(k)e^{+2\\pi\\;i\\;k\\;x}dk \\\\ \\\\\n",
    "\\hat{V}(k) &= \\frac{1}{4\\pi^{2}\\;k^2}\\hat{\\rho(k)} \\\\ \\\\\n",
    "\\hat{E}(k) &= -i(2\\pi\\;k)\\hat{V}(k)\n",
    "\\end{align}"
   ]
  },
  {
   "cell_type": "code",
   "execution_count": 4,
   "metadata": {
    "collapsed": true
   },
   "outputs": [],
   "source": [
    "# FFT solver :\n",
    "def fft_poisson(rho,dx):\n",
    "    # finding the frequency space for rho\n",
    "    kspace = fft.fftfreq(len(rho), d = dx)\n",
    "    rho_kspace = fft.fft(rho)\n",
    "\n",
    "    V_kspace = np.zeros(len(rho))\n",
    "    \n",
    "    # V(k) = (1/(4(pi k)^{2})) rho(k)\n",
    "    \n",
    "    V_kspace[1:] =  (1/(4 * np.pi**2 * kspace[1:]**2)) * rho_kspace[1:]\n",
    "    V_kspace[0]  =  (1/(4 * np.pi**2)) * np.sum(rho)/(len(rho))\n",
    "\n",
    "    E_kspace =  -1j * 2 * np. pi * kspace * V_kspace\n",
    "\n",
    "    # taking inverse fourier transform for the potential\n",
    "    \n",
    "    V = fft.ifft(V_kspace)\n",
    "\n",
    "    V = (V.real).astype(np.double)\n",
    "\n",
    "    # Taking inverse fourier transform for the electric field\n",
    "    \n",
    "    E = fft.ifft(E_kspace)\n",
    "\n",
    "    E = (E.real).astype(np.double)\n",
    "\n",
    "    return V, E"
   ]
  },
  {
   "cell_type": "code",
   "execution_count": 5,
   "metadata": {
    "collapsed": true
   },
   "outputs": [],
   "source": [
    "# b1 charge depositor\n",
    "def cloud_charge_deposition(charge, zone_x, frac_x, x_grid, dx):\n",
    "    \n",
    "    # Assigning particle charge to left grid point\n",
    "    left_corner_charge  = (1 - frac_x) * charge / (dx)\n",
    "    # Assigning particle charge to right grid point\n",
    "    right_corner_charge = (frac_x) * charge / (dx)\n",
    "\n",
    "    \n",
    "    # Storing the respective indices of left and right grid points\n",
    "    left_corners  = zone_x.copy()\n",
    "    right_corners = left_corners + 1\n",
    "\n",
    "    \n",
    "    # Joining the indices and charges into one vector each\n",
    "    corners = np.concatenate([left_corners, right_corners], axis=0)\n",
    "    charges = np.concatenate([left_corner_charge, right_corner_charge], axis=0)\n",
    "\n",
    "    # Charge deposition using numpy histogram in a vectorized manner\n",
    "    \n",
    "    rho, temp = np.histogram(corners, bins=len(x_grid), range=(0, len(x_grid)), weights=charges)\n",
    "    \n",
    "    # Applying periodic BC's for charge depostions from last and first zone since \n",
    "    # first and the last x_grid point are the same point according to periodic BC's\n",
    "    # Since first and last point are the same, charge being deposited on the last grid point\n",
    "    # must also be deposited on the first grid point\n",
    "    \n",
    "    rho[0]  = rho[0] + rho [-1]\n",
    "    rho[-1] = rho[0].copy()\n",
    "    \n",
    "    return rho"
   ]
  },
  {
   "cell_type": "code",
   "execution_count": 6,
   "metadata": {
    "collapsed": true
   },
   "outputs": [],
   "source": [
    "# Particle parameters\n",
    "k_boltzmann     = 1\n",
    "mass_electron   = 1\n",
    "tempertature    = 1\n",
    "charge_electron = -1\n",
    "charge_ion      = +1"
   ]
  },
  {
   "cell_type": "code",
   "execution_count": 7,
   "metadata": {
    "collapsed": true
   },
   "outputs": [],
   "source": [
    "# Setting the length of the domain\n",
    "length_domain_x = 1"
   ]
  },
  {
   "cell_type": "code",
   "execution_count": 8,
   "metadata": {
    "collapsed": true
   },
   "outputs": [],
   "source": [
    "# Setting number of particle in the domain\n",
    "number_of_electrons = 1000000"
   ]
  },
  {
   "cell_type": "code",
   "execution_count": 9,
   "metadata": {
    "collapsed": true
   },
   "outputs": [],
   "source": [
    "me = mass_electron\n",
    "# Initializing the positions and velocities of the particles\n",
    "positions_x = length_domain_x * np.random.rand(number_of_electrons)\n",
    "\n",
    "# setting the mean and standard deviation of the maxwell distribution\n",
    "\n",
    "mu, sigma = 0, (k_boltzmann * tempertature / me)\n",
    "\n",
    "# Initializing the velocitites according to the maxwell distribution\n",
    "\n",
    "velocity_x = np.random.normal(mu, sigma, number_of_electrons)"
   ]
  },
  {
   "cell_type": "code",
   "execution_count": 10,
   "metadata": {
    "collapsed": false
   },
   "outputs": [],
   "source": [
    "# Divisions in x grid\n",
    "divisions_domain_x = 100\n",
    "\n",
    "x_grid = np.linspace(    0,\\\n",
    "                         length_domain_x, \\\n",
    "                         divisions_domain_x + 1,\\\n",
    "                         endpoint=True,\\\n",
    "                         dtype = np.double\\\n",
    "                    )\n",
    "\n",
    "dx = x_grid[1] - x_grid[0]"
   ]
  },
  {
   "cell_type": "code",
   "execution_count": 11,
   "metadata": {
    "collapsed": true
   },
   "outputs": [],
   "source": [
    "def set_up_perturbation(positions_x, number_particles, divisions_perturbed, amplitude , k, length_domain_x):\n",
    "\n",
    "    positions_x = length_domain_x * np.random.rand(number_of_electrons)\n",
    "\n",
    "    particles_uptill_current_x_i = 0\n",
    "\n",
    "    for i in range(divisions_perturbed):\n",
    "\n",
    "        average_particles_x_i_to_i_plus_one = (number_particles/(length_domain_x/dx))\n",
    "\n",
    "        current_amplitude = amplitude * np.cos(k * (i + 0.5) * dx / length_domain_x)\n",
    "\n",
    "        number_particles_x_i_to_i_plus_one = int(average_particles_x_i_to_i_plus_one \\\n",
    "                                                 * (1 + current_amplitude)\\\n",
    "                                                )\n",
    "\n",
    "\n",
    "        positions_x[particles_uptill_current_x_i\\\n",
    "                    :particles_uptill_current_x_i\\\n",
    "                    + number_particles_x_i_to_i_plus_one \\\n",
    "                   ] \\\n",
    "                            = i * dx \\\n",
    "                              + dx * np.random.rand(number_particles_x_i_to_i_plus_one)\n",
    "\n",
    "        particles_uptill_current_x_i += number_particles_x_i_to_i_plus_one\n",
    "\n",
    "    return positions_x"
   ]
  },
  {
   "cell_type": "code",
   "execution_count": 12,
   "metadata": {
    "collapsed": false
   },
   "outputs": [],
   "source": [
    "# Setting the amplitude for perturbation\n",
    "divisions_perturbed = divisions_domain_x\n",
    "Amplitude_perturbed = 0.5\n",
    "wave_number         = 2 * np.pi\n",
    "# Initializing the perturbation\n",
    "positions_x = set_up_perturbation(    positions_x,\\\n",
    "                                      number_of_electrons,\\\n",
    "                                      divisions_perturbed,\\\n",
    "                                      Amplitude_perturbed,\\\n",
    "                                      wave_number,\\\n",
    "                                      length_domain_x\\\n",
    "                                 )"
   ]
  },
  {
   "cell_type": "code",
   "execution_count": 13,
   "metadata": {
    "collapsed": false
   },
   "outputs": [
    {
     "data": {
      "image/png": "[encoded data removed]",
      "text/plain": [
       "<matplotlib.figure.Figure at 0x7fbf6ff94080>"
      ]
     },
     "metadata": {},
     "output_type": "display_data"
    }
   ],
   "source": [
    "# Plotting the initial distribution\n",
    "\n",
    "position_grid = np.linspace(0,1,divisions_domain_x)\n",
    "a, b = np.histogram(positions_x, bins=(divisions_domain_x), range=(0, length_domain_x))\n",
    "a    = (a / (number_of_electrons / divisions_domain_x))\n",
    "\n",
    "\n",
    "pl.plot(position_grid, a, label = r'$\\rho$')\n",
    "pl.title(r'$\\mathrm{Initial\\;density\\;perturbation}$')\n",
    "pl.xlabel('$x$')\n",
    "pl.ylabel(r'$\\rho_{electrons}(x)$')\n",
    "pl.ylim(0.0,2.0)\n",
    "pl.show()\n",
    "pl.clf()"
   ]
  },
  {
   "cell_type": "code",
   "execution_count": 14,
   "metadata": {
    "collapsed": true
   },
   "outputs": [],
   "source": [
    "# Time parameters\n",
    "start_time = 0\n",
    "\n",
    "end_time   = 3\n",
    "\n",
    "dt         = 0.01\n",
    "\n",
    "time       = np.arange(    start_time,\\\n",
    "                           end_time + dt,\\\n",
    "                           dt,\\\n",
    "                           dtype = np.double\\\n",
    "                      )"
   ]
  },
  {
   "cell_type": "code",
   "execution_count": 15,
   "metadata": {
    "collapsed": true
   },
   "outputs": [],
   "source": [
    "# Some variables for storing data\n",
    "Ex_all_times = np.zeros(len(time), dtype = np.double)\n",
    "Ex_max       = np.zeros(len(time), dtype = np.double)"
   ]
  },
  {
   "cell_type": "code",
   "execution_count": 16,
   "metadata": {
    "collapsed": true
   },
   "outputs": [],
   "source": [
    "# Plotting the initial conditions\n",
    "# Finding interpolant fractions for the positions\n",
    "zone_x = np.floor(((positions_x - x_grid[0]) / dx))\n",
    "zone_x = zone_x.astype(np.int)\n",
    "frac_x = (positions_x - x_grid[zone_x]) / (dx)\n",
    "# Charge deposition using linear weighting scheme\n",
    "\n",
    "rho      = cloud_charge_deposition(charge_electron, zone_x, frac_x, x_grid, dx)\n",
    "rho      = rho/ number_of_electrons\n",
    "rho_ions = - np.sum(rho)/len(rho)\n",
    "rho      = rho + rho_ions"
   ]
  },
  {
   "cell_type": "code",
   "execution_count": 17,
   "metadata": {
    "collapsed": false
   },
   "outputs": [
    {
     "data": {
      "image/png": "[encoded data removed]",
      "text/plain": [
       "<matplotlib.figure.Figure at 0x7fbfe82b40b8>"
      ]
     },
     "metadata": {},
     "output_type": "display_data"
    }
   ],
   "source": [
    "# plotting intial rho in the system considering background ions\n",
    "pl.plot(rho)\n",
    "pl.xlabel('$x$')\n",
    "pl.ylabel(r'$\\rho(x)$')\n",
    "pl.title(r'$\\rho(x)$')\n",
    "pl.show()\n",
    "pl.clf()"
   ]
  },
  {
   "cell_type": "code",
   "execution_count": 18,
   "metadata": {
    "collapsed": false
   },
   "outputs": [
    {
     "name": "stderr",
     "output_type": "stream",
     "text": [
      "/home/tejas/anaconda3/lib/python3.6/site-packages/ipykernel/__main__.py:11: ComplexWarning: Casting complex values to real discards the imaginary part\n"
     ]
    }
   ],
   "source": [
    "# Computing initial potential and Electric field\n",
    "V, Ex = fft_poisson(rho,dx)"
   ]
  },
  {
   "cell_type": "code",
   "execution_count": 19,
   "metadata": {
    "collapsed": false
   },
   "outputs": [
    {
     "data": {
      "image/png": "[encoded data removed]",
      "text/plain": [
       "<matplotlib.figure.Figure at 0x7fbf6da98128>"
      ]
     },
     "metadata": {},
     "output_type": "display_data"
    }
   ],
   "source": [
    "# Plotting the potential for the intial conditions\n",
    "pl.plot(V)\n",
    "pl.xlabel('x')\n",
    "pl.ylabel('y')\n",
    "pl.title('$\\mathrm{Initial\\;conditions\\;V}$')\n",
    "pl.show()\n",
    "pl.clf()"
   ]
  },
  {
   "cell_type": "code",
   "execution_count": 20,
   "metadata": {
    "collapsed": false
   },
   "outputs": [
    {
     "data": {
      "image/png": "[encoded data removed]",
      "text/plain": [
       "<matplotlib.figure.Figure at 0x7fbf6d8ee9e8>"
      ]
     },
     "metadata": {},
     "output_type": "display_data"
    },
    {
     "name": "stdout",
     "output_type": "stream",
     "text": [
      "max(Ex) is 0.0807215075846\n"
     ]
    }
   ],
   "source": [
    "# Plotting the Electric field in the system for the given initial conditions\n",
    "pl.plot(Ex, label = 'Ex numerical')\n",
    "pl.xlabel('x')\n",
    "pl.ylabel('E_{x}')\n",
    "pl.title('$\\mathrm{Initial\\;conditions\\;E_{x}}$')\n",
    "pl.show()\n",
    "pl.clf()\n",
    "print('max(Ex) is', max(Ex))\n",
    "# Ex_max[0] = max(Ex)"
   ]
  },
  {
   "cell_type": "code",
   "execution_count": 21,
   "metadata": {
    "collapsed": false
   },
   "outputs": [],
   "source": [
    "positions_x_half = positions_x + velocity_x * dt/2\n",
    "\n",
    "# Periodic Boundary conditions for particles \n",
    "\n",
    "outside_domain = np.where([positions_x_half < 0])[1]\n",
    "\n",
    "positions_x_half[outside_domain] = positions_x_half[outside_domain] + length_domain_x\n",
    "\n",
    "outside_domain = np.where([positions_x_half > length_domain_x])[1]\n",
    "\n",
    "positions_x_half[outside_domain] = positions_x_half[outside_domain] - length_domain_x\n",
    "\n",
    "# Finding interpolant fractions for the positions\n",
    "\n",
    "zone_x = np.floor(((positions_x_half - x_grid[0]) / dx))\n",
    "zone_x = zone_x.astype(np.int)\n",
    "frac_x = (positions_x_half - x_grid[zone_x]) / (dx)\n",
    "\n",
    "# Interpolating the fields at each particle\n",
    "\n",
    "Ex_particle = interpolate.interp1d(x_grid, Ex, kind = 'linear')(positions_x_half)\n",
    "\n",
    "# Updating the velocity using the interpolated Electric fields to find v(0.5dt)\n",
    "\n",
    "velocity_x = velocity_x  + (Ex_particle * charge_electron / mass_electron ) * dt/2"
   ]
  },
  {
   "cell_type": "code",
   "execution_count": 22,
   "metadata": {
    "collapsed": false
   },
   "outputs": [
    {
     "name": "stdout",
     "output_type": "stream",
     "text": [
      "Computing for time_index =  0\n",
      "max(Ex) is  0.0805484818095\n"
     ]
    },
    {
     "name": "stderr",
     "output_type": "stream",
     "text": [
      "/home/tejas/anaconda3/lib/python3.6/site-packages/ipykernel/__main__.py:11: ComplexWarning: Casting complex values to real discards the imaginary part\n"
     ]
    },
    {
     "name": "stdout",
     "output_type": "stream",
     "text": [
      "Computing for time_index =  100\n",
      "Computing for time_index =  200\n",
      "Computing for time_index =  300\n"
     ]
    }
   ],
   "source": [
    "for time_index in range(len(time)):\n",
    "    if(time_index%100==0):\n",
    "        print('Computing for time_index = ', time_index)\n",
    "\n",
    "    # Updating the positions of particle using the velocites\n",
    "    # velocity at t = (n + 1/2) dt\n",
    "    positions_x_plus = positions_x + velocity_x * dt\n",
    "    \n",
    "    # Periodic Boundary conditions for particles \n",
    "\n",
    "    outside_domain = np.where([positions_x_plus < 0])[1]\n",
    "\n",
    "    positions_x_plus[outside_domain] = positions_x_plus[outside_domain] + length_domain_x\n",
    "\n",
    "    outside_domain = np.where([positions_x_plus > length_domain_x])[1]\n",
    "\n",
    "    positions_x_plus[outside_domain] = positions_x_plus[outside_domain] - length_domain_x\n",
    "\n",
    "    # Finding interpolant fractions for the positions\n",
    "\n",
    "    zone_x = np.floor((((positions_x_plus ) - x_grid[0]) / dx))\n",
    "    zone_x = zone_x.astype(np.int)\n",
    "    frac_x = (positions_x_plus - x_grid[zone_x]) / (dx)\n",
    "\n",
    "    # Charge deposition using linear weighting scheme\n",
    "\n",
    "    rho      = cloud_charge_deposition(charge_electron, zone_x, frac_x, x_grid, dx)\n",
    "    rho      = rho/ number_of_electrons\n",
    "    rho_ions = - np.sum(rho)/len(rho)\n",
    "    rho      = rho + rho_ions\n",
    "\n",
    "    # Calculating the potential/Electric field from the charge deposition.\n",
    "\n",
    "    V, Ex = fft_poisson(rho,dx)\n",
    "\n",
    "    if(time_index ==0):\n",
    "        print('max(Ex) is ', max(Ex))\n",
    "    \n",
    "    # Interpolating the fields at each particle\n",
    "    \n",
    "    Ex_particle = interpolate.interp1d(x_grid, Ex, kind = 'linear')(positions_x)\n",
    "\n",
    "    # Updating the velocity using the interpolated Electric fields\n",
    "    \n",
    "    velocity_x_plus = velocity_x  + (Ex_particle * charge_electron / mass_electron ) * dt\n",
    "    \n",
    "    # Saving the Electric fields for plotting\n",
    "    \n",
    "    Ex_all_times[time_index] = np.sum(abs(Ex))\n",
    "    Ex_max[time_index]       = max(abs(Ex))\n",
    "\n",
    "    \n",
    "    velocity_x  = velocity_x_plus.copy()\n",
    "    positions_x = positions_x_plus.copy()\n",
    "    \n",
    "    # File writing for saving the data\n",
    "\n",
    "#     h5f = h5py.File('data/timestepped_data/solution_'+str(time_index)+'.h5', 'w')\n",
    "#     h5f.create_dataset('positions_x',   data = positions_x)\n",
    "#     h5f.create_dataset('velocity_x',   data = velocity_x)\n",
    "#     h5f.create_dataset('Ex',   data = (Ex))\n",
    "#     h5f.close()"
   ]
  },
  {
   "cell_type": "markdown",
   "metadata": {},
   "source": [
    "### Linear Theory code begins here"
   ]
  },
  {
   "cell_type": "markdown",
   "metadata": {},
   "source": [
    "$$\\mathrm{Setting\\;the\\;variables\\;for\\;the\\;maxwell\\;distribution}$$\n",
    "$$\\sqrt{\\left(m/2\\pi KT\\right)}e^{\\left(-mv^{2}/2KT\\right)}$$"
   ]
  },
  {
   "cell_type": "code",
   "execution_count": 23,
   "metadata": {
    "collapsed": true
   },
   "outputs": [],
   "source": [
    "# Setting the variables in the maxwell distribution\n",
    "m = mass_electron\n",
    "K = 1\n",
    "T = 1\n",
    "e = charge_electron"
   ]
  },
  {
   "cell_type": "code",
   "execution_count": 24,
   "metadata": {
    "collapsed": true
   },
   "outputs": [],
   "source": [
    "# k for the mode in fourier space\n",
    "k = 2*np.pi\n",
    "amp = Amplitude_perturbed"
   ]
  },
  {
   "cell_type": "markdown",
   "metadata": {},
   "source": [
    "$f_0$ is given by\n",
    "$$\\sqrt{\\left(m/2\\pi KT\\right)}e^{\\left(-mv^{2}/2KT\\right)}$$\n",
    "$\\frac{\\partial f_{0}}{\\partial v}$ is given by\n",
    "$$\\sqrt{\\left(m/2\\pi KT\\right)}e^{\\left(-mv^{2}/2KT\\right)}(-mv/KT)$$"
   ]
  },
  {
   "cell_type": "code",
   "execution_count": 25,
   "metadata": {
    "collapsed": true
   },
   "outputs": [],
   "source": [
    "me = m\n",
    "# The maxwell Boltzman function\n",
    "def f_0(v):\n",
    "    return np.sqrt(m/(2*np.pi*K*T))*np.exp(-me*v**2/(2*K*T))\n",
    "\n",
    "# This the function which returns the derivative of the maxwell boltzmann equation\n",
    "def diff_f_0_v(v):\n",
    "    return np.sqrt(me/(2*np.pi*K*T))*np.exp(-me*v**2/(2*K*T)) * ( -m * v / (K * T))"
   ]
  },
  {
   "cell_type": "code",
   "execution_count": 26,
   "metadata": {
    "collapsed": true
   },
   "outputs": [],
   "source": [
    "# Assign the maxim and minimum velocity for the velocity grid\n",
    "velocity_max =  +10\n",
    "velocity_min =  -10"
   ]
  },
  {
   "cell_type": "code",
   "execution_count": 27,
   "metadata": {
    "collapsed": true
   },
   "outputs": [],
   "source": [
    "# Set the divisions for the velocity grid\n",
    "number_of_velocities_points = 501\n",
    "velocity_x                  = np.linspace(velocity_min, velocity_max, number_of_velocities_points)\n",
    "dv                          = velocity_x[1] - velocity_x[0]"
   ]
  },
  {
   "cell_type": "markdown",
   "metadata": {},
   "source": [
    "$$\\mathrm{Equations\\;used\\;for\\;the\\;first\\;approach}$$\n",
    "\\begin{align}\n",
    "\\frac{\\partial \\left(\\delta \\hat{f}\\left(v, t\\right)\\right)}{\\partial t}+ik\\;v_{x} \\cdot \\delta \\hat{f}\\left(v, t\\right)+\\left(\\frac{q^2}{imk}\\left(\\int\\delta \\hat{f}\\left(v, t\\right).dv\\right)\\right)\\left(\\frac{\\partial\\left(f_{0}\\right)}{\\partial v}\\right)=0\n",
    "\\end{align}\n",
    "\n",
    "The above equation can be split into a coupled set of ordinary differential equations in the manner shown below: \\\\\n",
    "Let the real and imaginary parts of $\\delta \\hat{f}\\left(v, t\\right)$ be denoted by $f_{r}$ and $f_{i}$ respectively. This results in the following set of equations: \\\\\n",
    "\\begin{align}\n",
    "\\frac{\\partial f_{r}}{\\partial t}=kv_{x}f_{i}-\\frac{q^{2}}{mk}\\left(\\int f_{i}dv\\right)\\frac{\\partial f_{0}}{\\partial v_{x}} \\\\\n",
    "\\frac{\\partial f_{i}}{\\partial t}=-kv_{x}f_{r}+\\frac{q^{2}}{mk}\\left(\\int f_{r}dv_{x}\\right)\\frac{\\partial f_{0}}{\\partial v_{x}}\n",
    "\\end{align}"
   ]
  },
  {
   "cell_type": "code",
   "execution_count": 28,
   "metadata": {
    "collapsed": true
   },
   "outputs": [],
   "source": [
    "# Function that returns df_i/dt and df_r/dt used for odeint function\n",
    "# See the latex document for more details on the differential equations\n",
    "# This has been done to split the imaginary and real part of the ODE\n",
    "def diff_delta_f(Y,t):\n",
    "    f_r = Y[0:len(velocity_x)]  # Initial conditions for odeint\n",
    "    f_i = Y[len(velocity_x): 2 * len(velocity_x)]\n",
    "\n",
    "    int_Df_i = np.sum(f_i) * (velocity_x[1]-velocity_x[0])\n",
    "    int_Df_r = np.sum(f_r) * (velocity_x[1]-velocity_x[0])\n",
    "\n",
    "    # This the derivate for f_r and f_i given in the latex document\n",
    "    dYdt =np.concatenate([(k * velocity_x * f_i) - e*e*(int_Df_i * diff_f_0_v(velocity_x)/(m * k) ), \\\n",
    "                           -(k * velocity_x * f_r) + e*e*(int_Df_r * diff_f_0_v(velocity_x)/(m * k) )\\\n",
    "                         ], axis = 0)\n",
    "    # This returns the derivative for the coupled set of ODE\n",
    "\n",
    "    return dYdt"
   ]
  },
  {
   "cell_type": "markdown",
   "metadata": {},
   "source": [
    "$$\\mathrm{Equations\\;used\\;for\\;the\\;second\\;approach}$$\n",
    "\\begin{align}\n",
    "\\frac{\\partial\\left(\\delta\\hat{f}\\left(v,t\\right)\\right)}{\\partial t}+ikv_{x}\\delta\\hat{f}\\left(v,t\\right)+\\left(\\int\\int q^{2} v_{x}\\delta f(v,t)dv_{x}dt\\right)\\left(\\frac{\\partial\\left(f_{0}\\right)}{\\partial v_{x}}\\right)=0\n",
    "\\end{align}\n",
    "Let the real and imaginary of $\\delta \\hat{f}(v,t)$ be $f_r$ and $f_i$ respectively. The set of coupled differential equations to split the above equation into its real and imaginary components that can be derived from these are:\n",
    "\\begin{align}\n",
    "\\frac{\\partial f_{r}}{\\partial t}=kv_{x}f_{i}-qE_{r}\\frac{\\partial f_{0}}{\\partial x} \\\\\n",
    "\\frac{\\partial E_{r}}{\\partial t}=-\\int q v_{x}f_{r}dv_{x} \\\\\n",
    "\\frac{\\partial f_{i}}{\\partial t}=-kv_{x}f_{r}-qE_{i}\\frac{\\partial f_{0}}{\\partial x} \\\\\n",
    "\\frac{\\partial E_{i}}{\\partial t}=-\\int q v_{x}f_{i}dv_{x}\n",
    "\\end{align}"
   ]
  },
  {
   "cell_type": "code",
   "execution_count": 29,
   "metadata": {
    "collapsed": true
   },
   "outputs": [],
   "source": [
    "def diff_delta_f_Ex(Y,t):\n",
    "\n",
    "    f_r = Y[0:len(velocity_x)]  # Initial conditions for odeint\n",
    "    f_i = Y[len(velocity_x): 2 * len(velocity_x)]\n",
    "    E_x_r = Y[2 * len(velocity_x)]\n",
    "    E_x_i = Y[2 * len(velocity_x) + 1]\n",
    "\n",
    "    int_v_delta_f_dv_i = e * np.sum(f_i * velocity_x) * (dv)\n",
    "    int_v_delta_f_dv_r = e * np.sum(f_r * velocity_x) * (dv)\n",
    "    int_v_delta_f_dv = np.array([int_v_delta_f_dv_r, int_v_delta_f_dv_i ] )\n",
    "\n",
    "    # This the derivate for f_r and f_i given in the latex document\n",
    "    dYdt =np.concatenate([(    k * velocity_x * f_i) - e*(E_x_r * diff_f_0_v(velocity_x) ), \\\n",
    "                            - (k * velocity_x * f_r) - e*(E_x_i * diff_f_0_v(velocity_x) ), \\\n",
    "                                -1 * int_v_delta_f_dv\\\n",
    "                         ], axis = 0\\\n",
    "                        )\n",
    "    # This returns the derivative for the coupled set of ODE\n",
    "\n",
    "    return dYdt"
   ]
  },
  {
   "cell_type": "code",
   "execution_count": 30,
   "metadata": {
    "collapsed": true
   },
   "outputs": [],
   "source": [
    "# Set the initial conditions for delta f(v,t) here\n",
    "delta_f_initial = np.zeros((2 * len(velocity_x)), dtype = np.float)\n",
    "delta_f_initial[0: len(velocity_x)] = amp * f_0(velocity_x)\n",
    "\n",
    "delta_f_Ex_initial = np.zeros((2 * len(velocity_x)+2), dtype = np.float)\n",
    "delta_f_Ex_initial[0 : len(velocity_x)] = amp * f_0(velocity_x)\n",
    "delta_f_Ex_initial[2 * len(velocity_x) + 1] = -1 * e * (1/k) * np.sum(delta_f_Ex_initial[0: len(velocity_x)] ) * dv"
   ]
  },
  {
   "cell_type": "code",
   "execution_count": 31,
   "metadata": {
    "collapsed": true
   },
   "outputs": [],
   "source": [
    "# Setting the parameters for time here\n",
    "final_time = 3\n",
    "dt = 0.001\n",
    "time_ana = np.arange(0, final_time, dt)"
   ]
  },
  {
   "cell_type": "code",
   "execution_count": 32,
   "metadata": {
    "collapsed": true
   },
   "outputs": [],
   "source": [
    "# Variable for temperorily storing the real and imaginary parts of delta f used for odeint\n",
    "initial_conditions_delta_f = np.zeros((2 * len(velocity_x)), dtype = np.float)\n",
    "old_delta_f = np.zeros((2 * len(velocity_x)), dtype = np.float)\n",
    "\n",
    "\n",
    "initial_conditions_delta_f_Ex = np.zeros((2 * len(velocity_x) + 2), dtype = np.float)\n",
    "old_delta_f_Ex = np.zeros((2 * len(velocity_x) + 2 ), dtype = np.float)\n",
    "# Variable for storing delta rho"
   ]
  },
  {
   "cell_type": "code",
   "execution_count": 33,
   "metadata": {
    "collapsed": true
   },
   "outputs": [],
   "source": [
    "delta_rho_kspace_method1  = np.zeros(len(time_ana), dtype = np.float)\n",
    "delta_rho_kspace_method2  = np.zeros(len(time_ana), dtype = np.float)\n",
    "Ex_real_amplitude         = np.zeros(len(time_ana), dtype = np.float)\n",
    "Ex_imag_amplitude         = np.zeros(len(time_ana), dtype = np.float)\n",
    "Ex_amplitude              = np.zeros(len(time_ana), dtype = np.float)\n",
    "delta_f_temp              = np.zeros(2 * len(velocity_x), dtype=np.float)\n",
    "temperory_delta_f_Ex      = np.zeros(2 * len(velocity_x) + 2, dtype=np.float)"
   ]
  },
  {
   "cell_type": "code",
   "execution_count": 34,
   "metadata": {
    "collapsed": false
   },
   "outputs": [
    {
     "name": "stdout",
     "output_type": "stream",
     "text": [
      "Computing for TimeIndex =  0\n",
      "Computing for TimeIndex =  1000\n",
      "Computing for TimeIndex =  2000\n"
     ]
    }
   ],
   "source": [
    "for time_index, t0 in enumerate(time_ana):\n",
    "    if(time_index%1000==0):\n",
    "        print(\"Computing for TimeIndex = \", time_index)\n",
    "        \n",
    "    t0 = time_ana[time_index]\n",
    "    \n",
    "    if (time_index == time_ana.size - 1):\n",
    "        break\n",
    "    t1 = time_ana[time_index + 1]\n",
    "    t = [t0, t1]\n",
    "\n",
    "    # delta f is defined on the velocity grid\n",
    "\n",
    "\n",
    "    # Initial conditions for the odeint\n",
    "    if(time_index == 0):\n",
    "        # Initial conditions for the odeint for the 2 ODE's respectively for the first time step\n",
    "        # First column for storing the real values of delta f and 2nd column for the imaginary values\n",
    "        initial_conditions_delta_f                 = delta_f_initial.copy()\n",
    "        initial_conditions_delta_f_Ex                 = delta_f_Ex_initial.copy()\n",
    "        # Storing the integral sum of delta f dv used in odeint\n",
    "\n",
    "    else:\n",
    "        # Initial conditions for the odeint for the 2 ODE's respectively for all other time steps\n",
    "        # First column for storing the real values of delta f and 2nd column for the imaginary values\n",
    "        initial_conditions_delta_f= old_delta_f.copy()\n",
    "        initial_conditions_delta_f_Ex= old_delta_f_Ex.copy()\n",
    "        # Storing the integral sum of delta f dv used in odeint\n",
    "\n",
    "    # Integrating delta f\n",
    "\n",
    "    temperory_delta_f = odeint(diff_delta_f, initial_conditions_delta_f, t)[1]\n",
    "    temperory_delta_f_Ex = odeint(diff_delta_f_Ex, initial_conditions_delta_f_Ex, t)[1]\n",
    "\n",
    "    # Saving delta rho for current time_index\n",
    "    delta_rho_kspace_method1[time_index] = ((sum(dv * temperory_delta_f[ 0: len(velocity_x)])))\n",
    "    delta_rho_kspace_method2[time_index] = ((sum(dv * temperory_delta_f_Ex[ 0: len(velocity_x)])))\n",
    "    Ex_real_amplitude[time_index] = (e/k)*sum(  dv * temperory_delta_f[ 0: len(velocity_x)]  )\n",
    "    Ex_imag_amplitude[time_index] = (e/k)*(sum  (  dv * temperory_delta_f_Ex[ 1 * len(velocity_x) : 2 * len(velocity_x)]  ))\n",
    "    Ex_amplitude[time_index] = np.sqrt( Ex_real_amplitude[time_index]**2 + Ex_imag_amplitude[time_index]**2  )\n",
    "    # Saving the solution for to use it for the next time step\n",
    "    old_delta_f = temperory_delta_f.copy()\n",
    "    old_delta_f_Ex = temperory_delta_f_Ex.copy()"
   ]
  },
  {
   "cell_type": "markdown",
   "metadata": {},
   "source": [
    "### Comparing the plots from both Linear theory calculations and Electrostatic PIC below"
   ]
  },
  {
   "cell_type": "code",
   "execution_count": 38,
   "metadata": {
    "collapsed": false
   },
   "outputs": [],
   "source": [
    "time_grid = np.linspace(0, time[-1], len(Ex_all_times))\n",
    "pl.plot( time_grid, Ex_max , label = r'$\\mathrm{From\\;PIC}$')\n",
    "pl.plot(time_ana, (abs(Ex_amplitude)),label = '$\\mathrm{From\\;LT\\;calculations}$')\n",
    "pl.plot(time_octave, E_field_octave, label = '\\mathrm{From\\;Octave}')\n",
    "# print('(abs(Ex_amplitude[0])) is ',(abs(Ex_amplitude[0])))\n",
    "# print('(abs(Ex_max[0])) is ',(abs(Ex_max[0])))\n",
    "pl.title(r'$\\mathrm{Max(abs(E))}$')\n",
    "pl.xlabel('$t$')\n",
    "pl.ylabel('$E_{x}$')\n",
    "pl.legend()\n",
    "# pl.show()\n",
    "pl.savefig('MaxE.png')\n",
    "pl.clf()"
   ]
  },
  {
   "cell_type": "code",
   "execution_count": 39,
   "metadata": {
    "collapsed": false
   },
   "outputs": [],
   "source": [
    "pl.semilogy(time_grid, Ex_max ,label = r'$\\mathrm{From\\;PIC}$')\n",
    "pl.semilogy(time_ana, (abs(Ex_amplitude)),label = '$\\mathrm{From\\;LT\\;calculations}$')\n",
    "pl.semilogy(time_octave, E_field_octave, label = '\\mathrm{From\\;Octave}')\n",
    "pl.legend()\n",
    "pl.title(r'$\\mathrm{Max(abs(E))}$')\n",
    "pl.xlabel('$t$')\n",
    "pl.ylabel('$E_{x}$')\n",
    "# pl.show()\n",
    "pl.savefig('MaxE_semilogy.png')\n",
    "pl.clf()"
   ]
  },
  {
   "cell_type": "code",
   "execution_count": 40,
   "metadata": {
    "collapsed": false
   },
   "outputs": [],
   "source": [
    "pl.loglog(time_grid, Ex_max ,label = r'$\\mathrm{From\\;PIC}$')\n",
    "pl.loglog(time_ana, (abs(Ex_amplitude)),label = '$\\mathrm{From\\;LT\\;calculations}$')\n",
    "pl.loglog(time_octave, E_field_octave, label = '\\mathrm{From\\;Octave}')\n",
    "pl.legend()\n",
    "pl.title(r'$\\mathrm{Max(abs(E))}$')\n",
    "pl.xlabel('$t$')\n",
    "pl.ylabel('$E_{x}$')\n",
    "# pl.show()\n",
    "pl.savefig('MaxE_loglog.png')\n",
    "pl.clf()"
   ]
  },
  {
   "cell_type": "code",
   "execution_count": null,
   "metadata": {
    "collapsed": true
   },
   "outputs": [],
   "source": []
  }
 ],
 "metadata": {
  "kernelspec": {
   "display_name": "Python 3",
   "language": "python",
   "name": "python3"
  },
  "language_info": {
   "codemirror_mode": {
    "name": "ipython",
    "version": 3
   },
   "file_extension": ".py",
   "mimetype": "text/x-python",
   "name": "python",
   "nbconvert_exporter": "python",
   "pygments_lexer": "ipython3",
   "version": "3.6.0"
  }
 },
 "nbformat": 4,
 "nbformat_minor": 2
}
