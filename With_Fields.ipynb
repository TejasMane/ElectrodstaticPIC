{
 "cells": [
  {
   "cell_type": "code",
   "execution_count": 1,
   "metadata": {
    "collapsed": true
   },
   "outputs": [],
   "source": [
    "import numpy as np\n",
    "import pylab as pl\n",
    "import arrayfire as af\n",
    "import h5py\n",
    "af.set_backend(\"cpu\")\n",
    "%matplotlib inline"
   ]
  },
  {
   "cell_type": "code",
   "execution_count": 2,
   "metadata": {
    "collapsed": true
   },
   "outputs": [],
   "source": [
    "# Setting velocity and spatial grid points\n",
    "N_positions = 1048\n",
    "ghost_zones = 3\n",
    "N_velocity  = N_positions"
   ]
  },
  {
   "cell_type": "code",
   "execution_count": 3,
   "metadata": {
    "collapsed": true
   },
   "outputs": [],
   "source": [
    "# Boundaries of domain\n",
    "left_boundary  = 0\n",
    "right_boundary = 1.0\n",
    "length         = right_boundary - left_boundary"
   ]
  },
  {
   "cell_type": "code",
   "execution_count": 4,
   "metadata": {
    "collapsed": true
   },
   "outputs": [],
   "source": [
    "# Setting mass of the particle, boltzmann-constant\n",
    "mass_particle      = 1.0\n",
    "boltzmann_constant = 1.0\n",
    "charge_particle    = -11.0"
   ]
  },
  {
   "cell_type": "code",
   "execution_count": 5,
   "metadata": {
    "collapsed": true
   },
   "outputs": [],
   "source": [
    "# Scattering time scale\n",
    "tau   = np.inf #0.01\n",
    "# Magnitude of maximum velocity\n",
    "v_max = 5"
   ]
  },
  {
   "cell_type": "code",
   "execution_count": 6,
   "metadata": {
    "collapsed": true
   },
   "outputs": [],
   "source": [
    "# Setting the parameters for time here\n",
    "N_t        = 3000\n",
    "final_time = 3\n",
    "dt         = final_time/N_t\n",
    "time_array = np.linspace(dt, final_time, N_t)"
   ]
  },
  {
   "cell_type": "code",
   "execution_count": 7,
   "metadata": {
    "collapsed": true
   },
   "outputs": [],
   "source": [
    "# Setting up of spatial and velocity grids:\n",
    "x  = np.linspace(left_boundary, right_boundary, N_positions)\n",
    "dx = x[1] - x[0]"
   ]
  },
  {
   "cell_type": "code",
   "execution_count": 8,
   "metadata": {
    "collapsed": true
   },
   "outputs": [],
   "source": [
    "# Obtaining the coordinates for the ghost-zones:\n",
    "x_ghost_left  = np.linspace(-(ghost_zones)*dx + left_boundary, left_boundary - dx, ghost_zones)\n",
    "x_ghost_right = np.linspace(right_boundary + dx, right_boundary + ghost_zones*dx , ghost_zones)"
   ]
  },
  {
   "cell_type": "code",
   "execution_count": 9,
   "metadata": {
    "collapsed": true
   },
   "outputs": [],
   "source": [
    "# Combining them to obtain the entire spatial grid\n",
    "x  = np.concatenate([x_ghost_left, x, x_ghost_right])"
   ]
  },
  {
   "cell_type": "code",
   "execution_count": 10,
   "metadata": {
    "collapsed": true
   },
   "outputs": [],
   "source": [
    "# Obtaining the velocity grid\n",
    "v  = np.linspace(-v_max, v_max, N_velocity)\n",
    "x  = af.Array.as_type(af.to_array(x), af.Dtype.f64)\n",
    "v  = af.Array.as_type(af.to_array(v), af.Dtype.f64)"
   ]
  },
  {
   "cell_type": "code",
   "execution_count": 11,
   "metadata": {
    "collapsed": true
   },
   "outputs": [],
   "source": [
    "# Conversion to allow for easy vectorization\n",
    "x = af.tile(x, 1, N_velocity)\n",
    "v = af.tile(af.reorder(v), N_positions + 2*ghost_zones, 1)"
   ]
  },
  {
   "cell_type": "code",
   "execution_count": 12,
   "metadata": {
    "collapsed": true
   },
   "outputs": [],
   "source": [
    "def calculate_density(f, v):\n",
    "    deltav           = af.sum(v[0, 1]-v[0, 0])\n",
    "    value_of_density = af.sum(f, 1)*deltav\n",
    "    \n",
    "    af.eval(value_of_density)\n",
    "    \n",
    "    return(value_of_density)"
   ]
  },
  {
   "cell_type": "code",
   "execution_count": 13,
   "metadata": {
    "collapsed": false
   },
   "outputs": [],
   "source": [
    "def f_interp(dt, x, v, f):\n",
    "\n",
    "    x_new     = x - 0.5*v*dt\n",
    "    step_size = af.sum(x[1,0] - x[0,0])\n",
    "    \n",
    "    f_interp  = af.constant(0, N_positions + 2*ghost_zones, N_velocity, dtype=af.Dtype.f64)\n",
    "    \n",
    "    # Interpolating:\n",
    "    \n",
    "    x_temp = x_new[ghost_zones:-ghost_zones, :]\n",
    "    \n",
    "    while(af.sum(x_temp<left_boundary)!=0):\n",
    "        x_temp = af.select(x_temp<left_boundary,\n",
    "                           x_temp + length,\n",
    "                           x_temp\n",
    "                          )\n",
    "        \n",
    "    while(af.sum(x_temp>right_boundary)!=0):\n",
    "        x_temp = af.select(x_temp>right_boundary,\n",
    "                           x_temp - length,\n",
    "                           x_temp\n",
    "                          )\n",
    "\n",
    "    x_interpolant = x_temp/step_size + ghost_zones\n",
    "    \n",
    "    f_interp[ghost_zones:-ghost_zones, :] = af.approx1(f, x_interpolant,\\\n",
    "                                                       af.INTERP.CUBIC_SPLINE\n",
    "                                                      )\n",
    "#     pl.contourf(np.array(x[3:-3]), np.array(v[3:-3]), np.array(f_current[3:-3] - f_background[3:-3]), 100)\n",
    "#     pl.colorbar()\n",
    "#     pl.xlabel('$x$')\n",
    "#     pl.ylabel('$v$')\n",
    "#     pl.title('Time = ' + str(t0))\n",
    "#     pl.savefig('images/' + \"%04d\"%time_index + '.png', dpi = 300)\n",
    "#     pl.clf()\n",
    "    \n",
    "    af.eval(f_interp)\n",
    "    return f_interp"
   ]
  },
  {
   "cell_type": "code",
   "execution_count": 14,
   "metadata": {
    "collapsed": true
   },
   "outputs": [],
   "source": [
    "def f_interp_v(dt, x, v, f, E):\n",
    "    v_new     = v - charge_particle * dt * af.tile(E, 1, N_velocity)\n",
    "    step_size = af.sum(v[0,1] - v[0,0])\n",
    "    \n",
    "    # Interpolating:\n",
    "       \n",
    "    v_interpolant = (v_new + v_max)/step_size\n",
    "\n",
    "    f_interp      = af.approx1(af.reorder(f),\\\n",
    "                               af.reorder(v_interpolant),\\\n",
    "                               af.INTERP.CUBIC_SPLINE\n",
    "                              )\n",
    "    \n",
    "    f_interp          = af.reorder(f_interp)\n",
    "    \n",
    "    af.eval(f_interp)\n",
    "\n",
    "    return f_interp"
   ]
  },
  {
   "cell_type": "code",
   "execution_count": 15,
   "metadata": {
    "collapsed": true
   },
   "outputs": [],
   "source": [
    "def fft_poisson(rho):\n",
    "    \n",
    "    if((af.Array.elements(rho)%2)==0):\n",
    "        kspace = af.to_array(np.append(np.arange(0, (N_positions - 1)/2 - 1),\\\n",
    "                                       np.arange(-((N_positions - 1)/2) - 1, 0)\n",
    "                                      )\n",
    "                            )\n",
    "    else:\n",
    "        kspace = af.to_array(np.append(np.arange(0, N_positions/2 - 1),\\\n",
    "                                       np.arange(-N_positions/2, 0)\n",
    "                                      )\n",
    "                            )\n",
    "        \n",
    "        \n",
    "    rho_kspace = af.fft(rho)\n",
    "    V_kspace   = af.constant(0, af.Array.elements(rho), dtype=af.Dtype.c64)\n",
    "    kspace     = af.Array.as_type(kspace, af.Dtype.c64)\n",
    "    \n",
    "    V_kspace[1:] =  (1/(4 * np.pi**2 * kspace[1:]**2)) * rho_kspace[1:]\n",
    "    V_kspace[0]  =  0\n",
    "\n",
    "    E_kspace     =  -1j * 2 * np.pi * kspace * V_kspace\n",
    "    \n",
    "    E = af.ifft(E_kspace)\n",
    "    \n",
    "    return E"
   ]
  },
  {
   "cell_type": "code",
   "execution_count": 16,
   "metadata": {
    "collapsed": true
   },
   "outputs": [],
   "source": [
    "# Intializing the values for f:\n",
    "rho0           = 1.0\n",
    "delta_rho_real = 5e-3\n",
    "delta_rho_imag = 0\n",
    "\n",
    "rho       = rho0 + (delta_rho_real * af.cos(2*np.pi*x) - delta_rho_imag * af.sin(2*np.pi*x))\n",
    "\n",
    "T0      = 1.0\n",
    "delta_T = 0 \n",
    "\n",
    "T         = T0 - (delta_T) * (af.cos(2*np.pi*x) + af.sin(2*np.pi*x))\n",
    "\n",
    "f_initial = rho * af.sqrt(mass_particle/(2*np.pi*boltzmann_constant*T)) * \\\n",
    "            af.exp(-mass_particle*v**2/(2*boltzmann_constant*T))"
   ]
  },
  {
   "cell_type": "code",
   "execution_count": 17,
   "metadata": {
    "collapsed": false
   },
   "outputs": [],
   "source": [
    "f_initial[:ghost_zones,:]   = f_initial[-(2*ghost_zones + 1):-(ghost_zones + 1)]\n",
    "f_initial[-ghost_zones:, :] = f_initial[(ghost_zones + 1):(2*ghost_zones + 1)]"
   ]
  },
  {
   "cell_type": "code",
   "execution_count": null,
   "metadata": {
    "collapsed": false
   },
   "outputs": [],
   "source": [
    "f_current = f_initial\n",
    "data = np.zeros(time_array.size)\n",
    "f_background = rho0 * af.sqrt(mass_particle/(2*np.pi*boltzmann_constant*T)) * \\\n",
    "               af.exp(-mass_particle*v**2/(2*boltzmann_constant*T))"
   ]
  },
  {
   "cell_type": "code",
   "execution_count": null,
   "metadata": {
    "collapsed": false,
    "scrolled": true
   },
   "outputs": [
    {
     "name": "stdout",
     "output_type": "stream",
     "text": [
      "Physical Time            =  0.001\n"
     ]
    }
   ],
   "source": [
    "for time_index, t0 in enumerate(time_array):\n",
    "    if(time_index%100==0):\n",
    "        print(\"Physical Time            = \", t0)\n",
    "    # We shall split the Boltzmann-Equation and solve it:\n",
    "    # In this step we are solving the collisionless equation\n",
    "    fstar = f_interp(dt, x, v, f_current)\n",
    "\n",
    "    fstar[:ghost_zones,:]                = fstar[-(2*ghost_zones + 1):-(ghost_zones + 1)]\n",
    "    fstar[N_positions + ghost_zones:, :] = fstar[(ghost_zones + 1):(2*ghost_zones + 1)]\n",
    "    \n",
    "    E       = af.constant(0, N_positions + 2*ghost_zones, dtype=af.Dtype.c64)\n",
    "    E_local = fft_poisson(charge_particle*(calculate_density(fstar, v)[3:-4] - 1))\n",
    "    E_local = af.join(0, E_local, E_local[0])\n",
    "    \n",
    "    E[ghost_zones:-ghost_zones]   = E_local\n",
    "    E[:ghost_zones]               = E[-(2*ghost_zones + 1):-(ghost_zones + 1)]\n",
    "    E[N_positions + ghost_zones:] = E[(ghost_zones + 1):(2*ghost_zones + 1)]\n",
    "    \n",
    "    fdoublestar = f_interp_v(dt, x, v, fstar, af.real(E))\n",
    "    \n",
    "    fdoublestar[:ghost_zones,:]                = fdoublestar[-(2*ghost_zones + 1):-(ghost_zones + 1)]\n",
    "    fdoublestar[N_positions + ghost_zones:, :] = fdoublestar[(ghost_zones + 1):(2*ghost_zones + 1)]\n",
    "    \n",
    "    f_final = f_interp(dt, x, v, fdoublestar)\n",
    "    \n",
    "    f_final[:ghost_zones,:]                = f_final[-(2*ghost_zones + 1):-(ghost_zones + 1)]\n",
    "    f_final[N_positions + ghost_zones:, :] = f_final[(ghost_zones + 1):(2*ghost_zones + 1)]\n",
    "    \n",
    "    f_current = f_final\n",
    "    \n",
    "    data[time_index] = af.max(calculate_density(f_current, v))"
   ]
  },
  {
   "cell_type": "code",
   "execution_count": null,
   "metadata": {
    "collapsed": false
   },
   "outputs": [],
   "source": [
    "# f_diff = np.array(f_current[3:-3] - f_background[3:-3])\n",
    "# v_pl = np.array(af.reorder(v[0]))\n",
    "# h5f    = h5py.File(\"LT_2048.h5\", 'r')\n",
    "# data_2 = h5f['density'][:]\n",
    "# time_2 = h5f['time'][:]\n",
    "# h5f.close()\n",
    "# pl.semilogy(time_array, data - 1)\n",
    "# pl.semilogy(time_2, data_2)\n",
    "# pl.ylabel(r'$f_{\\mathrm{diff}}$')\n",
    "# pl.xlabel('$v$')\n",
    "# pl.title(r'At $x=0$')"
   ]
  },
  {
   "cell_type": "code",
   "execution_count": null,
   "metadata": {
    "collapsed": false
   },
   "outputs": [],
   "source": [
    "h5f = h5py.File('CK_' + str(N_positions) + '.h5', 'w')\n",
    "h5f.create_dataset('f_dist', data = f_current)\n",
    "h5f.close()"
   ]
  },
  {
   "cell_type": "code",
   "execution_count": null,
   "metadata": {
    "collapsed": false
   },
   "outputs": [],
   "source": [
    "N_positions"
   ]
  },
  {
   "cell_type": "code",
   "execution_count": null,
   "metadata": {
    "collapsed": false
   },
   "outputs": [],
   "source": [
    "pl.semilogy(data-1)"
   ]
  },
  {
   "cell_type": "code",
   "execution_count": null,
   "metadata": {
    "collapsed": true
   },
   "outputs": [],
   "source": []
  },
  {
   "cell_type": "code",
   "execution_count": null,
   "metadata": {
    "collapsed": true
   },
   "outputs": [],
   "source": []
  }
 ],
 "metadata": {
  "kernelspec": {
   "display_name": "Python 3",
   "language": "python",
   "name": "python3"
  },
  "language_info": {
   "codemirror_mode": {
    "name": "ipython",
    "version": 3
   },
   "file_extension": ".py",
   "mimetype": "text/x-python",
   "name": "python",
   "nbconvert_exporter": "python",
   "pygments_lexer": "ipython3",
   "version": "3.6.0"
  }
 },
 "nbformat": 4,
 "nbformat_minor": 2
}
