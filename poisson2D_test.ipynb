{
 "cells": [
  {
   "cell_type": "code",
   "execution_count": 1,
   "metadata": {
    "collapsed": false
   },
   "outputs": [],
   "source": [
    "import numpy as np\n",
    "import h5py\n",
    "import pylab as pl\n",
    "import arrayfire as af\n",
    "from scipy.fftpack import fftfreq\n",
    "import numpy.fft as fft\n",
    "from numpy.fft import fft2, ifft2\n",
    "# af.set_backend('cpu')"
   ]
  },
  {
   "cell_type": "code",
   "execution_count": 2,
   "metadata": {
    "collapsed": false
   },
   "outputs": [],
   "source": [
    "x_grid = np.linspace(0, 1, 2)\n",
    "y_grid = np.linspace(0, 1, 50)\n",
    "dx = x_grid[1] - x_grid[0]\n",
    "dy = y_grid[1] - y_grid[0]"
   ]
  },
  {
   "cell_type": "code",
   "execution_count": 3,
   "metadata": {
    "collapsed": true
   },
   "outputs": [],
   "source": [
    "sin_x = np.cos(2 * np.pi * x_grid)"
   ]
  },
  {
   "cell_type": "code",
   "execution_count": 4,
   "metadata": {
    "collapsed": true
   },
   "outputs": [],
   "source": [
    "rho = np.tile(sin_x, (len(y_grid), 1))"
   ]
  },
  {
   "cell_type": "code",
   "execution_count": 5,
   "metadata": {
    "collapsed": false
   },
   "outputs": [
    {
     "data": {
      "text/plain": [
       "(50, 2)"
      ]
     },
     "execution_count": 5,
     "metadata": {},
     "output_type": "execute_result"
    }
   ],
   "source": [
    "(fft.fft2(rho)).shape"
   ]
  },
  {
   "cell_type": "code",
   "execution_count": 6,
   "metadata": {
    "collapsed": false
   },
   "outputs": [],
   "source": [
    "rho = af.to_array(rho)"
   ]
  },
  {
   "cell_type": "code",
   "execution_count": 7,
   "metadata": {
    "collapsed": false
   },
   "outputs": [
    {
     "data": {
      "image/png": "[encoded data removed]",
      "text/plain": [
       "<matplotlib.figure.Figure at 0x7fd55c228908>"
      ]
     },
     "metadata": {},
     "output_type": "display_data"
    }
   ],
   "source": [
    "pl.plot(np.array(rho)[0, :])\n",
    "pl.show()\n",
    "pl.clf()"
   ]
  },
  {
   "cell_type": "code",
   "execution_count": 8,
   "metadata": {
    "collapsed": false
   },
   "outputs": [],
   "source": [
    "def fft_poisson(rho, dx, dy = None):\n",
    "    \"\"\"\n",
    "    FFT solver which returns the value of electric field. This will only work\n",
    "    when the system being solved for has periodic boundary conditions.\n",
    "\n",
    "    Parameters:\n",
    "    -----------\n",
    "    rho : The 1D/2D density array obtained from calculate_density() is passed to this\n",
    "          function.\n",
    "\n",
    "    dx  : Step size in the x-grid\n",
    "\n",
    "    dy  : Step size in the y-grid.Set to None by default to avoid conflict with the 1D case.\n",
    "\n",
    "    Output:\n",
    "    -------\n",
    "    E_x, E_y : Depending on the dimensionality of the system considered, either both E_x, and\n",
    "               E_y are returned or E_x is returned.\n",
    "    \"\"\"\n",
    "#     rho = np.array(rho)\n",
    "    rho_temp = rho[0: -1, 0: -1]\n",
    "    print(rho_temp.dims())\n",
    "    \n",
    "    k_x = af.to_array(fftfreq(rho_temp.dims()[1], dx))\n",
    "    k_x = af.Array.as_type(k_x, af.Dtype.c64)\n",
    "    k_y = af.to_array(fftfreq(rho_temp.dims()[0], dy))\n",
    "    k_x = af.tile(af.reorder(k_x), rho_temp.dims()[0], 1)\n",
    "    k_y = af.tile(k_y, 1, rho_temp.dims()[1])\n",
    "    k_y = af.Array.as_type(k_y, af.Dtype.c64)\n",
    "\n",
    "    rho_hat       = fft2(rho_temp)\n",
    "    rho_hat = af.to_array(rho_hat)\n",
    "    potential_hat = af.constant(0, rho_temp.shape[0], rho_temp.shape[1], dtype=af.Dtype.c64)\n",
    "\n",
    "    potential_hat       = (1/(4 * np.pi**2 * (k_x * k_x + k_y * k_y))) * rho_hat\n",
    "\n",
    "    potential_hat[0, 0] = 0\n",
    "\n",
    "    potential_hat = np.array(potential_hat)\n",
    "\n",
    "    E_x_hat = -1j * 2 * np.pi * np.array(k_x) * potential_hat\n",
    "    E_y_hat = -1j * 2 * np.pi * np.array(k_y) * potential_hat\n",
    "    \n",
    "    \n",
    "    \n",
    "\n",
    "    E_x = (ifft2(E_x_hat)).real\n",
    "    E_y = (ifft2(E_y_hat)).real\n",
    "\n",
    "\n",
    "    \n",
    "    E_x = af.to_array(E_x)\n",
    "    E_y = af.to_array(E_y)\n",
    "\n",
    "        \n",
    "    E_x = af.join(0, E_x, E_x[0, :])\n",
    "    \n",
    "    E_x = af.join(1, E_x, E_x[:, 0])\n",
    "    \n",
    "    E_y = af.join(0, E_y, E_y[0, :])\n",
    "    E_y = af.join(1, E_y, E_y[:, 0])   \n",
    "    \n",
    "    E_x[-1, -1] = E_x[0, 0].copy()\n",
    "    E_y[-1, -1] = E_y[0, 0].copy()\n",
    "    \n",
    "    af.eval(E_x, E_y)\n",
    "\n",
    "\n",
    "    return(E_x, E_y)"
   ]
  },
  {
   "cell_type": "code",
   "execution_count": 9,
   "metadata": {
    "collapsed": false
   },
   "outputs": [
    {
     "name": "stdout",
     "output_type": "stream",
     "text": [
      "(49,)\n"
     ]
    },
    {
     "ename": "IndexError",
     "evalue": "tuple index out of range",
     "output_type": "error",
     "traceback": [
      "\u001b[0;31m---------------------------------------------------------------------------\u001b[0m",
      "\u001b[0;31mIndexError\u001b[0m                                Traceback (most recent call last)",
      "\u001b[0;32m<ipython-input-9-88eb12f57f34>\u001b[0m in \u001b[0;36m<module>\u001b[0;34m()\u001b[0m\n\u001b[0;32m----> 1\u001b[0;31m \u001b[0mEx\u001b[0m\u001b[0;34m,\u001b[0m \u001b[0mEy\u001b[0m \u001b[0;34m=\u001b[0m \u001b[0mfft_poisson\u001b[0m\u001b[0;34m(\u001b[0m\u001b[0maf\u001b[0m\u001b[0;34m.\u001b[0m\u001b[0mto_array\u001b[0m\u001b[0;34m(\u001b[0m\u001b[0mrho\u001b[0m\u001b[0;34m)\u001b[0m\u001b[0;34m,\u001b[0m \u001b[0mdx\u001b[0m\u001b[0;34m,\u001b[0m \u001b[0mdy\u001b[0m \u001b[0;34m=\u001b[0m \u001b[0mdy\u001b[0m\u001b[0;34m)\u001b[0m\u001b[0;34m\u001b[0m\u001b[0m\n\u001b[0m",
      "\u001b[0;32m<ipython-input-8-34b7e7807aec>\u001b[0m in \u001b[0;36mfft_poisson\u001b[0;34m(rho, dx, dy)\u001b[0m\n\u001b[1;32m     22\u001b[0m     \u001b[0mprint\u001b[0m\u001b[0;34m(\u001b[0m\u001b[0mrho_temp\u001b[0m\u001b[0;34m.\u001b[0m\u001b[0mdims\u001b[0m\u001b[0;34m(\u001b[0m\u001b[0;34m)\u001b[0m\u001b[0;34m)\u001b[0m\u001b[0;34m\u001b[0m\u001b[0m\n\u001b[1;32m     23\u001b[0m \u001b[0;34m\u001b[0m\u001b[0m\n\u001b[0;32m---> 24\u001b[0;31m     \u001b[0mk_x\u001b[0m \u001b[0;34m=\u001b[0m \u001b[0maf\u001b[0m\u001b[0;34m.\u001b[0m\u001b[0mto_array\u001b[0m\u001b[0;34m(\u001b[0m\u001b[0mfftfreq\u001b[0m\u001b[0;34m(\u001b[0m\u001b[0mrho_temp\u001b[0m\u001b[0;34m.\u001b[0m\u001b[0mdims\u001b[0m\u001b[0;34m(\u001b[0m\u001b[0;34m)\u001b[0m\u001b[0;34m[\u001b[0m\u001b[0;36m1\u001b[0m\u001b[0;34m]\u001b[0m\u001b[0;34m,\u001b[0m \u001b[0mdx\u001b[0m\u001b[0;34m)\u001b[0m\u001b[0;34m)\u001b[0m\u001b[0;34m\u001b[0m\u001b[0m\n\u001b[0m\u001b[1;32m     25\u001b[0m     \u001b[0mk_x\u001b[0m \u001b[0;34m=\u001b[0m \u001b[0maf\u001b[0m\u001b[0;34m.\u001b[0m\u001b[0mArray\u001b[0m\u001b[0;34m.\u001b[0m\u001b[0mas_type\u001b[0m\u001b[0;34m(\u001b[0m\u001b[0mk_x\u001b[0m\u001b[0;34m,\u001b[0m \u001b[0maf\u001b[0m\u001b[0;34m.\u001b[0m\u001b[0mDtype\u001b[0m\u001b[0;34m.\u001b[0m\u001b[0mc64\u001b[0m\u001b[0;34m)\u001b[0m\u001b[0;34m\u001b[0m\u001b[0m\n\u001b[1;32m     26\u001b[0m     \u001b[0mk_y\u001b[0m \u001b[0;34m=\u001b[0m \u001b[0maf\u001b[0m\u001b[0;34m.\u001b[0m\u001b[0mto_array\u001b[0m\u001b[0;34m(\u001b[0m\u001b[0mfftfreq\u001b[0m\u001b[0;34m(\u001b[0m\u001b[0mrho_temp\u001b[0m\u001b[0;34m.\u001b[0m\u001b[0mdims\u001b[0m\u001b[0;34m(\u001b[0m\u001b[0;34m)\u001b[0m\u001b[0;34m[\u001b[0m\u001b[0;36m0\u001b[0m\u001b[0;34m]\u001b[0m\u001b[0;34m,\u001b[0m \u001b[0mdy\u001b[0m\u001b[0;34m)\u001b[0m\u001b[0;34m)\u001b[0m\u001b[0;34m\u001b[0m\u001b[0m\n",
      "\u001b[0;31mIndexError\u001b[0m: tuple index out of range"
     ]
    }
   ],
   "source": [
    "Ex, Ey = fft_poisson(af.to_array(rho), dx, dy = dy)"
   ]
  },
  {
   "cell_type": "code",
   "execution_count": null,
   "metadata": {
    "collapsed": false
   },
   "outputs": [],
   "source": [
    "pl.plot(np.array(Ex)[0,:])\n",
    "pl.show()\n",
    "pl.clf()"
   ]
  },
  {
   "cell_type": "code",
   "execution_count": null,
   "metadata": {
    "collapsed": false
   },
   "outputs": [],
   "source": [
    "print(af.max(Ex), af.max(Ey))\n",
    "print(Ex[0, 0], Ex[-1,0], Ex[0,-1], Ex[-1, -1])"
   ]
  },
  {
   "cell_type": "code",
   "execution_count": null,
   "metadata": {
    "collapsed": false
   },
   "outputs": [],
   "source": [
    "pl.contourf(np.array(Ex), 100)\n",
    "pl.show()\n",
    "pl.clf()"
   ]
  },
  {
   "cell_type": "code",
   "execution_count": null,
   "metadata": {
    "collapsed": true
   },
   "outputs": [],
   "source": []
  },
  {
   "cell_type": "code",
   "execution_count": null,
   "metadata": {
    "collapsed": true
   },
   "outputs": [],
   "source": []
  },
  {
   "cell_type": "code",
   "execution_count": null,
   "metadata": {
    "collapsed": true
   },
   "outputs": [],
   "source": []
  }
 ],
 "metadata": {
  "kernelspec": {
   "display_name": "Python 3",
   "language": "python",
   "name": "python3"
  },
  "language_info": {
   "codemirror_mode": {
    "name": "ipython",
    "version": 3
   },
   "file_extension": ".py",
   "mimetype": "text/x-python",
   "name": "python",
   "nbconvert_exporter": "python",
   "pygments_lexer": "ipython3",
   "version": "3.6.0"
  }
 },
 "nbformat": 4,
 "nbformat_minor": 2
}
