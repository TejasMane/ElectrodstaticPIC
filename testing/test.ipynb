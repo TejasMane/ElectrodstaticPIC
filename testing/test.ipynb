{
 "cells": [
  {
   "cell_type": "code",
   "execution_count": 1,
   "metadata": {
    "collapsed": true
   },
   "outputs": [],
   "source": [
    "import numpy as np\n",
    "import arrayfire as af"
   ]
  },
  {
   "cell_type": "code",
   "execution_count": null,
   "metadata": {
    "collapsed": true
   },
   "outputs": [],
   "source": []
  },
  {
   "cell_type": "code",
   "execution_count": 2,
   "metadata": {
    "collapsed": false
   },
   "outputs": [],
   "source": [
    "a = np.random.rand(2,5)\n",
    "a = af.to_array(a)"
   ]
  },
  {
   "cell_type": "code",
   "execution_count": 3,
   "metadata": {
    "collapsed": false
   },
   "outputs": [],
   "source": [
    "a[0, :] = af.Array([1, 2, 3, 4, 5])\n",
    "a[1, :] = af.Array([10, 20, 30, 40, 50])"
   ]
  },
  {
   "cell_type": "code",
   "execution_count": 4,
   "metadata": {
    "collapsed": false
   },
   "outputs": [
    {
     "data": {
      "text/plain": [
       "arrayfire.Array()\n",
       "Type: double\n",
       "[2 5 1 1]\n",
       "    1.0000     2.0000     3.0000     4.0000     5.0000 \n",
       "   10.0000    20.0000    30.0000    40.0000    50.0000 \n"
      ]
     },
     "execution_count": 4,
     "metadata": {},
     "output_type": "execute_result"
    }
   ],
   "source": [
    "a"
   ]
  },
  {
   "cell_type": "code",
   "execution_count": 5,
   "metadata": {
    "collapsed": false
   },
   "outputs": [],
   "source": [
    "b = af.tile(a,1, 1, 5)"
   ]
  },
  {
   "cell_type": "code",
   "execution_count": 6,
   "metadata": {
    "collapsed": false
   },
   "outputs": [
    {
     "data": {
      "text/plain": [
       "arrayfire.Array()\n",
       "Type: double\n",
       "[2 5 5 1]\n",
       "    1.0000     2.0000     3.0000     4.0000     5.0000 \n",
       "   10.0000    20.0000    30.0000    40.0000    50.0000 \n",
       "\n",
       "    1.0000     2.0000     3.0000     4.0000     5.0000 \n",
       "   10.0000    20.0000    30.0000    40.0000    50.0000 \n",
       "\n",
       "    1.0000     2.0000     3.0000     4.0000     5.0000 \n",
       "   10.0000    20.0000    30.0000    40.0000    50.0000 \n",
       "\n",
       "    1.0000     2.0000     3.0000     4.0000     5.0000 \n",
       "   10.0000    20.0000    30.0000    40.0000    50.0000 \n",
       "\n",
       "    1.0000     2.0000     3.0000     4.0000     5.0000 \n",
       "   10.0000    20.0000    30.0000    40.0000    50.0000 \n",
       "\n"
      ]
     },
     "execution_count": 6,
     "metadata": {},
     "output_type": "execute_result"
    }
   ],
   "source": [
    "b\n",
    "    "
   ]
  },
  {
   "cell_type": "code",
   "execution_count": 7,
   "metadata": {
    "collapsed": false
   },
   "outputs": [
    {
     "data": {
      "text/plain": [
       "arrayfire.Array()\n",
       "Type: double\n",
       "[2 5 5 1]\n",
       "    1.0000     2.0000     3.0000     4.0000     5.0000 \n",
       "   10.0000    20.0000    30.0000    40.0000    50.0000 \n",
       "\n",
       "    1.0000     2.0000     3.0000     4.0000     5.0000 \n",
       "   10.0000    20.0000    30.0000    40.0000    50.0000 \n",
       "\n",
       "    1.0000     2.0000     3.0000     4.0000     5.0000 \n",
       "   10.0000    20.0000    30.0000    40.0000    50.0000 \n",
       "\n",
       "    1.0000     2.0000     3.0000     4.0000     5.0000 \n",
       "   10.0000    20.0000    30.0000    40.0000    50.0000 \n",
       "\n",
       "    1.0000     2.0000     3.0000     4.0000     5.0000 \n",
       "   10.0000    20.0000    30.0000    40.0000    50.0000 \n",
       "\n"
      ]
     },
     "execution_count": 7,
     "metadata": {},
     "output_type": "execute_result"
    }
   ],
   "source": [
    "b"
   ]
  },
  {
   "cell_type": "code",
   "execution_count": 8,
   "metadata": {
    "collapsed": false
   },
   "outputs": [],
   "source": [
    "c = af.to_array(np.swapaxes(b, 1, 2))"
   ]
  },
  {
   "cell_type": "code",
   "execution_count": 9,
   "metadata": {
    "collapsed": false
   },
   "outputs": [
    {
     "data": {
      "text/plain": [
       "arrayfire.Array()\n",
       "Type: double\n",
       "[2 5 5 1]\n",
       "    1.0000     1.0000     1.0000     1.0000     1.0000 \n",
       "   10.0000    10.0000    10.0000    10.0000    10.0000 \n",
       "\n",
       "    2.0000     2.0000     2.0000     2.0000     2.0000 \n",
       "   20.0000    20.0000    20.0000    20.0000    20.0000 \n",
       "\n",
       "    3.0000     3.0000     3.0000     3.0000     3.0000 \n",
       "   30.0000    30.0000    30.0000    30.0000    30.0000 \n",
       "\n",
       "    4.0000     4.0000     4.0000     4.0000     4.0000 \n",
       "   40.0000    40.0000    40.0000    40.0000    40.0000 \n",
       "\n",
       "    5.0000     5.0000     5.0000     5.0000     5.0000 \n",
       "   50.0000    50.0000    50.0000    50.0000    50.0000 \n",
       "\n"
      ]
     },
     "execution_count": 9,
     "metadata": {},
     "output_type": "execute_result"
    }
   ],
   "source": [
    "c"
   ]
  },
  {
   "cell_type": "code",
   "execution_count": 10,
   "metadata": {
    "collapsed": false
   },
   "outputs": [
    {
     "data": {
      "text/plain": [
       "arrayfire.Array()\n",
       "Type: double\n",
       "[1 5 1 1]\n",
       "    1.0000     1.0000     1.0000     1.0000     1.0000 "
      ]
     },
     "execution_count": 10,
     "metadata": {},
     "output_type": "execute_result"
    }
   ],
   "source": [
    "c[0, :, 0]"
   ]
  },
  {
   "cell_type": "code",
   "execution_count": 11,
   "metadata": {
    "collapsed": false
   },
   "outputs": [
    {
     "data": {
      "text/plain": [
       "arrayfire.Array()\n",
       "Type: double\n",
       "[1 5 5 1]\n",
       "    1.0000     1.0000     1.0000     1.0000     1.0000 \n",
       "\n",
       "    2.0000     2.0000     2.0000     2.0000     2.0000 \n",
       "\n",
       "    3.0000     3.0000     3.0000     3.0000     3.0000 \n",
       "\n",
       "    4.0000     4.0000     4.0000     4.0000     4.0000 \n",
       "\n",
       "    5.0000     5.0000     5.0000     5.0000     5.0000 \n",
       "\n"
      ]
     },
     "execution_count": 11,
     "metadata": {},
     "output_type": "execute_result"
    }
   ],
   "source": [
    "c[0,:,:]"
   ]
  },
  {
   "cell_type": "code",
   "execution_count": 12,
   "metadata": {
    "collapsed": false
   },
   "outputs": [
    {
     "data": {
      "text/plain": [
       "arrayfire.Array()\n",
       "Type: double\n",
       "[2 5 5 1]\n",
       "    1.0000     2.0000     3.0000     4.0000     5.0000 \n",
       "   10.0000    20.0000    30.0000    40.0000    50.0000 \n",
       "\n",
       "    1.0000     2.0000     3.0000     4.0000     5.0000 \n",
       "   10.0000    20.0000    30.0000    40.0000    50.0000 \n",
       "\n",
       "    1.0000     2.0000     3.0000     4.0000     5.0000 \n",
       "   10.0000    20.0000    30.0000    40.0000    50.0000 \n",
       "\n",
       "    1.0000     2.0000     3.0000     4.0000     5.0000 \n",
       "   10.0000    20.0000    30.0000    40.0000    50.0000 \n",
       "\n",
       "    1.0000     2.0000     3.0000     4.0000     5.0000 \n",
       "   10.0000    20.0000    30.0000    40.0000    50.0000 \n",
       "\n"
      ]
     },
     "execution_count": 12,
     "metadata": {},
     "output_type": "execute_result"
    }
   ],
   "source": [
    "b"
   ]
  },
  {
   "cell_type": "code",
   "execution_count": 13,
   "metadata": {
    "collapsed": true
   },
   "outputs": [],
   "source": [
    "d = af.data.reorder(b, 0, 2, 1)"
   ]
  },
  {
   "cell_type": "code",
   "execution_count": 14,
   "metadata": {
    "collapsed": false
   },
   "outputs": [
    {
     "data": {
      "text/plain": [
       "arrayfire.Array()\n",
       "Type: double\n",
       "[2 5 5 1]\n",
       "    1.0000     1.0000     1.0000     1.0000     1.0000 \n",
       "   10.0000    10.0000    10.0000    10.0000    10.0000 \n",
       "\n",
       "    2.0000     2.0000     2.0000     2.0000     2.0000 \n",
       "   20.0000    20.0000    20.0000    20.0000    20.0000 \n",
       "\n",
       "    3.0000     3.0000     3.0000     3.0000     3.0000 \n",
       "   30.0000    30.0000    30.0000    30.0000    30.0000 \n",
       "\n",
       "    4.0000     4.0000     4.0000     4.0000     4.0000 \n",
       "   40.0000    40.0000    40.0000    40.0000    40.0000 \n",
       "\n",
       "    5.0000     5.0000     5.0000     5.0000     5.0000 \n",
       "   50.0000    50.0000    50.0000    50.0000    50.0000 \n",
       "\n"
      ]
     },
     "execution_count": 14,
     "metadata": {},
     "output_type": "execute_result"
    }
   ],
   "source": [
    "d"
   ]
  },
  {
   "cell_type": "code",
   "execution_count": 16,
   "metadata": {
    "collapsed": false
   },
   "outputs": [
    {
     "data": {
      "text/plain": [
       "arrayfire.Array()\n",
       "Type: double\n",
       "[50 1 1 1]\n",
       "    1.0000 \n",
       "   10.0000 \n",
       "    1.0000 \n",
       "   10.0000 \n",
       "    1.0000 \n",
       "   10.0000 \n",
       "    1.0000 \n",
       "   10.0000 \n",
       "    1.0000 \n",
       "   10.0000 \n",
       "    2.0000 \n",
       "   20.0000 \n",
       "    2.0000 \n",
       "   20.0000 \n",
       "    2.0000 \n",
       "   20.0000 \n",
       "    2.0000 \n",
       "   20.0000 \n",
       "    2.0000 \n",
       "   20.0000 \n",
       "    3.0000 \n",
       "   30.0000 \n",
       "    3.0000 \n",
       "   30.0000 \n",
       "    3.0000 \n",
       "   30.0000 \n",
       "    3.0000 \n",
       "   30.0000 \n",
       "    3.0000 \n",
       "   30.0000 \n",
       "    4.0000 \n",
       "   40.0000 \n",
       "    4.0000 \n",
       "   40.0000 \n",
       "    4.0000 \n",
       "   40.0000 \n",
       "    4.0000 \n",
       "   40.0000 \n",
       "    4.0000 \n",
       "   40.0000 \n",
       "    5.0000 \n",
       "   50.0000 \n",
       "    5.0000 \n",
       "   50.0000 \n",
       "    5.0000 \n",
       "   50.0000 \n",
       "    5.0000 \n",
       "   50.0000 \n",
       "    5.0000 \n",
       "   50.0000 \n"
      ]
     },
     "execution_count": 16,
     "metadata": {},
     "output_type": "execute_result"
    }
   ],
   "source": [
    "af.flat(d)"
   ]
  },
  {
   "cell_type": "code",
   "execution_count": null,
   "metadata": {
    "collapsed": true
   },
   "outputs": [],
   "source": []
  }
 ],
 "metadata": {
  "kernelspec": {
   "display_name": "Python 3",
   "language": "python",
   "name": "python3"
  },
  "language_info": {
   "codemirror_mode": {
    "name": "ipython",
    "version": 3
   },
   "file_extension": ".py",
   "mimetype": "text/x-python",
   "name": "python",
   "nbconvert_exporter": "python",
   "pygments_lexer": "ipython3",
   "version": "3.6.0"
  }
 },
 "nbformat": 4,
 "nbformat_minor": 2
}
